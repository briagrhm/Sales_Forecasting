{
  "nbformat": 4,
  "nbformat_minor": 0,
  "metadata": {
    "colab": {
      "provenance": []
    },
    "kernelspec": {
      "name": "python3",
      "display_name": "Python 3"
    },
    "language_info": {
      "name": "python"
    }
  },
  "cells": [
    {
      "cell_type": "code",
      "source": [
        "!pip install pandasql"
      ],
      "metadata": {
        "colab": {
          "base_uri": "https://localhost:8080/"
        },
        "id": "FOMD979xK7K6",
        "outputId": "18032b7c-5801-423b-ce40-8619003387d2"
      },
      "execution_count": 3,
      "outputs": [
        {
          "output_type": "stream",
          "name": "stdout",
          "text": [
            "Collecting pandasql\n",
            "  Downloading pandasql-0.7.3.tar.gz (26 kB)\n",
            "  Preparing metadata (setup.py) ... \u001b[?25l\u001b[?25hdone\n",
            "Requirement already satisfied: numpy in /usr/local/lib/python3.11/dist-packages (from pandasql) (1.26.4)\n",
            "Requirement already satisfied: pandas in /usr/local/lib/python3.11/dist-packages (from pandasql) (2.2.2)\n",
            "Requirement already satisfied: sqlalchemy in /usr/local/lib/python3.11/dist-packages (from pandasql) (2.0.38)\n",
            "Requirement already satisfied: python-dateutil>=2.8.2 in /usr/local/lib/python3.11/dist-packages (from pandas->pandasql) (2.8.2)\n",
            "Requirement already satisfied: pytz>=2020.1 in /usr/local/lib/python3.11/dist-packages (from pandas->pandasql) (2025.1)\n",
            "Requirement already satisfied: tzdata>=2022.7 in /usr/local/lib/python3.11/dist-packages (from pandas->pandasql) (2025.1)\n",
            "Requirement already satisfied: greenlet!=0.4.17 in /usr/local/lib/python3.11/dist-packages (from sqlalchemy->pandasql) (3.1.1)\n",
            "Requirement already satisfied: typing-extensions>=4.6.0 in /usr/local/lib/python3.11/dist-packages (from sqlalchemy->pandasql) (4.12.2)\n",
            "Requirement already satisfied: six>=1.5 in /usr/local/lib/python3.11/dist-packages (from python-dateutil>=2.8.2->pandas->pandasql) (1.17.0)\n",
            "Building wheels for collected packages: pandasql\n",
            "  Building wheel for pandasql (setup.py) ... \u001b[?25l\u001b[?25hdone\n",
            "  Created wheel for pandasql: filename=pandasql-0.7.3-py3-none-any.whl size=26772 sha256=d7654860664e4badf1c15cebf633dd18b85b81e092a11abb84ae81a8648050d6\n",
            "  Stored in directory: /root/.cache/pip/wheels/68/5d/a5/edc271b998f909801d7956959f699b976cc9896075dc47c153\n",
            "Successfully built pandasql\n",
            "Installing collected packages: pandasql\n",
            "Successfully installed pandasql-0.7.3\n"
          ]
        }
      ]
    },
    {
      "cell_type": "code",
      "execution_count": 28,
      "metadata": {
        "id": "NGlU93LEJ-K-"
      },
      "outputs": [],
      "source": [
        "import numpy as np # linear algebra\n",
        "import pandas as pd # data processing, CSV file I/O (e.g. pd.read_csv)\n",
        "import pandasql as ps\n",
        "import math\n",
        "import warnings\n",
        "import itertools\n",
        "import random\n",
        "import statsmodels.api as sm\n",
        "\n",
        "# time series analysis\n",
        "from statsmodels.tsa.seasonal import seasonal_decompose\n",
        "from statsmodels.graphics.tsaplots import plot_acf, plot_pacf\n",
        "from sklearn.metrics import mean_squared_error, mean_absolute_error\n",
        "#matplotlib libraries\n",
        "import matplotlib.pyplot as plt\n",
        "import matplotlib.cm as cm\n",
        "import matplotlib.colors\n",
        "import seaborn as sns\n",
        "import seaborn as sns\n",
        "#date libraries\n",
        "from dateutil import parser\n",
        "from datetime import datetime, timedelta, date\n",
        "import holidays\n",
        "#prophet library\n",
        "from prophet import Prophet\n",
        "from prophet.diagnostics import performance_metrics\n",
        "from prophet.plot import plot_cross_validation_metric\n",
        "from prophet.diagnostics import cross_validation\n",
        "#pandas options\n",
        "pd.set_option('display.float_format', lambda x: '%.2f' % x)\n",
        "pd.set_option('display.max_columns', None)\n",
        "pd.set_option('display.max_rows', None)\n",
        "\n",
        "#matplotlib setting defaults\n",
        "sns.set(font=\"Arial\",\n",
        "        rc={\n",
        " \"axes.axisbelow\": False,\n",
        " \"axes.edgecolor\": \"lightgrey\",\n",
        " \"axes.facecolor\": \"None\",\n",
        " \"axes.grid\": False,\n",
        " \"axes.labelcolor\": \"dimgrey\",\n",
        " \"axes.spines.right\": False,\n",
        " \"axes.spines.top\": False,\n",
        " \"figure.facecolor\": \"white\",\n",
        " \"lines.solid_capstyle\": \"round\",\n",
        " \"patch.edgecolor\": \"w\",\n",
        " \"patch.force_edgecolor\": True,\n",
        " \"text.color\": \"dimgrey\",\n",
        " \"xtick.bottom\": False,\n",
        " \"xtick.color\": \"dimgrey\",\n",
        " \"xtick.direction\": \"out\",\n",
        " \"xtick.top\": False,\n",
        " \"ytick.color\": \"dimgrey\",\n",
        " \"ytick.direction\": \"out\",\n",
        " \"ytick.left\": False,\n",
        " \"ytick.right\": False})\n",
        "warnings.filterwarnings(\"ignore\")\n",
        "plt.style.use('fivethirtyeight')"
      ]
    },
    {
      "cell_type": "code",
      "source": [
        "# Mean Absolut Percent Error\n",
        "def mape(actual, pred):\n",
        "    '''\n",
        "    Mean Absolute Percentage Error (MAPE) Function\n",
        "\n",
        "    input: list/series for actual values and predicted values\n",
        "    output: mape value\n",
        "    '''\n",
        "    actual, pred = np.array(actual), np.array(pred)\n",
        "    return np.mean(np.abs((actual - pred) / actual)) * 100"
      ],
      "metadata": {
        "id": "q3aGtSfMKJdf"
      },
      "execution_count": 29,
      "outputs": []
    },
    {
      "cell_type": "code",
      "source": [
        "from google.colab import files\n",
        "uploaded = files.upload()"
      ],
      "metadata": {
        "colab": {
          "base_uri": "https://localhost:8080/",
          "height": 68
        },
        "id": "j6TZxO9MLOCP",
        "outputId": "42965383-4fb4-46cf-c089-ae8e96baf910"
      },
      "execution_count": 30,
      "outputs": [
        {
          "output_type": "display_data",
          "data": {
            "text/plain": [
              "<IPython.core.display.HTML object>"
            ],
            "text/html": [
              "\n",
              "     <input type=\"file\" id=\"files-6473da0d-087d-4908-a5ef-197f7c53992c\" name=\"files[]\" multiple disabled\n",
              "        style=\"border:none\" />\n",
              "     <output id=\"result-6473da0d-087d-4908-a5ef-197f7c53992c\">\n",
              "      Upload widget is only available when the cell has been executed in the\n",
              "      current browser session. Please rerun this cell to enable.\n",
              "      </output>\n",
              "      <script>// Copyright 2017 Google LLC\n",
              "//\n",
              "// Licensed under the Apache License, Version 2.0 (the \"License\");\n",
              "// you may not use this file except in compliance with the License.\n",
              "// You may obtain a copy of the License at\n",
              "//\n",
              "//      http://www.apache.org/licenses/LICENSE-2.0\n",
              "//\n",
              "// Unless required by applicable law or agreed to in writing, software\n",
              "// distributed under the License is distributed on an \"AS IS\" BASIS,\n",
              "// WITHOUT WARRANTIES OR CONDITIONS OF ANY KIND, either express or implied.\n",
              "// See the License for the specific language governing permissions and\n",
              "// limitations under the License.\n",
              "\n",
              "/**\n",
              " * @fileoverview Helpers for google.colab Python module.\n",
              " */\n",
              "(function(scope) {\n",
              "function span(text, styleAttributes = {}) {\n",
              "  const element = document.createElement('span');\n",
              "  element.textContent = text;\n",
              "  for (const key of Object.keys(styleAttributes)) {\n",
              "    element.style[key] = styleAttributes[key];\n",
              "  }\n",
              "  return element;\n",
              "}\n",
              "\n",
              "// Max number of bytes which will be uploaded at a time.\n",
              "const MAX_PAYLOAD_SIZE = 100 * 1024;\n",
              "\n",
              "function _uploadFiles(inputId, outputId) {\n",
              "  const steps = uploadFilesStep(inputId, outputId);\n",
              "  const outputElement = document.getElementById(outputId);\n",
              "  // Cache steps on the outputElement to make it available for the next call\n",
              "  // to uploadFilesContinue from Python.\n",
              "  outputElement.steps = steps;\n",
              "\n",
              "  return _uploadFilesContinue(outputId);\n",
              "}\n",
              "\n",
              "// This is roughly an async generator (not supported in the browser yet),\n",
              "// where there are multiple asynchronous steps and the Python side is going\n",
              "// to poll for completion of each step.\n",
              "// This uses a Promise to block the python side on completion of each step,\n",
              "// then passes the result of the previous step as the input to the next step.\n",
              "function _uploadFilesContinue(outputId) {\n",
              "  const outputElement = document.getElementById(outputId);\n",
              "  const steps = outputElement.steps;\n",
              "\n",
              "  const next = steps.next(outputElement.lastPromiseValue);\n",
              "  return Promise.resolve(next.value.promise).then((value) => {\n",
              "    // Cache the last promise value to make it available to the next\n",
              "    // step of the generator.\n",
              "    outputElement.lastPromiseValue = value;\n",
              "    return next.value.response;\n",
              "  });\n",
              "}\n",
              "\n",
              "/**\n",
              " * Generator function which is called between each async step of the upload\n",
              " * process.\n",
              " * @param {string} inputId Element ID of the input file picker element.\n",
              " * @param {string} outputId Element ID of the output display.\n",
              " * @return {!Iterable<!Object>} Iterable of next steps.\n",
              " */\n",
              "function* uploadFilesStep(inputId, outputId) {\n",
              "  const inputElement = document.getElementById(inputId);\n",
              "  inputElement.disabled = false;\n",
              "\n",
              "  const outputElement = document.getElementById(outputId);\n",
              "  outputElement.innerHTML = '';\n",
              "\n",
              "  const pickedPromise = new Promise((resolve) => {\n",
              "    inputElement.addEventListener('change', (e) => {\n",
              "      resolve(e.target.files);\n",
              "    });\n",
              "  });\n",
              "\n",
              "  const cancel = document.createElement('button');\n",
              "  inputElement.parentElement.appendChild(cancel);\n",
              "  cancel.textContent = 'Cancel upload';\n",
              "  const cancelPromise = new Promise((resolve) => {\n",
              "    cancel.onclick = () => {\n",
              "      resolve(null);\n",
              "    };\n",
              "  });\n",
              "\n",
              "  // Wait for the user to pick the files.\n",
              "  const files = yield {\n",
              "    promise: Promise.race([pickedPromise, cancelPromise]),\n",
              "    response: {\n",
              "      action: 'starting',\n",
              "    }\n",
              "  };\n",
              "\n",
              "  cancel.remove();\n",
              "\n",
              "  // Disable the input element since further picks are not allowed.\n",
              "  inputElement.disabled = true;\n",
              "\n",
              "  if (!files) {\n",
              "    return {\n",
              "      response: {\n",
              "        action: 'complete',\n",
              "      }\n",
              "    };\n",
              "  }\n",
              "\n",
              "  for (const file of files) {\n",
              "    const li = document.createElement('li');\n",
              "    li.append(span(file.name, {fontWeight: 'bold'}));\n",
              "    li.append(span(\n",
              "        `(${file.type || 'n/a'}) - ${file.size} bytes, ` +\n",
              "        `last modified: ${\n",
              "            file.lastModifiedDate ? file.lastModifiedDate.toLocaleDateString() :\n",
              "                                    'n/a'} - `));\n",
              "    const percent = span('0% done');\n",
              "    li.appendChild(percent);\n",
              "\n",
              "    outputElement.appendChild(li);\n",
              "\n",
              "    const fileDataPromise = new Promise((resolve) => {\n",
              "      const reader = new FileReader();\n",
              "      reader.onload = (e) => {\n",
              "        resolve(e.target.result);\n",
              "      };\n",
              "      reader.readAsArrayBuffer(file);\n",
              "    });\n",
              "    // Wait for the data to be ready.\n",
              "    let fileData = yield {\n",
              "      promise: fileDataPromise,\n",
              "      response: {\n",
              "        action: 'continue',\n",
              "      }\n",
              "    };\n",
              "\n",
              "    // Use a chunked sending to avoid message size limits. See b/62115660.\n",
              "    let position = 0;\n",
              "    do {\n",
              "      const length = Math.min(fileData.byteLength - position, MAX_PAYLOAD_SIZE);\n",
              "      const chunk = new Uint8Array(fileData, position, length);\n",
              "      position += length;\n",
              "\n",
              "      const base64 = btoa(String.fromCharCode.apply(null, chunk));\n",
              "      yield {\n",
              "        response: {\n",
              "          action: 'append',\n",
              "          file: file.name,\n",
              "          data: base64,\n",
              "        },\n",
              "      };\n",
              "\n",
              "      let percentDone = fileData.byteLength === 0 ?\n",
              "          100 :\n",
              "          Math.round((position / fileData.byteLength) * 100);\n",
              "      percent.textContent = `${percentDone}% done`;\n",
              "\n",
              "    } while (position < fileData.byteLength);\n",
              "  }\n",
              "\n",
              "  // All done.\n",
              "  yield {\n",
              "    response: {\n",
              "      action: 'complete',\n",
              "    }\n",
              "  };\n",
              "}\n",
              "\n",
              "scope.google = scope.google || {};\n",
              "scope.google.colab = scope.google.colab || {};\n",
              "scope.google.colab._files = {\n",
              "  _uploadFiles,\n",
              "  _uploadFilesContinue,\n",
              "};\n",
              "})(self);\n",
              "</script> "
            ]
          },
          "metadata": {}
        },
        {
          "output_type": "stream",
          "name": "stdout",
          "text": [
            "Saving 20-25 Sales .csv to 20-25 Sales  (3).csv\n"
          ]
        }
      ]
    },
    {
      "cell_type": "code",
      "source": [
        "# Load Data\n",
        "file_path = \"20-25 Sales .csv\"\n",
        "df = pd.read_csv(file_path)\n",
        "\n",
        "df.head()"
      ],
      "metadata": {
        "colab": {
          "base_uri": "https://localhost:8080/",
          "height": 201
        },
        "id": "03oKAP0kLSdQ",
        "outputId": "aa107ee0-4cbb-4999-9803-4447e45ed072"
      },
      "execution_count": 31,
      "outputs": [
        {
          "output_type": "execute_result",
          "data": {
            "text/plain": [
              "      Date  Sales\n",
              "0  7/20/20      0\n",
              "1   8/1/20     11\n",
              "2   9/1/20     31\n",
              "3  10/1/20     46\n",
              "4  11/1/20     31"
            ],
            "text/html": [
              "\n",
              "  <div id=\"df-0301129e-9ebb-4452-871f-6dab49280edd\" class=\"colab-df-container\">\n",
              "    <div>\n",
              "<style scoped>\n",
              "    .dataframe tbody tr th:only-of-type {\n",
              "        vertical-align: middle;\n",
              "    }\n",
              "\n",
              "    .dataframe tbody tr th {\n",
              "        vertical-align: top;\n",
              "    }\n",
              "\n",
              "    .dataframe thead th {\n",
              "        text-align: right;\n",
              "    }\n",
              "</style>\n",
              "<table border=\"1\" class=\"dataframe\">\n",
              "  <thead>\n",
              "    <tr style=\"text-align: right;\">\n",
              "      <th></th>\n",
              "      <th>Date</th>\n",
              "      <th>Sales</th>\n",
              "    </tr>\n",
              "  </thead>\n",
              "  <tbody>\n",
              "    <tr>\n",
              "      <th>0</th>\n",
              "      <td>7/20/20</td>\n",
              "      <td>0</td>\n",
              "    </tr>\n",
              "    <tr>\n",
              "      <th>1</th>\n",
              "      <td>8/1/20</td>\n",
              "      <td>11</td>\n",
              "    </tr>\n",
              "    <tr>\n",
              "      <th>2</th>\n",
              "      <td>9/1/20</td>\n",
              "      <td>31</td>\n",
              "    </tr>\n",
              "    <tr>\n",
              "      <th>3</th>\n",
              "      <td>10/1/20</td>\n",
              "      <td>46</td>\n",
              "    </tr>\n",
              "    <tr>\n",
              "      <th>4</th>\n",
              "      <td>11/1/20</td>\n",
              "      <td>31</td>\n",
              "    </tr>\n",
              "  </tbody>\n",
              "</table>\n",
              "</div>\n",
              "    <div class=\"colab-df-buttons\">\n",
              "\n",
              "  <div class=\"colab-df-container\">\n",
              "    <button class=\"colab-df-convert\" onclick=\"convertToInteractive('df-0301129e-9ebb-4452-871f-6dab49280edd')\"\n",
              "            title=\"Convert this dataframe to an interactive table.\"\n",
              "            style=\"display:none;\">\n",
              "\n",
              "  <svg xmlns=\"http://www.w3.org/2000/svg\" height=\"24px\" viewBox=\"0 -960 960 960\">\n",
              "    <path d=\"M120-120v-720h720v720H120Zm60-500h600v-160H180v160Zm220 220h160v-160H400v160Zm0 220h160v-160H400v160ZM180-400h160v-160H180v160Zm440 0h160v-160H620v160ZM180-180h160v-160H180v160Zm440 0h160v-160H620v160Z\"/>\n",
              "  </svg>\n",
              "    </button>\n",
              "\n",
              "  <style>\n",
              "    .colab-df-container {\n",
              "      display:flex;\n",
              "      gap: 12px;\n",
              "    }\n",
              "\n",
              "    .colab-df-convert {\n",
              "      background-color: #E8F0FE;\n",
              "      border: none;\n",
              "      border-radius: 50%;\n",
              "      cursor: pointer;\n",
              "      display: none;\n",
              "      fill: #1967D2;\n",
              "      height: 32px;\n",
              "      padding: 0 0 0 0;\n",
              "      width: 32px;\n",
              "    }\n",
              "\n",
              "    .colab-df-convert:hover {\n",
              "      background-color: #E2EBFA;\n",
              "      box-shadow: 0px 1px 2px rgba(60, 64, 67, 0.3), 0px 1px 3px 1px rgba(60, 64, 67, 0.15);\n",
              "      fill: #174EA6;\n",
              "    }\n",
              "\n",
              "    .colab-df-buttons div {\n",
              "      margin-bottom: 4px;\n",
              "    }\n",
              "\n",
              "    [theme=dark] .colab-df-convert {\n",
              "      background-color: #3B4455;\n",
              "      fill: #D2E3FC;\n",
              "    }\n",
              "\n",
              "    [theme=dark] .colab-df-convert:hover {\n",
              "      background-color: #434B5C;\n",
              "      box-shadow: 0px 1px 3px 1px rgba(0, 0, 0, 0.15);\n",
              "      filter: drop-shadow(0px 1px 2px rgba(0, 0, 0, 0.3));\n",
              "      fill: #FFFFFF;\n",
              "    }\n",
              "  </style>\n",
              "\n",
              "    <script>\n",
              "      const buttonEl =\n",
              "        document.querySelector('#df-0301129e-9ebb-4452-871f-6dab49280edd button.colab-df-convert');\n",
              "      buttonEl.style.display =\n",
              "        google.colab.kernel.accessAllowed ? 'block' : 'none';\n",
              "\n",
              "      async function convertToInteractive(key) {\n",
              "        const element = document.querySelector('#df-0301129e-9ebb-4452-871f-6dab49280edd');\n",
              "        const dataTable =\n",
              "          await google.colab.kernel.invokeFunction('convertToInteractive',\n",
              "                                                    [key], {});\n",
              "        if (!dataTable) return;\n",
              "\n",
              "        const docLinkHtml = 'Like what you see? Visit the ' +\n",
              "          '<a target=\"_blank\" href=https://colab.research.google.com/notebooks/data_table.ipynb>data table notebook</a>'\n",
              "          + ' to learn more about interactive tables.';\n",
              "        element.innerHTML = '';\n",
              "        dataTable['output_type'] = 'display_data';\n",
              "        await google.colab.output.renderOutput(dataTable, element);\n",
              "        const docLink = document.createElement('div');\n",
              "        docLink.innerHTML = docLinkHtml;\n",
              "        element.appendChild(docLink);\n",
              "      }\n",
              "    </script>\n",
              "  </div>\n",
              "\n",
              "\n",
              "<div id=\"df-ea747426-4015-4629-9702-c7ddf853ae73\">\n",
              "  <button class=\"colab-df-quickchart\" onclick=\"quickchart('df-ea747426-4015-4629-9702-c7ddf853ae73')\"\n",
              "            title=\"Suggest charts\"\n",
              "            style=\"display:none;\">\n",
              "\n",
              "<svg xmlns=\"http://www.w3.org/2000/svg\" height=\"24px\"viewBox=\"0 0 24 24\"\n",
              "     width=\"24px\">\n",
              "    <g>\n",
              "        <path d=\"M19 3H5c-1.1 0-2 .9-2 2v14c0 1.1.9 2 2 2h14c1.1 0 2-.9 2-2V5c0-1.1-.9-2-2-2zM9 17H7v-7h2v7zm4 0h-2V7h2v10zm4 0h-2v-4h2v4z\"/>\n",
              "    </g>\n",
              "</svg>\n",
              "  </button>\n",
              "\n",
              "<style>\n",
              "  .colab-df-quickchart {\n",
              "      --bg-color: #E8F0FE;\n",
              "      --fill-color: #1967D2;\n",
              "      --hover-bg-color: #E2EBFA;\n",
              "      --hover-fill-color: #174EA6;\n",
              "      --disabled-fill-color: #AAA;\n",
              "      --disabled-bg-color: #DDD;\n",
              "  }\n",
              "\n",
              "  [theme=dark] .colab-df-quickchart {\n",
              "      --bg-color: #3B4455;\n",
              "      --fill-color: #D2E3FC;\n",
              "      --hover-bg-color: #434B5C;\n",
              "      --hover-fill-color: #FFFFFF;\n",
              "      --disabled-bg-color: #3B4455;\n",
              "      --disabled-fill-color: #666;\n",
              "  }\n",
              "\n",
              "  .colab-df-quickchart {\n",
              "    background-color: var(--bg-color);\n",
              "    border: none;\n",
              "    border-radius: 50%;\n",
              "    cursor: pointer;\n",
              "    display: none;\n",
              "    fill: var(--fill-color);\n",
              "    height: 32px;\n",
              "    padding: 0;\n",
              "    width: 32px;\n",
              "  }\n",
              "\n",
              "  .colab-df-quickchart:hover {\n",
              "    background-color: var(--hover-bg-color);\n",
              "    box-shadow: 0 1px 2px rgba(60, 64, 67, 0.3), 0 1px 3px 1px rgba(60, 64, 67, 0.15);\n",
              "    fill: var(--button-hover-fill-color);\n",
              "  }\n",
              "\n",
              "  .colab-df-quickchart-complete:disabled,\n",
              "  .colab-df-quickchart-complete:disabled:hover {\n",
              "    background-color: var(--disabled-bg-color);\n",
              "    fill: var(--disabled-fill-color);\n",
              "    box-shadow: none;\n",
              "  }\n",
              "\n",
              "  .colab-df-spinner {\n",
              "    border: 2px solid var(--fill-color);\n",
              "    border-color: transparent;\n",
              "    border-bottom-color: var(--fill-color);\n",
              "    animation:\n",
              "      spin 1s steps(1) infinite;\n",
              "  }\n",
              "\n",
              "  @keyframes spin {\n",
              "    0% {\n",
              "      border-color: transparent;\n",
              "      border-bottom-color: var(--fill-color);\n",
              "      border-left-color: var(--fill-color);\n",
              "    }\n",
              "    20% {\n",
              "      border-color: transparent;\n",
              "      border-left-color: var(--fill-color);\n",
              "      border-top-color: var(--fill-color);\n",
              "    }\n",
              "    30% {\n",
              "      border-color: transparent;\n",
              "      border-left-color: var(--fill-color);\n",
              "      border-top-color: var(--fill-color);\n",
              "      border-right-color: var(--fill-color);\n",
              "    }\n",
              "    40% {\n",
              "      border-color: transparent;\n",
              "      border-right-color: var(--fill-color);\n",
              "      border-top-color: var(--fill-color);\n",
              "    }\n",
              "    60% {\n",
              "      border-color: transparent;\n",
              "      border-right-color: var(--fill-color);\n",
              "    }\n",
              "    80% {\n",
              "      border-color: transparent;\n",
              "      border-right-color: var(--fill-color);\n",
              "      border-bottom-color: var(--fill-color);\n",
              "    }\n",
              "    90% {\n",
              "      border-color: transparent;\n",
              "      border-bottom-color: var(--fill-color);\n",
              "    }\n",
              "  }\n",
              "</style>\n",
              "\n",
              "  <script>\n",
              "    async function quickchart(key) {\n",
              "      const quickchartButtonEl =\n",
              "        document.querySelector('#' + key + ' button');\n",
              "      quickchartButtonEl.disabled = true;  // To prevent multiple clicks.\n",
              "      quickchartButtonEl.classList.add('colab-df-spinner');\n",
              "      try {\n",
              "        const charts = await google.colab.kernel.invokeFunction(\n",
              "            'suggestCharts', [key], {});\n",
              "      } catch (error) {\n",
              "        console.error('Error during call to suggestCharts:', error);\n",
              "      }\n",
              "      quickchartButtonEl.classList.remove('colab-df-spinner');\n",
              "      quickchartButtonEl.classList.add('colab-df-quickchart-complete');\n",
              "    }\n",
              "    (() => {\n",
              "      let quickchartButtonEl =\n",
              "        document.querySelector('#df-ea747426-4015-4629-9702-c7ddf853ae73 button');\n",
              "      quickchartButtonEl.style.display =\n",
              "        google.colab.kernel.accessAllowed ? 'block' : 'none';\n",
              "    })();\n",
              "  </script>\n",
              "</div>\n",
              "\n",
              "    </div>\n",
              "  </div>\n"
            ],
            "application/vnd.google.colaboratory.intrinsic+json": {
              "type": "dataframe",
              "variable_name": "df",
              "summary": "{\n  \"name\": \"df\",\n  \"rows\": 55,\n  \"fields\": [\n    {\n      \"column\": \"Date\",\n      \"properties\": {\n        \"dtype\": \"object\",\n        \"num_unique_values\": 55,\n        \"samples\": [\n          \"2/1/23\",\n          \"12/1/20\",\n          \"3/1/23\"\n        ],\n        \"semantic_type\": \"\",\n        \"description\": \"\"\n      }\n    },\n    {\n      \"column\": \"Sales\",\n      \"properties\": {\n        \"dtype\": \"number\",\n        \"std\": 37,\n        \"min\": 0,\n        \"max\": 167,\n        \"num_unique_values\": 42,\n        \"samples\": [\n          109,\n          83,\n          58\n        ],\n        \"semantic_type\": \"\",\n        \"description\": \"\"\n      }\n    }\n  ]\n}"
            }
          },
          "metadata": {},
          "execution_count": 31
        }
      ]
    },
    {
      "cell_type": "code",
      "source": [
        "#Exclude rows that contain 0 sales\n",
        "df = df[df['Sales']!=0]"
      ],
      "metadata": {
        "id": "C1emkmrNLZ0M"
      },
      "execution_count": 32,
      "outputs": []
    },
    {
      "cell_type": "code",
      "source": [
        "# Change the ds column to datetime for prophet\n",
        "df['Date']=pd.to_datetime(df['Date'])\n",
        "df.dtypes"
      ],
      "metadata": {
        "colab": {
          "base_uri": "https://localhost:8080/",
          "height": 142
        },
        "id": "9597tnz8LdgV",
        "outputId": "b804f917-91ab-49d8-fe11-d4fae33c2984"
      },
      "execution_count": 33,
      "outputs": [
        {
          "output_type": "execute_result",
          "data": {
            "text/plain": [
              "Date     datetime64[ns]\n",
              "Sales             int64\n",
              "dtype: object"
            ],
            "text/html": [
              "<div>\n",
              "<style scoped>\n",
              "    .dataframe tbody tr th:only-of-type {\n",
              "        vertical-align: middle;\n",
              "    }\n",
              "\n",
              "    .dataframe tbody tr th {\n",
              "        vertical-align: top;\n",
              "    }\n",
              "\n",
              "    .dataframe thead th {\n",
              "        text-align: right;\n",
              "    }\n",
              "</style>\n",
              "<table border=\"1\" class=\"dataframe\">\n",
              "  <thead>\n",
              "    <tr style=\"text-align: right;\">\n",
              "      <th></th>\n",
              "      <th>0</th>\n",
              "    </tr>\n",
              "  </thead>\n",
              "  <tbody>\n",
              "    <tr>\n",
              "      <th>Date</th>\n",
              "      <td>datetime64[ns]</td>\n",
              "    </tr>\n",
              "    <tr>\n",
              "      <th>Sales</th>\n",
              "      <td>int64</td>\n",
              "    </tr>\n",
              "  </tbody>\n",
              "</table>\n",
              "</div><br><label><b>dtype:</b> object</label>"
            ]
          },
          "metadata": {},
          "execution_count": 33
        }
      ]
    },
    {
      "cell_type": "code",
      "source": [
        "# Find the minimum and maximum date\n",
        "start = min(df['Date'])\n",
        "end = max(df['Date'])\n",
        "print(start,end)"
      ],
      "metadata": {
        "colab": {
          "base_uri": "https://localhost:8080/"
        },
        "id": "gQUzhYgELhHw",
        "outputId": "bb00ee0f-6bc4-4cc3-d9d8-7cdea3cf8828"
      },
      "execution_count": 34,
      "outputs": [
        {
          "output_type": "stream",
          "name": "stdout",
          "text": [
            "2020-08-01 00:00:00 2025-01-01 00:00:00\n"
          ]
        }
      ]
    },
    {
      "cell_type": "code",
      "source": [
        "# Rename a single column\n",
        "df.rename(columns={'Date': 'ds','Sales': 'y'}, inplace=True)"
      ],
      "metadata": {
        "id": "CVd2R-1JNHb7"
      },
      "execution_count": 35,
      "outputs": []
    },
    {
      "cell_type": "code",
      "source": [
        "#Adding holiday data\n",
        "\n",
        "holiday = pd.DataFrame([])\n",
        "\n",
        "us_holidays = holidays.US()\n",
        "\n",
        "us_holidays = holidays.country_holidays('US')\n",
        "\n",
        "\n",
        "for date_, name in sorted(holidays.US(years=[2023.2024]).items()):\n",
        "    holiday = pd.concat([holiday, pd.DataFrame({'ds': date_, 'holiday': \"US-Holidays\", 'lower_window': -2, 'upper_window': 1}, index=[0])], ignore_index=True)\n",
        "\n",
        "holiday['Date'] = pd.to_datetime(holiday['ds'], format='%Y-%m-%d', errors='ignore')\n",
        "holiday.head()"
      ],
      "metadata": {
        "colab": {
          "base_uri": "https://localhost:8080/",
          "height": 201
        },
        "id": "acxk8OY7Nhue",
        "outputId": "d2ac9a6b-5061-4866-d230-86cd7f6857e3"
      },
      "execution_count": 36,
      "outputs": [
        {
          "output_type": "execute_result",
          "data": {
            "text/plain": [
              "           ds      holiday  lower_window  upper_window       Date\n",
              "0  2023-01-01  US-Holidays            -2             1 2023-01-01\n",
              "1  2023-01-02  US-Holidays            -2             1 2023-01-02\n",
              "2  2023-01-16  US-Holidays            -2             1 2023-01-16\n",
              "3  2023-02-20  US-Holidays            -2             1 2023-02-20\n",
              "4  2023-05-29  US-Holidays            -2             1 2023-05-29"
            ],
            "text/html": [
              "\n",
              "  <div id=\"df-ee4274dd-4294-4859-88d6-8fae4c1937cf\" class=\"colab-df-container\">\n",
              "    <div>\n",
              "<style scoped>\n",
              "    .dataframe tbody tr th:only-of-type {\n",
              "        vertical-align: middle;\n",
              "    }\n",
              "\n",
              "    .dataframe tbody tr th {\n",
              "        vertical-align: top;\n",
              "    }\n",
              "\n",
              "    .dataframe thead th {\n",
              "        text-align: right;\n",
              "    }\n",
              "</style>\n",
              "<table border=\"1\" class=\"dataframe\">\n",
              "  <thead>\n",
              "    <tr style=\"text-align: right;\">\n",
              "      <th></th>\n",
              "      <th>ds</th>\n",
              "      <th>holiday</th>\n",
              "      <th>lower_window</th>\n",
              "      <th>upper_window</th>\n",
              "      <th>Date</th>\n",
              "    </tr>\n",
              "  </thead>\n",
              "  <tbody>\n",
              "    <tr>\n",
              "      <th>0</th>\n",
              "      <td>2023-01-01</td>\n",
              "      <td>US-Holidays</td>\n",
              "      <td>-2</td>\n",
              "      <td>1</td>\n",
              "      <td>2023-01-01</td>\n",
              "    </tr>\n",
              "    <tr>\n",
              "      <th>1</th>\n",
              "      <td>2023-01-02</td>\n",
              "      <td>US-Holidays</td>\n",
              "      <td>-2</td>\n",
              "      <td>1</td>\n",
              "      <td>2023-01-02</td>\n",
              "    </tr>\n",
              "    <tr>\n",
              "      <th>2</th>\n",
              "      <td>2023-01-16</td>\n",
              "      <td>US-Holidays</td>\n",
              "      <td>-2</td>\n",
              "      <td>1</td>\n",
              "      <td>2023-01-16</td>\n",
              "    </tr>\n",
              "    <tr>\n",
              "      <th>3</th>\n",
              "      <td>2023-02-20</td>\n",
              "      <td>US-Holidays</td>\n",
              "      <td>-2</td>\n",
              "      <td>1</td>\n",
              "      <td>2023-02-20</td>\n",
              "    </tr>\n",
              "    <tr>\n",
              "      <th>4</th>\n",
              "      <td>2023-05-29</td>\n",
              "      <td>US-Holidays</td>\n",
              "      <td>-2</td>\n",
              "      <td>1</td>\n",
              "      <td>2023-05-29</td>\n",
              "    </tr>\n",
              "  </tbody>\n",
              "</table>\n",
              "</div>\n",
              "    <div class=\"colab-df-buttons\">\n",
              "\n",
              "  <div class=\"colab-df-container\">\n",
              "    <button class=\"colab-df-convert\" onclick=\"convertToInteractive('df-ee4274dd-4294-4859-88d6-8fae4c1937cf')\"\n",
              "            title=\"Convert this dataframe to an interactive table.\"\n",
              "            style=\"display:none;\">\n",
              "\n",
              "  <svg xmlns=\"http://www.w3.org/2000/svg\" height=\"24px\" viewBox=\"0 -960 960 960\">\n",
              "    <path d=\"M120-120v-720h720v720H120Zm60-500h600v-160H180v160Zm220 220h160v-160H400v160Zm0 220h160v-160H400v160ZM180-400h160v-160H180v160Zm440 0h160v-160H620v160ZM180-180h160v-160H180v160Zm440 0h160v-160H620v160Z\"/>\n",
              "  </svg>\n",
              "    </button>\n",
              "\n",
              "  <style>\n",
              "    .colab-df-container {\n",
              "      display:flex;\n",
              "      gap: 12px;\n",
              "    }\n",
              "\n",
              "    .colab-df-convert {\n",
              "      background-color: #E8F0FE;\n",
              "      border: none;\n",
              "      border-radius: 50%;\n",
              "      cursor: pointer;\n",
              "      display: none;\n",
              "      fill: #1967D2;\n",
              "      height: 32px;\n",
              "      padding: 0 0 0 0;\n",
              "      width: 32px;\n",
              "    }\n",
              "\n",
              "    .colab-df-convert:hover {\n",
              "      background-color: #E2EBFA;\n",
              "      box-shadow: 0px 1px 2px rgba(60, 64, 67, 0.3), 0px 1px 3px 1px rgba(60, 64, 67, 0.15);\n",
              "      fill: #174EA6;\n",
              "    }\n",
              "\n",
              "    .colab-df-buttons div {\n",
              "      margin-bottom: 4px;\n",
              "    }\n",
              "\n",
              "    [theme=dark] .colab-df-convert {\n",
              "      background-color: #3B4455;\n",
              "      fill: #D2E3FC;\n",
              "    }\n",
              "\n",
              "    [theme=dark] .colab-df-convert:hover {\n",
              "      background-color: #434B5C;\n",
              "      box-shadow: 0px 1px 3px 1px rgba(0, 0, 0, 0.15);\n",
              "      filter: drop-shadow(0px 1px 2px rgba(0, 0, 0, 0.3));\n",
              "      fill: #FFFFFF;\n",
              "    }\n",
              "  </style>\n",
              "\n",
              "    <script>\n",
              "      const buttonEl =\n",
              "        document.querySelector('#df-ee4274dd-4294-4859-88d6-8fae4c1937cf button.colab-df-convert');\n",
              "      buttonEl.style.display =\n",
              "        google.colab.kernel.accessAllowed ? 'block' : 'none';\n",
              "\n",
              "      async function convertToInteractive(key) {\n",
              "        const element = document.querySelector('#df-ee4274dd-4294-4859-88d6-8fae4c1937cf');\n",
              "        const dataTable =\n",
              "          await google.colab.kernel.invokeFunction('convertToInteractive',\n",
              "                                                    [key], {});\n",
              "        if (!dataTable) return;\n",
              "\n",
              "        const docLinkHtml = 'Like what you see? Visit the ' +\n",
              "          '<a target=\"_blank\" href=https://colab.research.google.com/notebooks/data_table.ipynb>data table notebook</a>'\n",
              "          + ' to learn more about interactive tables.';\n",
              "        element.innerHTML = '';\n",
              "        dataTable['output_type'] = 'display_data';\n",
              "        await google.colab.output.renderOutput(dataTable, element);\n",
              "        const docLink = document.createElement('div');\n",
              "        docLink.innerHTML = docLinkHtml;\n",
              "        element.appendChild(docLink);\n",
              "      }\n",
              "    </script>\n",
              "  </div>\n",
              "\n",
              "\n",
              "<div id=\"df-3bf9d156-5cd9-49ef-8a91-e0427c28bfe0\">\n",
              "  <button class=\"colab-df-quickchart\" onclick=\"quickchart('df-3bf9d156-5cd9-49ef-8a91-e0427c28bfe0')\"\n",
              "            title=\"Suggest charts\"\n",
              "            style=\"display:none;\">\n",
              "\n",
              "<svg xmlns=\"http://www.w3.org/2000/svg\" height=\"24px\"viewBox=\"0 0 24 24\"\n",
              "     width=\"24px\">\n",
              "    <g>\n",
              "        <path d=\"M19 3H5c-1.1 0-2 .9-2 2v14c0 1.1.9 2 2 2h14c1.1 0 2-.9 2-2V5c0-1.1-.9-2-2-2zM9 17H7v-7h2v7zm4 0h-2V7h2v10zm4 0h-2v-4h2v4z\"/>\n",
              "    </g>\n",
              "</svg>\n",
              "  </button>\n",
              "\n",
              "<style>\n",
              "  .colab-df-quickchart {\n",
              "      --bg-color: #E8F0FE;\n",
              "      --fill-color: #1967D2;\n",
              "      --hover-bg-color: #E2EBFA;\n",
              "      --hover-fill-color: #174EA6;\n",
              "      --disabled-fill-color: #AAA;\n",
              "      --disabled-bg-color: #DDD;\n",
              "  }\n",
              "\n",
              "  [theme=dark] .colab-df-quickchart {\n",
              "      --bg-color: #3B4455;\n",
              "      --fill-color: #D2E3FC;\n",
              "      --hover-bg-color: #434B5C;\n",
              "      --hover-fill-color: #FFFFFF;\n",
              "      --disabled-bg-color: #3B4455;\n",
              "      --disabled-fill-color: #666;\n",
              "  }\n",
              "\n",
              "  .colab-df-quickchart {\n",
              "    background-color: var(--bg-color);\n",
              "    border: none;\n",
              "    border-radius: 50%;\n",
              "    cursor: pointer;\n",
              "    display: none;\n",
              "    fill: var(--fill-color);\n",
              "    height: 32px;\n",
              "    padding: 0;\n",
              "    width: 32px;\n",
              "  }\n",
              "\n",
              "  .colab-df-quickchart:hover {\n",
              "    background-color: var(--hover-bg-color);\n",
              "    box-shadow: 0 1px 2px rgba(60, 64, 67, 0.3), 0 1px 3px 1px rgba(60, 64, 67, 0.15);\n",
              "    fill: var(--button-hover-fill-color);\n",
              "  }\n",
              "\n",
              "  .colab-df-quickchart-complete:disabled,\n",
              "  .colab-df-quickchart-complete:disabled:hover {\n",
              "    background-color: var(--disabled-bg-color);\n",
              "    fill: var(--disabled-fill-color);\n",
              "    box-shadow: none;\n",
              "  }\n",
              "\n",
              "  .colab-df-spinner {\n",
              "    border: 2px solid var(--fill-color);\n",
              "    border-color: transparent;\n",
              "    border-bottom-color: var(--fill-color);\n",
              "    animation:\n",
              "      spin 1s steps(1) infinite;\n",
              "  }\n",
              "\n",
              "  @keyframes spin {\n",
              "    0% {\n",
              "      border-color: transparent;\n",
              "      border-bottom-color: var(--fill-color);\n",
              "      border-left-color: var(--fill-color);\n",
              "    }\n",
              "    20% {\n",
              "      border-color: transparent;\n",
              "      border-left-color: var(--fill-color);\n",
              "      border-top-color: var(--fill-color);\n",
              "    }\n",
              "    30% {\n",
              "      border-color: transparent;\n",
              "      border-left-color: var(--fill-color);\n",
              "      border-top-color: var(--fill-color);\n",
              "      border-right-color: var(--fill-color);\n",
              "    }\n",
              "    40% {\n",
              "      border-color: transparent;\n",
              "      border-right-color: var(--fill-color);\n",
              "      border-top-color: var(--fill-color);\n",
              "    }\n",
              "    60% {\n",
              "      border-color: transparent;\n",
              "      border-right-color: var(--fill-color);\n",
              "    }\n",
              "    80% {\n",
              "      border-color: transparent;\n",
              "      border-right-color: var(--fill-color);\n",
              "      border-bottom-color: var(--fill-color);\n",
              "    }\n",
              "    90% {\n",
              "      border-color: transparent;\n",
              "      border-bottom-color: var(--fill-color);\n",
              "    }\n",
              "  }\n",
              "</style>\n",
              "\n",
              "  <script>\n",
              "    async function quickchart(key) {\n",
              "      const quickchartButtonEl =\n",
              "        document.querySelector('#' + key + ' button');\n",
              "      quickchartButtonEl.disabled = true;  // To prevent multiple clicks.\n",
              "      quickchartButtonEl.classList.add('colab-df-spinner');\n",
              "      try {\n",
              "        const charts = await google.colab.kernel.invokeFunction(\n",
              "            'suggestCharts', [key], {});\n",
              "      } catch (error) {\n",
              "        console.error('Error during call to suggestCharts:', error);\n",
              "      }\n",
              "      quickchartButtonEl.classList.remove('colab-df-spinner');\n",
              "      quickchartButtonEl.classList.add('colab-df-quickchart-complete');\n",
              "    }\n",
              "    (() => {\n",
              "      let quickchartButtonEl =\n",
              "        document.querySelector('#df-3bf9d156-5cd9-49ef-8a91-e0427c28bfe0 button');\n",
              "      quickchartButtonEl.style.display =\n",
              "        google.colab.kernel.accessAllowed ? 'block' : 'none';\n",
              "    })();\n",
              "  </script>\n",
              "</div>\n",
              "\n",
              "    </div>\n",
              "  </div>\n"
            ],
            "application/vnd.google.colaboratory.intrinsic+json": {
              "type": "dataframe",
              "variable_name": "holiday",
              "summary": "{\n  \"name\": \"holiday\",\n  \"rows\": 13,\n  \"fields\": [\n    {\n      \"column\": \"ds\",\n      \"properties\": {\n        \"dtype\": \"date\",\n        \"min\": \"2023-01-01\",\n        \"max\": \"2023-12-25\",\n        \"num_unique_values\": 13,\n        \"samples\": [\n          \"2023-11-23\",\n          \"2023-11-10\",\n          \"2023-01-01\"\n        ],\n        \"semantic_type\": \"\",\n        \"description\": \"\"\n      }\n    },\n    {\n      \"column\": \"holiday\",\n      \"properties\": {\n        \"dtype\": \"category\",\n        \"num_unique_values\": 1,\n        \"samples\": [\n          \"US-Holidays\"\n        ],\n        \"semantic_type\": \"\",\n        \"description\": \"\"\n      }\n    },\n    {\n      \"column\": \"lower_window\",\n      \"properties\": {\n        \"dtype\": \"number\",\n        \"std\": 0,\n        \"min\": -2,\n        \"max\": -2,\n        \"num_unique_values\": 1,\n        \"samples\": [\n          -2\n        ],\n        \"semantic_type\": \"\",\n        \"description\": \"\"\n      }\n    },\n    {\n      \"column\": \"upper_window\",\n      \"properties\": {\n        \"dtype\": \"number\",\n        \"std\": 0,\n        \"min\": 1,\n        \"max\": 1,\n        \"num_unique_values\": 1,\n        \"samples\": [\n          1\n        ],\n        \"semantic_type\": \"\",\n        \"description\": \"\"\n      }\n    },\n    {\n      \"column\": \"Date\",\n      \"properties\": {\n        \"dtype\": \"date\",\n        \"min\": \"2023-01-01 00:00:00\",\n        \"max\": \"2023-12-25 00:00:00\",\n        \"num_unique_values\": 13,\n        \"samples\": [\n          \"2023-11-23 00:00:00\"\n        ],\n        \"semantic_type\": \"\",\n        \"description\": \"\"\n      }\n    }\n  ]\n}"
            }
          },
          "metadata": {},
          "execution_count": 36
        }
      ]
    },
    {
      "cell_type": "markdown",
      "source": [
        "Run Simple Prophet Model"
      ],
      "metadata": {
        "id": "DzxErX4pQC9k"
      }
    },
    {
      "cell_type": "code",
      "source": [
        "#Set the uncertainty interval to 95%. (defalut is 80%)\n",
        "model = Prophet()\n",
        "model.fit(df)"
      ],
      "metadata": {
        "colab": {
          "base_uri": "https://localhost:8080/"
        },
        "id": "ODRQTBLdQFYZ",
        "outputId": "0bf3f688-b48d-4240-bdfc-7dc04a52afd4"
      },
      "execution_count": 38,
      "outputs": [
        {
          "output_type": "stream",
          "name": "stderr",
          "text": [
            "INFO:prophet:Disabling weekly seasonality. Run prophet with weekly_seasonality=True to override this.\n",
            "INFO:prophet:Disabling daily seasonality. Run prophet with daily_seasonality=True to override this.\n",
            "DEBUG:cmdstanpy:input tempfile: /tmp/tmpstg6ceuj/hy82nbpe.json\n",
            "DEBUG:cmdstanpy:input tempfile: /tmp/tmpstg6ceuj/t3ckjumx.json\n",
            "DEBUG:cmdstanpy:idx 0\n",
            "DEBUG:cmdstanpy:running CmdStan, num_threads: None\n",
            "DEBUG:cmdstanpy:CmdStan args: ['/usr/local/lib/python3.11/dist-packages/prophet/stan_model/prophet_model.bin', 'random', 'seed=28992', 'data', 'file=/tmp/tmpstg6ceuj/hy82nbpe.json', 'init=/tmp/tmpstg6ceuj/t3ckjumx.json', 'output', 'file=/tmp/tmpstg6ceuj/prophet_modelfnye6foh/prophet_model-20250228015426.csv', 'method=optimize', 'algorithm=newton', 'iter=10000']\n",
            "01:54:26 - cmdstanpy - INFO - Chain [1] start processing\n",
            "INFO:cmdstanpy:Chain [1] start processing\n",
            "01:54:27 - cmdstanpy - INFO - Chain [1] done processing\n",
            "INFO:cmdstanpy:Chain [1] done processing\n"
          ]
        },
        {
          "output_type": "execute_result",
          "data": {
            "text/plain": [
              "<prophet.forecaster.Prophet at 0x792b6405a410>"
            ]
          },
          "metadata": {},
          "execution_count": 38
        }
      ]
    },
    {
      "cell_type": "code",
      "source": [
        "future = model.make_future_dataframe(periods=12, freq=\"MS\")\n",
        "future.tail()"
      ],
      "metadata": {
        "colab": {
          "base_uri": "https://localhost:8080/",
          "height": 201
        },
        "id": "_my9zb73QVtC",
        "outputId": "f10ba547-1ef9-4104-8866-40ab5dadfcb0"
      },
      "execution_count": 41,
      "outputs": [
        {
          "output_type": "execute_result",
          "data": {
            "text/plain": [
              "           ds\n",
              "61 2025-09-01\n",
              "62 2025-10-01\n",
              "63 2025-11-01\n",
              "64 2025-12-01\n",
              "65 2026-01-01"
            ],
            "text/html": [
              "\n",
              "  <div id=\"df-dec7fb13-1635-4b3e-ae97-134413579062\" class=\"colab-df-container\">\n",
              "    <div>\n",
              "<style scoped>\n",
              "    .dataframe tbody tr th:only-of-type {\n",
              "        vertical-align: middle;\n",
              "    }\n",
              "\n",
              "    .dataframe tbody tr th {\n",
              "        vertical-align: top;\n",
              "    }\n",
              "\n",
              "    .dataframe thead th {\n",
              "        text-align: right;\n",
              "    }\n",
              "</style>\n",
              "<table border=\"1\" class=\"dataframe\">\n",
              "  <thead>\n",
              "    <tr style=\"text-align: right;\">\n",
              "      <th></th>\n",
              "      <th>ds</th>\n",
              "    </tr>\n",
              "  </thead>\n",
              "  <tbody>\n",
              "    <tr>\n",
              "      <th>61</th>\n",
              "      <td>2025-09-01</td>\n",
              "    </tr>\n",
              "    <tr>\n",
              "      <th>62</th>\n",
              "      <td>2025-10-01</td>\n",
              "    </tr>\n",
              "    <tr>\n",
              "      <th>63</th>\n",
              "      <td>2025-11-01</td>\n",
              "    </tr>\n",
              "    <tr>\n",
              "      <th>64</th>\n",
              "      <td>2025-12-01</td>\n",
              "    </tr>\n",
              "    <tr>\n",
              "      <th>65</th>\n",
              "      <td>2026-01-01</td>\n",
              "    </tr>\n",
              "  </tbody>\n",
              "</table>\n",
              "</div>\n",
              "    <div class=\"colab-df-buttons\">\n",
              "\n",
              "  <div class=\"colab-df-container\">\n",
              "    <button class=\"colab-df-convert\" onclick=\"convertToInteractive('df-dec7fb13-1635-4b3e-ae97-134413579062')\"\n",
              "            title=\"Convert this dataframe to an interactive table.\"\n",
              "            style=\"display:none;\">\n",
              "\n",
              "  <svg xmlns=\"http://www.w3.org/2000/svg\" height=\"24px\" viewBox=\"0 -960 960 960\">\n",
              "    <path d=\"M120-120v-720h720v720H120Zm60-500h600v-160H180v160Zm220 220h160v-160H400v160Zm0 220h160v-160H400v160ZM180-400h160v-160H180v160Zm440 0h160v-160H620v160ZM180-180h160v-160H180v160Zm440 0h160v-160H620v160Z\"/>\n",
              "  </svg>\n",
              "    </button>\n",
              "\n",
              "  <style>\n",
              "    .colab-df-container {\n",
              "      display:flex;\n",
              "      gap: 12px;\n",
              "    }\n",
              "\n",
              "    .colab-df-convert {\n",
              "      background-color: #E8F0FE;\n",
              "      border: none;\n",
              "      border-radius: 50%;\n",
              "      cursor: pointer;\n",
              "      display: none;\n",
              "      fill: #1967D2;\n",
              "      height: 32px;\n",
              "      padding: 0 0 0 0;\n",
              "      width: 32px;\n",
              "    }\n",
              "\n",
              "    .colab-df-convert:hover {\n",
              "      background-color: #E2EBFA;\n",
              "      box-shadow: 0px 1px 2px rgba(60, 64, 67, 0.3), 0px 1px 3px 1px rgba(60, 64, 67, 0.15);\n",
              "      fill: #174EA6;\n",
              "    }\n",
              "\n",
              "    .colab-df-buttons div {\n",
              "      margin-bottom: 4px;\n",
              "    }\n",
              "\n",
              "    [theme=dark] .colab-df-convert {\n",
              "      background-color: #3B4455;\n",
              "      fill: #D2E3FC;\n",
              "    }\n",
              "\n",
              "    [theme=dark] .colab-df-convert:hover {\n",
              "      background-color: #434B5C;\n",
              "      box-shadow: 0px 1px 3px 1px rgba(0, 0, 0, 0.15);\n",
              "      filter: drop-shadow(0px 1px 2px rgba(0, 0, 0, 0.3));\n",
              "      fill: #FFFFFF;\n",
              "    }\n",
              "  </style>\n",
              "\n",
              "    <script>\n",
              "      const buttonEl =\n",
              "        document.querySelector('#df-dec7fb13-1635-4b3e-ae97-134413579062 button.colab-df-convert');\n",
              "      buttonEl.style.display =\n",
              "        google.colab.kernel.accessAllowed ? 'block' : 'none';\n",
              "\n",
              "      async function convertToInteractive(key) {\n",
              "        const element = document.querySelector('#df-dec7fb13-1635-4b3e-ae97-134413579062');\n",
              "        const dataTable =\n",
              "          await google.colab.kernel.invokeFunction('convertToInteractive',\n",
              "                                                    [key], {});\n",
              "        if (!dataTable) return;\n",
              "\n",
              "        const docLinkHtml = 'Like what you see? Visit the ' +\n",
              "          '<a target=\"_blank\" href=https://colab.research.google.com/notebooks/data_table.ipynb>data table notebook</a>'\n",
              "          + ' to learn more about interactive tables.';\n",
              "        element.innerHTML = '';\n",
              "        dataTable['output_type'] = 'display_data';\n",
              "        await google.colab.output.renderOutput(dataTable, element);\n",
              "        const docLink = document.createElement('div');\n",
              "        docLink.innerHTML = docLinkHtml;\n",
              "        element.appendChild(docLink);\n",
              "      }\n",
              "    </script>\n",
              "  </div>\n",
              "\n",
              "\n",
              "<div id=\"df-7c28bc24-d4ab-4a48-abae-49fe2313d569\">\n",
              "  <button class=\"colab-df-quickchart\" onclick=\"quickchart('df-7c28bc24-d4ab-4a48-abae-49fe2313d569')\"\n",
              "            title=\"Suggest charts\"\n",
              "            style=\"display:none;\">\n",
              "\n",
              "<svg xmlns=\"http://www.w3.org/2000/svg\" height=\"24px\"viewBox=\"0 0 24 24\"\n",
              "     width=\"24px\">\n",
              "    <g>\n",
              "        <path d=\"M19 3H5c-1.1 0-2 .9-2 2v14c0 1.1.9 2 2 2h14c1.1 0 2-.9 2-2V5c0-1.1-.9-2-2-2zM9 17H7v-7h2v7zm4 0h-2V7h2v10zm4 0h-2v-4h2v4z\"/>\n",
              "    </g>\n",
              "</svg>\n",
              "  </button>\n",
              "\n",
              "<style>\n",
              "  .colab-df-quickchart {\n",
              "      --bg-color: #E8F0FE;\n",
              "      --fill-color: #1967D2;\n",
              "      --hover-bg-color: #E2EBFA;\n",
              "      --hover-fill-color: #174EA6;\n",
              "      --disabled-fill-color: #AAA;\n",
              "      --disabled-bg-color: #DDD;\n",
              "  }\n",
              "\n",
              "  [theme=dark] .colab-df-quickchart {\n",
              "      --bg-color: #3B4455;\n",
              "      --fill-color: #D2E3FC;\n",
              "      --hover-bg-color: #434B5C;\n",
              "      --hover-fill-color: #FFFFFF;\n",
              "      --disabled-bg-color: #3B4455;\n",
              "      --disabled-fill-color: #666;\n",
              "  }\n",
              "\n",
              "  .colab-df-quickchart {\n",
              "    background-color: var(--bg-color);\n",
              "    border: none;\n",
              "    border-radius: 50%;\n",
              "    cursor: pointer;\n",
              "    display: none;\n",
              "    fill: var(--fill-color);\n",
              "    height: 32px;\n",
              "    padding: 0;\n",
              "    width: 32px;\n",
              "  }\n",
              "\n",
              "  .colab-df-quickchart:hover {\n",
              "    background-color: var(--hover-bg-color);\n",
              "    box-shadow: 0 1px 2px rgba(60, 64, 67, 0.3), 0 1px 3px 1px rgba(60, 64, 67, 0.15);\n",
              "    fill: var(--button-hover-fill-color);\n",
              "  }\n",
              "\n",
              "  .colab-df-quickchart-complete:disabled,\n",
              "  .colab-df-quickchart-complete:disabled:hover {\n",
              "    background-color: var(--disabled-bg-color);\n",
              "    fill: var(--disabled-fill-color);\n",
              "    box-shadow: none;\n",
              "  }\n",
              "\n",
              "  .colab-df-spinner {\n",
              "    border: 2px solid var(--fill-color);\n",
              "    border-color: transparent;\n",
              "    border-bottom-color: var(--fill-color);\n",
              "    animation:\n",
              "      spin 1s steps(1) infinite;\n",
              "  }\n",
              "\n",
              "  @keyframes spin {\n",
              "    0% {\n",
              "      border-color: transparent;\n",
              "      border-bottom-color: var(--fill-color);\n",
              "      border-left-color: var(--fill-color);\n",
              "    }\n",
              "    20% {\n",
              "      border-color: transparent;\n",
              "      border-left-color: var(--fill-color);\n",
              "      border-top-color: var(--fill-color);\n",
              "    }\n",
              "    30% {\n",
              "      border-color: transparent;\n",
              "      border-left-color: var(--fill-color);\n",
              "      border-top-color: var(--fill-color);\n",
              "      border-right-color: var(--fill-color);\n",
              "    }\n",
              "    40% {\n",
              "      border-color: transparent;\n",
              "      border-right-color: var(--fill-color);\n",
              "      border-top-color: var(--fill-color);\n",
              "    }\n",
              "    60% {\n",
              "      border-color: transparent;\n",
              "      border-right-color: var(--fill-color);\n",
              "    }\n",
              "    80% {\n",
              "      border-color: transparent;\n",
              "      border-right-color: var(--fill-color);\n",
              "      border-bottom-color: var(--fill-color);\n",
              "    }\n",
              "    90% {\n",
              "      border-color: transparent;\n",
              "      border-bottom-color: var(--fill-color);\n",
              "    }\n",
              "  }\n",
              "</style>\n",
              "\n",
              "  <script>\n",
              "    async function quickchart(key) {\n",
              "      const quickchartButtonEl =\n",
              "        document.querySelector('#' + key + ' button');\n",
              "      quickchartButtonEl.disabled = true;  // To prevent multiple clicks.\n",
              "      quickchartButtonEl.classList.add('colab-df-spinner');\n",
              "      try {\n",
              "        const charts = await google.colab.kernel.invokeFunction(\n",
              "            'suggestCharts', [key], {});\n",
              "      } catch (error) {\n",
              "        console.error('Error during call to suggestCharts:', error);\n",
              "      }\n",
              "      quickchartButtonEl.classList.remove('colab-df-spinner');\n",
              "      quickchartButtonEl.classList.add('colab-df-quickchart-complete');\n",
              "    }\n",
              "    (() => {\n",
              "      let quickchartButtonEl =\n",
              "        document.querySelector('#df-7c28bc24-d4ab-4a48-abae-49fe2313d569 button');\n",
              "      quickchartButtonEl.style.display =\n",
              "        google.colab.kernel.accessAllowed ? 'block' : 'none';\n",
              "    })();\n",
              "  </script>\n",
              "</div>\n",
              "\n",
              "    </div>\n",
              "  </div>\n"
            ],
            "application/vnd.google.colaboratory.intrinsic+json": {
              "type": "dataframe",
              "summary": "{\n  \"name\": \"future\",\n  \"rows\": 5,\n  \"fields\": [\n    {\n      \"column\": \"ds\",\n      \"properties\": {\n        \"dtype\": \"date\",\n        \"min\": \"2025-09-01 00:00:00\",\n        \"max\": \"2026-01-01 00:00:00\",\n        \"num_unique_values\": 5,\n        \"samples\": [\n          \"2025-10-01 00:00:00\",\n          \"2026-01-01 00:00:00\",\n          \"2025-11-01 00:00:00\"\n        ],\n        \"semantic_type\": \"\",\n        \"description\": \"\"\n      }\n    }\n  ]\n}"
            }
          },
          "metadata": {},
          "execution_count": 41
        }
      ]
    },
    {
      "cell_type": "code",
      "source": [
        "forecast = model.predict(future)\n",
        "forecast[['ds', 'yhat', 'yhat_lower', 'yhat_upper']].tail(7)"
      ],
      "metadata": {
        "colab": {
          "base_uri": "https://localhost:8080/",
          "height": 261
        },
        "id": "MW65eITLQ4oM",
        "outputId": "76bebffe-c51d-487a-dbf5-a0b49d90f42b"
      },
      "execution_count": 42,
      "outputs": [
        {
          "output_type": "execute_result",
          "data": {
            "text/plain": [
              "           ds   yhat  yhat_lower  yhat_upper\n",
              "59 2025-07-01 133.47      117.95      148.87\n",
              "60 2025-08-01 128.34      114.29      144.64\n",
              "61 2025-09-01 128.78      113.11      144.48\n",
              "62 2025-10-01 143.39      127.70      159.71\n",
              "63 2025-11-01 126.74      111.73      142.67\n",
              "64 2025-12-01 127.01      111.39      141.70\n",
              "65 2026-01-01 136.02      119.89      150.82"
            ],
            "text/html": [
              "\n",
              "  <div id=\"df-36154796-1673-4df3-84e9-5bb627f012a1\" class=\"colab-df-container\">\n",
              "    <div>\n",
              "<style scoped>\n",
              "    .dataframe tbody tr th:only-of-type {\n",
              "        vertical-align: middle;\n",
              "    }\n",
              "\n",
              "    .dataframe tbody tr th {\n",
              "        vertical-align: top;\n",
              "    }\n",
              "\n",
              "    .dataframe thead th {\n",
              "        text-align: right;\n",
              "    }\n",
              "</style>\n",
              "<table border=\"1\" class=\"dataframe\">\n",
              "  <thead>\n",
              "    <tr style=\"text-align: right;\">\n",
              "      <th></th>\n",
              "      <th>ds</th>\n",
              "      <th>yhat</th>\n",
              "      <th>yhat_lower</th>\n",
              "      <th>yhat_upper</th>\n",
              "    </tr>\n",
              "  </thead>\n",
              "  <tbody>\n",
              "    <tr>\n",
              "      <th>59</th>\n",
              "      <td>2025-07-01</td>\n",
              "      <td>133.47</td>\n",
              "      <td>117.95</td>\n",
              "      <td>148.87</td>\n",
              "    </tr>\n",
              "    <tr>\n",
              "      <th>60</th>\n",
              "      <td>2025-08-01</td>\n",
              "      <td>128.34</td>\n",
              "      <td>114.29</td>\n",
              "      <td>144.64</td>\n",
              "    </tr>\n",
              "    <tr>\n",
              "      <th>61</th>\n",
              "      <td>2025-09-01</td>\n",
              "      <td>128.78</td>\n",
              "      <td>113.11</td>\n",
              "      <td>144.48</td>\n",
              "    </tr>\n",
              "    <tr>\n",
              "      <th>62</th>\n",
              "      <td>2025-10-01</td>\n",
              "      <td>143.39</td>\n",
              "      <td>127.70</td>\n",
              "      <td>159.71</td>\n",
              "    </tr>\n",
              "    <tr>\n",
              "      <th>63</th>\n",
              "      <td>2025-11-01</td>\n",
              "      <td>126.74</td>\n",
              "      <td>111.73</td>\n",
              "      <td>142.67</td>\n",
              "    </tr>\n",
              "    <tr>\n",
              "      <th>64</th>\n",
              "      <td>2025-12-01</td>\n",
              "      <td>127.01</td>\n",
              "      <td>111.39</td>\n",
              "      <td>141.70</td>\n",
              "    </tr>\n",
              "    <tr>\n",
              "      <th>65</th>\n",
              "      <td>2026-01-01</td>\n",
              "      <td>136.02</td>\n",
              "      <td>119.89</td>\n",
              "      <td>150.82</td>\n",
              "    </tr>\n",
              "  </tbody>\n",
              "</table>\n",
              "</div>\n",
              "    <div class=\"colab-df-buttons\">\n",
              "\n",
              "  <div class=\"colab-df-container\">\n",
              "    <button class=\"colab-df-convert\" onclick=\"convertToInteractive('df-36154796-1673-4df3-84e9-5bb627f012a1')\"\n",
              "            title=\"Convert this dataframe to an interactive table.\"\n",
              "            style=\"display:none;\">\n",
              "\n",
              "  <svg xmlns=\"http://www.w3.org/2000/svg\" height=\"24px\" viewBox=\"0 -960 960 960\">\n",
              "    <path d=\"M120-120v-720h720v720H120Zm60-500h600v-160H180v160Zm220 220h160v-160H400v160Zm0 220h160v-160H400v160ZM180-400h160v-160H180v160Zm440 0h160v-160H620v160ZM180-180h160v-160H180v160Zm440 0h160v-160H620v160Z\"/>\n",
              "  </svg>\n",
              "    </button>\n",
              "\n",
              "  <style>\n",
              "    .colab-df-container {\n",
              "      display:flex;\n",
              "      gap: 12px;\n",
              "    }\n",
              "\n",
              "    .colab-df-convert {\n",
              "      background-color: #E8F0FE;\n",
              "      border: none;\n",
              "      border-radius: 50%;\n",
              "      cursor: pointer;\n",
              "      display: none;\n",
              "      fill: #1967D2;\n",
              "      height: 32px;\n",
              "      padding: 0 0 0 0;\n",
              "      width: 32px;\n",
              "    }\n",
              "\n",
              "    .colab-df-convert:hover {\n",
              "      background-color: #E2EBFA;\n",
              "      box-shadow: 0px 1px 2px rgba(60, 64, 67, 0.3), 0px 1px 3px 1px rgba(60, 64, 67, 0.15);\n",
              "      fill: #174EA6;\n",
              "    }\n",
              "\n",
              "    .colab-df-buttons div {\n",
              "      margin-bottom: 4px;\n",
              "    }\n",
              "\n",
              "    [theme=dark] .colab-df-convert {\n",
              "      background-color: #3B4455;\n",
              "      fill: #D2E3FC;\n",
              "    }\n",
              "\n",
              "    [theme=dark] .colab-df-convert:hover {\n",
              "      background-color: #434B5C;\n",
              "      box-shadow: 0px 1px 3px 1px rgba(0, 0, 0, 0.15);\n",
              "      filter: drop-shadow(0px 1px 2px rgba(0, 0, 0, 0.3));\n",
              "      fill: #FFFFFF;\n",
              "    }\n",
              "  </style>\n",
              "\n",
              "    <script>\n",
              "      const buttonEl =\n",
              "        document.querySelector('#df-36154796-1673-4df3-84e9-5bb627f012a1 button.colab-df-convert');\n",
              "      buttonEl.style.display =\n",
              "        google.colab.kernel.accessAllowed ? 'block' : 'none';\n",
              "\n",
              "      async function convertToInteractive(key) {\n",
              "        const element = document.querySelector('#df-36154796-1673-4df3-84e9-5bb627f012a1');\n",
              "        const dataTable =\n",
              "          await google.colab.kernel.invokeFunction('convertToInteractive',\n",
              "                                                    [key], {});\n",
              "        if (!dataTable) return;\n",
              "\n",
              "        const docLinkHtml = 'Like what you see? Visit the ' +\n",
              "          '<a target=\"_blank\" href=https://colab.research.google.com/notebooks/data_table.ipynb>data table notebook</a>'\n",
              "          + ' to learn more about interactive tables.';\n",
              "        element.innerHTML = '';\n",
              "        dataTable['output_type'] = 'display_data';\n",
              "        await google.colab.output.renderOutput(dataTable, element);\n",
              "        const docLink = document.createElement('div');\n",
              "        docLink.innerHTML = docLinkHtml;\n",
              "        element.appendChild(docLink);\n",
              "      }\n",
              "    </script>\n",
              "  </div>\n",
              "\n",
              "\n",
              "<div id=\"df-37a77c7f-f431-4c79-9f78-a67cb0a72590\">\n",
              "  <button class=\"colab-df-quickchart\" onclick=\"quickchart('df-37a77c7f-f431-4c79-9f78-a67cb0a72590')\"\n",
              "            title=\"Suggest charts\"\n",
              "            style=\"display:none;\">\n",
              "\n",
              "<svg xmlns=\"http://www.w3.org/2000/svg\" height=\"24px\"viewBox=\"0 0 24 24\"\n",
              "     width=\"24px\">\n",
              "    <g>\n",
              "        <path d=\"M19 3H5c-1.1 0-2 .9-2 2v14c0 1.1.9 2 2 2h14c1.1 0 2-.9 2-2V5c0-1.1-.9-2-2-2zM9 17H7v-7h2v7zm4 0h-2V7h2v10zm4 0h-2v-4h2v4z\"/>\n",
              "    </g>\n",
              "</svg>\n",
              "  </button>\n",
              "\n",
              "<style>\n",
              "  .colab-df-quickchart {\n",
              "      --bg-color: #E8F0FE;\n",
              "      --fill-color: #1967D2;\n",
              "      --hover-bg-color: #E2EBFA;\n",
              "      --hover-fill-color: #174EA6;\n",
              "      --disabled-fill-color: #AAA;\n",
              "      --disabled-bg-color: #DDD;\n",
              "  }\n",
              "\n",
              "  [theme=dark] .colab-df-quickchart {\n",
              "      --bg-color: #3B4455;\n",
              "      --fill-color: #D2E3FC;\n",
              "      --hover-bg-color: #434B5C;\n",
              "      --hover-fill-color: #FFFFFF;\n",
              "      --disabled-bg-color: #3B4455;\n",
              "      --disabled-fill-color: #666;\n",
              "  }\n",
              "\n",
              "  .colab-df-quickchart {\n",
              "    background-color: var(--bg-color);\n",
              "    border: none;\n",
              "    border-radius: 50%;\n",
              "    cursor: pointer;\n",
              "    display: none;\n",
              "    fill: var(--fill-color);\n",
              "    height: 32px;\n",
              "    padding: 0;\n",
              "    width: 32px;\n",
              "  }\n",
              "\n",
              "  .colab-df-quickchart:hover {\n",
              "    background-color: var(--hover-bg-color);\n",
              "    box-shadow: 0 1px 2px rgba(60, 64, 67, 0.3), 0 1px 3px 1px rgba(60, 64, 67, 0.15);\n",
              "    fill: var(--button-hover-fill-color);\n",
              "  }\n",
              "\n",
              "  .colab-df-quickchart-complete:disabled,\n",
              "  .colab-df-quickchart-complete:disabled:hover {\n",
              "    background-color: var(--disabled-bg-color);\n",
              "    fill: var(--disabled-fill-color);\n",
              "    box-shadow: none;\n",
              "  }\n",
              "\n",
              "  .colab-df-spinner {\n",
              "    border: 2px solid var(--fill-color);\n",
              "    border-color: transparent;\n",
              "    border-bottom-color: var(--fill-color);\n",
              "    animation:\n",
              "      spin 1s steps(1) infinite;\n",
              "  }\n",
              "\n",
              "  @keyframes spin {\n",
              "    0% {\n",
              "      border-color: transparent;\n",
              "      border-bottom-color: var(--fill-color);\n",
              "      border-left-color: var(--fill-color);\n",
              "    }\n",
              "    20% {\n",
              "      border-color: transparent;\n",
              "      border-left-color: var(--fill-color);\n",
              "      border-top-color: var(--fill-color);\n",
              "    }\n",
              "    30% {\n",
              "      border-color: transparent;\n",
              "      border-left-color: var(--fill-color);\n",
              "      border-top-color: var(--fill-color);\n",
              "      border-right-color: var(--fill-color);\n",
              "    }\n",
              "    40% {\n",
              "      border-color: transparent;\n",
              "      border-right-color: var(--fill-color);\n",
              "      border-top-color: var(--fill-color);\n",
              "    }\n",
              "    60% {\n",
              "      border-color: transparent;\n",
              "      border-right-color: var(--fill-color);\n",
              "    }\n",
              "    80% {\n",
              "      border-color: transparent;\n",
              "      border-right-color: var(--fill-color);\n",
              "      border-bottom-color: var(--fill-color);\n",
              "    }\n",
              "    90% {\n",
              "      border-color: transparent;\n",
              "      border-bottom-color: var(--fill-color);\n",
              "    }\n",
              "  }\n",
              "</style>\n",
              "\n",
              "  <script>\n",
              "    async function quickchart(key) {\n",
              "      const quickchartButtonEl =\n",
              "        document.querySelector('#' + key + ' button');\n",
              "      quickchartButtonEl.disabled = true;  // To prevent multiple clicks.\n",
              "      quickchartButtonEl.classList.add('colab-df-spinner');\n",
              "      try {\n",
              "        const charts = await google.colab.kernel.invokeFunction(\n",
              "            'suggestCharts', [key], {});\n",
              "      } catch (error) {\n",
              "        console.error('Error during call to suggestCharts:', error);\n",
              "      }\n",
              "      quickchartButtonEl.classList.remove('colab-df-spinner');\n",
              "      quickchartButtonEl.classList.add('colab-df-quickchart-complete');\n",
              "    }\n",
              "    (() => {\n",
              "      let quickchartButtonEl =\n",
              "        document.querySelector('#df-37a77c7f-f431-4c79-9f78-a67cb0a72590 button');\n",
              "      quickchartButtonEl.style.display =\n",
              "        google.colab.kernel.accessAllowed ? 'block' : 'none';\n",
              "    })();\n",
              "  </script>\n",
              "</div>\n",
              "\n",
              "    </div>\n",
              "  </div>\n"
            ],
            "application/vnd.google.colaboratory.intrinsic+json": {
              "type": "dataframe",
              "summary": "{\n  \"name\": \"forecast[['ds', 'yhat', 'yhat_lower', 'yhat_upper']]\",\n  \"rows\": 7,\n  \"fields\": [\n    {\n      \"column\": \"ds\",\n      \"properties\": {\n        \"dtype\": \"date\",\n        \"min\": \"2025-07-01 00:00:00\",\n        \"max\": \"2026-01-01 00:00:00\",\n        \"num_unique_values\": 7,\n        \"samples\": [\n          \"2025-07-01 00:00:00\",\n          \"2025-08-01 00:00:00\",\n          \"2025-12-01 00:00:00\"\n        ],\n        \"semantic_type\": \"\",\n        \"description\": \"\"\n      }\n    },\n    {\n      \"column\": \"yhat\",\n      \"properties\": {\n        \"dtype\": \"number\",\n        \"std\": 6.113256191125571,\n        \"min\": 126.74344840662857,\n        \"max\": 143.38539612442008,\n        \"num_unique_values\": 7,\n        \"samples\": [\n          133.4720903207509,\n          128.34112821074626,\n          127.01002978107176\n        ],\n        \"semantic_type\": \"\",\n        \"description\": \"\"\n      }\n    },\n    {\n      \"column\": \"yhat_lower\",\n      \"properties\": {\n        \"dtype\": \"number\",\n        \"std\": 5.835791921631223,\n        \"min\": 111.39402933315988,\n        \"max\": 127.70462337711,\n        \"num_unique_values\": 7,\n        \"samples\": [\n          117.94660225873649,\n          114.29156579265937,\n          111.39402933315988\n        ],\n        \"semantic_type\": \"\",\n        \"description\": \"\"\n      }\n    },\n    {\n      \"column\": \"yhat_upper\",\n      \"properties\": {\n        \"dtype\": \"number\",\n        \"std\": 6.273377526881415,\n        \"min\": 141.70200434154773,\n        \"max\": 159.706124633839,\n        \"num_unique_values\": 7,\n        \"samples\": [\n          148.86789636753485,\n          144.64391776601872,\n          141.70200434154773\n        ],\n        \"semantic_type\": \"\",\n        \"description\": \"\"\n      }\n    }\n  ]\n}"
            }
          },
          "metadata": {},
          "execution_count": 42
        }
      ]
    },
    {
      "cell_type": "code",
      "source": [
        "# Plot the components of the model\n",
        "fig = model.plot_components(forecast)"
      ],
      "metadata": {
        "colab": {
          "base_uri": "https://localhost:8080/",
          "height": 1000
        },
        "id": "hT38cgrcRCSx",
        "outputId": "58ecff4e-ae1d-4474-acf7-2fd328c5f9cf"
      },
      "execution_count": 43,
      "outputs": [
        {
          "output_type": "stream",
          "name": "stderr",
          "text": [
            "WARNING:matplotlib.font_manager:findfont: Font family 'Arial' not found.\n",
            "WARNING:matplotlib.font_manager:findfont: Font family 'Arial' not found.\n",
            "WARNING:matplotlib.font_manager:findfont: Font family 'Arial' not found.\n",
            "WARNING:matplotlib.font_manager:findfont: Font family 'Arial' not found.\n",
            "WARNING:matplotlib.font_manager:findfont: Font family 'Arial' not found.\n",
            "WARNING:matplotlib.font_manager:findfont: Font family 'Arial' not found.\n",
            "WARNING:matplotlib.font_manager:findfont: Font family 'Arial' not found.\n",
            "WARNING:matplotlib.font_manager:findfont: Font family 'Arial' not found.\n",
            "WARNING:matplotlib.font_manager:findfont: Font family 'Arial' not found.\n",
            "WARNING:matplotlib.font_manager:findfont: Font family 'Arial' not found.\n",
            "WARNING:matplotlib.font_manager:findfont: Font family 'Arial' not found.\n",
            "WARNING:matplotlib.font_manager:findfont: Font family 'Arial' not found.\n",
            "WARNING:matplotlib.font_manager:findfont: Font family 'Arial' not found.\n",
            "WARNING:matplotlib.font_manager:findfont: Font family 'Arial' not found.\n",
            "WARNING:matplotlib.font_manager:findfont: Font family 'Arial' not found.\n",
            "WARNING:matplotlib.font_manager:findfont: Font family 'Arial' not found.\n",
            "WARNING:matplotlib.font_manager:findfont: Font family 'Arial' not found.\n",
            "WARNING:matplotlib.font_manager:findfont: Font family 'Arial' not found.\n",
            "WARNING:matplotlib.font_manager:findfont: Font family 'Arial' not found.\n",
            "WARNING:matplotlib.font_manager:findfont: Font family 'Arial' not found.\n",
            "WARNING:matplotlib.font_manager:findfont: Font family 'Arial' not found.\n",
            "WARNING:matplotlib.font_manager:findfont: Font family 'Arial' not found.\n",
            "WARNING:matplotlib.font_manager:findfont: Font family 'Arial' not found.\n",
            "WARNING:matplotlib.font_manager:findfont: Font family 'Arial' not found.\n",
            "WARNING:matplotlib.font_manager:findfont: Font family 'Arial' not found.\n",
            "WARNING:matplotlib.font_manager:findfont: Font family 'Arial' not found.\n",
            "WARNING:matplotlib.font_manager:findfont: Font family 'Arial' not found.\n",
            "WARNING:matplotlib.font_manager:findfont: Font family 'Arial' not found.\n",
            "WARNING:matplotlib.font_manager:findfont: Font family 'Arial' not found.\n",
            "WARNING:matplotlib.font_manager:findfont: Font family 'Arial' not found.\n",
            "WARNING:matplotlib.font_manager:findfont: Font family 'Arial' not found.\n",
            "WARNING:matplotlib.font_manager:findfont: Font family 'Arial' not found.\n",
            "WARNING:matplotlib.font_manager:findfont: Font family 'Arial' not found.\n",
            "WARNING:matplotlib.font_manager:findfont: Font family 'Arial' not found.\n",
            "WARNING:matplotlib.font_manager:findfont: Font family 'Arial' not found.\n",
            "WARNING:matplotlib.font_manager:findfont: Font family 'Arial' not found.\n",
            "WARNING:matplotlib.font_manager:findfont: Font family 'Arial' not found.\n",
            "WARNING:matplotlib.font_manager:findfont: Font family 'Arial' not found.\n",
            "WARNING:matplotlib.font_manager:findfont: Font family 'Arial' not found.\n",
            "WARNING:matplotlib.font_manager:findfont: Font family 'Arial' not found.\n",
            "WARNING:matplotlib.font_manager:findfont: Font family 'Arial' not found.\n",
            "WARNING:matplotlib.font_manager:findfont: Font family 'Arial' not found.\n",
            "WARNING:matplotlib.font_manager:findfont: Font family 'Arial' not found.\n",
            "WARNING:matplotlib.font_manager:findfont: Font family 'Arial' not found.\n",
            "WARNING:matplotlib.font_manager:findfont: Font family 'Arial' not found.\n",
            "WARNING:matplotlib.font_manager:findfont: Font family 'Arial' not found.\n",
            "WARNING:matplotlib.font_manager:findfont: Font family 'Arial' not found.\n",
            "WARNING:matplotlib.font_manager:findfont: Font family 'Arial' not found.\n",
            "WARNING:matplotlib.font_manager:findfont: Font family 'Arial' not found.\n",
            "WARNING:matplotlib.font_manager:findfont: Font family 'Arial' not found.\n",
            "WARNING:matplotlib.font_manager:findfont: Font family 'Arial' not found.\n",
            "WARNING:matplotlib.font_manager:findfont: Font family 'Arial' not found.\n",
            "WARNING:matplotlib.font_manager:findfont: Font family 'Arial' not found.\n",
            "WARNING:matplotlib.font_manager:findfont: Font family 'Arial' not found.\n",
            "WARNING:matplotlib.font_manager:findfont: Font family 'Arial' not found.\n",
            "WARNING:matplotlib.font_manager:findfont: Font family 'Arial' not found.\n",
            "WARNING:matplotlib.font_manager:findfont: Font family 'Arial' not found.\n",
            "WARNING:matplotlib.font_manager:findfont: Font family 'Arial' not found.\n",
            "WARNING:matplotlib.font_manager:findfont: Font family 'Arial' not found.\n",
            "WARNING:matplotlib.font_manager:findfont: Font family 'Arial' not found.\n",
            "WARNING:matplotlib.font_manager:findfont: Font family 'Arial' not found.\n",
            "WARNING:matplotlib.font_manager:findfont: Font family 'Arial' not found.\n",
            "WARNING:matplotlib.font_manager:findfont: Font family 'Arial' not found.\n",
            "WARNING:matplotlib.font_manager:findfont: Font family 'Arial' not found.\n",
            "WARNING:matplotlib.font_manager:findfont: Font family 'Arial' not found.\n",
            "WARNING:matplotlib.font_manager:findfont: Font family 'Arial' not found.\n",
            "WARNING:matplotlib.font_manager:findfont: Font family 'Arial' not found.\n",
            "WARNING:matplotlib.font_manager:findfont: Font family 'Arial' not found.\n",
            "WARNING:matplotlib.font_manager:findfont: Font family 'Arial' not found.\n",
            "WARNING:matplotlib.font_manager:findfont: Font family 'Arial' not found.\n",
            "WARNING:matplotlib.font_manager:findfont: Font family 'Arial' not found.\n",
            "WARNING:matplotlib.font_manager:findfont: Font family 'Arial' not found.\n",
            "WARNING:matplotlib.font_manager:findfont: Font family 'Arial' not found.\n",
            "WARNING:matplotlib.font_manager:findfont: Font family 'Arial' not found.\n",
            "WARNING:matplotlib.font_manager:findfont: Font family 'Arial' not found.\n",
            "WARNING:matplotlib.font_manager:findfont: Font family 'Arial' not found.\n",
            "WARNING:matplotlib.font_manager:findfont: Font family 'Arial' not found.\n",
            "WARNING:matplotlib.font_manager:findfont: Font family 'Arial' not found.\n",
            "WARNING:matplotlib.font_manager:findfont: Font family 'Arial' not found.\n",
            "WARNING:matplotlib.font_manager:findfont: Font family 'Arial' not found.\n",
            "WARNING:matplotlib.font_manager:findfont: Font family 'Arial' not found.\n",
            "WARNING:matplotlib.font_manager:findfont: Font family 'Arial' not found.\n",
            "WARNING:matplotlib.font_manager:findfont: Font family 'Arial' not found.\n",
            "WARNING:matplotlib.font_manager:findfont: Font family 'Arial' not found.\n",
            "WARNING:matplotlib.font_manager:findfont: Font family 'Arial' not found.\n",
            "WARNING:matplotlib.font_manager:findfont: Font family 'Arial' not found.\n",
            "WARNING:matplotlib.font_manager:findfont: Font family 'Arial' not found.\n",
            "WARNING:matplotlib.font_manager:findfont: Font family 'Arial' not found.\n",
            "WARNING:matplotlib.font_manager:findfont: Font family 'Arial' not found.\n",
            "WARNING:matplotlib.font_manager:findfont: Font family 'Arial' not found.\n",
            "WARNING:matplotlib.font_manager:findfont: Font family 'Arial' not found.\n",
            "WARNING:matplotlib.font_manager:findfont: Font family 'Arial' not found.\n",
            "WARNING:matplotlib.font_manager:findfont: Font family 'Arial' not found.\n",
            "WARNING:matplotlib.font_manager:findfont: Font family 'Arial' not found.\n",
            "WARNING:matplotlib.font_manager:findfont: Font family 'Arial' not found.\n",
            "WARNING:matplotlib.font_manager:findfont: Font family 'Arial' not found.\n",
            "WARNING:matplotlib.font_manager:findfont: Font family 'Arial' not found.\n",
            "WARNING:matplotlib.font_manager:findfont: Font family 'Arial' not found.\n",
            "WARNING:matplotlib.font_manager:findfont: Font family 'Arial' not found.\n",
            "WARNING:matplotlib.font_manager:findfont: Font family 'Arial' not found.\n",
            "WARNING:matplotlib.font_manager:findfont: Font family 'Arial' not found.\n",
            "WARNING:matplotlib.font_manager:findfont: Font family 'Arial' not found.\n",
            "WARNING:matplotlib.font_manager:findfont: Font family 'Arial' not found.\n",
            "WARNING:matplotlib.font_manager:findfont: Font family 'Arial' not found.\n",
            "WARNING:matplotlib.font_manager:findfont: Font family 'Arial' not found.\n",
            "WARNING:matplotlib.font_manager:findfont: Font family 'Arial' not found.\n"
          ]
        },
        {
          "output_type": "display_data",
          "data": {
            "text/plain": [
              "<Figure size 900x600 with 2 Axes>"
            ],
            "image/png": "[encoded data removed]"
          },
          "metadata": {}
        }
      ]
    },
    {
      "cell_type": "code",
      "source": [
        "#Train/Test\n",
        "split_date = pd.to_datetime('2023-01-01')\n",
        "X_tr = df[df['ds'] <= split_date]\n",
        "X_tst = df[df['ds'] > split_date]"
      ],
      "metadata": {
        "id": "-Esb0XRURlxK"
      },
      "execution_count": 47,
      "outputs": []
    },
    {
      "cell_type": "code",
      "source": [
        "X_tst_forecast = model.predict(X_tst)\n",
        "X_tst_forecast[['ds', 'yhat', 'yhat_lower', 'yhat_upper']].tail(7)"
      ],
      "metadata": {
        "colab": {
          "base_uri": "https://localhost:8080/",
          "height": 261
        },
        "id": "ho9yW9wZRM0Q",
        "outputId": "cf291791-b10f-4f53-d4b2-73f10ed0b7cb"
      },
      "execution_count": 48,
      "outputs": [
        {
          "output_type": "execute_result",
          "data": {
            "text/plain": [
              "           ds   yhat  yhat_lower  yhat_upper\n",
              "17 2024-07-01 135.09      119.73      152.05\n",
              "18 2024-08-01 116.07      101.57      132.27\n",
              "19 2024-09-01 127.37      111.02      141.95\n",
              "20 2024-10-01 134.98      118.46      151.43\n",
              "21 2024-11-01 119.61      103.88      134.45\n",
              "22 2024-12-01 124.23      109.83      140.36\n",
              "23 2025-01-01 123.87      107.86      138.72"
            ],
            "text/html": [
              "\n",
              "  <div id=\"df-250ae53d-1961-4b09-895a-560d4ab906f8\" class=\"colab-df-container\">\n",
              "    <div>\n",
              "<style scoped>\n",
              "    .dataframe tbody tr th:only-of-type {\n",
              "        vertical-align: middle;\n",
              "    }\n",
              "\n",
              "    .dataframe tbody tr th {\n",
              "        vertical-align: top;\n",
              "    }\n",
              "\n",
              "    .dataframe thead th {\n",
              "        text-align: right;\n",
              "    }\n",
              "</style>\n",
              "<table border=\"1\" class=\"dataframe\">\n",
              "  <thead>\n",
              "    <tr style=\"text-align: right;\">\n",
              "      <th></th>\n",
              "      <th>ds</th>\n",
              "      <th>yhat</th>\n",
              "      <th>yhat_lower</th>\n",
              "      <th>yhat_upper</th>\n",
              "    </tr>\n",
              "  </thead>\n",
              "  <tbody>\n",
              "    <tr>\n",
              "      <th>17</th>\n",
              "      <td>2024-07-01</td>\n",
              "      <td>135.09</td>\n",
              "      <td>119.73</td>\n",
              "      <td>152.05</td>\n",
              "    </tr>\n",
              "    <tr>\n",
              "      <th>18</th>\n",
              "      <td>2024-08-01</td>\n",
              "      <td>116.07</td>\n",
              "      <td>101.57</td>\n",
              "      <td>132.27</td>\n",
              "    </tr>\n",
              "    <tr>\n",
              "      <th>19</th>\n",
              "      <td>2024-09-01</td>\n",
              "      <td>127.37</td>\n",
              "      <td>111.02</td>\n",
              "      <td>141.95</td>\n",
              "    </tr>\n",
              "    <tr>\n",
              "      <th>20</th>\n",
              "      <td>2024-10-01</td>\n",
              "      <td>134.98</td>\n",
              "      <td>118.46</td>\n",
              "      <td>151.43</td>\n",
              "    </tr>\n",
              "    <tr>\n",
              "      <th>21</th>\n",
              "      <td>2024-11-01</td>\n",
              "      <td>119.61</td>\n",
              "      <td>103.88</td>\n",
              "      <td>134.45</td>\n",
              "    </tr>\n",
              "    <tr>\n",
              "      <th>22</th>\n",
              "      <td>2024-12-01</td>\n",
              "      <td>124.23</td>\n",
              "      <td>109.83</td>\n",
              "      <td>140.36</td>\n",
              "    </tr>\n",
              "    <tr>\n",
              "      <th>23</th>\n",
              "      <td>2025-01-01</td>\n",
              "      <td>123.87</td>\n",
              "      <td>107.86</td>\n",
              "      <td>138.72</td>\n",
              "    </tr>\n",
              "  </tbody>\n",
              "</table>\n",
              "</div>\n",
              "    <div class=\"colab-df-buttons\">\n",
              "\n",
              "  <div class=\"colab-df-container\">\n",
              "    <button class=\"colab-df-convert\" onclick=\"convertToInteractive('df-250ae53d-1961-4b09-895a-560d4ab906f8')\"\n",
              "            title=\"Convert this dataframe to an interactive table.\"\n",
              "            style=\"display:none;\">\n",
              "\n",
              "  <svg xmlns=\"http://www.w3.org/2000/svg\" height=\"24px\" viewBox=\"0 -960 960 960\">\n",
              "    <path d=\"M120-120v-720h720v720H120Zm60-500h600v-160H180v160Zm220 220h160v-160H400v160Zm0 220h160v-160H400v160ZM180-400h160v-160H180v160Zm440 0h160v-160H620v160ZM180-180h160v-160H180v160Zm440 0h160v-160H620v160Z\"/>\n",
              "  </svg>\n",
              "    </button>\n",
              "\n",
              "  <style>\n",
              "    .colab-df-container {\n",
              "      display:flex;\n",
              "      gap: 12px;\n",
              "    }\n",
              "\n",
              "    .colab-df-convert {\n",
              "      background-color: #E8F0FE;\n",
              "      border: none;\n",
              "      border-radius: 50%;\n",
              "      cursor: pointer;\n",
              "      display: none;\n",
              "      fill: #1967D2;\n",
              "      height: 32px;\n",
              "      padding: 0 0 0 0;\n",
              "      width: 32px;\n",
              "    }\n",
              "\n",
              "    .colab-df-convert:hover {\n",
              "      background-color: #E2EBFA;\n",
              "      box-shadow: 0px 1px 2px rgba(60, 64, 67, 0.3), 0px 1px 3px 1px rgba(60, 64, 67, 0.15);\n",
              "      fill: #174EA6;\n",
              "    }\n",
              "\n",
              "    .colab-df-buttons div {\n",
              "      margin-bottom: 4px;\n",
              "    }\n",
              "\n",
              "    [theme=dark] .colab-df-convert {\n",
              "      background-color: #3B4455;\n",
              "      fill: #D2E3FC;\n",
              "    }\n",
              "\n",
              "    [theme=dark] .colab-df-convert:hover {\n",
              "      background-color: #434B5C;\n",
              "      box-shadow: 0px 1px 3px 1px rgba(0, 0, 0, 0.15);\n",
              "      filter: drop-shadow(0px 1px 2px rgba(0, 0, 0, 0.3));\n",
              "      fill: #FFFFFF;\n",
              "    }\n",
              "  </style>\n",
              "\n",
              "    <script>\n",
              "      const buttonEl =\n",
              "        document.querySelector('#df-250ae53d-1961-4b09-895a-560d4ab906f8 button.colab-df-convert');\n",
              "      buttonEl.style.display =\n",
              "        google.colab.kernel.accessAllowed ? 'block' : 'none';\n",
              "\n",
              "      async function convertToInteractive(key) {\n",
              "        const element = document.querySelector('#df-250ae53d-1961-4b09-895a-560d4ab906f8');\n",
              "        const dataTable =\n",
              "          await google.colab.kernel.invokeFunction('convertToInteractive',\n",
              "                                                    [key], {});\n",
              "        if (!dataTable) return;\n",
              "\n",
              "        const docLinkHtml = 'Like what you see? Visit the ' +\n",
              "          '<a target=\"_blank\" href=https://colab.research.google.com/notebooks/data_table.ipynb>data table notebook</a>'\n",
              "          + ' to learn more about interactive tables.';\n",
              "        element.innerHTML = '';\n",
              "        dataTable['output_type'] = 'display_data';\n",
              "        await google.colab.output.renderOutput(dataTable, element);\n",
              "        const docLink = document.createElement('div');\n",
              "        docLink.innerHTML = docLinkHtml;\n",
              "        element.appendChild(docLink);\n",
              "      }\n",
              "    </script>\n",
              "  </div>\n",
              "\n",
              "\n",
              "<div id=\"df-82629211-b970-4273-b420-1e56693342a5\">\n",
              "  <button class=\"colab-df-quickchart\" onclick=\"quickchart('df-82629211-b970-4273-b420-1e56693342a5')\"\n",
              "            title=\"Suggest charts\"\n",
              "            style=\"display:none;\">\n",
              "\n",
              "<svg xmlns=\"http://www.w3.org/2000/svg\" height=\"24px\"viewBox=\"0 0 24 24\"\n",
              "     width=\"24px\">\n",
              "    <g>\n",
              "        <path d=\"M19 3H5c-1.1 0-2 .9-2 2v14c0 1.1.9 2 2 2h14c1.1 0 2-.9 2-2V5c0-1.1-.9-2-2-2zM9 17H7v-7h2v7zm4 0h-2V7h2v10zm4 0h-2v-4h2v4z\"/>\n",
              "    </g>\n",
              "</svg>\n",
              "  </button>\n",
              "\n",
              "<style>\n",
              "  .colab-df-quickchart {\n",
              "      --bg-color: #E8F0FE;\n",
              "      --fill-color: #1967D2;\n",
              "      --hover-bg-color: #E2EBFA;\n",
              "      --hover-fill-color: #174EA6;\n",
              "      --disabled-fill-color: #AAA;\n",
              "      --disabled-bg-color: #DDD;\n",
              "  }\n",
              "\n",
              "  [theme=dark] .colab-df-quickchart {\n",
              "      --bg-color: #3B4455;\n",
              "      --fill-color: #D2E3FC;\n",
              "      --hover-bg-color: #434B5C;\n",
              "      --hover-fill-color: #FFFFFF;\n",
              "      --disabled-bg-color: #3B4455;\n",
              "      --disabled-fill-color: #666;\n",
              "  }\n",
              "\n",
              "  .colab-df-quickchart {\n",
              "    background-color: var(--bg-color);\n",
              "    border: none;\n",
              "    border-radius: 50%;\n",
              "    cursor: pointer;\n",
              "    display: none;\n",
              "    fill: var(--fill-color);\n",
              "    height: 32px;\n",
              "    padding: 0;\n",
              "    width: 32px;\n",
              "  }\n",
              "\n",
              "  .colab-df-quickchart:hover {\n",
              "    background-color: var(--hover-bg-color);\n",
              "    box-shadow: 0 1px 2px rgba(60, 64, 67, 0.3), 0 1px 3px 1px rgba(60, 64, 67, 0.15);\n",
              "    fill: var(--button-hover-fill-color);\n",
              "  }\n",
              "\n",
              "  .colab-df-quickchart-complete:disabled,\n",
              "  .colab-df-quickchart-complete:disabled:hover {\n",
              "    background-color: var(--disabled-bg-color);\n",
              "    fill: var(--disabled-fill-color);\n",
              "    box-shadow: none;\n",
              "  }\n",
              "\n",
              "  .colab-df-spinner {\n",
              "    border: 2px solid var(--fill-color);\n",
              "    border-color: transparent;\n",
              "    border-bottom-color: var(--fill-color);\n",
              "    animation:\n",
              "      spin 1s steps(1) infinite;\n",
              "  }\n",
              "\n",
              "  @keyframes spin {\n",
              "    0% {\n",
              "      border-color: transparent;\n",
              "      border-bottom-color: var(--fill-color);\n",
              "      border-left-color: var(--fill-color);\n",
              "    }\n",
              "    20% {\n",
              "      border-color: transparent;\n",
              "      border-left-color: var(--fill-color);\n",
              "      border-top-color: var(--fill-color);\n",
              "    }\n",
              "    30% {\n",
              "      border-color: transparent;\n",
              "      border-left-color: var(--fill-color);\n",
              "      border-top-color: var(--fill-color);\n",
              "      border-right-color: var(--fill-color);\n",
              "    }\n",
              "    40% {\n",
              "      border-color: transparent;\n",
              "      border-right-color: var(--fill-color);\n",
              "      border-top-color: var(--fill-color);\n",
              "    }\n",
              "    60% {\n",
              "      border-color: transparent;\n",
              "      border-right-color: var(--fill-color);\n",
              "    }\n",
              "    80% {\n",
              "      border-color: transparent;\n",
              "      border-right-color: var(--fill-color);\n",
              "      border-bottom-color: var(--fill-color);\n",
              "    }\n",
              "    90% {\n",
              "      border-color: transparent;\n",
              "      border-bottom-color: var(--fill-color);\n",
              "    }\n",
              "  }\n",
              "</style>\n",
              "\n",
              "  <script>\n",
              "    async function quickchart(key) {\n",
              "      const quickchartButtonEl =\n",
              "        document.querySelector('#' + key + ' button');\n",
              "      quickchartButtonEl.disabled = true;  // To prevent multiple clicks.\n",
              "      quickchartButtonEl.classList.add('colab-df-spinner');\n",
              "      try {\n",
              "        const charts = await google.colab.kernel.invokeFunction(\n",
              "            'suggestCharts', [key], {});\n",
              "      } catch (error) {\n",
              "        console.error('Error during call to suggestCharts:', error);\n",
              "      }\n",
              "      quickchartButtonEl.classList.remove('colab-df-spinner');\n",
              "      quickchartButtonEl.classList.add('colab-df-quickchart-complete');\n",
              "    }\n",
              "    (() => {\n",
              "      let quickchartButtonEl =\n",
              "        document.querySelector('#df-82629211-b970-4273-b420-1e56693342a5 button');\n",
              "      quickchartButtonEl.style.display =\n",
              "        google.colab.kernel.accessAllowed ? 'block' : 'none';\n",
              "    })();\n",
              "  </script>\n",
              "</div>\n",
              "\n",
              "    </div>\n",
              "  </div>\n"
            ],
            "application/vnd.google.colaboratory.intrinsic+json": {
              "type": "dataframe",
              "summary": "{\n  \"name\": \"X_tst_forecast[['ds', 'yhat', 'yhat_lower', 'yhat_upper']]\",\n  \"rows\": 7,\n  \"fields\": [\n    {\n      \"column\": \"ds\",\n      \"properties\": {\n        \"dtype\": \"date\",\n        \"min\": \"2024-07-01 00:00:00\",\n        \"max\": \"2025-01-01 00:00:00\",\n        \"num_unique_values\": 7,\n        \"samples\": [\n          \"2024-07-01 00:00:00\",\n          \"2024-08-01 00:00:00\",\n          \"2024-12-01 00:00:00\"\n        ],\n        \"semantic_type\": \"\",\n        \"description\": \"\"\n      }\n    },\n    {\n      \"column\": \"yhat\",\n      \"properties\": {\n        \"dtype\": \"number\",\n        \"std\": 7.212585627653442,\n        \"min\": 116.0684380967915,\n        \"max\": 135.09051519578895,\n        \"num_unique_values\": 7,\n        \"samples\": [\n          135.09051519578895,\n          116.0684380967915,\n          124.22918958903595\n        ],\n        \"semantic_type\": \"\",\n        \"description\": \"\"\n      }\n    },\n    {\n      \"column\": \"yhat_lower\",\n      \"properties\": {\n        \"dtype\": \"number\",\n        \"std\": 6.827312631336932,\n        \"min\": 101.57130452135102,\n        \"max\": 119.73426025470762,\n        \"num_unique_values\": 7,\n        \"samples\": [\n          119.73426025470762,\n          101.57130452135102,\n          109.83487221287461\n        ],\n        \"semantic_type\": \"\",\n        \"description\": \"\"\n      }\n    },\n    {\n      \"column\": \"yhat_upper\",\n      \"properties\": {\n        \"dtype\": \"number\",\n        \"std\": 7.679617038076122,\n        \"min\": 132.2736989411817,\n        \"max\": 152.04972708921125,\n        \"num_unique_values\": 7,\n        \"samples\": [\n          152.04972708921125,\n          132.2736989411817,\n          140.3615474032033\n        ],\n        \"semantic_type\": \"\",\n        \"description\": \"\"\n      }\n    }\n  ]\n}"
            }
          },
          "metadata": {},
          "execution_count": 48
        }
      ]
    },
    {
      "cell_type": "markdown",
      "source": [
        "Hypertuning Inclusions\n",
        "1. Holidays\n",
        "2. Changepoints: (n_changepoints,changepoint_prior_scale)\n",
        "3. seasonality_mode\n",
        "4. holiday_prior_scale\n",
        "5. Seasonalities with fourier_order\n",
        "\n"
      ],
      "metadata": {
        "id": "kpYahLKhLnUS"
      }
    },
    {
      "cell_type": "code",
      "source": [
        "#HyperParameter tuning using Parameter Grid\n",
        "from sklearn.model_selection import ParameterGrid\n",
        "params_grid = {'seasonality_mode':('multiplicative','additive'),\n",
        "               'changepoint_prior_scale':[0.1,0.2,0.3,0.4,0.5],\n",
        "              'holidays_prior_scale':[0.1,0.2,0.3,0.4,0.5],\n",
        "              'n_changepoints' : [100,150,200]}\n",
        "grid = ParameterGrid(params_grid)\n",
        "cnt = 0\n",
        "for p in grid:\n",
        "    cnt = cnt+1\n",
        "\n",
        "print('Total Possible Models',cnt)"
      ],
      "metadata": {
        "colab": {
          "base_uri": "https://localhost:8080/"
        },
        "id": "hQQ3bXQ8MI0z",
        "outputId": "ba877cfd-9c42-47f0-bd84-68d645d189d3"
      },
      "execution_count": 49,
      "outputs": [
        {
          "output_type": "stream",
          "name": "stdout",
          "text": [
            "Total Possible Models 150\n"
          ]
        }
      ]
    },
    {
      "cell_type": "code",
      "source": [
        "# Prophet Model Tuning\n",
        "strt= start\n",
        "end= end\n",
        "model_parameters = pd.DataFrame(columns = ['mape','Parameters'])\n",
        "for p in grid:\n",
        "    test = pd.DataFrame()\n",
        "    print(p)\n",
        "    random.seed(0)\n",
        "    train_model =Prophet(changepoint_prior_scale = p['changepoint_prior_scale'],\n",
        "                         holidays_prior_scale = p['holidays_prior_scale'],\n",
        "                         n_changepoints = p['n_changepoints'],\n",
        "                         seasonality_mode = p['seasonality_mode'],\n",
        "                         weekly_seasonality=True,\n",
        "                         daily_seasonality = True,\n",
        "                         yearly_seasonality = True,\n",
        "                         holidays=holiday,\n",
        "                         interval_width=0.95)\n",
        "    train_model.add_country_holidays(country_name='US')\n",
        "    train_model.fit(X_tr)\n",
        "    train_forecast = train_model.make_future_dataframe(periods=53, freq='MS',include_history = False)\n",
        "    train_forecast = train_model.predict(train_forecast)\n",
        "    test=train_forecast[['ds','yhat']]\n",
        "    Actual = df[(df['ds']>strt) & (df['ds']<=end)]\n",
        "    MAPE = mape(Actual['y'],abs(test['yhat']))\n",
        "    print('Mean Absolute Percentage Error(mape)------------------------------------',mape)\n",
        "    model_parameters = pd.concat([model_parameters, pd.DataFrame([{'mape':MAPE,'Parameters':p}])],ignore_index=True)"
      ],
      "metadata": {
        "colab": {
          "base_uri": "https://localhost:8080/"
        },
        "id": "eR6qAJt_MQ-s",
        "outputId": "a6b3327b-4ef7-43ae-b243-90ccab73a683"
      },
      "execution_count": 56,
      "outputs": [
        {
          "output_type": "stream",
          "name": "stderr",
          "text": [
            "INFO:prophet:n_changepoints greater than number of observations. Using 23.\n",
            "DEBUG:cmdstanpy:input tempfile: /tmp/tmpstg6ceuj/fk_q5jh1.json\n",
            "DEBUG:cmdstanpy:input tempfile: /tmp/tmpstg6ceuj/s_j3iddd.json\n",
            "DEBUG:cmdstanpy:idx 0\n",
            "DEBUG:cmdstanpy:running CmdStan, num_threads: None\n",
            "DEBUG:cmdstanpy:CmdStan args: ['/usr/local/lib/python3.11/dist-packages/prophet/stan_model/prophet_model.bin', 'random', 'seed=59948', 'data', 'file=/tmp/tmpstg6ceuj/fk_q5jh1.json', 'init=/tmp/tmpstg6ceuj/s_j3iddd.json', 'output', 'file=/tmp/tmpstg6ceuj/prophet_model0khbdaem/prophet_model-20250228021028.csv', 'method=optimize', 'algorithm=newton', 'iter=10000']\n",
            "02:10:28 - cmdstanpy - INFO - Chain [1] start processing\n",
            "INFO:cmdstanpy:Chain [1] start processing\n"
          ]
        },
        {
          "output_type": "stream",
          "name": "stdout",
          "text": [
            "{'changepoint_prior_scale': 0.1, 'holidays_prior_scale': 0.1, 'n_changepoints': 100, 'seasonality_mode': 'multiplicative'}\n"
          ]
        },
        {
          "output_type": "stream",
          "name": "stderr",
          "text": [
            "02:10:31 - cmdstanpy - INFO - Chain [1] done processing\n",
            "INFO:cmdstanpy:Chain [1] done processing\n",
            "INFO:prophet:n_changepoints greater than number of observations. Using 23.\n",
            "DEBUG:cmdstanpy:input tempfile: /tmp/tmpstg6ceuj/jm6wk7_5.json\n",
            "DEBUG:cmdstanpy:input tempfile: /tmp/tmpstg6ceuj/821wsm5r.json\n",
            "DEBUG:cmdstanpy:idx 0\n",
            "DEBUG:cmdstanpy:running CmdStan, num_threads: None\n",
            "DEBUG:cmdstanpy:CmdStan args: ['/usr/local/lib/python3.11/dist-packages/prophet/stan_model/prophet_model.bin', 'random', 'seed=50717', 'data', 'file=/tmp/tmpstg6ceuj/jm6wk7_5.json', 'init=/tmp/tmpstg6ceuj/821wsm5r.json', 'output', 'file=/tmp/tmpstg6ceuj/prophet_modelurvskh64/prophet_model-20250228021031.csv', 'method=optimize', 'algorithm=newton', 'iter=10000']\n",
            "02:10:31 - cmdstanpy - INFO - Chain [1] start processing\n",
            "INFO:cmdstanpy:Chain [1] start processing\n"
          ]
        },
        {
          "output_type": "stream",
          "name": "stdout",
          "text": [
            "Mean Absolute Percentage Error(mape)------------------------------------ <function mape at 0x792b639d7880>\n",
            "{'changepoint_prior_scale': 0.1, 'holidays_prior_scale': 0.1, 'n_changepoints': 100, 'seasonality_mode': 'additive'}\n"
          ]
        },
        {
          "output_type": "stream",
          "name": "stderr",
          "text": [
            "02:10:33 - cmdstanpy - INFO - Chain [1] done processing\n",
            "INFO:cmdstanpy:Chain [1] done processing\n",
            "INFO:prophet:n_changepoints greater than number of observations. Using 23.\n",
            "DEBUG:cmdstanpy:input tempfile: /tmp/tmpstg6ceuj/6f4z5kyf.json\n",
            "DEBUG:cmdstanpy:input tempfile: /tmp/tmpstg6ceuj/ul6k43c2.json\n",
            "DEBUG:cmdstanpy:idx 0\n",
            "DEBUG:cmdstanpy:running CmdStan, num_threads: None\n",
            "DEBUG:cmdstanpy:CmdStan args: ['/usr/local/lib/python3.11/dist-packages/prophet/stan_model/prophet_model.bin', 'random', 'seed=79795', 'data', 'file=/tmp/tmpstg6ceuj/6f4z5kyf.json', 'init=/tmp/tmpstg6ceuj/ul6k43c2.json', 'output', 'file=/tmp/tmpstg6ceuj/prophet_modelvqcht077/prophet_model-20250228021034.csv', 'method=optimize', 'algorithm=newton', 'iter=10000']\n",
            "02:10:34 - cmdstanpy - INFO - Chain [1] start processing\n",
            "INFO:cmdstanpy:Chain [1] start processing\n"
          ]
        },
        {
          "output_type": "stream",
          "name": "stdout",
          "text": [
            "Mean Absolute Percentage Error(mape)------------------------------------ <function mape at 0x792b639d7880>\n",
            "{'changepoint_prior_scale': 0.1, 'holidays_prior_scale': 0.1, 'n_changepoints': 150, 'seasonality_mode': 'multiplicative'}\n"
          ]
        },
        {
          "output_type": "stream",
          "name": "stderr",
          "text": [
            "02:10:36 - cmdstanpy - INFO - Chain [1] done processing\n",
            "INFO:cmdstanpy:Chain [1] done processing\n",
            "INFO:prophet:n_changepoints greater than number of observations. Using 23.\n",
            "DEBUG:cmdstanpy:input tempfile: /tmp/tmpstg6ceuj/be4eujsq.json\n",
            "DEBUG:cmdstanpy:input tempfile: /tmp/tmpstg6ceuj/wtxctx9y.json\n",
            "DEBUG:cmdstanpy:idx 0\n",
            "DEBUG:cmdstanpy:running CmdStan, num_threads: None\n",
            "DEBUG:cmdstanpy:CmdStan args: ['/usr/local/lib/python3.11/dist-packages/prophet/stan_model/prophet_model.bin', 'random', 'seed=90569', 'data', 'file=/tmp/tmpstg6ceuj/be4eujsq.json', 'init=/tmp/tmpstg6ceuj/wtxctx9y.json', 'output', 'file=/tmp/tmpstg6ceuj/prophet_modelwkw6p6_3/prophet_model-20250228021037.csv', 'method=optimize', 'algorithm=newton', 'iter=10000']\n",
            "02:10:37 - cmdstanpy - INFO - Chain [1] start processing\n",
            "INFO:cmdstanpy:Chain [1] start processing\n"
          ]
        },
        {
          "output_type": "stream",
          "name": "stdout",
          "text": [
            "Mean Absolute Percentage Error(mape)------------------------------------ <function mape at 0x792b639d7880>\n",
            "{'changepoint_prior_scale': 0.1, 'holidays_prior_scale': 0.1, 'n_changepoints': 150, 'seasonality_mode': 'additive'}\n"
          ]
        },
        {
          "output_type": "stream",
          "name": "stderr",
          "text": [
            "02:10:39 - cmdstanpy - INFO - Chain [1] done processing\n",
            "INFO:cmdstanpy:Chain [1] done processing\n",
            "INFO:prophet:n_changepoints greater than number of observations. Using 23.\n",
            "DEBUG:cmdstanpy:input tempfile: /tmp/tmpstg6ceuj/pxc255tu.json\n",
            "DEBUG:cmdstanpy:input tempfile: /tmp/tmpstg6ceuj/rmg2dl8y.json\n",
            "DEBUG:cmdstanpy:idx 0\n",
            "DEBUG:cmdstanpy:running CmdStan, num_threads: None\n",
            "DEBUG:cmdstanpy:CmdStan args: ['/usr/local/lib/python3.11/dist-packages/prophet/stan_model/prophet_model.bin', 'random', 'seed=2771', 'data', 'file=/tmp/tmpstg6ceuj/pxc255tu.json', 'init=/tmp/tmpstg6ceuj/rmg2dl8y.json', 'output', 'file=/tmp/tmpstg6ceuj/prophet_modelx14x12nq/prophet_model-20250228021039.csv', 'method=optimize', 'algorithm=newton', 'iter=10000']\n",
            "02:10:39 - cmdstanpy - INFO - Chain [1] start processing\n",
            "INFO:cmdstanpy:Chain [1] start processing\n"
          ]
        },
        {
          "output_type": "stream",
          "name": "stdout",
          "text": [
            "Mean Absolute Percentage Error(mape)------------------------------------ <function mape at 0x792b639d7880>\n",
            "{'changepoint_prior_scale': 0.1, 'holidays_prior_scale': 0.1, 'n_changepoints': 200, 'seasonality_mode': 'multiplicative'}\n"
          ]
        },
        {
          "output_type": "stream",
          "name": "stderr",
          "text": [
            "02:10:43 - cmdstanpy - INFO - Chain [1] done processing\n",
            "INFO:cmdstanpy:Chain [1] done processing\n",
            "INFO:prophet:n_changepoints greater than number of observations. Using 23.\n",
            "DEBUG:cmdstanpy:input tempfile: /tmp/tmpstg6ceuj/kuqxc95u.json\n",
            "DEBUG:cmdstanpy:input tempfile: /tmp/tmpstg6ceuj/klr6wxjz.json\n",
            "DEBUG:cmdstanpy:idx 0\n",
            "DEBUG:cmdstanpy:running CmdStan, num_threads: None\n",
            "DEBUG:cmdstanpy:CmdStan args: ['/usr/local/lib/python3.11/dist-packages/prophet/stan_model/prophet_model.bin', 'random', 'seed=61090', 'data', 'file=/tmp/tmpstg6ceuj/kuqxc95u.json', 'init=/tmp/tmpstg6ceuj/klr6wxjz.json', 'output', 'file=/tmp/tmpstg6ceuj/prophet_modelung5rmq6/prophet_model-20250228021043.csv', 'method=optimize', 'algorithm=newton', 'iter=10000']\n",
            "02:10:43 - cmdstanpy - INFO - Chain [1] start processing\n",
            "INFO:cmdstanpy:Chain [1] start processing\n"
          ]
        },
        {
          "output_type": "stream",
          "name": "stdout",
          "text": [
            "Mean Absolute Percentage Error(mape)------------------------------------ <function mape at 0x792b639d7880>\n",
            "{'changepoint_prior_scale': 0.1, 'holidays_prior_scale': 0.1, 'n_changepoints': 200, 'seasonality_mode': 'additive'}\n"
          ]
        },
        {
          "output_type": "stream",
          "name": "stderr",
          "text": [
            "02:10:45 - cmdstanpy - INFO - Chain [1] done processing\n",
            "INFO:cmdstanpy:Chain [1] done processing\n",
            "INFO:prophet:n_changepoints greater than number of observations. Using 23.\n",
            "DEBUG:cmdstanpy:input tempfile: /tmp/tmpstg6ceuj/qquju47r.json\n",
            "DEBUG:cmdstanpy:input tempfile: /tmp/tmpstg6ceuj/j2xkws21.json\n",
            "DEBUG:cmdstanpy:idx 0\n",
            "DEBUG:cmdstanpy:running CmdStan, num_threads: None\n",
            "DEBUG:cmdstanpy:CmdStan args: ['/usr/local/lib/python3.11/dist-packages/prophet/stan_model/prophet_model.bin', 'random', 'seed=65790', 'data', 'file=/tmp/tmpstg6ceuj/qquju47r.json', 'init=/tmp/tmpstg6ceuj/j2xkws21.json', 'output', 'file=/tmp/tmpstg6ceuj/prophet_modelh__ysq7x/prophet_model-20250228021045.csv', 'method=optimize', 'algorithm=newton', 'iter=10000']\n",
            "02:10:45 - cmdstanpy - INFO - Chain [1] start processing\n",
            "INFO:cmdstanpy:Chain [1] start processing\n"
          ]
        },
        {
          "output_type": "stream",
          "name": "stdout",
          "text": [
            "Mean Absolute Percentage Error(mape)------------------------------------ <function mape at 0x792b639d7880>\n",
            "{'changepoint_prior_scale': 0.1, 'holidays_prior_scale': 0.2, 'n_changepoints': 100, 'seasonality_mode': 'multiplicative'}\n"
          ]
        },
        {
          "output_type": "stream",
          "name": "stderr",
          "text": [
            "02:10:48 - cmdstanpy - INFO - Chain [1] done processing\n",
            "INFO:cmdstanpy:Chain [1] done processing\n",
            "INFO:prophet:n_changepoints greater than number of observations. Using 23.\n",
            "DEBUG:cmdstanpy:input tempfile: /tmp/tmpstg6ceuj/fr6kkwat.json\n",
            "DEBUG:cmdstanpy:input tempfile: /tmp/tmpstg6ceuj/fz4yawtd.json\n",
            "DEBUG:cmdstanpy:idx 0\n",
            "DEBUG:cmdstanpy:running CmdStan, num_threads: None\n",
            "DEBUG:cmdstanpy:CmdStan args: ['/usr/local/lib/python3.11/dist-packages/prophet/stan_model/prophet_model.bin', 'random', 'seed=33893', 'data', 'file=/tmp/tmpstg6ceuj/fr6kkwat.json', 'init=/tmp/tmpstg6ceuj/fz4yawtd.json', 'output', 'file=/tmp/tmpstg6ceuj/prophet_modellufgio3v/prophet_model-20250228021048.csv', 'method=optimize', 'algorithm=newton', 'iter=10000']\n",
            "02:10:48 - cmdstanpy - INFO - Chain [1] start processing\n",
            "INFO:cmdstanpy:Chain [1] start processing\n"
          ]
        },
        {
          "output_type": "stream",
          "name": "stdout",
          "text": [
            "Mean Absolute Percentage Error(mape)------------------------------------ <function mape at 0x792b639d7880>\n",
            "{'changepoint_prior_scale': 0.1, 'holidays_prior_scale': 0.2, 'n_changepoints': 100, 'seasonality_mode': 'additive'}\n"
          ]
        },
        {
          "output_type": "stream",
          "name": "stderr",
          "text": [
            "02:10:50 - cmdstanpy - INFO - Chain [1] done processing\n",
            "INFO:cmdstanpy:Chain [1] done processing\n",
            "INFO:prophet:n_changepoints greater than number of observations. Using 23.\n",
            "DEBUG:cmdstanpy:input tempfile: /tmp/tmpstg6ceuj/gj3y308c.json\n",
            "DEBUG:cmdstanpy:input tempfile: /tmp/tmpstg6ceuj/axn1h2uh.json\n",
            "DEBUG:cmdstanpy:idx 0\n",
            "DEBUG:cmdstanpy:running CmdStan, num_threads: None\n",
            "DEBUG:cmdstanpy:CmdStan args: ['/usr/local/lib/python3.11/dist-packages/prophet/stan_model/prophet_model.bin', 'random', 'seed=34714', 'data', 'file=/tmp/tmpstg6ceuj/gj3y308c.json', 'init=/tmp/tmpstg6ceuj/axn1h2uh.json', 'output', 'file=/tmp/tmpstg6ceuj/prophet_modeljjusta0h/prophet_model-20250228021051.csv', 'method=optimize', 'algorithm=newton', 'iter=10000']\n",
            "02:10:51 - cmdstanpy - INFO - Chain [1] start processing\n",
            "INFO:cmdstanpy:Chain [1] start processing\n"
          ]
        },
        {
          "output_type": "stream",
          "name": "stdout",
          "text": [
            "Mean Absolute Percentage Error(mape)------------------------------------ <function mape at 0x792b639d7880>\n",
            "{'changepoint_prior_scale': 0.1, 'holidays_prior_scale': 0.2, 'n_changepoints': 150, 'seasonality_mode': 'multiplicative'}\n"
          ]
        },
        {
          "output_type": "stream",
          "name": "stderr",
          "text": [
            "02:10:55 - cmdstanpy - INFO - Chain [1] done processing\n",
            "INFO:cmdstanpy:Chain [1] done processing\n",
            "INFO:prophet:n_changepoints greater than number of observations. Using 23.\n",
            "DEBUG:cmdstanpy:input tempfile: /tmp/tmpstg6ceuj/tjmlf0u3.json\n",
            "DEBUG:cmdstanpy:input tempfile: /tmp/tmpstg6ceuj/998m8jz1.json\n",
            "DEBUG:cmdstanpy:idx 0\n",
            "DEBUG:cmdstanpy:running CmdStan, num_threads: None\n",
            "DEBUG:cmdstanpy:CmdStan args: ['/usr/local/lib/python3.11/dist-packages/prophet/stan_model/prophet_model.bin', 'random', 'seed=56651', 'data', 'file=/tmp/tmpstg6ceuj/tjmlf0u3.json', 'init=/tmp/tmpstg6ceuj/998m8jz1.json', 'output', 'file=/tmp/tmpstg6ceuj/prophet_modelr_ff87eg/prophet_model-20250228021055.csv', 'method=optimize', 'algorithm=newton', 'iter=10000']\n",
            "02:10:55 - cmdstanpy - INFO - Chain [1] start processing\n",
            "INFO:cmdstanpy:Chain [1] start processing\n"
          ]
        },
        {
          "output_type": "stream",
          "name": "stdout",
          "text": [
            "Mean Absolute Percentage Error(mape)------------------------------------ <function mape at 0x792b639d7880>\n",
            "{'changepoint_prior_scale': 0.1, 'holidays_prior_scale': 0.2, 'n_changepoints': 150, 'seasonality_mode': 'additive'}\n"
          ]
        },
        {
          "output_type": "stream",
          "name": "stderr",
          "text": [
            "02:10:57 - cmdstanpy - INFO - Chain [1] done processing\n",
            "INFO:cmdstanpy:Chain [1] done processing\n",
            "INFO:prophet:n_changepoints greater than number of observations. Using 23.\n",
            "DEBUG:cmdstanpy:input tempfile: /tmp/tmpstg6ceuj/c7rjyy2k.json\n",
            "DEBUG:cmdstanpy:input tempfile: /tmp/tmpstg6ceuj/t68nti4e.json\n",
            "DEBUG:cmdstanpy:idx 0\n",
            "DEBUG:cmdstanpy:running CmdStan, num_threads: None\n",
            "DEBUG:cmdstanpy:CmdStan args: ['/usr/local/lib/python3.11/dist-packages/prophet/stan_model/prophet_model.bin', 'random', 'seed=68507', 'data', 'file=/tmp/tmpstg6ceuj/c7rjyy2k.json', 'init=/tmp/tmpstg6ceuj/t68nti4e.json', 'output', 'file=/tmp/tmpstg6ceuj/prophet_modelef0s6vwi/prophet_model-20250228021057.csv', 'method=optimize', 'algorithm=newton', 'iter=10000']\n",
            "02:10:57 - cmdstanpy - INFO - Chain [1] start processing\n",
            "INFO:cmdstanpy:Chain [1] start processing\n"
          ]
        },
        {
          "output_type": "stream",
          "name": "stdout",
          "text": [
            "Mean Absolute Percentage Error(mape)------------------------------------ <function mape at 0x792b639d7880>\n",
            "{'changepoint_prior_scale': 0.1, 'holidays_prior_scale': 0.2, 'n_changepoints': 200, 'seasonality_mode': 'multiplicative'}\n"
          ]
        },
        {
          "output_type": "stream",
          "name": "stderr",
          "text": [
            "02:11:00 - cmdstanpy - INFO - Chain [1] done processing\n",
            "INFO:cmdstanpy:Chain [1] done processing\n",
            "INFO:prophet:n_changepoints greater than number of observations. Using 23.\n",
            "DEBUG:cmdstanpy:input tempfile: /tmp/tmpstg6ceuj/ilwab9gf.json\n",
            "DEBUG:cmdstanpy:input tempfile: /tmp/tmpstg6ceuj/7b9tgl0i.json\n",
            "DEBUG:cmdstanpy:idx 0\n",
            "DEBUG:cmdstanpy:running CmdStan, num_threads: None\n",
            "DEBUG:cmdstanpy:CmdStan args: ['/usr/local/lib/python3.11/dist-packages/prophet/stan_model/prophet_model.bin', 'random', 'seed=59297', 'data', 'file=/tmp/tmpstg6ceuj/ilwab9gf.json', 'init=/tmp/tmpstg6ceuj/7b9tgl0i.json', 'output', 'file=/tmp/tmpstg6ceuj/prophet_modellkwtwe3o/prophet_model-20250228021100.csv', 'method=optimize', 'algorithm=newton', 'iter=10000']\n",
            "02:11:00 - cmdstanpy - INFO - Chain [1] start processing\n",
            "INFO:cmdstanpy:Chain [1] start processing\n"
          ]
        },
        {
          "output_type": "stream",
          "name": "stdout",
          "text": [
            "Mean Absolute Percentage Error(mape)------------------------------------ <function mape at 0x792b639d7880>\n",
            "{'changepoint_prior_scale': 0.1, 'holidays_prior_scale': 0.2, 'n_changepoints': 200, 'seasonality_mode': 'additive'}\n"
          ]
        },
        {
          "output_type": "stream",
          "name": "stderr",
          "text": [
            "02:11:02 - cmdstanpy - INFO - Chain [1] done processing\n",
            "INFO:cmdstanpy:Chain [1] done processing\n",
            "INFO:prophet:n_changepoints greater than number of observations. Using 23.\n",
            "DEBUG:cmdstanpy:input tempfile: /tmp/tmpstg6ceuj/w5l89xlk.json\n",
            "DEBUG:cmdstanpy:input tempfile: /tmp/tmpstg6ceuj/qrikpnjx.json\n",
            "DEBUG:cmdstanpy:idx 0\n",
            "DEBUG:cmdstanpy:running CmdStan, num_threads: None\n",
            "DEBUG:cmdstanpy:CmdStan args: ['/usr/local/lib/python3.11/dist-packages/prophet/stan_model/prophet_model.bin', 'random', 'seed=18276', 'data', 'file=/tmp/tmpstg6ceuj/w5l89xlk.json', 'init=/tmp/tmpstg6ceuj/qrikpnjx.json', 'output', 'file=/tmp/tmpstg6ceuj/prophet_modelbu5127rn/prophet_model-20250228021103.csv', 'method=optimize', 'algorithm=newton', 'iter=10000']\n",
            "02:11:03 - cmdstanpy - INFO - Chain [1] start processing\n",
            "INFO:cmdstanpy:Chain [1] start processing\n"
          ]
        },
        {
          "output_type": "stream",
          "name": "stdout",
          "text": [
            "Mean Absolute Percentage Error(mape)------------------------------------ <function mape at 0x792b639d7880>\n",
            "{'changepoint_prior_scale': 0.1, 'holidays_prior_scale': 0.3, 'n_changepoints': 100, 'seasonality_mode': 'multiplicative'}\n"
          ]
        },
        {
          "output_type": "stream",
          "name": "stderr",
          "text": [
            "02:11:04 - cmdstanpy - INFO - Chain [1] done processing\n",
            "INFO:cmdstanpy:Chain [1] done processing\n",
            "INFO:prophet:n_changepoints greater than number of observations. Using 23.\n",
            "DEBUG:cmdstanpy:input tempfile: /tmp/tmpstg6ceuj/8u5ytuhs.json\n",
            "DEBUG:cmdstanpy:input tempfile: /tmp/tmpstg6ceuj/liujdp_p.json\n",
            "DEBUG:cmdstanpy:idx 0\n",
            "DEBUG:cmdstanpy:running CmdStan, num_threads: None\n",
            "DEBUG:cmdstanpy:CmdStan args: ['/usr/local/lib/python3.11/dist-packages/prophet/stan_model/prophet_model.bin', 'random', 'seed=63831', 'data', 'file=/tmp/tmpstg6ceuj/8u5ytuhs.json', 'init=/tmp/tmpstg6ceuj/liujdp_p.json', 'output', 'file=/tmp/tmpstg6ceuj/prophet_modelljeu17bk/prophet_model-20250228021105.csv', 'method=optimize', 'algorithm=newton', 'iter=10000']\n",
            "02:11:05 - cmdstanpy - INFO - Chain [1] start processing\n",
            "INFO:cmdstanpy:Chain [1] start processing\n"
          ]
        },
        {
          "output_type": "stream",
          "name": "stdout",
          "text": [
            "Mean Absolute Percentage Error(mape)------------------------------------ <function mape at 0x792b639d7880>\n",
            "{'changepoint_prior_scale': 0.1, 'holidays_prior_scale': 0.3, 'n_changepoints': 100, 'seasonality_mode': 'additive'}\n"
          ]
        },
        {
          "output_type": "stream",
          "name": "stderr",
          "text": [
            "02:11:08 - cmdstanpy - INFO - Chain [1] done processing\n",
            "INFO:cmdstanpy:Chain [1] done processing\n",
            "INFO:prophet:n_changepoints greater than number of observations. Using 23.\n",
            "DEBUG:cmdstanpy:input tempfile: /tmp/tmpstg6ceuj/9c1o5wyw.json\n",
            "DEBUG:cmdstanpy:input tempfile: /tmp/tmpstg6ceuj/vn91kswt.json\n",
            "DEBUG:cmdstanpy:idx 0\n",
            "DEBUG:cmdstanpy:running CmdStan, num_threads: None\n",
            "DEBUG:cmdstanpy:CmdStan args: ['/usr/local/lib/python3.11/dist-packages/prophet/stan_model/prophet_model.bin', 'random', 'seed=26176', 'data', 'file=/tmp/tmpstg6ceuj/9c1o5wyw.json', 'init=/tmp/tmpstg6ceuj/vn91kswt.json', 'output', 'file=/tmp/tmpstg6ceuj/prophet_model5yb_ghfl/prophet_model-20250228021108.csv', 'method=optimize', 'algorithm=newton', 'iter=10000']\n",
            "02:11:08 - cmdstanpy - INFO - Chain [1] start processing\n",
            "INFO:cmdstanpy:Chain [1] start processing\n"
          ]
        },
        {
          "output_type": "stream",
          "name": "stdout",
          "text": [
            "Mean Absolute Percentage Error(mape)------------------------------------ <function mape at 0x792b639d7880>\n",
            "{'changepoint_prior_scale': 0.1, 'holidays_prior_scale': 0.3, 'n_changepoints': 150, 'seasonality_mode': 'multiplicative'}\n"
          ]
        },
        {
          "output_type": "stream",
          "name": "stderr",
          "text": [
            "02:11:10 - cmdstanpy - INFO - Chain [1] done processing\n",
            "INFO:cmdstanpy:Chain [1] done processing\n",
            "INFO:prophet:n_changepoints greater than number of observations. Using 23.\n",
            "DEBUG:cmdstanpy:input tempfile: /tmp/tmpstg6ceuj/scbv9yzy.json\n",
            "DEBUG:cmdstanpy:input tempfile: /tmp/tmpstg6ceuj/whjdt1ru.json\n",
            "DEBUG:cmdstanpy:idx 0\n",
            "DEBUG:cmdstanpy:running CmdStan, num_threads: None\n",
            "DEBUG:cmdstanpy:CmdStan args: ['/usr/local/lib/python3.11/dist-packages/prophet/stan_model/prophet_model.bin', 'random', 'seed=16163', 'data', 'file=/tmp/tmpstg6ceuj/scbv9yzy.json', 'init=/tmp/tmpstg6ceuj/whjdt1ru.json', 'output', 'file=/tmp/tmpstg6ceuj/prophet_modelxlxlu1nl/prophet_model-20250228021110.csv', 'method=optimize', 'algorithm=newton', 'iter=10000']\n",
            "02:11:10 - cmdstanpy - INFO - Chain [1] start processing\n",
            "INFO:cmdstanpy:Chain [1] start processing\n"
          ]
        },
        {
          "output_type": "stream",
          "name": "stdout",
          "text": [
            "Mean Absolute Percentage Error(mape)------------------------------------ <function mape at 0x792b639d7880>\n",
            "{'changepoint_prior_scale': 0.1, 'holidays_prior_scale': 0.3, 'n_changepoints': 150, 'seasonality_mode': 'additive'}\n"
          ]
        },
        {
          "output_type": "stream",
          "name": "stderr",
          "text": [
            "02:11:12 - cmdstanpy - INFO - Chain [1] done processing\n",
            "INFO:cmdstanpy:Chain [1] done processing\n",
            "INFO:prophet:n_changepoints greater than number of observations. Using 23.\n",
            "DEBUG:cmdstanpy:input tempfile: /tmp/tmpstg6ceuj/vz_uu0uf.json\n",
            "DEBUG:cmdstanpy:input tempfile: /tmp/tmpstg6ceuj/b2defl0k.json\n",
            "DEBUG:cmdstanpy:idx 0\n",
            "DEBUG:cmdstanpy:running CmdStan, num_threads: None\n",
            "DEBUG:cmdstanpy:CmdStan args: ['/usr/local/lib/python3.11/dist-packages/prophet/stan_model/prophet_model.bin', 'random', 'seed=11900', 'data', 'file=/tmp/tmpstg6ceuj/vz_uu0uf.json', 'init=/tmp/tmpstg6ceuj/b2defl0k.json', 'output', 'file=/tmp/tmpstg6ceuj/prophet_modelie_6rz85/prophet_model-20250228021113.csv', 'method=optimize', 'algorithm=newton', 'iter=10000']\n",
            "02:11:13 - cmdstanpy - INFO - Chain [1] start processing\n",
            "INFO:cmdstanpy:Chain [1] start processing\n"
          ]
        },
        {
          "output_type": "stream",
          "name": "stdout",
          "text": [
            "Mean Absolute Percentage Error(mape)------------------------------------ <function mape at 0x792b639d7880>\n",
            "{'changepoint_prior_scale': 0.1, 'holidays_prior_scale': 0.3, 'n_changepoints': 200, 'seasonality_mode': 'multiplicative'}\n"
          ]
        },
        {
          "output_type": "stream",
          "name": "stderr",
          "text": [
            "02:11:14 - cmdstanpy - INFO - Chain [1] done processing\n",
            "INFO:cmdstanpy:Chain [1] done processing\n",
            "INFO:prophet:n_changepoints greater than number of observations. Using 23.\n",
            "DEBUG:cmdstanpy:input tempfile: /tmp/tmpstg6ceuj/r7aemebw.json\n",
            "DEBUG:cmdstanpy:input tempfile: /tmp/tmpstg6ceuj/v8p3hmvz.json\n",
            "DEBUG:cmdstanpy:idx 0\n",
            "DEBUG:cmdstanpy:running CmdStan, num_threads: None\n",
            "DEBUG:cmdstanpy:CmdStan args: ['/usr/local/lib/python3.11/dist-packages/prophet/stan_model/prophet_model.bin', 'random', 'seed=53242', 'data', 'file=/tmp/tmpstg6ceuj/r7aemebw.json', 'init=/tmp/tmpstg6ceuj/v8p3hmvz.json', 'output', 'file=/tmp/tmpstg6ceuj/prophet_modeldqa6o51_/prophet_model-20250228021114.csv', 'method=optimize', 'algorithm=newton', 'iter=10000']\n",
            "02:11:14 - cmdstanpy - INFO - Chain [1] start processing\n",
            "INFO:cmdstanpy:Chain [1] start processing\n"
          ]
        },
        {
          "output_type": "stream",
          "name": "stdout",
          "text": [
            "Mean Absolute Percentage Error(mape)------------------------------------ <function mape at 0x792b639d7880>\n",
            "{'changepoint_prior_scale': 0.1, 'holidays_prior_scale': 0.3, 'n_changepoints': 200, 'seasonality_mode': 'additive'}\n"
          ]
        },
        {
          "output_type": "stream",
          "name": "stderr",
          "text": [
            "02:11:17 - cmdstanpy - INFO - Chain [1] done processing\n",
            "INFO:cmdstanpy:Chain [1] done processing\n",
            "INFO:prophet:n_changepoints greater than number of observations. Using 23.\n",
            "DEBUG:cmdstanpy:input tempfile: /tmp/tmpstg6ceuj/snj02dqy.json\n",
            "DEBUG:cmdstanpy:input tempfile: /tmp/tmpstg6ceuj/o9p5jo_5.json\n",
            "DEBUG:cmdstanpy:idx 0\n",
            "DEBUG:cmdstanpy:running CmdStan, num_threads: None\n",
            "DEBUG:cmdstanpy:CmdStan args: ['/usr/local/lib/python3.11/dist-packages/prophet/stan_model/prophet_model.bin', 'random', 'seed=81377', 'data', 'file=/tmp/tmpstg6ceuj/snj02dqy.json', 'init=/tmp/tmpstg6ceuj/o9p5jo_5.json', 'output', 'file=/tmp/tmpstg6ceuj/prophet_modela9iupcq3/prophet_model-20250228021117.csv', 'method=optimize', 'algorithm=newton', 'iter=10000']\n",
            "02:11:17 - cmdstanpy - INFO - Chain [1] start processing\n",
            "INFO:cmdstanpy:Chain [1] start processing\n"
          ]
        },
        {
          "output_type": "stream",
          "name": "stdout",
          "text": [
            "Mean Absolute Percentage Error(mape)------------------------------------ <function mape at 0x792b639d7880>\n",
            "{'changepoint_prior_scale': 0.1, 'holidays_prior_scale': 0.4, 'n_changepoints': 100, 'seasonality_mode': 'multiplicative'}\n"
          ]
        },
        {
          "output_type": "stream",
          "name": "stderr",
          "text": [
            "02:11:21 - cmdstanpy - INFO - Chain [1] done processing\n",
            "INFO:cmdstanpy:Chain [1] done processing\n",
            "INFO:prophet:n_changepoints greater than number of observations. Using 23.\n",
            "DEBUG:cmdstanpy:input tempfile: /tmp/tmpstg6ceuj/3o3jka0z.json\n",
            "DEBUG:cmdstanpy:input tempfile: /tmp/tmpstg6ceuj/zh2pwzwz.json\n",
            "DEBUG:cmdstanpy:idx 0\n",
            "DEBUG:cmdstanpy:running CmdStan, num_threads: None\n",
            "DEBUG:cmdstanpy:CmdStan args: ['/usr/local/lib/python3.11/dist-packages/prophet/stan_model/prophet_model.bin', 'random', 'seed=1424', 'data', 'file=/tmp/tmpstg6ceuj/3o3jka0z.json', 'init=/tmp/tmpstg6ceuj/zh2pwzwz.json', 'output', 'file=/tmp/tmpstg6ceuj/prophet_model6l1ce9lp/prophet_model-20250228021121.csv', 'method=optimize', 'algorithm=newton', 'iter=10000']\n",
            "02:11:21 - cmdstanpy - INFO - Chain [1] start processing\n",
            "INFO:cmdstanpy:Chain [1] start processing\n"
          ]
        },
        {
          "output_type": "stream",
          "name": "stdout",
          "text": [
            "Mean Absolute Percentage Error(mape)------------------------------------ <function mape at 0x792b639d7880>\n",
            "{'changepoint_prior_scale': 0.1, 'holidays_prior_scale': 0.4, 'n_changepoints': 100, 'seasonality_mode': 'additive'}\n"
          ]
        },
        {
          "output_type": "stream",
          "name": "stderr",
          "text": [
            "02:11:23 - cmdstanpy - INFO - Chain [1] done processing\n",
            "INFO:cmdstanpy:Chain [1] done processing\n",
            "INFO:prophet:n_changepoints greater than number of observations. Using 23.\n",
            "DEBUG:cmdstanpy:input tempfile: /tmp/tmpstg6ceuj/x68_q0vz.json\n",
            "DEBUG:cmdstanpy:input tempfile: /tmp/tmpstg6ceuj/20i7g49x.json\n",
            "DEBUG:cmdstanpy:idx 0\n",
            "DEBUG:cmdstanpy:running CmdStan, num_threads: None\n",
            "DEBUG:cmdstanpy:CmdStan args: ['/usr/local/lib/python3.11/dist-packages/prophet/stan_model/prophet_model.bin', 'random', 'seed=16023', 'data', 'file=/tmp/tmpstg6ceuj/x68_q0vz.json', 'init=/tmp/tmpstg6ceuj/20i7g49x.json', 'output', 'file=/tmp/tmpstg6ceuj/prophet_modelf515c97o/prophet_model-20250228021123.csv', 'method=optimize', 'algorithm=newton', 'iter=10000']\n",
            "02:11:23 - cmdstanpy - INFO - Chain [1] start processing\n",
            "INFO:cmdstanpy:Chain [1] start processing\n"
          ]
        },
        {
          "output_type": "stream",
          "name": "stdout",
          "text": [
            "Mean Absolute Percentage Error(mape)------------------------------------ <function mape at 0x792b639d7880>\n",
            "{'changepoint_prior_scale': 0.1, 'holidays_prior_scale': 0.4, 'n_changepoints': 150, 'seasonality_mode': 'multiplicative'}\n"
          ]
        },
        {
          "output_type": "stream",
          "name": "stderr",
          "text": [
            "02:11:26 - cmdstanpy - INFO - Chain [1] done processing\n",
            "INFO:cmdstanpy:Chain [1] done processing\n",
            "INFO:prophet:n_changepoints greater than number of observations. Using 23.\n",
            "DEBUG:cmdstanpy:input tempfile: /tmp/tmpstg6ceuj/nu0clann.json\n",
            "DEBUG:cmdstanpy:input tempfile: /tmp/tmpstg6ceuj/0j7gb_0i.json\n",
            "DEBUG:cmdstanpy:idx 0\n",
            "DEBUG:cmdstanpy:running CmdStan, num_threads: None\n",
            "DEBUG:cmdstanpy:CmdStan args: ['/usr/local/lib/python3.11/dist-packages/prophet/stan_model/prophet_model.bin', 'random', 'seed=75372', 'data', 'file=/tmp/tmpstg6ceuj/nu0clann.json', 'init=/tmp/tmpstg6ceuj/0j7gb_0i.json', 'output', 'file=/tmp/tmpstg6ceuj/prophet_modelloupgm2g/prophet_model-20250228021126.csv', 'method=optimize', 'algorithm=newton', 'iter=10000']\n",
            "02:11:26 - cmdstanpy - INFO - Chain [1] start processing\n",
            "INFO:cmdstanpy:Chain [1] start processing\n"
          ]
        },
        {
          "output_type": "stream",
          "name": "stdout",
          "text": [
            "Mean Absolute Percentage Error(mape)------------------------------------ <function mape at 0x792b639d7880>\n",
            "{'changepoint_prior_scale': 0.1, 'holidays_prior_scale': 0.4, 'n_changepoints': 150, 'seasonality_mode': 'additive'}\n"
          ]
        },
        {
          "output_type": "stream",
          "name": "stderr",
          "text": [
            "02:11:28 - cmdstanpy - INFO - Chain [1] done processing\n",
            "INFO:cmdstanpy:Chain [1] done processing\n",
            "INFO:prophet:n_changepoints greater than number of observations. Using 23.\n",
            "DEBUG:cmdstanpy:input tempfile: /tmp/tmpstg6ceuj/w9a1bjyw.json\n",
            "DEBUG:cmdstanpy:input tempfile: /tmp/tmpstg6ceuj/h5jvu4lj.json\n",
            "DEBUG:cmdstanpy:idx 0\n",
            "DEBUG:cmdstanpy:running CmdStan, num_threads: None\n",
            "DEBUG:cmdstanpy:CmdStan args: ['/usr/local/lib/python3.11/dist-packages/prophet/stan_model/prophet_model.bin', 'random', 'seed=11133', 'data', 'file=/tmp/tmpstg6ceuj/w9a1bjyw.json', 'init=/tmp/tmpstg6ceuj/h5jvu4lj.json', 'output', 'file=/tmp/tmpstg6ceuj/prophet_model9mreln9m/prophet_model-20250228021128.csv', 'method=optimize', 'algorithm=newton', 'iter=10000']\n",
            "02:11:28 - cmdstanpy - INFO - Chain [1] start processing\n",
            "INFO:cmdstanpy:Chain [1] start processing\n"
          ]
        },
        {
          "output_type": "stream",
          "name": "stdout",
          "text": [
            "Mean Absolute Percentage Error(mape)------------------------------------ <function mape at 0x792b639d7880>\n",
            "{'changepoint_prior_scale': 0.1, 'holidays_prior_scale': 0.4, 'n_changepoints': 200, 'seasonality_mode': 'multiplicative'}\n"
          ]
        },
        {
          "output_type": "stream",
          "name": "stderr",
          "text": [
            "02:11:31 - cmdstanpy - INFO - Chain [1] done processing\n",
            "INFO:cmdstanpy:Chain [1] done processing\n",
            "INFO:prophet:n_changepoints greater than number of observations. Using 23.\n",
            "DEBUG:cmdstanpy:input tempfile: /tmp/tmpstg6ceuj/i6bwh9fo.json\n",
            "DEBUG:cmdstanpy:input tempfile: /tmp/tmpstg6ceuj/zfr3jgxw.json\n",
            "DEBUG:cmdstanpy:idx 0\n",
            "DEBUG:cmdstanpy:running CmdStan, num_threads: None\n",
            "DEBUG:cmdstanpy:CmdStan args: ['/usr/local/lib/python3.11/dist-packages/prophet/stan_model/prophet_model.bin', 'random', 'seed=96', 'data', 'file=/tmp/tmpstg6ceuj/i6bwh9fo.json', 'init=/tmp/tmpstg6ceuj/zfr3jgxw.json', 'output', 'file=/tmp/tmpstg6ceuj/prophet_modelhwt6hgiy/prophet_model-20250228021132.csv', 'method=optimize', 'algorithm=newton', 'iter=10000']\n",
            "02:11:32 - cmdstanpy - INFO - Chain [1] start processing\n",
            "INFO:cmdstanpy:Chain [1] start processing\n"
          ]
        },
        {
          "output_type": "stream",
          "name": "stdout",
          "text": [
            "Mean Absolute Percentage Error(mape)------------------------------------ <function mape at 0x792b639d7880>\n",
            "{'changepoint_prior_scale': 0.1, 'holidays_prior_scale': 0.4, 'n_changepoints': 200, 'seasonality_mode': 'additive'}\n"
          ]
        },
        {
          "output_type": "stream",
          "name": "stderr",
          "text": [
            "02:11:34 - cmdstanpy - INFO - Chain [1] done processing\n",
            "INFO:cmdstanpy:Chain [1] done processing\n",
            "INFO:prophet:n_changepoints greater than number of observations. Using 23.\n",
            "DEBUG:cmdstanpy:input tempfile: /tmp/tmpstg6ceuj/ixb29bl5.json\n",
            "DEBUG:cmdstanpy:input tempfile: /tmp/tmpstg6ceuj/xydy7zxu.json\n",
            "DEBUG:cmdstanpy:idx 0\n",
            "DEBUG:cmdstanpy:running CmdStan, num_threads: None\n",
            "DEBUG:cmdstanpy:CmdStan args: ['/usr/local/lib/python3.11/dist-packages/prophet/stan_model/prophet_model.bin', 'random', 'seed=11774', 'data', 'file=/tmp/tmpstg6ceuj/ixb29bl5.json', 'init=/tmp/tmpstg6ceuj/xydy7zxu.json', 'output', 'file=/tmp/tmpstg6ceuj/prophet_modell94ylmdt/prophet_model-20250228021134.csv', 'method=optimize', 'algorithm=newton', 'iter=10000']\n",
            "02:11:34 - cmdstanpy - INFO - Chain [1] start processing\n",
            "INFO:cmdstanpy:Chain [1] start processing\n"
          ]
        },
        {
          "output_type": "stream",
          "name": "stdout",
          "text": [
            "Mean Absolute Percentage Error(mape)------------------------------------ <function mape at 0x792b639d7880>\n",
            "{'changepoint_prior_scale': 0.1, 'holidays_prior_scale': 0.5, 'n_changepoints': 100, 'seasonality_mode': 'multiplicative'}\n"
          ]
        },
        {
          "output_type": "stream",
          "name": "stderr",
          "text": [
            "02:11:36 - cmdstanpy - INFO - Chain [1] done processing\n",
            "INFO:cmdstanpy:Chain [1] done processing\n",
            "INFO:prophet:n_changepoints greater than number of observations. Using 23.\n",
            "DEBUG:cmdstanpy:input tempfile: /tmp/tmpstg6ceuj/c1nl3s24.json\n",
            "DEBUG:cmdstanpy:input tempfile: /tmp/tmpstg6ceuj/j908ah7o.json\n",
            "DEBUG:cmdstanpy:idx 0\n",
            "DEBUG:cmdstanpy:running CmdStan, num_threads: None\n",
            "DEBUG:cmdstanpy:CmdStan args: ['/usr/local/lib/python3.11/dist-packages/prophet/stan_model/prophet_model.bin', 'random', 'seed=39007', 'data', 'file=/tmp/tmpstg6ceuj/c1nl3s24.json', 'init=/tmp/tmpstg6ceuj/j908ah7o.json', 'output', 'file=/tmp/tmpstg6ceuj/prophet_modelv0fyd80p/prophet_model-20250228021136.csv', 'method=optimize', 'algorithm=newton', 'iter=10000']\n",
            "02:11:36 - cmdstanpy - INFO - Chain [1] start processing\n",
            "INFO:cmdstanpy:Chain [1] start processing\n"
          ]
        },
        {
          "output_type": "stream",
          "name": "stdout",
          "text": [
            "Mean Absolute Percentage Error(mape)------------------------------------ <function mape at 0x792b639d7880>\n",
            "{'changepoint_prior_scale': 0.1, 'holidays_prior_scale': 0.5, 'n_changepoints': 100, 'seasonality_mode': 'additive'}\n"
          ]
        },
        {
          "output_type": "stream",
          "name": "stderr",
          "text": [
            "02:11:38 - cmdstanpy - INFO - Chain [1] done processing\n",
            "INFO:cmdstanpy:Chain [1] done processing\n",
            "INFO:prophet:n_changepoints greater than number of observations. Using 23.\n",
            "DEBUG:cmdstanpy:input tempfile: /tmp/tmpstg6ceuj/2b9a4k50.json\n",
            "DEBUG:cmdstanpy:input tempfile: /tmp/tmpstg6ceuj/p9a1lvk0.json\n",
            "DEBUG:cmdstanpy:idx 0\n",
            "DEBUG:cmdstanpy:running CmdStan, num_threads: None\n",
            "DEBUG:cmdstanpy:CmdStan args: ['/usr/local/lib/python3.11/dist-packages/prophet/stan_model/prophet_model.bin', 'random', 'seed=51068', 'data', 'file=/tmp/tmpstg6ceuj/2b9a4k50.json', 'init=/tmp/tmpstg6ceuj/p9a1lvk0.json', 'output', 'file=/tmp/tmpstg6ceuj/prophet_modelq1lt4cpo/prophet_model-20250228021138.csv', 'method=optimize', 'algorithm=newton', 'iter=10000']\n",
            "02:11:38 - cmdstanpy - INFO - Chain [1] start processing\n",
            "INFO:cmdstanpy:Chain [1] start processing\n"
          ]
        },
        {
          "output_type": "stream",
          "name": "stdout",
          "text": [
            "Mean Absolute Percentage Error(mape)------------------------------------ <function mape at 0x792b639d7880>\n",
            "{'changepoint_prior_scale': 0.1, 'holidays_prior_scale': 0.5, 'n_changepoints': 150, 'seasonality_mode': 'multiplicative'}\n"
          ]
        },
        {
          "output_type": "stream",
          "name": "stderr",
          "text": [
            "02:11:40 - cmdstanpy - INFO - Chain [1] done processing\n",
            "INFO:cmdstanpy:Chain [1] done processing\n",
            "INFO:prophet:n_changepoints greater than number of observations. Using 23.\n",
            "DEBUG:cmdstanpy:input tempfile: /tmp/tmpstg6ceuj/w6c425m2.json\n",
            "DEBUG:cmdstanpy:input tempfile: /tmp/tmpstg6ceuj/076t2xlt.json\n",
            "DEBUG:cmdstanpy:idx 0\n",
            "DEBUG:cmdstanpy:running CmdStan, num_threads: None\n",
            "DEBUG:cmdstanpy:CmdStan args: ['/usr/local/lib/python3.11/dist-packages/prophet/stan_model/prophet_model.bin', 'random', 'seed=34320', 'data', 'file=/tmp/tmpstg6ceuj/w6c425m2.json', 'init=/tmp/tmpstg6ceuj/076t2xlt.json', 'output', 'file=/tmp/tmpstg6ceuj/prophet_modeliilzblk5/prophet_model-20250228021140.csv', 'method=optimize', 'algorithm=newton', 'iter=10000']\n",
            "02:11:40 - cmdstanpy - INFO - Chain [1] start processing\n",
            "INFO:cmdstanpy:Chain [1] start processing\n"
          ]
        },
        {
          "output_type": "stream",
          "name": "stdout",
          "text": [
            "Mean Absolute Percentage Error(mape)------------------------------------ <function mape at 0x792b639d7880>\n",
            "{'changepoint_prior_scale': 0.1, 'holidays_prior_scale': 0.5, 'n_changepoints': 150, 'seasonality_mode': 'additive'}\n"
          ]
        },
        {
          "output_type": "stream",
          "name": "stderr",
          "text": [
            "02:11:42 - cmdstanpy - INFO - Chain [1] done processing\n",
            "INFO:cmdstanpy:Chain [1] done processing\n",
            "INFO:prophet:n_changepoints greater than number of observations. Using 23.\n",
            "DEBUG:cmdstanpy:input tempfile: /tmp/tmpstg6ceuj/1quajhsi.json\n",
            "DEBUG:cmdstanpy:input tempfile: /tmp/tmpstg6ceuj/x5lac9s3.json\n",
            "DEBUG:cmdstanpy:idx 0\n",
            "DEBUG:cmdstanpy:running CmdStan, num_threads: None\n",
            "DEBUG:cmdstanpy:CmdStan args: ['/usr/local/lib/python3.11/dist-packages/prophet/stan_model/prophet_model.bin', 'random', 'seed=32143', 'data', 'file=/tmp/tmpstg6ceuj/1quajhsi.json', 'init=/tmp/tmpstg6ceuj/x5lac9s3.json', 'output', 'file=/tmp/tmpstg6ceuj/prophet_model4vuwusao/prophet_model-20250228021142.csv', 'method=optimize', 'algorithm=newton', 'iter=10000']\n",
            "02:11:42 - cmdstanpy - INFO - Chain [1] start processing\n",
            "INFO:cmdstanpy:Chain [1] start processing\n"
          ]
        },
        {
          "output_type": "stream",
          "name": "stdout",
          "text": [
            "Mean Absolute Percentage Error(mape)------------------------------------ <function mape at 0x792b639d7880>\n",
            "{'changepoint_prior_scale': 0.1, 'holidays_prior_scale': 0.5, 'n_changepoints': 200, 'seasonality_mode': 'multiplicative'}\n"
          ]
        },
        {
          "output_type": "stream",
          "name": "stderr",
          "text": [
            "02:11:44 - cmdstanpy - INFO - Chain [1] done processing\n",
            "INFO:cmdstanpy:Chain [1] done processing\n",
            "INFO:prophet:n_changepoints greater than number of observations. Using 23.\n",
            "DEBUG:cmdstanpy:input tempfile: /tmp/tmpstg6ceuj/djwws9sj.json\n",
            "DEBUG:cmdstanpy:input tempfile: /tmp/tmpstg6ceuj/f_4jx_ne.json\n",
            "DEBUG:cmdstanpy:idx 0\n",
            "DEBUG:cmdstanpy:running CmdStan, num_threads: None\n",
            "DEBUG:cmdstanpy:CmdStan args: ['/usr/local/lib/python3.11/dist-packages/prophet/stan_model/prophet_model.bin', 'random', 'seed=30951', 'data', 'file=/tmp/tmpstg6ceuj/djwws9sj.json', 'init=/tmp/tmpstg6ceuj/f_4jx_ne.json', 'output', 'file=/tmp/tmpstg6ceuj/prophet_model81r2wc74/prophet_model-20250228021145.csv', 'method=optimize', 'algorithm=newton', 'iter=10000']\n",
            "02:11:45 - cmdstanpy - INFO - Chain [1] start processing\n",
            "INFO:cmdstanpy:Chain [1] start processing\n"
          ]
        },
        {
          "output_type": "stream",
          "name": "stdout",
          "text": [
            "Mean Absolute Percentage Error(mape)------------------------------------ <function mape at 0x792b639d7880>\n",
            "{'changepoint_prior_scale': 0.1, 'holidays_prior_scale': 0.5, 'n_changepoints': 200, 'seasonality_mode': 'additive'}\n"
          ]
        },
        {
          "output_type": "stream",
          "name": "stderr",
          "text": [
            "02:11:47 - cmdstanpy - INFO - Chain [1] done processing\n",
            "INFO:cmdstanpy:Chain [1] done processing\n",
            "INFO:prophet:n_changepoints greater than number of observations. Using 23.\n",
            "DEBUG:cmdstanpy:input tempfile: /tmp/tmpstg6ceuj/p_bed7er.json\n",
            "DEBUG:cmdstanpy:input tempfile: /tmp/tmpstg6ceuj/y7xilx69.json\n",
            "DEBUG:cmdstanpy:idx 0\n",
            "DEBUG:cmdstanpy:running CmdStan, num_threads: None\n",
            "DEBUG:cmdstanpy:CmdStan args: ['/usr/local/lib/python3.11/dist-packages/prophet/stan_model/prophet_model.bin', 'random', 'seed=90969', 'data', 'file=/tmp/tmpstg6ceuj/p_bed7er.json', 'init=/tmp/tmpstg6ceuj/y7xilx69.json', 'output', 'file=/tmp/tmpstg6ceuj/prophet_modelgspf3t1q/prophet_model-20250228021147.csv', 'method=optimize', 'algorithm=newton', 'iter=10000']\n",
            "02:11:47 - cmdstanpy - INFO - Chain [1] start processing\n",
            "INFO:cmdstanpy:Chain [1] start processing\n"
          ]
        },
        {
          "output_type": "stream",
          "name": "stdout",
          "text": [
            "Mean Absolute Percentage Error(mape)------------------------------------ <function mape at 0x792b639d7880>\n",
            "{'changepoint_prior_scale': 0.2, 'holidays_prior_scale': 0.1, 'n_changepoints': 100, 'seasonality_mode': 'multiplicative'}\n"
          ]
        },
        {
          "output_type": "stream",
          "name": "stderr",
          "text": [
            "02:11:49 - cmdstanpy - INFO - Chain [1] done processing\n",
            "INFO:cmdstanpy:Chain [1] done processing\n",
            "INFO:prophet:n_changepoints greater than number of observations. Using 23.\n",
            "DEBUG:cmdstanpy:input tempfile: /tmp/tmpstg6ceuj/l4t6k5f3.json\n",
            "DEBUG:cmdstanpy:input tempfile: /tmp/tmpstg6ceuj/utao4cpp.json\n",
            "DEBUG:cmdstanpy:idx 0\n",
            "DEBUG:cmdstanpy:running CmdStan, num_threads: None\n",
            "DEBUG:cmdstanpy:CmdStan args: ['/usr/local/lib/python3.11/dist-packages/prophet/stan_model/prophet_model.bin', 'random', 'seed=86822', 'data', 'file=/tmp/tmpstg6ceuj/l4t6k5f3.json', 'init=/tmp/tmpstg6ceuj/utao4cpp.json', 'output', 'file=/tmp/tmpstg6ceuj/prophet_model1xkl9lc2/prophet_model-20250228021149.csv', 'method=optimize', 'algorithm=newton', 'iter=10000']\n",
            "02:11:49 - cmdstanpy - INFO - Chain [1] start processing\n",
            "INFO:cmdstanpy:Chain [1] start processing\n"
          ]
        },
        {
          "output_type": "stream",
          "name": "stdout",
          "text": [
            "Mean Absolute Percentage Error(mape)------------------------------------ <function mape at 0x792b639d7880>\n",
            "{'changepoint_prior_scale': 0.2, 'holidays_prior_scale': 0.1, 'n_changepoints': 100, 'seasonality_mode': 'additive'}\n"
          ]
        },
        {
          "output_type": "stream",
          "name": "stderr",
          "text": [
            "02:11:52 - cmdstanpy - INFO - Chain [1] done processing\n",
            "INFO:cmdstanpy:Chain [1] done processing\n",
            "INFO:prophet:n_changepoints greater than number of observations. Using 23.\n",
            "DEBUG:cmdstanpy:input tempfile: /tmp/tmpstg6ceuj/wd15xywp.json\n",
            "DEBUG:cmdstanpy:input tempfile: /tmp/tmpstg6ceuj/nrkaszfq.json\n",
            "DEBUG:cmdstanpy:idx 0\n",
            "DEBUG:cmdstanpy:running CmdStan, num_threads: None\n",
            "DEBUG:cmdstanpy:CmdStan args: ['/usr/local/lib/python3.11/dist-packages/prophet/stan_model/prophet_model.bin', 'random', 'seed=59509', 'data', 'file=/tmp/tmpstg6ceuj/wd15xywp.json', 'init=/tmp/tmpstg6ceuj/nrkaszfq.json', 'output', 'file=/tmp/tmpstg6ceuj/prophet_modelylvf4f7p/prophet_model-20250228021152.csv', 'method=optimize', 'algorithm=newton', 'iter=10000']\n",
            "02:11:52 - cmdstanpy - INFO - Chain [1] start processing\n",
            "INFO:cmdstanpy:Chain [1] start processing\n"
          ]
        },
        {
          "output_type": "stream",
          "name": "stdout",
          "text": [
            "Mean Absolute Percentage Error(mape)------------------------------------ <function mape at 0x792b639d7880>\n",
            "{'changepoint_prior_scale': 0.2, 'holidays_prior_scale': 0.1, 'n_changepoints': 150, 'seasonality_mode': 'multiplicative'}\n"
          ]
        },
        {
          "output_type": "stream",
          "name": "stderr",
          "text": [
            "02:11:54 - cmdstanpy - INFO - Chain [1] done processing\n",
            "INFO:cmdstanpy:Chain [1] done processing\n",
            "INFO:prophet:n_changepoints greater than number of observations. Using 23.\n",
            "DEBUG:cmdstanpy:input tempfile: /tmp/tmpstg6ceuj/9d2op8f3.json\n",
            "DEBUG:cmdstanpy:input tempfile: /tmp/tmpstg6ceuj/ig2isoru.json\n",
            "DEBUG:cmdstanpy:idx 0\n",
            "DEBUG:cmdstanpy:running CmdStan, num_threads: None\n",
            "DEBUG:cmdstanpy:CmdStan args: ['/usr/local/lib/python3.11/dist-packages/prophet/stan_model/prophet_model.bin', 'random', 'seed=46421', 'data', 'file=/tmp/tmpstg6ceuj/9d2op8f3.json', 'init=/tmp/tmpstg6ceuj/ig2isoru.json', 'output', 'file=/tmp/tmpstg6ceuj/prophet_modelsawbo226/prophet_model-20250228021154.csv', 'method=optimize', 'algorithm=newton', 'iter=10000']\n",
            "02:11:54 - cmdstanpy - INFO - Chain [1] start processing\n",
            "INFO:cmdstanpy:Chain [1] start processing\n"
          ]
        },
        {
          "output_type": "stream",
          "name": "stdout",
          "text": [
            "Mean Absolute Percentage Error(mape)------------------------------------ <function mape at 0x792b639d7880>\n",
            "{'changepoint_prior_scale': 0.2, 'holidays_prior_scale': 0.1, 'n_changepoints': 150, 'seasonality_mode': 'additive'}\n"
          ]
        },
        {
          "output_type": "stream",
          "name": "stderr",
          "text": [
            "02:11:58 - cmdstanpy - INFO - Chain [1] done processing\n",
            "INFO:cmdstanpy:Chain [1] done processing\n",
            "INFO:prophet:n_changepoints greater than number of observations. Using 23.\n",
            "DEBUG:cmdstanpy:input tempfile: /tmp/tmpstg6ceuj/5ps7f8qu.json\n",
            "DEBUG:cmdstanpy:input tempfile: /tmp/tmpstg6ceuj/bn7tbw1j.json\n",
            "DEBUG:cmdstanpy:idx 0\n",
            "DEBUG:cmdstanpy:running CmdStan, num_threads: None\n",
            "DEBUG:cmdstanpy:CmdStan args: ['/usr/local/lib/python3.11/dist-packages/prophet/stan_model/prophet_model.bin', 'random', 'seed=94704', 'data', 'file=/tmp/tmpstg6ceuj/5ps7f8qu.json', 'init=/tmp/tmpstg6ceuj/bn7tbw1j.json', 'output', 'file=/tmp/tmpstg6ceuj/prophet_model54dauw5o/prophet_model-20250228021158.csv', 'method=optimize', 'algorithm=newton', 'iter=10000']\n",
            "02:11:58 - cmdstanpy - INFO - Chain [1] start processing\n",
            "INFO:cmdstanpy:Chain [1] start processing\n"
          ]
        },
        {
          "output_type": "stream",
          "name": "stdout",
          "text": [
            "Mean Absolute Percentage Error(mape)------------------------------------ <function mape at 0x792b639d7880>\n",
            "{'changepoint_prior_scale': 0.2, 'holidays_prior_scale': 0.1, 'n_changepoints': 200, 'seasonality_mode': 'multiplicative'}\n"
          ]
        },
        {
          "output_type": "stream",
          "name": "stderr",
          "text": [
            "02:12:00 - cmdstanpy - INFO - Chain [1] done processing\n",
            "INFO:cmdstanpy:Chain [1] done processing\n",
            "INFO:prophet:n_changepoints greater than number of observations. Using 23.\n",
            "DEBUG:cmdstanpy:input tempfile: /tmp/tmpstg6ceuj/bl6x4km9.json\n",
            "DEBUG:cmdstanpy:input tempfile: /tmp/tmpstg6ceuj/7k7s1snq.json\n",
            "DEBUG:cmdstanpy:idx 0\n",
            "DEBUG:cmdstanpy:running CmdStan, num_threads: None\n",
            "DEBUG:cmdstanpy:CmdStan args: ['/usr/local/lib/python3.11/dist-packages/prophet/stan_model/prophet_model.bin', 'random', 'seed=54848', 'data', 'file=/tmp/tmpstg6ceuj/bl6x4km9.json', 'init=/tmp/tmpstg6ceuj/7k7s1snq.json', 'output', 'file=/tmp/tmpstg6ceuj/prophet_model7kx3j9co/prophet_model-20250228021200.csv', 'method=optimize', 'algorithm=newton', 'iter=10000']\n",
            "02:12:00 - cmdstanpy - INFO - Chain [1] start processing\n",
            "INFO:cmdstanpy:Chain [1] start processing\n"
          ]
        },
        {
          "output_type": "stream",
          "name": "stdout",
          "text": [
            "Mean Absolute Percentage Error(mape)------------------------------------ <function mape at 0x792b639d7880>\n",
            "{'changepoint_prior_scale': 0.2, 'holidays_prior_scale': 0.1, 'n_changepoints': 200, 'seasonality_mode': 'additive'}\n"
          ]
        },
        {
          "output_type": "stream",
          "name": "stderr",
          "text": [
            "02:12:03 - cmdstanpy - INFO - Chain [1] done processing\n",
            "INFO:cmdstanpy:Chain [1] done processing\n",
            "INFO:prophet:n_changepoints greater than number of observations. Using 23.\n",
            "DEBUG:cmdstanpy:input tempfile: /tmp/tmpstg6ceuj/g4up0pqk.json\n",
            "DEBUG:cmdstanpy:input tempfile: /tmp/tmpstg6ceuj/mkq0hbii.json\n",
            "DEBUG:cmdstanpy:idx 0\n",
            "DEBUG:cmdstanpy:running CmdStan, num_threads: None\n",
            "DEBUG:cmdstanpy:CmdStan args: ['/usr/local/lib/python3.11/dist-packages/prophet/stan_model/prophet_model.bin', 'random', 'seed=8355', 'data', 'file=/tmp/tmpstg6ceuj/g4up0pqk.json', 'init=/tmp/tmpstg6ceuj/mkq0hbii.json', 'output', 'file=/tmp/tmpstg6ceuj/prophet_modele53qzg56/prophet_model-20250228021203.csv', 'method=optimize', 'algorithm=newton', 'iter=10000']\n",
            "02:12:03 - cmdstanpy - INFO - Chain [1] start processing\n",
            "INFO:cmdstanpy:Chain [1] start processing\n"
          ]
        },
        {
          "output_type": "stream",
          "name": "stdout",
          "text": [
            "Mean Absolute Percentage Error(mape)------------------------------------ <function mape at 0x792b639d7880>\n",
            "{'changepoint_prior_scale': 0.2, 'holidays_prior_scale': 0.2, 'n_changepoints': 100, 'seasonality_mode': 'multiplicative'}\n"
          ]
        },
        {
          "output_type": "stream",
          "name": "stderr",
          "text": [
            "02:12:07 - cmdstanpy - INFO - Chain [1] done processing\n",
            "INFO:cmdstanpy:Chain [1] done processing\n",
            "INFO:prophet:n_changepoints greater than number of observations. Using 23.\n",
            "DEBUG:cmdstanpy:input tempfile: /tmp/tmpstg6ceuj/i3f61_yz.json\n",
            "DEBUG:cmdstanpy:input tempfile: /tmp/tmpstg6ceuj/76u1gyfs.json\n",
            "DEBUG:cmdstanpy:idx 0\n",
            "DEBUG:cmdstanpy:running CmdStan, num_threads: None\n",
            "DEBUG:cmdstanpy:CmdStan args: ['/usr/local/lib/python3.11/dist-packages/prophet/stan_model/prophet_model.bin', 'random', 'seed=38851', 'data', 'file=/tmp/tmpstg6ceuj/i3f61_yz.json', 'init=/tmp/tmpstg6ceuj/76u1gyfs.json', 'output', 'file=/tmp/tmpstg6ceuj/prophet_modeluoybdrnl/prophet_model-20250228021207.csv', 'method=optimize', 'algorithm=newton', 'iter=10000']\n",
            "02:12:07 - cmdstanpy - INFO - Chain [1] start processing\n",
            "INFO:cmdstanpy:Chain [1] start processing\n"
          ]
        },
        {
          "output_type": "stream",
          "name": "stdout",
          "text": [
            "Mean Absolute Percentage Error(mape)------------------------------------ <function mape at 0x792b639d7880>\n",
            "{'changepoint_prior_scale': 0.2, 'holidays_prior_scale': 0.2, 'n_changepoints': 100, 'seasonality_mode': 'additive'}\n"
          ]
        },
        {
          "output_type": "stream",
          "name": "stderr",
          "text": [
            "02:12:09 - cmdstanpy - INFO - Chain [1] done processing\n",
            "INFO:cmdstanpy:Chain [1] done processing\n",
            "INFO:prophet:n_changepoints greater than number of observations. Using 23.\n",
            "DEBUG:cmdstanpy:input tempfile: /tmp/tmpstg6ceuj/o8h3zsqq.json\n",
            "DEBUG:cmdstanpy:input tempfile: /tmp/tmpstg6ceuj/n3vchoe9.json\n",
            "DEBUG:cmdstanpy:idx 0\n",
            "DEBUG:cmdstanpy:running CmdStan, num_threads: None\n",
            "DEBUG:cmdstanpy:CmdStan args: ['/usr/local/lib/python3.11/dist-packages/prophet/stan_model/prophet_model.bin', 'random', 'seed=62659', 'data', 'file=/tmp/tmpstg6ceuj/o8h3zsqq.json', 'init=/tmp/tmpstg6ceuj/n3vchoe9.json', 'output', 'file=/tmp/tmpstg6ceuj/prophet_model__due20a/prophet_model-20250228021209.csv', 'method=optimize', 'algorithm=newton', 'iter=10000']\n",
            "02:12:09 - cmdstanpy - INFO - Chain [1] start processing\n",
            "INFO:cmdstanpy:Chain [1] start processing\n"
          ]
        },
        {
          "output_type": "stream",
          "name": "stdout",
          "text": [
            "Mean Absolute Percentage Error(mape)------------------------------------ <function mape at 0x792b639d7880>\n",
            "{'changepoint_prior_scale': 0.2, 'holidays_prior_scale': 0.2, 'n_changepoints': 150, 'seasonality_mode': 'multiplicative'}\n"
          ]
        },
        {
          "output_type": "stream",
          "name": "stderr",
          "text": [
            "02:12:14 - cmdstanpy - INFO - Chain [1] done processing\n",
            "INFO:cmdstanpy:Chain [1] done processing\n",
            "INFO:prophet:n_changepoints greater than number of observations. Using 23.\n",
            "DEBUG:cmdstanpy:input tempfile: /tmp/tmpstg6ceuj/l_o9lhlh.json\n",
            "DEBUG:cmdstanpy:input tempfile: /tmp/tmpstg6ceuj/rjfhmzex.json\n",
            "DEBUG:cmdstanpy:idx 0\n",
            "DEBUG:cmdstanpy:running CmdStan, num_threads: None\n",
            "DEBUG:cmdstanpy:CmdStan args: ['/usr/local/lib/python3.11/dist-packages/prophet/stan_model/prophet_model.bin', 'random', 'seed=95490', 'data', 'file=/tmp/tmpstg6ceuj/l_o9lhlh.json', 'init=/tmp/tmpstg6ceuj/rjfhmzex.json', 'output', 'file=/tmp/tmpstg6ceuj/prophet_model2uwc9joj/prophet_model-20250228021214.csv', 'method=optimize', 'algorithm=newton', 'iter=10000']\n",
            "02:12:14 - cmdstanpy - INFO - Chain [1] start processing\n",
            "INFO:cmdstanpy:Chain [1] start processing\n"
          ]
        },
        {
          "output_type": "stream",
          "name": "stdout",
          "text": [
            "Mean Absolute Percentage Error(mape)------------------------------------ <function mape at 0x792b639d7880>\n",
            "{'changepoint_prior_scale': 0.2, 'holidays_prior_scale': 0.2, 'n_changepoints': 150, 'seasonality_mode': 'additive'}\n"
          ]
        },
        {
          "output_type": "stream",
          "name": "stderr",
          "text": [
            "02:12:15 - cmdstanpy - INFO - Chain [1] done processing\n",
            "INFO:cmdstanpy:Chain [1] done processing\n",
            "INFO:prophet:n_changepoints greater than number of observations. Using 23.\n",
            "DEBUG:cmdstanpy:input tempfile: /tmp/tmpstg6ceuj/vjuqqg_0.json\n",
            "DEBUG:cmdstanpy:input tempfile: /tmp/tmpstg6ceuj/2irlcgeq.json\n",
            "DEBUG:cmdstanpy:idx 0\n",
            "DEBUG:cmdstanpy:running CmdStan, num_threads: None\n",
            "DEBUG:cmdstanpy:CmdStan args: ['/usr/local/lib/python3.11/dist-packages/prophet/stan_model/prophet_model.bin', 'random', 'seed=34478', 'data', 'file=/tmp/tmpstg6ceuj/vjuqqg_0.json', 'init=/tmp/tmpstg6ceuj/2irlcgeq.json', 'output', 'file=/tmp/tmpstg6ceuj/prophet_modelyawcwkpi/prophet_model-20250228021215.csv', 'method=optimize', 'algorithm=newton', 'iter=10000']\n",
            "02:12:15 - cmdstanpy - INFO - Chain [1] start processing\n",
            "INFO:cmdstanpy:Chain [1] start processing\n"
          ]
        },
        {
          "output_type": "stream",
          "name": "stdout",
          "text": [
            "Mean Absolute Percentage Error(mape)------------------------------------ <function mape at 0x792b639d7880>\n",
            "{'changepoint_prior_scale': 0.2, 'holidays_prior_scale': 0.2, 'n_changepoints': 200, 'seasonality_mode': 'multiplicative'}\n"
          ]
        },
        {
          "output_type": "stream",
          "name": "stderr",
          "text": [
            "02:12:19 - cmdstanpy - INFO - Chain [1] done processing\n",
            "INFO:cmdstanpy:Chain [1] done processing\n",
            "INFO:prophet:n_changepoints greater than number of observations. Using 23.\n",
            "DEBUG:cmdstanpy:input tempfile: /tmp/tmpstg6ceuj/wuilhjeg.json\n",
            "DEBUG:cmdstanpy:input tempfile: /tmp/tmpstg6ceuj/yr7rdckv.json\n",
            "DEBUG:cmdstanpy:idx 0\n",
            "DEBUG:cmdstanpy:running CmdStan, num_threads: None\n",
            "DEBUG:cmdstanpy:CmdStan args: ['/usr/local/lib/python3.11/dist-packages/prophet/stan_model/prophet_model.bin', 'random', 'seed=90', 'data', 'file=/tmp/tmpstg6ceuj/wuilhjeg.json', 'init=/tmp/tmpstg6ceuj/yr7rdckv.json', 'output', 'file=/tmp/tmpstg6ceuj/prophet_modelvv2eppgv/prophet_model-20250228021219.csv', 'method=optimize', 'algorithm=newton', 'iter=10000']\n",
            "02:12:19 - cmdstanpy - INFO - Chain [1] start processing\n",
            "INFO:cmdstanpy:Chain [1] start processing\n"
          ]
        },
        {
          "output_type": "stream",
          "name": "stdout",
          "text": [
            "Mean Absolute Percentage Error(mape)------------------------------------ <function mape at 0x792b639d7880>\n",
            "{'changepoint_prior_scale': 0.2, 'holidays_prior_scale': 0.2, 'n_changepoints': 200, 'seasonality_mode': 'additive'}\n"
          ]
        },
        {
          "output_type": "stream",
          "name": "stderr",
          "text": [
            "02:12:21 - cmdstanpy - INFO - Chain [1] done processing\n",
            "INFO:cmdstanpy:Chain [1] done processing\n",
            "INFO:prophet:n_changepoints greater than number of observations. Using 23.\n",
            "DEBUG:cmdstanpy:input tempfile: /tmp/tmpstg6ceuj/wccg0a30.json\n",
            "DEBUG:cmdstanpy:input tempfile: /tmp/tmpstg6ceuj/uq5mawja.json\n",
            "DEBUG:cmdstanpy:idx 0\n",
            "DEBUG:cmdstanpy:running CmdStan, num_threads: None\n",
            "DEBUG:cmdstanpy:CmdStan args: ['/usr/local/lib/python3.11/dist-packages/prophet/stan_model/prophet_model.bin', 'random', 'seed=31117', 'data', 'file=/tmp/tmpstg6ceuj/wccg0a30.json', 'init=/tmp/tmpstg6ceuj/uq5mawja.json', 'output', 'file=/tmp/tmpstg6ceuj/prophet_modelm3wn3h44/prophet_model-20250228021221.csv', 'method=optimize', 'algorithm=newton', 'iter=10000']\n",
            "02:12:21 - cmdstanpy - INFO - Chain [1] start processing\n",
            "INFO:cmdstanpy:Chain [1] start processing\n"
          ]
        },
        {
          "output_type": "stream",
          "name": "stdout",
          "text": [
            "Mean Absolute Percentage Error(mape)------------------------------------ <function mape at 0x792b639d7880>\n",
            "{'changepoint_prior_scale': 0.2, 'holidays_prior_scale': 0.3, 'n_changepoints': 100, 'seasonality_mode': 'multiplicative'}\n"
          ]
        },
        {
          "output_type": "stream",
          "name": "stderr",
          "text": [
            "02:12:25 - cmdstanpy - INFO - Chain [1] done processing\n",
            "INFO:cmdstanpy:Chain [1] done processing\n",
            "INFO:prophet:n_changepoints greater than number of observations. Using 23.\n",
            "DEBUG:cmdstanpy:input tempfile: /tmp/tmpstg6ceuj/__hp6_ld.json\n",
            "DEBUG:cmdstanpy:input tempfile: /tmp/tmpstg6ceuj/4_7mxmgj.json\n",
            "DEBUG:cmdstanpy:idx 0\n",
            "DEBUG:cmdstanpy:running CmdStan, num_threads: None\n",
            "DEBUG:cmdstanpy:CmdStan args: ['/usr/local/lib/python3.11/dist-packages/prophet/stan_model/prophet_model.bin', 'random', 'seed=74997', 'data', 'file=/tmp/tmpstg6ceuj/__hp6_ld.json', 'init=/tmp/tmpstg6ceuj/4_7mxmgj.json', 'output', 'file=/tmp/tmpstg6ceuj/prophet_modelx01dy_en/prophet_model-20250228021225.csv', 'method=optimize', 'algorithm=newton', 'iter=10000']\n",
            "02:12:25 - cmdstanpy - INFO - Chain [1] start processing\n",
            "INFO:cmdstanpy:Chain [1] start processing\n"
          ]
        },
        {
          "output_type": "stream",
          "name": "stdout",
          "text": [
            "Mean Absolute Percentage Error(mape)------------------------------------ <function mape at 0x792b639d7880>\n",
            "{'changepoint_prior_scale': 0.2, 'holidays_prior_scale': 0.3, 'n_changepoints': 100, 'seasonality_mode': 'additive'}\n"
          ]
        },
        {
          "output_type": "stream",
          "name": "stderr",
          "text": [
            "02:12:27 - cmdstanpy - INFO - Chain [1] done processing\n",
            "INFO:cmdstanpy:Chain [1] done processing\n",
            "INFO:prophet:n_changepoints greater than number of observations. Using 23.\n",
            "DEBUG:cmdstanpy:input tempfile: /tmp/tmpstg6ceuj/u3hmhqar.json\n",
            "DEBUG:cmdstanpy:input tempfile: /tmp/tmpstg6ceuj/s3lml97q.json\n",
            "DEBUG:cmdstanpy:idx 0\n",
            "DEBUG:cmdstanpy:running CmdStan, num_threads: None\n",
            "DEBUG:cmdstanpy:CmdStan args: ['/usr/local/lib/python3.11/dist-packages/prophet/stan_model/prophet_model.bin', 'random', 'seed=11291', 'data', 'file=/tmp/tmpstg6ceuj/u3hmhqar.json', 'init=/tmp/tmpstg6ceuj/s3lml97q.json', 'output', 'file=/tmp/tmpstg6ceuj/prophet_modelpii6vmwt/prophet_model-20250228021227.csv', 'method=optimize', 'algorithm=newton', 'iter=10000']\n",
            "02:12:27 - cmdstanpy - INFO - Chain [1] start processing\n",
            "INFO:cmdstanpy:Chain [1] start processing\n"
          ]
        },
        {
          "output_type": "stream",
          "name": "stdout",
          "text": [
            "Mean Absolute Percentage Error(mape)------------------------------------ <function mape at 0x792b639d7880>\n",
            "{'changepoint_prior_scale': 0.2, 'holidays_prior_scale': 0.3, 'n_changepoints': 150, 'seasonality_mode': 'multiplicative'}\n"
          ]
        },
        {
          "output_type": "stream",
          "name": "stderr",
          "text": [
            "02:12:30 - cmdstanpy - INFO - Chain [1] done processing\n",
            "INFO:cmdstanpy:Chain [1] done processing\n",
            "INFO:prophet:n_changepoints greater than number of observations. Using 23.\n",
            "DEBUG:cmdstanpy:input tempfile: /tmp/tmpstg6ceuj/2hvqtpq4.json\n",
            "DEBUG:cmdstanpy:input tempfile: /tmp/tmpstg6ceuj/rnl7ccq3.json\n",
            "DEBUG:cmdstanpy:idx 0\n",
            "DEBUG:cmdstanpy:running CmdStan, num_threads: None\n",
            "DEBUG:cmdstanpy:CmdStan args: ['/usr/local/lib/python3.11/dist-packages/prophet/stan_model/prophet_model.bin', 'random', 'seed=67572', 'data', 'file=/tmp/tmpstg6ceuj/2hvqtpq4.json', 'init=/tmp/tmpstg6ceuj/rnl7ccq3.json', 'output', 'file=/tmp/tmpstg6ceuj/prophet_modelnxzoccym/prophet_model-20250228021231.csv', 'method=optimize', 'algorithm=newton', 'iter=10000']\n",
            "02:12:31 - cmdstanpy - INFO - Chain [1] start processing\n",
            "INFO:cmdstanpy:Chain [1] start processing\n"
          ]
        },
        {
          "output_type": "stream",
          "name": "stdout",
          "text": [
            "Mean Absolute Percentage Error(mape)------------------------------------ <function mape at 0x792b639d7880>\n",
            "{'changepoint_prior_scale': 0.2, 'holidays_prior_scale': 0.3, 'n_changepoints': 150, 'seasonality_mode': 'additive'}\n"
          ]
        },
        {
          "output_type": "stream",
          "name": "stderr",
          "text": [
            "02:12:33 - cmdstanpy - INFO - Chain [1] done processing\n",
            "INFO:cmdstanpy:Chain [1] done processing\n",
            "INFO:prophet:n_changepoints greater than number of observations. Using 23.\n",
            "DEBUG:cmdstanpy:input tempfile: /tmp/tmpstg6ceuj/4icmy4lq.json\n",
            "DEBUG:cmdstanpy:input tempfile: /tmp/tmpstg6ceuj/cmuaimdw.json\n",
            "DEBUG:cmdstanpy:idx 0\n",
            "DEBUG:cmdstanpy:running CmdStan, num_threads: None\n",
            "DEBUG:cmdstanpy:CmdStan args: ['/usr/local/lib/python3.11/dist-packages/prophet/stan_model/prophet_model.bin', 'random', 'seed=15800', 'data', 'file=/tmp/tmpstg6ceuj/4icmy4lq.json', 'init=/tmp/tmpstg6ceuj/cmuaimdw.json', 'output', 'file=/tmp/tmpstg6ceuj/prophet_model0pmmeia8/prophet_model-20250228021233.csv', 'method=optimize', 'algorithm=newton', 'iter=10000']\n",
            "02:12:33 - cmdstanpy - INFO - Chain [1] start processing\n",
            "INFO:cmdstanpy:Chain [1] start processing\n"
          ]
        },
        {
          "output_type": "stream",
          "name": "stdout",
          "text": [
            "Mean Absolute Percentage Error(mape)------------------------------------ <function mape at 0x792b639d7880>\n",
            "{'changepoint_prior_scale': 0.2, 'holidays_prior_scale': 0.3, 'n_changepoints': 200, 'seasonality_mode': 'multiplicative'}\n"
          ]
        },
        {
          "output_type": "stream",
          "name": "stderr",
          "text": [
            "02:12:37 - cmdstanpy - INFO - Chain [1] done processing\n",
            "INFO:cmdstanpy:Chain [1] done processing\n",
            "INFO:prophet:n_changepoints greater than number of observations. Using 23.\n",
            "DEBUG:cmdstanpy:input tempfile: /tmp/tmpstg6ceuj/un8dszka.json\n",
            "DEBUG:cmdstanpy:input tempfile: /tmp/tmpstg6ceuj/7ox23okz.json\n",
            "DEBUG:cmdstanpy:idx 0\n",
            "DEBUG:cmdstanpy:running CmdStan, num_threads: None\n",
            "DEBUG:cmdstanpy:CmdStan args: ['/usr/local/lib/python3.11/dist-packages/prophet/stan_model/prophet_model.bin', 'random', 'seed=86014', 'data', 'file=/tmp/tmpstg6ceuj/un8dszka.json', 'init=/tmp/tmpstg6ceuj/7ox23okz.json', 'output', 'file=/tmp/tmpstg6ceuj/prophet_modelfngald3q/prophet_model-20250228021237.csv', 'method=optimize', 'algorithm=newton', 'iter=10000']\n",
            "02:12:37 - cmdstanpy - INFO - Chain [1] start processing\n",
            "INFO:cmdstanpy:Chain [1] start processing\n"
          ]
        },
        {
          "output_type": "stream",
          "name": "stdout",
          "text": [
            "Mean Absolute Percentage Error(mape)------------------------------------ <function mape at 0x792b639d7880>\n",
            "{'changepoint_prior_scale': 0.2, 'holidays_prior_scale': 0.3, 'n_changepoints': 200, 'seasonality_mode': 'additive'}\n"
          ]
        },
        {
          "output_type": "stream",
          "name": "stderr",
          "text": [
            "02:12:39 - cmdstanpy - INFO - Chain [1] done processing\n",
            "INFO:cmdstanpy:Chain [1] done processing\n",
            "INFO:prophet:n_changepoints greater than number of observations. Using 23.\n",
            "DEBUG:cmdstanpy:input tempfile: /tmp/tmpstg6ceuj/5kjjnal4.json\n",
            "DEBUG:cmdstanpy:input tempfile: /tmp/tmpstg6ceuj/ipxe3_k5.json\n",
            "DEBUG:cmdstanpy:idx 0\n",
            "DEBUG:cmdstanpy:running CmdStan, num_threads: None\n",
            "DEBUG:cmdstanpy:CmdStan args: ['/usr/local/lib/python3.11/dist-packages/prophet/stan_model/prophet_model.bin', 'random', 'seed=218', 'data', 'file=/tmp/tmpstg6ceuj/5kjjnal4.json', 'init=/tmp/tmpstg6ceuj/ipxe3_k5.json', 'output', 'file=/tmp/tmpstg6ceuj/prophet_modellqgv6elk/prophet_model-20250228021239.csv', 'method=optimize', 'algorithm=newton', 'iter=10000']\n",
            "02:12:39 - cmdstanpy - INFO - Chain [1] start processing\n",
            "INFO:cmdstanpy:Chain [1] start processing\n"
          ]
        },
        {
          "output_type": "stream",
          "name": "stdout",
          "text": [
            "Mean Absolute Percentage Error(mape)------------------------------------ <function mape at 0x792b639d7880>\n",
            "{'changepoint_prior_scale': 0.2, 'holidays_prior_scale': 0.4, 'n_changepoints': 100, 'seasonality_mode': 'multiplicative'}\n"
          ]
        },
        {
          "output_type": "stream",
          "name": "stderr",
          "text": [
            "02:12:41 - cmdstanpy - INFO - Chain [1] done processing\n",
            "INFO:cmdstanpy:Chain [1] done processing\n",
            "INFO:prophet:n_changepoints greater than number of observations. Using 23.\n",
            "DEBUG:cmdstanpy:input tempfile: /tmp/tmpstg6ceuj/eleqpvwz.json\n",
            "DEBUG:cmdstanpy:input tempfile: /tmp/tmpstg6ceuj/kr8di_sk.json\n",
            "DEBUG:cmdstanpy:idx 0\n",
            "DEBUG:cmdstanpy:running CmdStan, num_threads: None\n",
            "DEBUG:cmdstanpy:CmdStan args: ['/usr/local/lib/python3.11/dist-packages/prophet/stan_model/prophet_model.bin', 'random', 'seed=1977', 'data', 'file=/tmp/tmpstg6ceuj/eleqpvwz.json', 'init=/tmp/tmpstg6ceuj/kr8di_sk.json', 'output', 'file=/tmp/tmpstg6ceuj/prophet_model9w9zqzhy/prophet_model-20250228021241.csv', 'method=optimize', 'algorithm=newton', 'iter=10000']\n",
            "02:12:41 - cmdstanpy - INFO - Chain [1] start processing\n",
            "INFO:cmdstanpy:Chain [1] start processing\n"
          ]
        },
        {
          "output_type": "stream",
          "name": "stdout",
          "text": [
            "Mean Absolute Percentage Error(mape)------------------------------------ <function mape at 0x792b639d7880>\n",
            "{'changepoint_prior_scale': 0.2, 'holidays_prior_scale': 0.4, 'n_changepoints': 100, 'seasonality_mode': 'additive'}\n"
          ]
        },
        {
          "output_type": "stream",
          "name": "stderr",
          "text": [
            "02:12:43 - cmdstanpy - INFO - Chain [1] done processing\n",
            "INFO:cmdstanpy:Chain [1] done processing\n",
            "INFO:prophet:n_changepoints greater than number of observations. Using 23.\n",
            "DEBUG:cmdstanpy:input tempfile: /tmp/tmpstg6ceuj/7nedij6f.json\n",
            "DEBUG:cmdstanpy:input tempfile: /tmp/tmpstg6ceuj/2c0zpbk4.json\n",
            "DEBUG:cmdstanpy:idx 0\n",
            "DEBUG:cmdstanpy:running CmdStan, num_threads: None\n",
            "DEBUG:cmdstanpy:CmdStan args: ['/usr/local/lib/python3.11/dist-packages/prophet/stan_model/prophet_model.bin', 'random', 'seed=42094', 'data', 'file=/tmp/tmpstg6ceuj/7nedij6f.json', 'init=/tmp/tmpstg6ceuj/2c0zpbk4.json', 'output', 'file=/tmp/tmpstg6ceuj/prophet_modelfa0dfbsh/prophet_model-20250228021244.csv', 'method=optimize', 'algorithm=newton', 'iter=10000']\n",
            "02:12:44 - cmdstanpy - INFO - Chain [1] start processing\n",
            "INFO:cmdstanpy:Chain [1] start processing\n"
          ]
        },
        {
          "output_type": "stream",
          "name": "stdout",
          "text": [
            "Mean Absolute Percentage Error(mape)------------------------------------ <function mape at 0x792b639d7880>\n",
            "{'changepoint_prior_scale': 0.2, 'holidays_prior_scale': 0.4, 'n_changepoints': 150, 'seasonality_mode': 'multiplicative'}\n"
          ]
        },
        {
          "output_type": "stream",
          "name": "stderr",
          "text": [
            "02:12:45 - cmdstanpy - INFO - Chain [1] done processing\n",
            "INFO:cmdstanpy:Chain [1] done processing\n",
            "INFO:prophet:n_changepoints greater than number of observations. Using 23.\n",
            "DEBUG:cmdstanpy:input tempfile: /tmp/tmpstg6ceuj/p7873jdu.json\n",
            "DEBUG:cmdstanpy:input tempfile: /tmp/tmpstg6ceuj/n4xusewn.json\n",
            "DEBUG:cmdstanpy:idx 0\n",
            "DEBUG:cmdstanpy:running CmdStan, num_threads: None\n",
            "DEBUG:cmdstanpy:CmdStan args: ['/usr/local/lib/python3.11/dist-packages/prophet/stan_model/prophet_model.bin', 'random', 'seed=77093', 'data', 'file=/tmp/tmpstg6ceuj/p7873jdu.json', 'init=/tmp/tmpstg6ceuj/n4xusewn.json', 'output', 'file=/tmp/tmpstg6ceuj/prophet_model12uekqx3/prophet_model-20250228021245.csv', 'method=optimize', 'algorithm=newton', 'iter=10000']\n",
            "02:12:45 - cmdstanpy - INFO - Chain [1] start processing\n",
            "INFO:cmdstanpy:Chain [1] start processing\n"
          ]
        },
        {
          "output_type": "stream",
          "name": "stdout",
          "text": [
            "Mean Absolute Percentage Error(mape)------------------------------------ <function mape at 0x792b639d7880>\n",
            "{'changepoint_prior_scale': 0.2, 'holidays_prior_scale': 0.4, 'n_changepoints': 150, 'seasonality_mode': 'additive'}\n"
          ]
        },
        {
          "output_type": "stream",
          "name": "stderr",
          "text": [
            "02:12:49 - cmdstanpy - INFO - Chain [1] done processing\n",
            "INFO:cmdstanpy:Chain [1] done processing\n",
            "INFO:prophet:n_changepoints greater than number of observations. Using 23.\n",
            "DEBUG:cmdstanpy:input tempfile: /tmp/tmpstg6ceuj/thlc1ah1.json\n",
            "DEBUG:cmdstanpy:input tempfile: /tmp/tmpstg6ceuj/vhqikhig.json\n",
            "DEBUG:cmdstanpy:idx 0\n",
            "DEBUG:cmdstanpy:running CmdStan, num_threads: None\n",
            "DEBUG:cmdstanpy:CmdStan args: ['/usr/local/lib/python3.11/dist-packages/prophet/stan_model/prophet_model.bin', 'random', 'seed=45214', 'data', 'file=/tmp/tmpstg6ceuj/thlc1ah1.json', 'init=/tmp/tmpstg6ceuj/vhqikhig.json', 'output', 'file=/tmp/tmpstg6ceuj/prophet_modelottqi7gu/prophet_model-20250228021249.csv', 'method=optimize', 'algorithm=newton', 'iter=10000']\n",
            "02:12:49 - cmdstanpy - INFO - Chain [1] start processing\n",
            "INFO:cmdstanpy:Chain [1] start processing\n"
          ]
        },
        {
          "output_type": "stream",
          "name": "stdout",
          "text": [
            "Mean Absolute Percentage Error(mape)------------------------------------ <function mape at 0x792b639d7880>\n",
            "{'changepoint_prior_scale': 0.2, 'holidays_prior_scale': 0.4, 'n_changepoints': 200, 'seasonality_mode': 'multiplicative'}\n"
          ]
        },
        {
          "output_type": "stream",
          "name": "stderr",
          "text": [
            "02:12:51 - cmdstanpy - INFO - Chain [1] done processing\n",
            "INFO:cmdstanpy:Chain [1] done processing\n",
            "INFO:prophet:n_changepoints greater than number of observations. Using 23.\n",
            "DEBUG:cmdstanpy:input tempfile: /tmp/tmpstg6ceuj/dkd3aizb.json\n",
            "DEBUG:cmdstanpy:input tempfile: /tmp/tmpstg6ceuj/pgpvane3.json\n",
            "DEBUG:cmdstanpy:idx 0\n",
            "DEBUG:cmdstanpy:running CmdStan, num_threads: None\n",
            "DEBUG:cmdstanpy:CmdStan args: ['/usr/local/lib/python3.11/dist-packages/prophet/stan_model/prophet_model.bin', 'random', 'seed=36071', 'data', 'file=/tmp/tmpstg6ceuj/dkd3aizb.json', 'init=/tmp/tmpstg6ceuj/pgpvane3.json', 'output', 'file=/tmp/tmpstg6ceuj/prophet_modelqq5lvvtb/prophet_model-20250228021251.csv', 'method=optimize', 'algorithm=newton', 'iter=10000']\n",
            "02:12:51 - cmdstanpy - INFO - Chain [1] start processing\n",
            "INFO:cmdstanpy:Chain [1] start processing\n"
          ]
        },
        {
          "output_type": "stream",
          "name": "stdout",
          "text": [
            "Mean Absolute Percentage Error(mape)------------------------------------ <function mape at 0x792b639d7880>\n",
            "{'changepoint_prior_scale': 0.2, 'holidays_prior_scale': 0.4, 'n_changepoints': 200, 'seasonality_mode': 'additive'}\n"
          ]
        },
        {
          "output_type": "stream",
          "name": "stderr",
          "text": [
            "02:12:53 - cmdstanpy - INFO - Chain [1] done processing\n",
            "INFO:cmdstanpy:Chain [1] done processing\n",
            "INFO:prophet:n_changepoints greater than number of observations. Using 23.\n",
            "DEBUG:cmdstanpy:input tempfile: /tmp/tmpstg6ceuj/a6ykhlta.json\n",
            "DEBUG:cmdstanpy:input tempfile: /tmp/tmpstg6ceuj/ou5h6rr0.json\n",
            "DEBUG:cmdstanpy:idx 0\n",
            "DEBUG:cmdstanpy:running CmdStan, num_threads: None\n",
            "DEBUG:cmdstanpy:CmdStan args: ['/usr/local/lib/python3.11/dist-packages/prophet/stan_model/prophet_model.bin', 'random', 'seed=29009', 'data', 'file=/tmp/tmpstg6ceuj/a6ykhlta.json', 'init=/tmp/tmpstg6ceuj/ou5h6rr0.json', 'output', 'file=/tmp/tmpstg6ceuj/prophet_modelqpda0e9o/prophet_model-20250228021254.csv', 'method=optimize', 'algorithm=newton', 'iter=10000']\n",
            "02:12:54 - cmdstanpy - INFO - Chain [1] start processing\n",
            "INFO:cmdstanpy:Chain [1] start processing\n"
          ]
        },
        {
          "output_type": "stream",
          "name": "stdout",
          "text": [
            "Mean Absolute Percentage Error(mape)------------------------------------ <function mape at 0x792b639d7880>\n",
            "{'changepoint_prior_scale': 0.2, 'holidays_prior_scale': 0.5, 'n_changepoints': 100, 'seasonality_mode': 'multiplicative'}\n"
          ]
        },
        {
          "output_type": "stream",
          "name": "stderr",
          "text": [
            "02:12:56 - cmdstanpy - INFO - Chain [1] done processing\n",
            "INFO:cmdstanpy:Chain [1] done processing\n",
            "INFO:prophet:n_changepoints greater than number of observations. Using 23.\n",
            "DEBUG:cmdstanpy:input tempfile: /tmp/tmpstg6ceuj/ij6znapy.json\n",
            "DEBUG:cmdstanpy:input tempfile: /tmp/tmpstg6ceuj/ekezjjdx.json\n",
            "DEBUG:cmdstanpy:idx 0\n",
            "DEBUG:cmdstanpy:running CmdStan, num_threads: None\n",
            "DEBUG:cmdstanpy:CmdStan args: ['/usr/local/lib/python3.11/dist-packages/prophet/stan_model/prophet_model.bin', 'random', 'seed=86692', 'data', 'file=/tmp/tmpstg6ceuj/ij6znapy.json', 'init=/tmp/tmpstg6ceuj/ekezjjdx.json', 'output', 'file=/tmp/tmpstg6ceuj/prophet_model60mkfxu2/prophet_model-20250228021256.csv', 'method=optimize', 'algorithm=newton', 'iter=10000']\n",
            "02:12:56 - cmdstanpy - INFO - Chain [1] start processing\n",
            "INFO:cmdstanpy:Chain [1] start processing\n"
          ]
        },
        {
          "output_type": "stream",
          "name": "stdout",
          "text": [
            "Mean Absolute Percentage Error(mape)------------------------------------ <function mape at 0x792b639d7880>\n",
            "{'changepoint_prior_scale': 0.2, 'holidays_prior_scale': 0.5, 'n_changepoints': 100, 'seasonality_mode': 'additive'}\n"
          ]
        },
        {
          "output_type": "stream",
          "name": "stderr",
          "text": [
            "02:12:58 - cmdstanpy - INFO - Chain [1] done processing\n",
            "INFO:cmdstanpy:Chain [1] done processing\n",
            "INFO:prophet:n_changepoints greater than number of observations. Using 23.\n",
            "DEBUG:cmdstanpy:input tempfile: /tmp/tmpstg6ceuj/padl317x.json\n",
            "DEBUG:cmdstanpy:input tempfile: /tmp/tmpstg6ceuj/i0dc4io2.json\n",
            "DEBUG:cmdstanpy:idx 0\n",
            "DEBUG:cmdstanpy:running CmdStan, num_threads: None\n",
            "DEBUG:cmdstanpy:CmdStan args: ['/usr/local/lib/python3.11/dist-packages/prophet/stan_model/prophet_model.bin', 'random', 'seed=37690', 'data', 'file=/tmp/tmpstg6ceuj/padl317x.json', 'init=/tmp/tmpstg6ceuj/i0dc4io2.json', 'output', 'file=/tmp/tmpstg6ceuj/prophet_modelup1heciu/prophet_model-20250228021259.csv', 'method=optimize', 'algorithm=newton', 'iter=10000']\n",
            "02:12:59 - cmdstanpy - INFO - Chain [1] start processing\n",
            "INFO:cmdstanpy:Chain [1] start processing\n"
          ]
        },
        {
          "output_type": "stream",
          "name": "stdout",
          "text": [
            "Mean Absolute Percentage Error(mape)------------------------------------ <function mape at 0x792b639d7880>\n",
            "{'changepoint_prior_scale': 0.2, 'holidays_prior_scale': 0.5, 'n_changepoints': 150, 'seasonality_mode': 'multiplicative'}\n"
          ]
        },
        {
          "output_type": "stream",
          "name": "stderr",
          "text": [
            "02:13:02 - cmdstanpy - INFO - Chain [1] done processing\n",
            "INFO:cmdstanpy:Chain [1] done processing\n",
            "INFO:prophet:n_changepoints greater than number of observations. Using 23.\n",
            "DEBUG:cmdstanpy:input tempfile: /tmp/tmpstg6ceuj/_1nsopua.json\n",
            "DEBUG:cmdstanpy:input tempfile: /tmp/tmpstg6ceuj/ofat98q6.json\n",
            "DEBUG:cmdstanpy:idx 0\n",
            "DEBUG:cmdstanpy:running CmdStan, num_threads: None\n",
            "DEBUG:cmdstanpy:CmdStan args: ['/usr/local/lib/python3.11/dist-packages/prophet/stan_model/prophet_model.bin', 'random', 'seed=23809', 'data', 'file=/tmp/tmpstg6ceuj/_1nsopua.json', 'init=/tmp/tmpstg6ceuj/ofat98q6.json', 'output', 'file=/tmp/tmpstg6ceuj/prophet_model3opw3y01/prophet_model-20250228021303.csv', 'method=optimize', 'algorithm=newton', 'iter=10000']\n",
            "02:13:03 - cmdstanpy - INFO - Chain [1] start processing\n",
            "INFO:cmdstanpy:Chain [1] start processing\n"
          ]
        },
        {
          "output_type": "stream",
          "name": "stdout",
          "text": [
            "Mean Absolute Percentage Error(mape)------------------------------------ <function mape at 0x792b639d7880>\n",
            "{'changepoint_prior_scale': 0.2, 'holidays_prior_scale': 0.5, 'n_changepoints': 150, 'seasonality_mode': 'additive'}\n"
          ]
        },
        {
          "output_type": "stream",
          "name": "stderr",
          "text": [
            "02:13:05 - cmdstanpy - INFO - Chain [1] done processing\n",
            "INFO:cmdstanpy:Chain [1] done processing\n",
            "INFO:prophet:n_changepoints greater than number of observations. Using 23.\n",
            "DEBUG:cmdstanpy:input tempfile: /tmp/tmpstg6ceuj/vr03zvzd.json\n",
            "DEBUG:cmdstanpy:input tempfile: /tmp/tmpstg6ceuj/w__v8bel.json\n",
            "DEBUG:cmdstanpy:idx 0\n",
            "DEBUG:cmdstanpy:running CmdStan, num_threads: None\n",
            "DEBUG:cmdstanpy:CmdStan args: ['/usr/local/lib/python3.11/dist-packages/prophet/stan_model/prophet_model.bin', 'random', 'seed=79423', 'data', 'file=/tmp/tmpstg6ceuj/vr03zvzd.json', 'init=/tmp/tmpstg6ceuj/w__v8bel.json', 'output', 'file=/tmp/tmpstg6ceuj/prophet_modelj6y9c0uz/prophet_model-20250228021305.csv', 'method=optimize', 'algorithm=newton', 'iter=10000']\n",
            "02:13:05 - cmdstanpy - INFO - Chain [1] start processing\n",
            "INFO:cmdstanpy:Chain [1] start processing\n"
          ]
        },
        {
          "output_type": "stream",
          "name": "stdout",
          "text": [
            "Mean Absolute Percentage Error(mape)------------------------------------ <function mape at 0x792b639d7880>\n",
            "{'changepoint_prior_scale': 0.2, 'holidays_prior_scale': 0.5, 'n_changepoints': 200, 'seasonality_mode': 'multiplicative'}\n"
          ]
        },
        {
          "output_type": "stream",
          "name": "stderr",
          "text": [
            "02:13:08 - cmdstanpy - INFO - Chain [1] done processing\n",
            "INFO:cmdstanpy:Chain [1] done processing\n",
            "INFO:prophet:n_changepoints greater than number of observations. Using 23.\n",
            "DEBUG:cmdstanpy:input tempfile: /tmp/tmpstg6ceuj/0o__p996.json\n",
            "DEBUG:cmdstanpy:input tempfile: /tmp/tmpstg6ceuj/v3qs89vh.json\n",
            "DEBUG:cmdstanpy:idx 0\n",
            "DEBUG:cmdstanpy:running CmdStan, num_threads: None\n",
            "DEBUG:cmdstanpy:CmdStan args: ['/usr/local/lib/python3.11/dist-packages/prophet/stan_model/prophet_model.bin', 'random', 'seed=65591', 'data', 'file=/tmp/tmpstg6ceuj/0o__p996.json', 'init=/tmp/tmpstg6ceuj/v3qs89vh.json', 'output', 'file=/tmp/tmpstg6ceuj/prophet_model7cpyfjkv/prophet_model-20250228021308.csv', 'method=optimize', 'algorithm=newton', 'iter=10000']\n",
            "02:13:08 - cmdstanpy - INFO - Chain [1] start processing\n",
            "INFO:cmdstanpy:Chain [1] start processing\n"
          ]
        },
        {
          "output_type": "stream",
          "name": "stdout",
          "text": [
            "Mean Absolute Percentage Error(mape)------------------------------------ <function mape at 0x792b639d7880>\n",
            "{'changepoint_prior_scale': 0.2, 'holidays_prior_scale': 0.5, 'n_changepoints': 200, 'seasonality_mode': 'additive'}\n"
          ]
        },
        {
          "output_type": "stream",
          "name": "stderr",
          "text": [
            "02:13:10 - cmdstanpy - INFO - Chain [1] done processing\n",
            "INFO:cmdstanpy:Chain [1] done processing\n",
            "INFO:prophet:n_changepoints greater than number of observations. Using 23.\n",
            "DEBUG:cmdstanpy:input tempfile: /tmp/tmpstg6ceuj/rtbqop56.json\n",
            "DEBUG:cmdstanpy:input tempfile: /tmp/tmpstg6ceuj/7w_ivvco.json\n",
            "DEBUG:cmdstanpy:idx 0\n",
            "DEBUG:cmdstanpy:running CmdStan, num_threads: None\n",
            "DEBUG:cmdstanpy:CmdStan args: ['/usr/local/lib/python3.11/dist-packages/prophet/stan_model/prophet_model.bin', 'random', 'seed=21880', 'data', 'file=/tmp/tmpstg6ceuj/rtbqop56.json', 'init=/tmp/tmpstg6ceuj/7w_ivvco.json', 'output', 'file=/tmp/tmpstg6ceuj/prophet_modelocebx9so/prophet_model-20250228021310.csv', 'method=optimize', 'algorithm=newton', 'iter=10000']\n",
            "02:13:10 - cmdstanpy - INFO - Chain [1] start processing\n",
            "INFO:cmdstanpy:Chain [1] start processing\n"
          ]
        },
        {
          "output_type": "stream",
          "name": "stdout",
          "text": [
            "Mean Absolute Percentage Error(mape)------------------------------------ <function mape at 0x792b639d7880>\n",
            "{'changepoint_prior_scale': 0.3, 'holidays_prior_scale': 0.1, 'n_changepoints': 100, 'seasonality_mode': 'multiplicative'}\n"
          ]
        },
        {
          "output_type": "stream",
          "name": "stderr",
          "text": [
            "02:13:13 - cmdstanpy - INFO - Chain [1] done processing\n",
            "INFO:cmdstanpy:Chain [1] done processing\n",
            "INFO:prophet:n_changepoints greater than number of observations. Using 23.\n",
            "DEBUG:cmdstanpy:input tempfile: /tmp/tmpstg6ceuj/tq7x1u_a.json\n",
            "DEBUG:cmdstanpy:input tempfile: /tmp/tmpstg6ceuj/yzqcxa2l.json\n",
            "DEBUG:cmdstanpy:idx 0\n",
            "DEBUG:cmdstanpy:running CmdStan, num_threads: None\n",
            "DEBUG:cmdstanpy:CmdStan args: ['/usr/local/lib/python3.11/dist-packages/prophet/stan_model/prophet_model.bin', 'random', 'seed=42713', 'data', 'file=/tmp/tmpstg6ceuj/tq7x1u_a.json', 'init=/tmp/tmpstg6ceuj/yzqcxa2l.json', 'output', 'file=/tmp/tmpstg6ceuj/prophet_modeljof_iy57/prophet_model-20250228021313.csv', 'method=optimize', 'algorithm=newton', 'iter=10000']\n",
            "02:13:13 - cmdstanpy - INFO - Chain [1] start processing\n",
            "INFO:cmdstanpy:Chain [1] start processing\n"
          ]
        },
        {
          "output_type": "stream",
          "name": "stdout",
          "text": [
            "Mean Absolute Percentage Error(mape)------------------------------------ <function mape at 0x792b639d7880>\n",
            "{'changepoint_prior_scale': 0.3, 'holidays_prior_scale': 0.1, 'n_changepoints': 100, 'seasonality_mode': 'additive'}\n"
          ]
        },
        {
          "output_type": "stream",
          "name": "stderr",
          "text": [
            "02:13:21 - cmdstanpy - INFO - Chain [1] done processing\n",
            "INFO:cmdstanpy:Chain [1] done processing\n",
            "INFO:prophet:n_changepoints greater than number of observations. Using 23.\n",
            "DEBUG:cmdstanpy:input tempfile: /tmp/tmpstg6ceuj/sp31c8b1.json\n",
            "DEBUG:cmdstanpy:input tempfile: /tmp/tmpstg6ceuj/jgp3yvpi.json\n",
            "DEBUG:cmdstanpy:idx 0\n",
            "DEBUG:cmdstanpy:running CmdStan, num_threads: None\n",
            "DEBUG:cmdstanpy:CmdStan args: ['/usr/local/lib/python3.11/dist-packages/prophet/stan_model/prophet_model.bin', 'random', 'seed=1930', 'data', 'file=/tmp/tmpstg6ceuj/sp31c8b1.json', 'init=/tmp/tmpstg6ceuj/jgp3yvpi.json', 'output', 'file=/tmp/tmpstg6ceuj/prophet_model6hbcxon1/prophet_model-20250228021321.csv', 'method=optimize', 'algorithm=newton', 'iter=10000']\n",
            "02:13:21 - cmdstanpy - INFO - Chain [1] start processing\n",
            "INFO:cmdstanpy:Chain [1] start processing\n"
          ]
        },
        {
          "output_type": "stream",
          "name": "stdout",
          "text": [
            "Mean Absolute Percentage Error(mape)------------------------------------ <function mape at 0x792b639d7880>\n",
            "{'changepoint_prior_scale': 0.3, 'holidays_prior_scale': 0.1, 'n_changepoints': 150, 'seasonality_mode': 'multiplicative'}\n"
          ]
        },
        {
          "output_type": "stream",
          "name": "stderr",
          "text": [
            "02:13:23 - cmdstanpy - INFO - Chain [1] done processing\n",
            "INFO:cmdstanpy:Chain [1] done processing\n",
            "INFO:prophet:n_changepoints greater than number of observations. Using 23.\n",
            "DEBUG:cmdstanpy:input tempfile: /tmp/tmpstg6ceuj/pm7xi6ak.json\n",
            "DEBUG:cmdstanpy:input tempfile: /tmp/tmpstg6ceuj/ch9h3g8s.json\n",
            "DEBUG:cmdstanpy:idx 0\n",
            "DEBUG:cmdstanpy:running CmdStan, num_threads: None\n",
            "DEBUG:cmdstanpy:CmdStan args: ['/usr/local/lib/python3.11/dist-packages/prophet/stan_model/prophet_model.bin', 'random', 'seed=93506', 'data', 'file=/tmp/tmpstg6ceuj/pm7xi6ak.json', 'init=/tmp/tmpstg6ceuj/ch9h3g8s.json', 'output', 'file=/tmp/tmpstg6ceuj/prophet_model1cloo4_y/prophet_model-20250228021324.csv', 'method=optimize', 'algorithm=newton', 'iter=10000']\n",
            "02:13:24 - cmdstanpy - INFO - Chain [1] start processing\n",
            "INFO:cmdstanpy:Chain [1] start processing\n"
          ]
        },
        {
          "output_type": "stream",
          "name": "stdout",
          "text": [
            "Mean Absolute Percentage Error(mape)------------------------------------ <function mape at 0x792b639d7880>\n",
            "{'changepoint_prior_scale': 0.3, 'holidays_prior_scale': 0.1, 'n_changepoints': 150, 'seasonality_mode': 'additive'}\n"
          ]
        },
        {
          "output_type": "stream",
          "name": "stderr",
          "text": [
            "02:13:32 - cmdstanpy - INFO - Chain [1] done processing\n",
            "INFO:cmdstanpy:Chain [1] done processing\n",
            "INFO:prophet:n_changepoints greater than number of observations. Using 23.\n",
            "DEBUG:cmdstanpy:input tempfile: /tmp/tmpstg6ceuj/3frhn7of.json\n",
            "DEBUG:cmdstanpy:input tempfile: /tmp/tmpstg6ceuj/_kdul52w.json\n",
            "DEBUG:cmdstanpy:idx 0\n",
            "DEBUG:cmdstanpy:running CmdStan, num_threads: None\n",
            "DEBUG:cmdstanpy:CmdStan args: ['/usr/local/lib/python3.11/dist-packages/prophet/stan_model/prophet_model.bin', 'random', 'seed=84666', 'data', 'file=/tmp/tmpstg6ceuj/3frhn7of.json', 'init=/tmp/tmpstg6ceuj/_kdul52w.json', 'output', 'file=/tmp/tmpstg6ceuj/prophet_modeld1fg8nor/prophet_model-20250228021332.csv', 'method=optimize', 'algorithm=newton', 'iter=10000']\n",
            "02:13:32 - cmdstanpy - INFO - Chain [1] start processing\n",
            "INFO:cmdstanpy:Chain [1] start processing\n"
          ]
        },
        {
          "output_type": "stream",
          "name": "stdout",
          "text": [
            "Mean Absolute Percentage Error(mape)------------------------------------ <function mape at 0x792b639d7880>\n",
            "{'changepoint_prior_scale': 0.3, 'holidays_prior_scale': 0.1, 'n_changepoints': 200, 'seasonality_mode': 'multiplicative'}\n"
          ]
        },
        {
          "output_type": "stream",
          "name": "stderr",
          "text": [
            "02:13:35 - cmdstanpy - INFO - Chain [1] done processing\n",
            "INFO:cmdstanpy:Chain [1] done processing\n",
            "INFO:prophet:n_changepoints greater than number of observations. Using 23.\n",
            "DEBUG:cmdstanpy:input tempfile: /tmp/tmpstg6ceuj/hgo_aim0.json\n",
            "DEBUG:cmdstanpy:input tempfile: /tmp/tmpstg6ceuj/1b6sru0c.json\n",
            "DEBUG:cmdstanpy:idx 0\n",
            "DEBUG:cmdstanpy:running CmdStan, num_threads: None\n",
            "DEBUG:cmdstanpy:CmdStan args: ['/usr/local/lib/python3.11/dist-packages/prophet/stan_model/prophet_model.bin', 'random', 'seed=65477', 'data', 'file=/tmp/tmpstg6ceuj/hgo_aim0.json', 'init=/tmp/tmpstg6ceuj/1b6sru0c.json', 'output', 'file=/tmp/tmpstg6ceuj/prophet_model8opiy9nf/prophet_model-20250228021335.csv', 'method=optimize', 'algorithm=newton', 'iter=10000']\n",
            "02:13:35 - cmdstanpy - INFO - Chain [1] start processing\n",
            "INFO:cmdstanpy:Chain [1] start processing\n"
          ]
        },
        {
          "output_type": "stream",
          "name": "stdout",
          "text": [
            "Mean Absolute Percentage Error(mape)------------------------------------ <function mape at 0x792b639d7880>\n",
            "{'changepoint_prior_scale': 0.3, 'holidays_prior_scale': 0.1, 'n_changepoints': 200, 'seasonality_mode': 'additive'}\n"
          ]
        },
        {
          "output_type": "stream",
          "name": "stderr",
          "text": [
            "02:13:43 - cmdstanpy - INFO - Chain [1] done processing\n",
            "INFO:cmdstanpy:Chain [1] done processing\n",
            "INFO:prophet:n_changepoints greater than number of observations. Using 23.\n",
            "DEBUG:cmdstanpy:input tempfile: /tmp/tmpstg6ceuj/rot_2b60.json\n",
            "DEBUG:cmdstanpy:input tempfile: /tmp/tmpstg6ceuj/ssge1mt6.json\n",
            "DEBUG:cmdstanpy:idx 0\n",
            "DEBUG:cmdstanpy:running CmdStan, num_threads: None\n",
            "DEBUG:cmdstanpy:CmdStan args: ['/usr/local/lib/python3.11/dist-packages/prophet/stan_model/prophet_model.bin', 'random', 'seed=96640', 'data', 'file=/tmp/tmpstg6ceuj/rot_2b60.json', 'init=/tmp/tmpstg6ceuj/ssge1mt6.json', 'output', 'file=/tmp/tmpstg6ceuj/prophet_modelb1rtp_8a/prophet_model-20250228021343.csv', 'method=optimize', 'algorithm=newton', 'iter=10000']\n",
            "02:13:43 - cmdstanpy - INFO - Chain [1] start processing\n",
            "INFO:cmdstanpy:Chain [1] start processing\n"
          ]
        },
        {
          "output_type": "stream",
          "name": "stdout",
          "text": [
            "Mean Absolute Percentage Error(mape)------------------------------------ <function mape at 0x792b639d7880>\n",
            "{'changepoint_prior_scale': 0.3, 'holidays_prior_scale': 0.2, 'n_changepoints': 100, 'seasonality_mode': 'multiplicative'}\n"
          ]
        },
        {
          "output_type": "stream",
          "name": "stderr",
          "text": [
            "02:13:46 - cmdstanpy - INFO - Chain [1] done processing\n",
            "INFO:cmdstanpy:Chain [1] done processing\n",
            "INFO:prophet:n_changepoints greater than number of observations. Using 23.\n",
            "DEBUG:cmdstanpy:input tempfile: /tmp/tmpstg6ceuj/pgxrclcd.json\n",
            "DEBUG:cmdstanpy:input tempfile: /tmp/tmpstg6ceuj/me45s7k5.json\n",
            "DEBUG:cmdstanpy:idx 0\n",
            "DEBUG:cmdstanpy:running CmdStan, num_threads: None\n",
            "DEBUG:cmdstanpy:CmdStan args: ['/usr/local/lib/python3.11/dist-packages/prophet/stan_model/prophet_model.bin', 'random', 'seed=88839', 'data', 'file=/tmp/tmpstg6ceuj/pgxrclcd.json', 'init=/tmp/tmpstg6ceuj/me45s7k5.json', 'output', 'file=/tmp/tmpstg6ceuj/prophet_modeln6rruhyt/prophet_model-20250228021346.csv', 'method=optimize', 'algorithm=newton', 'iter=10000']\n",
            "02:13:46 - cmdstanpy - INFO - Chain [1] start processing\n",
            "INFO:cmdstanpy:Chain [1] start processing\n"
          ]
        },
        {
          "output_type": "stream",
          "name": "stdout",
          "text": [
            "Mean Absolute Percentage Error(mape)------------------------------------ <function mape at 0x792b639d7880>\n",
            "{'changepoint_prior_scale': 0.3, 'holidays_prior_scale': 0.2, 'n_changepoints': 100, 'seasonality_mode': 'additive'}\n"
          ]
        },
        {
          "output_type": "stream",
          "name": "stderr",
          "text": [
            "02:13:48 - cmdstanpy - INFO - Chain [1] done processing\n",
            "INFO:cmdstanpy:Chain [1] done processing\n",
            "INFO:prophet:n_changepoints greater than number of observations. Using 23.\n",
            "DEBUG:cmdstanpy:input tempfile: /tmp/tmpstg6ceuj/y9fjpzpc.json\n",
            "DEBUG:cmdstanpy:input tempfile: /tmp/tmpstg6ceuj/lp599ycw.json\n",
            "DEBUG:cmdstanpy:idx 0\n",
            "DEBUG:cmdstanpy:running CmdStan, num_threads: None\n",
            "DEBUG:cmdstanpy:CmdStan args: ['/usr/local/lib/python3.11/dist-packages/prophet/stan_model/prophet_model.bin', 'random', 'seed=64498', 'data', 'file=/tmp/tmpstg6ceuj/y9fjpzpc.json', 'init=/tmp/tmpstg6ceuj/lp599ycw.json', 'output', 'file=/tmp/tmpstg6ceuj/prophet_modelekye7r12/prophet_model-20250228021348.csv', 'method=optimize', 'algorithm=newton', 'iter=10000']\n",
            "02:13:48 - cmdstanpy - INFO - Chain [1] start processing\n",
            "INFO:cmdstanpy:Chain [1] start processing\n"
          ]
        },
        {
          "output_type": "stream",
          "name": "stdout",
          "text": [
            "Mean Absolute Percentage Error(mape)------------------------------------ <function mape at 0x792b639d7880>\n",
            "{'changepoint_prior_scale': 0.3, 'holidays_prior_scale': 0.2, 'n_changepoints': 150, 'seasonality_mode': 'multiplicative'}\n"
          ]
        },
        {
          "output_type": "stream",
          "name": "stderr",
          "text": [
            "02:13:52 - cmdstanpy - INFO - Chain [1] done processing\n",
            "INFO:cmdstanpy:Chain [1] done processing\n",
            "INFO:prophet:n_changepoints greater than number of observations. Using 23.\n",
            "DEBUG:cmdstanpy:input tempfile: /tmp/tmpstg6ceuj/vi7engkz.json\n",
            "DEBUG:cmdstanpy:input tempfile: /tmp/tmpstg6ceuj/xxjbypsb.json\n",
            "DEBUG:cmdstanpy:idx 0\n",
            "DEBUG:cmdstanpy:running CmdStan, num_threads: None\n",
            "DEBUG:cmdstanpy:CmdStan args: ['/usr/local/lib/python3.11/dist-packages/prophet/stan_model/prophet_model.bin', 'random', 'seed=53731', 'data', 'file=/tmp/tmpstg6ceuj/vi7engkz.json', 'init=/tmp/tmpstg6ceuj/xxjbypsb.json', 'output', 'file=/tmp/tmpstg6ceuj/prophet_modeltpo7hsns/prophet_model-20250228021352.csv', 'method=optimize', 'algorithm=newton', 'iter=10000']\n",
            "02:13:52 - cmdstanpy - INFO - Chain [1] start processing\n",
            "INFO:cmdstanpy:Chain [1] start processing\n"
          ]
        },
        {
          "output_type": "stream",
          "name": "stdout",
          "text": [
            "Mean Absolute Percentage Error(mape)------------------------------------ <function mape at 0x792b639d7880>\n",
            "{'changepoint_prior_scale': 0.3, 'holidays_prior_scale': 0.2, 'n_changepoints': 150, 'seasonality_mode': 'additive'}\n"
          ]
        },
        {
          "output_type": "stream",
          "name": "stderr",
          "text": [
            "02:13:54 - cmdstanpy - INFO - Chain [1] done processing\n",
            "INFO:cmdstanpy:Chain [1] done processing\n",
            "INFO:prophet:n_changepoints greater than number of observations. Using 23.\n",
            "DEBUG:cmdstanpy:input tempfile: /tmp/tmpstg6ceuj/hifms235.json\n",
            "DEBUG:cmdstanpy:input tempfile: /tmp/tmpstg6ceuj/dhubkiju.json\n",
            "DEBUG:cmdstanpy:idx 0\n",
            "DEBUG:cmdstanpy:running CmdStan, num_threads: None\n",
            "DEBUG:cmdstanpy:CmdStan args: ['/usr/local/lib/python3.11/dist-packages/prophet/stan_model/prophet_model.bin', 'random', 'seed=18907', 'data', 'file=/tmp/tmpstg6ceuj/hifms235.json', 'init=/tmp/tmpstg6ceuj/dhubkiju.json', 'output', 'file=/tmp/tmpstg6ceuj/prophet_modelkrde2vv0/prophet_model-20250228021355.csv', 'method=optimize', 'algorithm=newton', 'iter=10000']\n",
            "02:13:55 - cmdstanpy - INFO - Chain [1] start processing\n",
            "INFO:cmdstanpy:Chain [1] start processing\n"
          ]
        },
        {
          "output_type": "stream",
          "name": "stdout",
          "text": [
            "Mean Absolute Percentage Error(mape)------------------------------------ <function mape at 0x792b639d7880>\n",
            "{'changepoint_prior_scale': 0.3, 'holidays_prior_scale': 0.2, 'n_changepoints': 200, 'seasonality_mode': 'multiplicative'}\n"
          ]
        },
        {
          "output_type": "stream",
          "name": "stderr",
          "text": [
            "02:13:57 - cmdstanpy - INFO - Chain [1] done processing\n",
            "INFO:cmdstanpy:Chain [1] done processing\n",
            "INFO:prophet:n_changepoints greater than number of observations. Using 23.\n",
            "DEBUG:cmdstanpy:input tempfile: /tmp/tmpstg6ceuj/_2v5cjo9.json\n",
            "DEBUG:cmdstanpy:input tempfile: /tmp/tmpstg6ceuj/9z_dlnc9.json\n",
            "DEBUG:cmdstanpy:idx 0\n",
            "DEBUG:cmdstanpy:running CmdStan, num_threads: None\n",
            "DEBUG:cmdstanpy:CmdStan args: ['/usr/local/lib/python3.11/dist-packages/prophet/stan_model/prophet_model.bin', 'random', 'seed=71893', 'data', 'file=/tmp/tmpstg6ceuj/_2v5cjo9.json', 'init=/tmp/tmpstg6ceuj/9z_dlnc9.json', 'output', 'file=/tmp/tmpstg6ceuj/prophet_model4u9kwopn/prophet_model-20250228021358.csv', 'method=optimize', 'algorithm=newton', 'iter=10000']\n",
            "02:13:58 - cmdstanpy - INFO - Chain [1] start processing\n",
            "INFO:cmdstanpy:Chain [1] start processing\n"
          ]
        },
        {
          "output_type": "stream",
          "name": "stdout",
          "text": [
            "Mean Absolute Percentage Error(mape)------------------------------------ <function mape at 0x792b639d7880>\n",
            "{'changepoint_prior_scale': 0.3, 'holidays_prior_scale': 0.2, 'n_changepoints': 200, 'seasonality_mode': 'additive'}\n"
          ]
        },
        {
          "output_type": "stream",
          "name": "stderr",
          "text": [
            "02:14:00 - cmdstanpy - INFO - Chain [1] done processing\n",
            "INFO:cmdstanpy:Chain [1] done processing\n",
            "INFO:prophet:n_changepoints greater than number of observations. Using 23.\n",
            "DEBUG:cmdstanpy:input tempfile: /tmp/tmpstg6ceuj/ndxpsth1.json\n",
            "DEBUG:cmdstanpy:input tempfile: /tmp/tmpstg6ceuj/ur7lihiv.json\n",
            "DEBUG:cmdstanpy:idx 0\n",
            "DEBUG:cmdstanpy:running CmdStan, num_threads: None\n",
            "DEBUG:cmdstanpy:CmdStan args: ['/usr/local/lib/python3.11/dist-packages/prophet/stan_model/prophet_model.bin', 'random', 'seed=8354', 'data', 'file=/tmp/tmpstg6ceuj/ndxpsth1.json', 'init=/tmp/tmpstg6ceuj/ur7lihiv.json', 'output', 'file=/tmp/tmpstg6ceuj/prophet_modelj4i8lb45/prophet_model-20250228021400.csv', 'method=optimize', 'algorithm=newton', 'iter=10000']\n",
            "02:14:00 - cmdstanpy - INFO - Chain [1] start processing\n",
            "INFO:cmdstanpy:Chain [1] start processing\n"
          ]
        },
        {
          "output_type": "stream",
          "name": "stdout",
          "text": [
            "Mean Absolute Percentage Error(mape)------------------------------------ <function mape at 0x792b639d7880>\n",
            "{'changepoint_prior_scale': 0.3, 'holidays_prior_scale': 0.3, 'n_changepoints': 100, 'seasonality_mode': 'multiplicative'}\n"
          ]
        },
        {
          "output_type": "stream",
          "name": "stderr",
          "text": [
            "02:14:03 - cmdstanpy - INFO - Chain [1] done processing\n",
            "INFO:cmdstanpy:Chain [1] done processing\n",
            "INFO:prophet:n_changepoints greater than number of observations. Using 23.\n",
            "DEBUG:cmdstanpy:input tempfile: /tmp/tmpstg6ceuj/r8g1dkc1.json\n",
            "DEBUG:cmdstanpy:input tempfile: /tmp/tmpstg6ceuj/_f9solld.json\n",
            "DEBUG:cmdstanpy:idx 0\n",
            "DEBUG:cmdstanpy:running CmdStan, num_threads: None\n",
            "DEBUG:cmdstanpy:CmdStan args: ['/usr/local/lib/python3.11/dist-packages/prophet/stan_model/prophet_model.bin', 'random', 'seed=38377', 'data', 'file=/tmp/tmpstg6ceuj/r8g1dkc1.json', 'init=/tmp/tmpstg6ceuj/_f9solld.json', 'output', 'file=/tmp/tmpstg6ceuj/prophet_modeltraej77a/prophet_model-20250228021403.csv', 'method=optimize', 'algorithm=newton', 'iter=10000']\n",
            "02:14:03 - cmdstanpy - INFO - Chain [1] start processing\n",
            "INFO:cmdstanpy:Chain [1] start processing\n"
          ]
        },
        {
          "output_type": "stream",
          "name": "stdout",
          "text": [
            "Mean Absolute Percentage Error(mape)------------------------------------ <function mape at 0x792b639d7880>\n",
            "{'changepoint_prior_scale': 0.3, 'holidays_prior_scale': 0.3, 'n_changepoints': 100, 'seasonality_mode': 'additive'}\n"
          ]
        },
        {
          "output_type": "stream",
          "name": "stderr",
          "text": [
            "02:14:07 - cmdstanpy - INFO - Chain [1] done processing\n",
            "INFO:cmdstanpy:Chain [1] done processing\n",
            "INFO:prophet:n_changepoints greater than number of observations. Using 23.\n",
            "DEBUG:cmdstanpy:input tempfile: /tmp/tmpstg6ceuj/waacwb5j.json\n",
            "DEBUG:cmdstanpy:input tempfile: /tmp/tmpstg6ceuj/7mta6t6o.json\n",
            "DEBUG:cmdstanpy:idx 0\n",
            "DEBUG:cmdstanpy:running CmdStan, num_threads: None\n",
            "DEBUG:cmdstanpy:CmdStan args: ['/usr/local/lib/python3.11/dist-packages/prophet/stan_model/prophet_model.bin', 'random', 'seed=5997', 'data', 'file=/tmp/tmpstg6ceuj/waacwb5j.json', 'init=/tmp/tmpstg6ceuj/7mta6t6o.json', 'output', 'file=/tmp/tmpstg6ceuj/prophet_modelj_p5uvpl/prophet_model-20250228021407.csv', 'method=optimize', 'algorithm=newton', 'iter=10000']\n",
            "02:14:07 - cmdstanpy - INFO - Chain [1] start processing\n",
            "INFO:cmdstanpy:Chain [1] start processing\n"
          ]
        },
        {
          "output_type": "stream",
          "name": "stdout",
          "text": [
            "Mean Absolute Percentage Error(mape)------------------------------------ <function mape at 0x792b639d7880>\n",
            "{'changepoint_prior_scale': 0.3, 'holidays_prior_scale': 0.3, 'n_changepoints': 150, 'seasonality_mode': 'multiplicative'}\n"
          ]
        },
        {
          "output_type": "stream",
          "name": "stderr",
          "text": [
            "02:14:10 - cmdstanpy - INFO - Chain [1] done processing\n",
            "INFO:cmdstanpy:Chain [1] done processing\n",
            "INFO:prophet:n_changepoints greater than number of observations. Using 23.\n",
            "DEBUG:cmdstanpy:input tempfile: /tmp/tmpstg6ceuj/cf5mrljd.json\n",
            "DEBUG:cmdstanpy:input tempfile: /tmp/tmpstg6ceuj/iy9cio1m.json\n",
            "DEBUG:cmdstanpy:idx 0\n",
            "DEBUG:cmdstanpy:running CmdStan, num_threads: None\n",
            "DEBUG:cmdstanpy:CmdStan args: ['/usr/local/lib/python3.11/dist-packages/prophet/stan_model/prophet_model.bin', 'random', 'seed=68724', 'data', 'file=/tmp/tmpstg6ceuj/cf5mrljd.json', 'init=/tmp/tmpstg6ceuj/iy9cio1m.json', 'output', 'file=/tmp/tmpstg6ceuj/prophet_model6vwpkwx6/prophet_model-20250228021410.csv', 'method=optimize', 'algorithm=newton', 'iter=10000']\n",
            "02:14:10 - cmdstanpy - INFO - Chain [1] start processing\n",
            "INFO:cmdstanpy:Chain [1] start processing\n"
          ]
        },
        {
          "output_type": "stream",
          "name": "stdout",
          "text": [
            "Mean Absolute Percentage Error(mape)------------------------------------ <function mape at 0x792b639d7880>\n",
            "{'changepoint_prior_scale': 0.3, 'holidays_prior_scale': 0.3, 'n_changepoints': 150, 'seasonality_mode': 'additive'}\n"
          ]
        },
        {
          "output_type": "stream",
          "name": "stderr",
          "text": [
            "02:14:12 - cmdstanpy - INFO - Chain [1] done processing\n",
            "INFO:cmdstanpy:Chain [1] done processing\n",
            "INFO:prophet:n_changepoints greater than number of observations. Using 23.\n",
            "DEBUG:cmdstanpy:input tempfile: /tmp/tmpstg6ceuj/yg315_81.json\n",
            "DEBUG:cmdstanpy:input tempfile: /tmp/tmpstg6ceuj/6ge2f2ol.json\n",
            "DEBUG:cmdstanpy:idx 0\n",
            "DEBUG:cmdstanpy:running CmdStan, num_threads: None\n",
            "DEBUG:cmdstanpy:CmdStan args: ['/usr/local/lib/python3.11/dist-packages/prophet/stan_model/prophet_model.bin', 'random', 'seed=5343', 'data', 'file=/tmp/tmpstg6ceuj/yg315_81.json', 'init=/tmp/tmpstg6ceuj/6ge2f2ol.json', 'output', 'file=/tmp/tmpstg6ceuj/prophet_modele9oqrfwt/prophet_model-20250228021412.csv', 'method=optimize', 'algorithm=newton', 'iter=10000']\n",
            "02:14:12 - cmdstanpy - INFO - Chain [1] start processing\n",
            "INFO:cmdstanpy:Chain [1] start processing\n"
          ]
        },
        {
          "output_type": "stream",
          "name": "stdout",
          "text": [
            "Mean Absolute Percentage Error(mape)------------------------------------ <function mape at 0x792b639d7880>\n",
            "{'changepoint_prior_scale': 0.3, 'holidays_prior_scale': 0.3, 'n_changepoints': 200, 'seasonality_mode': 'multiplicative'}\n"
          ]
        },
        {
          "output_type": "stream",
          "name": "stderr",
          "text": [
            "02:14:15 - cmdstanpy - INFO - Chain [1] done processing\n",
            "INFO:cmdstanpy:Chain [1] done processing\n",
            "INFO:prophet:n_changepoints greater than number of observations. Using 23.\n",
            "DEBUG:cmdstanpy:input tempfile: /tmp/tmpstg6ceuj/wuvz8lfe.json\n",
            "DEBUG:cmdstanpy:input tempfile: /tmp/tmpstg6ceuj/4_wtwzjz.json\n",
            "DEBUG:cmdstanpy:idx 0\n",
            "DEBUG:cmdstanpy:running CmdStan, num_threads: None\n",
            "DEBUG:cmdstanpy:CmdStan args: ['/usr/local/lib/python3.11/dist-packages/prophet/stan_model/prophet_model.bin', 'random', 'seed=76908', 'data', 'file=/tmp/tmpstg6ceuj/wuvz8lfe.json', 'init=/tmp/tmpstg6ceuj/4_wtwzjz.json', 'output', 'file=/tmp/tmpstg6ceuj/prophet_modeln3rz80rs/prophet_model-20250228021416.csv', 'method=optimize', 'algorithm=newton', 'iter=10000']\n",
            "02:14:16 - cmdstanpy - INFO - Chain [1] start processing\n",
            "INFO:cmdstanpy:Chain [1] start processing\n"
          ]
        },
        {
          "output_type": "stream",
          "name": "stdout",
          "text": [
            "Mean Absolute Percentage Error(mape)------------------------------------ <function mape at 0x792b639d7880>\n",
            "{'changepoint_prior_scale': 0.3, 'holidays_prior_scale': 0.3, 'n_changepoints': 200, 'seasonality_mode': 'additive'}\n"
          ]
        },
        {
          "output_type": "stream",
          "name": "stderr",
          "text": [
            "02:14:19 - cmdstanpy - INFO - Chain [1] done processing\n",
            "INFO:cmdstanpy:Chain [1] done processing\n",
            "INFO:prophet:n_changepoints greater than number of observations. Using 23.\n",
            "DEBUG:cmdstanpy:input tempfile: /tmp/tmpstg6ceuj/gh3q0393.json\n",
            "DEBUG:cmdstanpy:input tempfile: /tmp/tmpstg6ceuj/6azm1fnx.json\n",
            "DEBUG:cmdstanpy:idx 0\n",
            "DEBUG:cmdstanpy:running CmdStan, num_threads: None\n",
            "DEBUG:cmdstanpy:CmdStan args: ['/usr/local/lib/python3.11/dist-packages/prophet/stan_model/prophet_model.bin', 'random', 'seed=15536', 'data', 'file=/tmp/tmpstg6ceuj/gh3q0393.json', 'init=/tmp/tmpstg6ceuj/6azm1fnx.json', 'output', 'file=/tmp/tmpstg6ceuj/prophet_modelv70vu08y/prophet_model-20250228021419.csv', 'method=optimize', 'algorithm=newton', 'iter=10000']\n",
            "02:14:19 - cmdstanpy - INFO - Chain [1] start processing\n",
            "INFO:cmdstanpy:Chain [1] start processing\n"
          ]
        },
        {
          "output_type": "stream",
          "name": "stdout",
          "text": [
            "Mean Absolute Percentage Error(mape)------------------------------------ <function mape at 0x792b639d7880>\n",
            "{'changepoint_prior_scale': 0.3, 'holidays_prior_scale': 0.4, 'n_changepoints': 100, 'seasonality_mode': 'multiplicative'}\n"
          ]
        },
        {
          "output_type": "stream",
          "name": "stderr",
          "text": [
            "02:14:22 - cmdstanpy - INFO - Chain [1] done processing\n",
            "INFO:cmdstanpy:Chain [1] done processing\n",
            "INFO:prophet:n_changepoints greater than number of observations. Using 23.\n",
            "DEBUG:cmdstanpy:input tempfile: /tmp/tmpstg6ceuj/unt8qjsj.json\n",
            "DEBUG:cmdstanpy:input tempfile: /tmp/tmpstg6ceuj/bhsyv0zg.json\n",
            "DEBUG:cmdstanpy:idx 0\n",
            "DEBUG:cmdstanpy:running CmdStan, num_threads: None\n",
            "DEBUG:cmdstanpy:CmdStan args: ['/usr/local/lib/python3.11/dist-packages/prophet/stan_model/prophet_model.bin', 'random', 'seed=75345', 'data', 'file=/tmp/tmpstg6ceuj/unt8qjsj.json', 'init=/tmp/tmpstg6ceuj/bhsyv0zg.json', 'output', 'file=/tmp/tmpstg6ceuj/prophet_modelqr3s5ed6/prophet_model-20250228021422.csv', 'method=optimize', 'algorithm=newton', 'iter=10000']\n",
            "02:14:22 - cmdstanpy - INFO - Chain [1] start processing\n",
            "INFO:cmdstanpy:Chain [1] start processing\n"
          ]
        },
        {
          "output_type": "stream",
          "name": "stdout",
          "text": [
            "Mean Absolute Percentage Error(mape)------------------------------------ <function mape at 0x792b639d7880>\n",
            "{'changepoint_prior_scale': 0.3, 'holidays_prior_scale': 0.4, 'n_changepoints': 100, 'seasonality_mode': 'additive'}\n"
          ]
        },
        {
          "output_type": "stream",
          "name": "stderr",
          "text": [
            "02:14:25 - cmdstanpy - INFO - Chain [1] done processing\n",
            "INFO:cmdstanpy:Chain [1] done processing\n",
            "INFO:prophet:n_changepoints greater than number of observations. Using 23.\n",
            "DEBUG:cmdstanpy:input tempfile: /tmp/tmpstg6ceuj/o31li5qs.json\n",
            "DEBUG:cmdstanpy:input tempfile: /tmp/tmpstg6ceuj/xlnyqof_.json\n",
            "DEBUG:cmdstanpy:idx 0\n",
            "DEBUG:cmdstanpy:running CmdStan, num_threads: None\n",
            "DEBUG:cmdstanpy:CmdStan args: ['/usr/local/lib/python3.11/dist-packages/prophet/stan_model/prophet_model.bin', 'random', 'seed=36634', 'data', 'file=/tmp/tmpstg6ceuj/o31li5qs.json', 'init=/tmp/tmpstg6ceuj/xlnyqof_.json', 'output', 'file=/tmp/tmpstg6ceuj/prophet_model2fp3s31f/prophet_model-20250228021425.csv', 'method=optimize', 'algorithm=newton', 'iter=10000']\n",
            "02:14:25 - cmdstanpy - INFO - Chain [1] start processing\n",
            "INFO:cmdstanpy:Chain [1] start processing\n"
          ]
        },
        {
          "output_type": "stream",
          "name": "stdout",
          "text": [
            "Mean Absolute Percentage Error(mape)------------------------------------ <function mape at 0x792b639d7880>\n",
            "{'changepoint_prior_scale': 0.3, 'holidays_prior_scale': 0.4, 'n_changepoints': 150, 'seasonality_mode': 'multiplicative'}\n"
          ]
        },
        {
          "output_type": "stream",
          "name": "stderr",
          "text": [
            "02:14:28 - cmdstanpy - INFO - Chain [1] done processing\n",
            "INFO:cmdstanpy:Chain [1] done processing\n",
            "INFO:prophet:n_changepoints greater than number of observations. Using 23.\n",
            "DEBUG:cmdstanpy:input tempfile: /tmp/tmpstg6ceuj/a1ps40pj.json\n",
            "DEBUG:cmdstanpy:input tempfile: /tmp/tmpstg6ceuj/ytuk7uri.json\n",
            "DEBUG:cmdstanpy:idx 0\n",
            "DEBUG:cmdstanpy:running CmdStan, num_threads: None\n",
            "DEBUG:cmdstanpy:CmdStan args: ['/usr/local/lib/python3.11/dist-packages/prophet/stan_model/prophet_model.bin', 'random', 'seed=55852', 'data', 'file=/tmp/tmpstg6ceuj/a1ps40pj.json', 'init=/tmp/tmpstg6ceuj/ytuk7uri.json', 'output', 'file=/tmp/tmpstg6ceuj/prophet_model6eaqh70g/prophet_model-20250228021428.csv', 'method=optimize', 'algorithm=newton', 'iter=10000']\n",
            "02:14:28 - cmdstanpy - INFO - Chain [1] start processing\n",
            "INFO:cmdstanpy:Chain [1] start processing\n"
          ]
        },
        {
          "output_type": "stream",
          "name": "stdout",
          "text": [
            "Mean Absolute Percentage Error(mape)------------------------------------ <function mape at 0x792b639d7880>\n",
            "{'changepoint_prior_scale': 0.3, 'holidays_prior_scale': 0.4, 'n_changepoints': 150, 'seasonality_mode': 'additive'}\n"
          ]
        },
        {
          "output_type": "stream",
          "name": "stderr",
          "text": [
            "02:14:32 - cmdstanpy - INFO - Chain [1] done processing\n",
            "INFO:cmdstanpy:Chain [1] done processing\n",
            "INFO:prophet:n_changepoints greater than number of observations. Using 23.\n",
            "DEBUG:cmdstanpy:input tempfile: /tmp/tmpstg6ceuj/84g6njwh.json\n",
            "DEBUG:cmdstanpy:input tempfile: /tmp/tmpstg6ceuj/4fqwpgn_.json\n",
            "DEBUG:cmdstanpy:idx 0\n",
            "DEBUG:cmdstanpy:running CmdStan, num_threads: None\n",
            "DEBUG:cmdstanpy:CmdStan args: ['/usr/local/lib/python3.11/dist-packages/prophet/stan_model/prophet_model.bin', 'random', 'seed=54188', 'data', 'file=/tmp/tmpstg6ceuj/84g6njwh.json', 'init=/tmp/tmpstg6ceuj/4fqwpgn_.json', 'output', 'file=/tmp/tmpstg6ceuj/prophet_modelrbzuigb6/prophet_model-20250228021432.csv', 'method=optimize', 'algorithm=newton', 'iter=10000']\n",
            "02:14:32 - cmdstanpy - INFO - Chain [1] start processing\n",
            "INFO:cmdstanpy:Chain [1] start processing\n"
          ]
        },
        {
          "output_type": "stream",
          "name": "stdout",
          "text": [
            "Mean Absolute Percentage Error(mape)------------------------------------ <function mape at 0x792b639d7880>\n",
            "{'changepoint_prior_scale': 0.3, 'holidays_prior_scale': 0.4, 'n_changepoints': 200, 'seasonality_mode': 'multiplicative'}\n"
          ]
        },
        {
          "output_type": "stream",
          "name": "stderr",
          "text": [
            "02:14:35 - cmdstanpy - INFO - Chain [1] done processing\n",
            "INFO:cmdstanpy:Chain [1] done processing\n",
            "INFO:prophet:n_changepoints greater than number of observations. Using 23.\n",
            "DEBUG:cmdstanpy:input tempfile: /tmp/tmpstg6ceuj/gvbg7re5.json\n",
            "DEBUG:cmdstanpy:input tempfile: /tmp/tmpstg6ceuj/_8hikhkq.json\n",
            "DEBUG:cmdstanpy:idx 0\n",
            "DEBUG:cmdstanpy:running CmdStan, num_threads: None\n",
            "DEBUG:cmdstanpy:CmdStan args: ['/usr/local/lib/python3.11/dist-packages/prophet/stan_model/prophet_model.bin', 'random', 'seed=88545', 'data', 'file=/tmp/tmpstg6ceuj/gvbg7re5.json', 'init=/tmp/tmpstg6ceuj/_8hikhkq.json', 'output', 'file=/tmp/tmpstg6ceuj/prophet_modelv0nh7wp_/prophet_model-20250228021435.csv', 'method=optimize', 'algorithm=newton', 'iter=10000']\n",
            "02:14:35 - cmdstanpy - INFO - Chain [1] start processing\n",
            "INFO:cmdstanpy:Chain [1] start processing\n"
          ]
        },
        {
          "output_type": "stream",
          "name": "stdout",
          "text": [
            "Mean Absolute Percentage Error(mape)------------------------------------ <function mape at 0x792b639d7880>\n",
            "{'changepoint_prior_scale': 0.3, 'holidays_prior_scale': 0.4, 'n_changepoints': 200, 'seasonality_mode': 'additive'}\n"
          ]
        },
        {
          "output_type": "stream",
          "name": "stderr",
          "text": [
            "02:14:38 - cmdstanpy - INFO - Chain [1] done processing\n",
            "INFO:cmdstanpy:Chain [1] done processing\n",
            "INFO:prophet:n_changepoints greater than number of observations. Using 23.\n",
            "DEBUG:cmdstanpy:input tempfile: /tmp/tmpstg6ceuj/ogt59uid.json\n",
            "DEBUG:cmdstanpy:input tempfile: /tmp/tmpstg6ceuj/8gfwcnb8.json\n",
            "DEBUG:cmdstanpy:idx 0\n",
            "DEBUG:cmdstanpy:running CmdStan, num_threads: None\n",
            "DEBUG:cmdstanpy:CmdStan args: ['/usr/local/lib/python3.11/dist-packages/prophet/stan_model/prophet_model.bin', 'random', 'seed=70769', 'data', 'file=/tmp/tmpstg6ceuj/ogt59uid.json', 'init=/tmp/tmpstg6ceuj/8gfwcnb8.json', 'output', 'file=/tmp/tmpstg6ceuj/prophet_modelnrndb52t/prophet_model-20250228021438.csv', 'method=optimize', 'algorithm=newton', 'iter=10000']\n",
            "02:14:38 - cmdstanpy - INFO - Chain [1] start processing\n",
            "INFO:cmdstanpy:Chain [1] start processing\n"
          ]
        },
        {
          "output_type": "stream",
          "name": "stdout",
          "text": [
            "Mean Absolute Percentage Error(mape)------------------------------------ <function mape at 0x792b639d7880>\n",
            "{'changepoint_prior_scale': 0.3, 'holidays_prior_scale': 0.5, 'n_changepoints': 100, 'seasonality_mode': 'multiplicative'}\n"
          ]
        },
        {
          "output_type": "stream",
          "name": "stderr",
          "text": [
            "02:14:42 - cmdstanpy - INFO - Chain [1] done processing\n",
            "INFO:cmdstanpy:Chain [1] done processing\n",
            "INFO:prophet:n_changepoints greater than number of observations. Using 23.\n",
            "DEBUG:cmdstanpy:input tempfile: /tmp/tmpstg6ceuj/mhmt7bh9.json\n",
            "DEBUG:cmdstanpy:input tempfile: /tmp/tmpstg6ceuj/t3gk593i.json\n",
            "DEBUG:cmdstanpy:idx 0\n",
            "DEBUG:cmdstanpy:running CmdStan, num_threads: None\n",
            "DEBUG:cmdstanpy:CmdStan args: ['/usr/local/lib/python3.11/dist-packages/prophet/stan_model/prophet_model.bin', 'random', 'seed=9884', 'data', 'file=/tmp/tmpstg6ceuj/mhmt7bh9.json', 'init=/tmp/tmpstg6ceuj/t3gk593i.json', 'output', 'file=/tmp/tmpstg6ceuj/prophet_modelc3k3jghv/prophet_model-20250228021442.csv', 'method=optimize', 'algorithm=newton', 'iter=10000']\n",
            "02:14:42 - cmdstanpy - INFO - Chain [1] start processing\n",
            "INFO:cmdstanpy:Chain [1] start processing\n"
          ]
        },
        {
          "output_type": "stream",
          "name": "stdout",
          "text": [
            "Mean Absolute Percentage Error(mape)------------------------------------ <function mape at 0x792b639d7880>\n",
            "{'changepoint_prior_scale': 0.3, 'holidays_prior_scale': 0.5, 'n_changepoints': 100, 'seasonality_mode': 'additive'}\n"
          ]
        },
        {
          "output_type": "stream",
          "name": "stderr",
          "text": [
            "02:14:46 - cmdstanpy - INFO - Chain [1] done processing\n",
            "INFO:cmdstanpy:Chain [1] done processing\n",
            "INFO:prophet:n_changepoints greater than number of observations. Using 23.\n",
            "DEBUG:cmdstanpy:input tempfile: /tmp/tmpstg6ceuj/_iai7899.json\n",
            "DEBUG:cmdstanpy:input tempfile: /tmp/tmpstg6ceuj/8uc89bqi.json\n",
            "DEBUG:cmdstanpy:idx 0\n",
            "DEBUG:cmdstanpy:running CmdStan, num_threads: None\n",
            "DEBUG:cmdstanpy:CmdStan args: ['/usr/local/lib/python3.11/dist-packages/prophet/stan_model/prophet_model.bin', 'random', 'seed=55982', 'data', 'file=/tmp/tmpstg6ceuj/_iai7899.json', 'init=/tmp/tmpstg6ceuj/8uc89bqi.json', 'output', 'file=/tmp/tmpstg6ceuj/prophet_modelygtcmqzm/prophet_model-20250228021446.csv', 'method=optimize', 'algorithm=newton', 'iter=10000']\n",
            "02:14:46 - cmdstanpy - INFO - Chain [1] start processing\n",
            "INFO:cmdstanpy:Chain [1] start processing\n"
          ]
        },
        {
          "output_type": "stream",
          "name": "stdout",
          "text": [
            "Mean Absolute Percentage Error(mape)------------------------------------ <function mape at 0x792b639d7880>\n",
            "{'changepoint_prior_scale': 0.3, 'holidays_prior_scale': 0.5, 'n_changepoints': 150, 'seasonality_mode': 'multiplicative'}\n"
          ]
        },
        {
          "output_type": "stream",
          "name": "stderr",
          "text": [
            "02:14:50 - cmdstanpy - INFO - Chain [1] done processing\n",
            "INFO:cmdstanpy:Chain [1] done processing\n",
            "INFO:prophet:n_changepoints greater than number of observations. Using 23.\n",
            "DEBUG:cmdstanpy:input tempfile: /tmp/tmpstg6ceuj/zwwuna0s.json\n",
            "DEBUG:cmdstanpy:input tempfile: /tmp/tmpstg6ceuj/bzluluge.json\n",
            "DEBUG:cmdstanpy:idx 0\n",
            "DEBUG:cmdstanpy:running CmdStan, num_threads: None\n",
            "DEBUG:cmdstanpy:CmdStan args: ['/usr/local/lib/python3.11/dist-packages/prophet/stan_model/prophet_model.bin', 'random', 'seed=15264', 'data', 'file=/tmp/tmpstg6ceuj/zwwuna0s.json', 'init=/tmp/tmpstg6ceuj/bzluluge.json', 'output', 'file=/tmp/tmpstg6ceuj/prophet_modelukbgi_zc/prophet_model-20250228021450.csv', 'method=optimize', 'algorithm=newton', 'iter=10000']\n",
            "02:14:50 - cmdstanpy - INFO - Chain [1] start processing\n",
            "INFO:cmdstanpy:Chain [1] start processing\n"
          ]
        },
        {
          "output_type": "stream",
          "name": "stdout",
          "text": [
            "Mean Absolute Percentage Error(mape)------------------------------------ <function mape at 0x792b639d7880>\n",
            "{'changepoint_prior_scale': 0.3, 'holidays_prior_scale': 0.5, 'n_changepoints': 150, 'seasonality_mode': 'additive'}\n"
          ]
        },
        {
          "output_type": "stream",
          "name": "stderr",
          "text": [
            "02:14:53 - cmdstanpy - INFO - Chain [1] done processing\n",
            "INFO:cmdstanpy:Chain [1] done processing\n",
            "INFO:prophet:n_changepoints greater than number of observations. Using 23.\n",
            "DEBUG:cmdstanpy:input tempfile: /tmp/tmpstg6ceuj/z26c8n9n.json\n",
            "DEBUG:cmdstanpy:input tempfile: /tmp/tmpstg6ceuj/7e_dboyp.json\n",
            "DEBUG:cmdstanpy:idx 0\n",
            "DEBUG:cmdstanpy:running CmdStan, num_threads: None\n",
            "DEBUG:cmdstanpy:CmdStan args: ['/usr/local/lib/python3.11/dist-packages/prophet/stan_model/prophet_model.bin', 'random', 'seed=81136', 'data', 'file=/tmp/tmpstg6ceuj/z26c8n9n.json', 'init=/tmp/tmpstg6ceuj/7e_dboyp.json', 'output', 'file=/tmp/tmpstg6ceuj/prophet_modellpcjh_bo/prophet_model-20250228021453.csv', 'method=optimize', 'algorithm=newton', 'iter=10000']\n",
            "02:14:53 - cmdstanpy - INFO - Chain [1] start processing\n",
            "INFO:cmdstanpy:Chain [1] start processing\n"
          ]
        },
        {
          "output_type": "stream",
          "name": "stdout",
          "text": [
            "Mean Absolute Percentage Error(mape)------------------------------------ <function mape at 0x792b639d7880>\n",
            "{'changepoint_prior_scale': 0.3, 'holidays_prior_scale': 0.5, 'n_changepoints': 200, 'seasonality_mode': 'multiplicative'}\n"
          ]
        },
        {
          "output_type": "stream",
          "name": "stderr",
          "text": [
            "02:14:58 - cmdstanpy - INFO - Chain [1] done processing\n",
            "INFO:cmdstanpy:Chain [1] done processing\n",
            "INFO:prophet:n_changepoints greater than number of observations. Using 23.\n",
            "DEBUG:cmdstanpy:input tempfile: /tmp/tmpstg6ceuj/rdprh50q.json\n",
            "DEBUG:cmdstanpy:input tempfile: /tmp/tmpstg6ceuj/3ycfa4xd.json\n",
            "DEBUG:cmdstanpy:idx 0\n",
            "DEBUG:cmdstanpy:running CmdStan, num_threads: None\n",
            "DEBUG:cmdstanpy:CmdStan args: ['/usr/local/lib/python3.11/dist-packages/prophet/stan_model/prophet_model.bin', 'random', 'seed=975', 'data', 'file=/tmp/tmpstg6ceuj/rdprh50q.json', 'init=/tmp/tmpstg6ceuj/3ycfa4xd.json', 'output', 'file=/tmp/tmpstg6ceuj/prophet_model9zu5ilag/prophet_model-20250228021458.csv', 'method=optimize', 'algorithm=newton', 'iter=10000']\n",
            "02:14:58 - cmdstanpy - INFO - Chain [1] start processing\n",
            "INFO:cmdstanpy:Chain [1] start processing\n"
          ]
        },
        {
          "output_type": "stream",
          "name": "stdout",
          "text": [
            "Mean Absolute Percentage Error(mape)------------------------------------ <function mape at 0x792b639d7880>\n",
            "{'changepoint_prior_scale': 0.3, 'holidays_prior_scale': 0.5, 'n_changepoints': 200, 'seasonality_mode': 'additive'}\n"
          ]
        },
        {
          "output_type": "stream",
          "name": "stderr",
          "text": [
            "02:15:01 - cmdstanpy - INFO - Chain [1] done processing\n",
            "INFO:cmdstanpy:Chain [1] done processing\n",
            "INFO:prophet:n_changepoints greater than number of observations. Using 23.\n",
            "DEBUG:cmdstanpy:input tempfile: /tmp/tmpstg6ceuj/3kng1bof.json\n",
            "DEBUG:cmdstanpy:input tempfile: /tmp/tmpstg6ceuj/7f05__u3.json\n",
            "DEBUG:cmdstanpy:idx 0\n",
            "DEBUG:cmdstanpy:running CmdStan, num_threads: None\n",
            "DEBUG:cmdstanpy:CmdStan args: ['/usr/local/lib/python3.11/dist-packages/prophet/stan_model/prophet_model.bin', 'random', 'seed=84157', 'data', 'file=/tmp/tmpstg6ceuj/3kng1bof.json', 'init=/tmp/tmpstg6ceuj/7f05__u3.json', 'output', 'file=/tmp/tmpstg6ceuj/prophet_modeluh7uwwin/prophet_model-20250228021501.csv', 'method=optimize', 'algorithm=newton', 'iter=10000']\n",
            "02:15:01 - cmdstanpy - INFO - Chain [1] start processing\n",
            "INFO:cmdstanpy:Chain [1] start processing\n"
          ]
        },
        {
          "output_type": "stream",
          "name": "stdout",
          "text": [
            "Mean Absolute Percentage Error(mape)------------------------------------ <function mape at 0x792b639d7880>\n",
            "{'changepoint_prior_scale': 0.4, 'holidays_prior_scale': 0.1, 'n_changepoints': 100, 'seasonality_mode': 'multiplicative'}\n"
          ]
        },
        {
          "output_type": "stream",
          "name": "stderr",
          "text": [
            "02:15:04 - cmdstanpy - INFO - Chain [1] done processing\n",
            "INFO:cmdstanpy:Chain [1] done processing\n",
            "INFO:prophet:n_changepoints greater than number of observations. Using 23.\n",
            "DEBUG:cmdstanpy:input tempfile: /tmp/tmpstg6ceuj/qi7wsk6p.json\n",
            "DEBUG:cmdstanpy:input tempfile: /tmp/tmpstg6ceuj/5hgoc_hp.json\n",
            "DEBUG:cmdstanpy:idx 0\n",
            "DEBUG:cmdstanpy:running CmdStan, num_threads: None\n",
            "DEBUG:cmdstanpy:CmdStan args: ['/usr/local/lib/python3.11/dist-packages/prophet/stan_model/prophet_model.bin', 'random', 'seed=76870', 'data', 'file=/tmp/tmpstg6ceuj/qi7wsk6p.json', 'init=/tmp/tmpstg6ceuj/5hgoc_hp.json', 'output', 'file=/tmp/tmpstg6ceuj/prophet_modelnq3tkhdy/prophet_model-20250228021504.csv', 'method=optimize', 'algorithm=newton', 'iter=10000']\n",
            "02:15:04 - cmdstanpy - INFO - Chain [1] start processing\n",
            "INFO:cmdstanpy:Chain [1] start processing\n"
          ]
        },
        {
          "output_type": "stream",
          "name": "stdout",
          "text": [
            "Mean Absolute Percentage Error(mape)------------------------------------ <function mape at 0x792b639d7880>\n",
            "{'changepoint_prior_scale': 0.4, 'holidays_prior_scale': 0.1, 'n_changepoints': 100, 'seasonality_mode': 'additive'}\n"
          ]
        },
        {
          "output_type": "stream",
          "name": "stderr",
          "text": [
            "02:15:09 - cmdstanpy - INFO - Chain [1] done processing\n",
            "INFO:cmdstanpy:Chain [1] done processing\n",
            "INFO:prophet:n_changepoints greater than number of observations. Using 23.\n",
            "DEBUG:cmdstanpy:input tempfile: /tmp/tmpstg6ceuj/dq22vr9t.json\n",
            "DEBUG:cmdstanpy:input tempfile: /tmp/tmpstg6ceuj/r15wjhui.json\n",
            "DEBUG:cmdstanpy:idx 0\n",
            "DEBUG:cmdstanpy:running CmdStan, num_threads: None\n",
            "DEBUG:cmdstanpy:CmdStan args: ['/usr/local/lib/python3.11/dist-packages/prophet/stan_model/prophet_model.bin', 'random', 'seed=48990', 'data', 'file=/tmp/tmpstg6ceuj/dq22vr9t.json', 'init=/tmp/tmpstg6ceuj/r15wjhui.json', 'output', 'file=/tmp/tmpstg6ceuj/prophet_model619h6_ry/prophet_model-20250228021509.csv', 'method=optimize', 'algorithm=newton', 'iter=10000']\n",
            "02:15:09 - cmdstanpy - INFO - Chain [1] start processing\n",
            "INFO:cmdstanpy:Chain [1] start processing\n"
          ]
        },
        {
          "output_type": "stream",
          "name": "stdout",
          "text": [
            "Mean Absolute Percentage Error(mape)------------------------------------ <function mape at 0x792b639d7880>\n",
            "{'changepoint_prior_scale': 0.4, 'holidays_prior_scale': 0.1, 'n_changepoints': 150, 'seasonality_mode': 'multiplicative'}\n"
          ]
        },
        {
          "output_type": "stream",
          "name": "stderr",
          "text": [
            "02:15:11 - cmdstanpy - INFO - Chain [1] done processing\n",
            "INFO:cmdstanpy:Chain [1] done processing\n",
            "INFO:prophet:n_changepoints greater than number of observations. Using 23.\n",
            "DEBUG:cmdstanpy:input tempfile: /tmp/tmpstg6ceuj/2t5l4r2z.json\n",
            "DEBUG:cmdstanpy:input tempfile: /tmp/tmpstg6ceuj/i5ryjg28.json\n",
            "DEBUG:cmdstanpy:idx 0\n",
            "DEBUG:cmdstanpy:running CmdStan, num_threads: None\n",
            "DEBUG:cmdstanpy:CmdStan args: ['/usr/local/lib/python3.11/dist-packages/prophet/stan_model/prophet_model.bin', 'random', 'seed=94905', 'data', 'file=/tmp/tmpstg6ceuj/2t5l4r2z.json', 'init=/tmp/tmpstg6ceuj/i5ryjg28.json', 'output', 'file=/tmp/tmpstg6ceuj/prophet_model1vvjiwqf/prophet_model-20250228021512.csv', 'method=optimize', 'algorithm=newton', 'iter=10000']\n",
            "02:15:12 - cmdstanpy - INFO - Chain [1] start processing\n",
            "INFO:cmdstanpy:Chain [1] start processing\n"
          ]
        },
        {
          "output_type": "stream",
          "name": "stdout",
          "text": [
            "Mean Absolute Percentage Error(mape)------------------------------------ <function mape at 0x792b639d7880>\n",
            "{'changepoint_prior_scale': 0.4, 'holidays_prior_scale': 0.1, 'n_changepoints': 150, 'seasonality_mode': 'additive'}\n"
          ]
        },
        {
          "output_type": "stream",
          "name": "stderr",
          "text": [
            "02:15:16 - cmdstanpy - INFO - Chain [1] done processing\n",
            "INFO:cmdstanpy:Chain [1] done processing\n",
            "INFO:prophet:n_changepoints greater than number of observations. Using 23.\n",
            "DEBUG:cmdstanpy:input tempfile: /tmp/tmpstg6ceuj/0wvo1ytg.json\n",
            "DEBUG:cmdstanpy:input tempfile: /tmp/tmpstg6ceuj/g2ad09dx.json\n",
            "DEBUG:cmdstanpy:idx 0\n",
            "DEBUG:cmdstanpy:running CmdStan, num_threads: None\n",
            "DEBUG:cmdstanpy:CmdStan args: ['/usr/local/lib/python3.11/dist-packages/prophet/stan_model/prophet_model.bin', 'random', 'seed=43920', 'data', 'file=/tmp/tmpstg6ceuj/0wvo1ytg.json', 'init=/tmp/tmpstg6ceuj/g2ad09dx.json', 'output', 'file=/tmp/tmpstg6ceuj/prophet_modelpqui19o2/prophet_model-20250228021516.csv', 'method=optimize', 'algorithm=newton', 'iter=10000']\n",
            "02:15:16 - cmdstanpy - INFO - Chain [1] start processing\n",
            "INFO:cmdstanpy:Chain [1] start processing\n"
          ]
        },
        {
          "output_type": "stream",
          "name": "stdout",
          "text": [
            "Mean Absolute Percentage Error(mape)------------------------------------ <function mape at 0x792b639d7880>\n",
            "{'changepoint_prior_scale': 0.4, 'holidays_prior_scale': 0.1, 'n_changepoints': 200, 'seasonality_mode': 'multiplicative'}\n"
          ]
        },
        {
          "output_type": "stream",
          "name": "stderr",
          "text": [
            "02:15:18 - cmdstanpy - INFO - Chain [1] done processing\n",
            "INFO:cmdstanpy:Chain [1] done processing\n",
            "INFO:prophet:n_changepoints greater than number of observations. Using 23.\n",
            "DEBUG:cmdstanpy:input tempfile: /tmp/tmpstg6ceuj/dscveo_l.json\n",
            "DEBUG:cmdstanpy:input tempfile: /tmp/tmpstg6ceuj/3pj0o0fk.json\n",
            "DEBUG:cmdstanpy:idx 0\n",
            "DEBUG:cmdstanpy:running CmdStan, num_threads: None\n",
            "DEBUG:cmdstanpy:CmdStan args: ['/usr/local/lib/python3.11/dist-packages/prophet/stan_model/prophet_model.bin', 'random', 'seed=45588', 'data', 'file=/tmp/tmpstg6ceuj/dscveo_l.json', 'init=/tmp/tmpstg6ceuj/3pj0o0fk.json', 'output', 'file=/tmp/tmpstg6ceuj/prophet_modela7mhkpwg/prophet_model-20250228021518.csv', 'method=optimize', 'algorithm=newton', 'iter=10000']\n",
            "02:15:18 - cmdstanpy - INFO - Chain [1] start processing\n",
            "INFO:cmdstanpy:Chain [1] start processing\n"
          ]
        },
        {
          "output_type": "stream",
          "name": "stdout",
          "text": [
            "Mean Absolute Percentage Error(mape)------------------------------------ <function mape at 0x792b639d7880>\n",
            "{'changepoint_prior_scale': 0.4, 'holidays_prior_scale': 0.1, 'n_changepoints': 200, 'seasonality_mode': 'additive'}\n"
          ]
        },
        {
          "output_type": "stream",
          "name": "stderr",
          "text": [
            "02:15:24 - cmdstanpy - INFO - Chain [1] done processing\n",
            "INFO:cmdstanpy:Chain [1] done processing\n",
            "INFO:prophet:n_changepoints greater than number of observations. Using 23.\n",
            "DEBUG:cmdstanpy:input tempfile: /tmp/tmpstg6ceuj/gf3_7knk.json\n",
            "DEBUG:cmdstanpy:input tempfile: /tmp/tmpstg6ceuj/s7qsqg5r.json\n",
            "DEBUG:cmdstanpy:idx 0\n",
            "DEBUG:cmdstanpy:running CmdStan, num_threads: None\n",
            "DEBUG:cmdstanpy:CmdStan args: ['/usr/local/lib/python3.11/dist-packages/prophet/stan_model/prophet_model.bin', 'random', 'seed=39621', 'data', 'file=/tmp/tmpstg6ceuj/gf3_7knk.json', 'init=/tmp/tmpstg6ceuj/s7qsqg5r.json', 'output', 'file=/tmp/tmpstg6ceuj/prophet_modeloqvl1du9/prophet_model-20250228021524.csv', 'method=optimize', 'algorithm=newton', 'iter=10000']\n",
            "02:15:24 - cmdstanpy - INFO - Chain [1] start processing\n",
            "INFO:cmdstanpy:Chain [1] start processing\n"
          ]
        },
        {
          "output_type": "stream",
          "name": "stdout",
          "text": [
            "Mean Absolute Percentage Error(mape)------------------------------------ <function mape at 0x792b639d7880>\n",
            "{'changepoint_prior_scale': 0.4, 'holidays_prior_scale': 0.2, 'n_changepoints': 100, 'seasonality_mode': 'multiplicative'}\n"
          ]
        },
        {
          "output_type": "stream",
          "name": "stderr",
          "text": [
            "02:15:29 - cmdstanpy - INFO - Chain [1] done processing\n",
            "INFO:cmdstanpy:Chain [1] done processing\n",
            "INFO:prophet:n_changepoints greater than number of observations. Using 23.\n",
            "DEBUG:cmdstanpy:input tempfile: /tmp/tmpstg6ceuj/luo0ljm3.json\n",
            "DEBUG:cmdstanpy:input tempfile: /tmp/tmpstg6ceuj/dqvl5lnv.json\n",
            "DEBUG:cmdstanpy:idx 0\n",
            "DEBUG:cmdstanpy:running CmdStan, num_threads: None\n",
            "DEBUG:cmdstanpy:CmdStan args: ['/usr/local/lib/python3.11/dist-packages/prophet/stan_model/prophet_model.bin', 'random', 'seed=93753', 'data', 'file=/tmp/tmpstg6ceuj/luo0ljm3.json', 'init=/tmp/tmpstg6ceuj/dqvl5lnv.json', 'output', 'file=/tmp/tmpstg6ceuj/prophet_modeldxla6aup/prophet_model-20250228021529.csv', 'method=optimize', 'algorithm=newton', 'iter=10000']\n",
            "02:15:29 - cmdstanpy - INFO - Chain [1] start processing\n",
            "INFO:cmdstanpy:Chain [1] start processing\n"
          ]
        },
        {
          "output_type": "stream",
          "name": "stdout",
          "text": [
            "Mean Absolute Percentage Error(mape)------------------------------------ <function mape at 0x792b639d7880>\n",
            "{'changepoint_prior_scale': 0.4, 'holidays_prior_scale': 0.2, 'n_changepoints': 100, 'seasonality_mode': 'additive'}\n"
          ]
        },
        {
          "output_type": "stream",
          "name": "stderr",
          "text": [
            "02:15:34 - cmdstanpy - INFO - Chain [1] done processing\n",
            "INFO:cmdstanpy:Chain [1] done processing\n",
            "INFO:prophet:n_changepoints greater than number of observations. Using 23.\n",
            "DEBUG:cmdstanpy:input tempfile: /tmp/tmpstg6ceuj/auz2419c.json\n",
            "DEBUG:cmdstanpy:input tempfile: /tmp/tmpstg6ceuj/922rt7pt.json\n",
            "DEBUG:cmdstanpy:idx 0\n",
            "DEBUG:cmdstanpy:running CmdStan, num_threads: None\n",
            "DEBUG:cmdstanpy:CmdStan args: ['/usr/local/lib/python3.11/dist-packages/prophet/stan_model/prophet_model.bin', 'random', 'seed=29975', 'data', 'file=/tmp/tmpstg6ceuj/auz2419c.json', 'init=/tmp/tmpstg6ceuj/922rt7pt.json', 'output', 'file=/tmp/tmpstg6ceuj/prophet_modell5dgn9pq/prophet_model-20250228021534.csv', 'method=optimize', 'algorithm=newton', 'iter=10000']\n",
            "02:15:34 - cmdstanpy - INFO - Chain [1] start processing\n",
            "INFO:cmdstanpy:Chain [1] start processing\n"
          ]
        },
        {
          "output_type": "stream",
          "name": "stdout",
          "text": [
            "Mean Absolute Percentage Error(mape)------------------------------------ <function mape at 0x792b639d7880>\n",
            "{'changepoint_prior_scale': 0.4, 'holidays_prior_scale': 0.2, 'n_changepoints': 150, 'seasonality_mode': 'multiplicative'}\n"
          ]
        },
        {
          "output_type": "stream",
          "name": "stderr",
          "text": [
            "02:15:39 - cmdstanpy - INFO - Chain [1] done processing\n",
            "INFO:cmdstanpy:Chain [1] done processing\n",
            "INFO:prophet:n_changepoints greater than number of observations. Using 23.\n",
            "DEBUG:cmdstanpy:input tempfile: /tmp/tmpstg6ceuj/30yymwo3.json\n",
            "DEBUG:cmdstanpy:input tempfile: /tmp/tmpstg6ceuj/zgsfpdrf.json\n",
            "DEBUG:cmdstanpy:idx 0\n",
            "DEBUG:cmdstanpy:running CmdStan, num_threads: None\n",
            "DEBUG:cmdstanpy:CmdStan args: ['/usr/local/lib/python3.11/dist-packages/prophet/stan_model/prophet_model.bin', 'random', 'seed=67746', 'data', 'file=/tmp/tmpstg6ceuj/30yymwo3.json', 'init=/tmp/tmpstg6ceuj/zgsfpdrf.json', 'output', 'file=/tmp/tmpstg6ceuj/prophet_model2sx0v9av/prophet_model-20250228021539.csv', 'method=optimize', 'algorithm=newton', 'iter=10000']\n",
            "02:15:39 - cmdstanpy - INFO - Chain [1] start processing\n",
            "INFO:cmdstanpy:Chain [1] start processing\n"
          ]
        },
        {
          "output_type": "stream",
          "name": "stdout",
          "text": [
            "Mean Absolute Percentage Error(mape)------------------------------------ <function mape at 0x792b639d7880>\n",
            "{'changepoint_prior_scale': 0.4, 'holidays_prior_scale': 0.2, 'n_changepoints': 150, 'seasonality_mode': 'additive'}\n"
          ]
        },
        {
          "output_type": "stream",
          "name": "stderr",
          "text": [
            "02:15:44 - cmdstanpy - INFO - Chain [1] done processing\n",
            "INFO:cmdstanpy:Chain [1] done processing\n",
            "INFO:prophet:n_changepoints greater than number of observations. Using 23.\n",
            "DEBUG:cmdstanpy:input tempfile: /tmp/tmpstg6ceuj/y2zzgt_b.json\n",
            "DEBUG:cmdstanpy:input tempfile: /tmp/tmpstg6ceuj/n8ivfzb1.json\n",
            "DEBUG:cmdstanpy:idx 0\n",
            "DEBUG:cmdstanpy:running CmdStan, num_threads: None\n",
            "DEBUG:cmdstanpy:CmdStan args: ['/usr/local/lib/python3.11/dist-packages/prophet/stan_model/prophet_model.bin', 'random', 'seed=58730', 'data', 'file=/tmp/tmpstg6ceuj/y2zzgt_b.json', 'init=/tmp/tmpstg6ceuj/n8ivfzb1.json', 'output', 'file=/tmp/tmpstg6ceuj/prophet_modeliacmqokp/prophet_model-20250228021544.csv', 'method=optimize', 'algorithm=newton', 'iter=10000']\n",
            "02:15:44 - cmdstanpy - INFO - Chain [1] start processing\n",
            "INFO:cmdstanpy:Chain [1] start processing\n"
          ]
        },
        {
          "output_type": "stream",
          "name": "stdout",
          "text": [
            "Mean Absolute Percentage Error(mape)------------------------------------ <function mape at 0x792b639d7880>\n",
            "{'changepoint_prior_scale': 0.4, 'holidays_prior_scale': 0.2, 'n_changepoints': 200, 'seasonality_mode': 'multiplicative'}\n"
          ]
        },
        {
          "output_type": "stream",
          "name": "stderr",
          "text": [
            "02:15:50 - cmdstanpy - INFO - Chain [1] done processing\n",
            "INFO:cmdstanpy:Chain [1] done processing\n",
            "INFO:prophet:n_changepoints greater than number of observations. Using 23.\n",
            "DEBUG:cmdstanpy:input tempfile: /tmp/tmpstg6ceuj/ij4faa1w.json\n",
            "DEBUG:cmdstanpy:input tempfile: /tmp/tmpstg6ceuj/s5l0m9dk.json\n",
            "DEBUG:cmdstanpy:idx 0\n",
            "DEBUG:cmdstanpy:running CmdStan, num_threads: None\n",
            "DEBUG:cmdstanpy:CmdStan args: ['/usr/local/lib/python3.11/dist-packages/prophet/stan_model/prophet_model.bin', 'random', 'seed=75025', 'data', 'file=/tmp/tmpstg6ceuj/ij4faa1w.json', 'init=/tmp/tmpstg6ceuj/s5l0m9dk.json', 'output', 'file=/tmp/tmpstg6ceuj/prophet_model_w4rf808/prophet_model-20250228021550.csv', 'method=optimize', 'algorithm=newton', 'iter=10000']\n",
            "02:15:50 - cmdstanpy - INFO - Chain [1] start processing\n",
            "INFO:cmdstanpy:Chain [1] start processing\n"
          ]
        },
        {
          "output_type": "stream",
          "name": "stdout",
          "text": [
            "Mean Absolute Percentage Error(mape)------------------------------------ <function mape at 0x792b639d7880>\n",
            "{'changepoint_prior_scale': 0.4, 'holidays_prior_scale': 0.2, 'n_changepoints': 200, 'seasonality_mode': 'additive'}\n"
          ]
        },
        {
          "output_type": "stream",
          "name": "stderr",
          "text": [
            "02:15:54 - cmdstanpy - INFO - Chain [1] done processing\n",
            "INFO:cmdstanpy:Chain [1] done processing\n",
            "INFO:prophet:n_changepoints greater than number of observations. Using 23.\n",
            "DEBUG:cmdstanpy:input tempfile: /tmp/tmpstg6ceuj/v0buixom.json\n",
            "DEBUG:cmdstanpy:input tempfile: /tmp/tmpstg6ceuj/niippqlc.json\n",
            "DEBUG:cmdstanpy:idx 0\n",
            "DEBUG:cmdstanpy:running CmdStan, num_threads: None\n",
            "DEBUG:cmdstanpy:CmdStan args: ['/usr/local/lib/python3.11/dist-packages/prophet/stan_model/prophet_model.bin', 'random', 'seed=77382', 'data', 'file=/tmp/tmpstg6ceuj/v0buixom.json', 'init=/tmp/tmpstg6ceuj/niippqlc.json', 'output', 'file=/tmp/tmpstg6ceuj/prophet_modelrz5evb8l/prophet_model-20250228021555.csv', 'method=optimize', 'algorithm=newton', 'iter=10000']\n",
            "02:15:55 - cmdstanpy - INFO - Chain [1] start processing\n",
            "INFO:cmdstanpy:Chain [1] start processing\n"
          ]
        },
        {
          "output_type": "stream",
          "name": "stdout",
          "text": [
            "Mean Absolute Percentage Error(mape)------------------------------------ <function mape at 0x792b639d7880>\n",
            "{'changepoint_prior_scale': 0.4, 'holidays_prior_scale': 0.3, 'n_changepoints': 100, 'seasonality_mode': 'multiplicative'}\n"
          ]
        },
        {
          "output_type": "stream",
          "name": "stderr",
          "text": [
            "02:15:56 - cmdstanpy - INFO - Chain [1] done processing\n",
            "INFO:cmdstanpy:Chain [1] done processing\n",
            "INFO:prophet:n_changepoints greater than number of observations. Using 23.\n",
            "DEBUG:cmdstanpy:input tempfile: /tmp/tmpstg6ceuj/b3niclpl.json\n",
            "DEBUG:cmdstanpy:input tempfile: /tmp/tmpstg6ceuj/tft84pi6.json\n",
            "DEBUG:cmdstanpy:idx 0\n",
            "DEBUG:cmdstanpy:running CmdStan, num_threads: None\n",
            "DEBUG:cmdstanpy:CmdStan args: ['/usr/local/lib/python3.11/dist-packages/prophet/stan_model/prophet_model.bin', 'random', 'seed=74998', 'data', 'file=/tmp/tmpstg6ceuj/b3niclpl.json', 'init=/tmp/tmpstg6ceuj/tft84pi6.json', 'output', 'file=/tmp/tmpstg6ceuj/prophet_model1jmbry92/prophet_model-20250228021556.csv', 'method=optimize', 'algorithm=newton', 'iter=10000']\n",
            "02:15:56 - cmdstanpy - INFO - Chain [1] start processing\n",
            "INFO:cmdstanpy:Chain [1] start processing\n"
          ]
        },
        {
          "output_type": "stream",
          "name": "stdout",
          "text": [
            "Mean Absolute Percentage Error(mape)------------------------------------ <function mape at 0x792b639d7880>\n",
            "{'changepoint_prior_scale': 0.4, 'holidays_prior_scale': 0.3, 'n_changepoints': 100, 'seasonality_mode': 'additive'}\n"
          ]
        },
        {
          "output_type": "stream",
          "name": "stderr",
          "text": [
            "02:15:58 - cmdstanpy - INFO - Chain [1] done processing\n",
            "INFO:cmdstanpy:Chain [1] done processing\n",
            "INFO:prophet:n_changepoints greater than number of observations. Using 23.\n",
            "DEBUG:cmdstanpy:input tempfile: /tmp/tmpstg6ceuj/d3syyyvx.json\n",
            "DEBUG:cmdstanpy:input tempfile: /tmp/tmpstg6ceuj/c_peo0js.json\n",
            "DEBUG:cmdstanpy:idx 0\n",
            "DEBUG:cmdstanpy:running CmdStan, num_threads: None\n",
            "DEBUG:cmdstanpy:CmdStan args: ['/usr/local/lib/python3.11/dist-packages/prophet/stan_model/prophet_model.bin', 'random', 'seed=99229', 'data', 'file=/tmp/tmpstg6ceuj/d3syyyvx.json', 'init=/tmp/tmpstg6ceuj/c_peo0js.json', 'output', 'file=/tmp/tmpstg6ceuj/prophet_modelcvkn66jj/prophet_model-20250228021558.csv', 'method=optimize', 'algorithm=newton', 'iter=10000']\n",
            "02:15:58 - cmdstanpy - INFO - Chain [1] start processing\n",
            "INFO:cmdstanpy:Chain [1] start processing\n"
          ]
        },
        {
          "output_type": "stream",
          "name": "stdout",
          "text": [
            "Mean Absolute Percentage Error(mape)------------------------------------ <function mape at 0x792b639d7880>\n",
            "{'changepoint_prior_scale': 0.4, 'holidays_prior_scale': 0.3, 'n_changepoints': 150, 'seasonality_mode': 'multiplicative'}\n"
          ]
        },
        {
          "output_type": "stream",
          "name": "stderr",
          "text": [
            "02:16:01 - cmdstanpy - INFO - Chain [1] done processing\n",
            "INFO:cmdstanpy:Chain [1] done processing\n",
            "INFO:prophet:n_changepoints greater than number of observations. Using 23.\n",
            "DEBUG:cmdstanpy:input tempfile: /tmp/tmpstg6ceuj/51p42_1o.json\n",
            "DEBUG:cmdstanpy:input tempfile: /tmp/tmpstg6ceuj/9zi48m1c.json\n",
            "DEBUG:cmdstanpy:idx 0\n",
            "DEBUG:cmdstanpy:running CmdStan, num_threads: None\n",
            "DEBUG:cmdstanpy:CmdStan args: ['/usr/local/lib/python3.11/dist-packages/prophet/stan_model/prophet_model.bin', 'random', 'seed=86906', 'data', 'file=/tmp/tmpstg6ceuj/51p42_1o.json', 'init=/tmp/tmpstg6ceuj/9zi48m1c.json', 'output', 'file=/tmp/tmpstg6ceuj/prophet_modeljjg7ijjc/prophet_model-20250228021601.csv', 'method=optimize', 'algorithm=newton', 'iter=10000']\n",
            "02:16:01 - cmdstanpy - INFO - Chain [1] start processing\n",
            "INFO:cmdstanpy:Chain [1] start processing\n"
          ]
        },
        {
          "output_type": "stream",
          "name": "stdout",
          "text": [
            "Mean Absolute Percentage Error(mape)------------------------------------ <function mape at 0x792b639d7880>\n",
            "{'changepoint_prior_scale': 0.4, 'holidays_prior_scale': 0.3, 'n_changepoints': 150, 'seasonality_mode': 'additive'}\n"
          ]
        },
        {
          "output_type": "stream",
          "name": "stderr",
          "text": [
            "02:16:02 - cmdstanpy - INFO - Chain [1] done processing\n",
            "INFO:cmdstanpy:Chain [1] done processing\n",
            "INFO:prophet:n_changepoints greater than number of observations. Using 23.\n",
            "DEBUG:cmdstanpy:input tempfile: /tmp/tmpstg6ceuj/cwm3o_to.json\n",
            "DEBUG:cmdstanpy:input tempfile: /tmp/tmpstg6ceuj/sw5ib6od.json\n",
            "DEBUG:cmdstanpy:idx 0\n",
            "DEBUG:cmdstanpy:running CmdStan, num_threads: None\n",
            "DEBUG:cmdstanpy:CmdStan args: ['/usr/local/lib/python3.11/dist-packages/prophet/stan_model/prophet_model.bin', 'random', 'seed=21936', 'data', 'file=/tmp/tmpstg6ceuj/cwm3o_to.json', 'init=/tmp/tmpstg6ceuj/sw5ib6od.json', 'output', 'file=/tmp/tmpstg6ceuj/prophet_modelf8ni8huc/prophet_model-20250228021603.csv', 'method=optimize', 'algorithm=newton', 'iter=10000']\n",
            "02:16:03 - cmdstanpy - INFO - Chain [1] start processing\n",
            "INFO:cmdstanpy:Chain [1] start processing\n"
          ]
        },
        {
          "output_type": "stream",
          "name": "stdout",
          "text": [
            "Mean Absolute Percentage Error(mape)------------------------------------ <function mape at 0x792b639d7880>\n",
            "{'changepoint_prior_scale': 0.4, 'holidays_prior_scale': 0.3, 'n_changepoints': 200, 'seasonality_mode': 'multiplicative'}\n"
          ]
        },
        {
          "output_type": "stream",
          "name": "stderr",
          "text": [
            "02:16:04 - cmdstanpy - INFO - Chain [1] done processing\n",
            "INFO:cmdstanpy:Chain [1] done processing\n",
            "INFO:prophet:n_changepoints greater than number of observations. Using 23.\n",
            "DEBUG:cmdstanpy:input tempfile: /tmp/tmpstg6ceuj/ac2umz2n.json\n",
            "DEBUG:cmdstanpy:input tempfile: /tmp/tmpstg6ceuj/kzoqae6e.json\n",
            "DEBUG:cmdstanpy:idx 0\n",
            "DEBUG:cmdstanpy:running CmdStan, num_threads: None\n",
            "DEBUG:cmdstanpy:CmdStan args: ['/usr/local/lib/python3.11/dist-packages/prophet/stan_model/prophet_model.bin', 'random', 'seed=55764', 'data', 'file=/tmp/tmpstg6ceuj/ac2umz2n.json', 'init=/tmp/tmpstg6ceuj/kzoqae6e.json', 'output', 'file=/tmp/tmpstg6ceuj/prophet_model_7w4j7pr/prophet_model-20250228021604.csv', 'method=optimize', 'algorithm=newton', 'iter=10000']\n",
            "02:16:04 - cmdstanpy - INFO - Chain [1] start processing\n",
            "INFO:cmdstanpy:Chain [1] start processing\n"
          ]
        },
        {
          "output_type": "stream",
          "name": "stdout",
          "text": [
            "Mean Absolute Percentage Error(mape)------------------------------------ <function mape at 0x792b639d7880>\n",
            "{'changepoint_prior_scale': 0.4, 'holidays_prior_scale': 0.3, 'n_changepoints': 200, 'seasonality_mode': 'additive'}\n"
          ]
        },
        {
          "output_type": "stream",
          "name": "stderr",
          "text": [
            "02:16:06 - cmdstanpy - INFO - Chain [1] done processing\n",
            "INFO:cmdstanpy:Chain [1] done processing\n",
            "INFO:prophet:n_changepoints greater than number of observations. Using 23.\n",
            "DEBUG:cmdstanpy:input tempfile: /tmp/tmpstg6ceuj/4o0uuvzp.json\n",
            "DEBUG:cmdstanpy:input tempfile: /tmp/tmpstg6ceuj/uqpt4r9q.json\n",
            "DEBUG:cmdstanpy:idx 0\n",
            "DEBUG:cmdstanpy:running CmdStan, num_threads: None\n",
            "DEBUG:cmdstanpy:CmdStan args: ['/usr/local/lib/python3.11/dist-packages/prophet/stan_model/prophet_model.bin', 'random', 'seed=30477', 'data', 'file=/tmp/tmpstg6ceuj/4o0uuvzp.json', 'init=/tmp/tmpstg6ceuj/uqpt4r9q.json', 'output', 'file=/tmp/tmpstg6ceuj/prophet_model3yan7edq/prophet_model-20250228021606.csv', 'method=optimize', 'algorithm=newton', 'iter=10000']\n",
            "02:16:06 - cmdstanpy - INFO - Chain [1] start processing\n",
            "INFO:cmdstanpy:Chain [1] start processing\n"
          ]
        },
        {
          "output_type": "stream",
          "name": "stdout",
          "text": [
            "Mean Absolute Percentage Error(mape)------------------------------------ <function mape at 0x792b639d7880>\n",
            "{'changepoint_prior_scale': 0.4, 'holidays_prior_scale': 0.4, 'n_changepoints': 100, 'seasonality_mode': 'multiplicative'}\n"
          ]
        },
        {
          "output_type": "stream",
          "name": "stderr",
          "text": [
            "02:16:09 - cmdstanpy - INFO - Chain [1] done processing\n",
            "INFO:cmdstanpy:Chain [1] done processing\n",
            "INFO:prophet:n_changepoints greater than number of observations. Using 23.\n",
            "DEBUG:cmdstanpy:input tempfile: /tmp/tmpstg6ceuj/v75qhnju.json\n",
            "DEBUG:cmdstanpy:input tempfile: /tmp/tmpstg6ceuj/m4p9_0n9.json\n",
            "DEBUG:cmdstanpy:idx 0\n",
            "DEBUG:cmdstanpy:running CmdStan, num_threads: None\n",
            "DEBUG:cmdstanpy:CmdStan args: ['/usr/local/lib/python3.11/dist-packages/prophet/stan_model/prophet_model.bin', 'random', 'seed=66828', 'data', 'file=/tmp/tmpstg6ceuj/v75qhnju.json', 'init=/tmp/tmpstg6ceuj/m4p9_0n9.json', 'output', 'file=/tmp/tmpstg6ceuj/prophet_modelucm56whs/prophet_model-20250228021609.csv', 'method=optimize', 'algorithm=newton', 'iter=10000']\n",
            "02:16:09 - cmdstanpy - INFO - Chain [1] start processing\n",
            "INFO:cmdstanpy:Chain [1] start processing\n"
          ]
        },
        {
          "output_type": "stream",
          "name": "stdout",
          "text": [
            "Mean Absolute Percentage Error(mape)------------------------------------ <function mape at 0x792b639d7880>\n",
            "{'changepoint_prior_scale': 0.4, 'holidays_prior_scale': 0.4, 'n_changepoints': 100, 'seasonality_mode': 'additive'}\n"
          ]
        },
        {
          "output_type": "stream",
          "name": "stderr",
          "text": [
            "02:16:12 - cmdstanpy - INFO - Chain [1] done processing\n",
            "INFO:cmdstanpy:Chain [1] done processing\n",
            "INFO:prophet:n_changepoints greater than number of observations. Using 23.\n",
            "DEBUG:cmdstanpy:input tempfile: /tmp/tmpstg6ceuj/10h03bnp.json\n",
            "DEBUG:cmdstanpy:input tempfile: /tmp/tmpstg6ceuj/mgelcm7d.json\n",
            "DEBUG:cmdstanpy:idx 0\n",
            "DEBUG:cmdstanpy:running CmdStan, num_threads: None\n",
            "DEBUG:cmdstanpy:CmdStan args: ['/usr/local/lib/python3.11/dist-packages/prophet/stan_model/prophet_model.bin', 'random', 'seed=80359', 'data', 'file=/tmp/tmpstg6ceuj/10h03bnp.json', 'init=/tmp/tmpstg6ceuj/mgelcm7d.json', 'output', 'file=/tmp/tmpstg6ceuj/prophet_modeljczz4vgb/prophet_model-20250228021612.csv', 'method=optimize', 'algorithm=newton', 'iter=10000']\n",
            "02:16:12 - cmdstanpy - INFO - Chain [1] start processing\n",
            "INFO:cmdstanpy:Chain [1] start processing\n"
          ]
        },
        {
          "output_type": "stream",
          "name": "stdout",
          "text": [
            "Mean Absolute Percentage Error(mape)------------------------------------ <function mape at 0x792b639d7880>\n",
            "{'changepoint_prior_scale': 0.4, 'holidays_prior_scale': 0.4, 'n_changepoints': 150, 'seasonality_mode': 'multiplicative'}\n"
          ]
        },
        {
          "output_type": "stream",
          "name": "stderr",
          "text": [
            "02:16:15 - cmdstanpy - INFO - Chain [1] done processing\n",
            "INFO:cmdstanpy:Chain [1] done processing\n",
            "INFO:prophet:n_changepoints greater than number of observations. Using 23.\n",
            "DEBUG:cmdstanpy:input tempfile: /tmp/tmpstg6ceuj/7mfsopry.json\n",
            "DEBUG:cmdstanpy:input tempfile: /tmp/tmpstg6ceuj/mp7se10y.json\n",
            "DEBUG:cmdstanpy:idx 0\n",
            "DEBUG:cmdstanpy:running CmdStan, num_threads: None\n",
            "DEBUG:cmdstanpy:CmdStan args: ['/usr/local/lib/python3.11/dist-packages/prophet/stan_model/prophet_model.bin', 'random', 'seed=75807', 'data', 'file=/tmp/tmpstg6ceuj/7mfsopry.json', 'init=/tmp/tmpstg6ceuj/mp7se10y.json', 'output', 'file=/tmp/tmpstg6ceuj/prophet_modelgkvzdsim/prophet_model-20250228021615.csv', 'method=optimize', 'algorithm=newton', 'iter=10000']\n",
            "02:16:15 - cmdstanpy - INFO - Chain [1] start processing\n",
            "INFO:cmdstanpy:Chain [1] start processing\n"
          ]
        },
        {
          "output_type": "stream",
          "name": "stdout",
          "text": [
            "Mean Absolute Percentage Error(mape)------------------------------------ <function mape at 0x792b639d7880>\n",
            "{'changepoint_prior_scale': 0.4, 'holidays_prior_scale': 0.4, 'n_changepoints': 150, 'seasonality_mode': 'additive'}\n"
          ]
        },
        {
          "output_type": "stream",
          "name": "stderr",
          "text": [
            "02:16:18 - cmdstanpy - INFO - Chain [1] done processing\n",
            "INFO:cmdstanpy:Chain [1] done processing\n",
            "INFO:prophet:n_changepoints greater than number of observations. Using 23.\n",
            "DEBUG:cmdstanpy:input tempfile: /tmp/tmpstg6ceuj/dui8w9lc.json\n",
            "DEBUG:cmdstanpy:input tempfile: /tmp/tmpstg6ceuj/gblgnsqx.json\n",
            "DEBUG:cmdstanpy:idx 0\n",
            "DEBUG:cmdstanpy:running CmdStan, num_threads: None\n",
            "DEBUG:cmdstanpy:CmdStan args: ['/usr/local/lib/python3.11/dist-packages/prophet/stan_model/prophet_model.bin', 'random', 'seed=147', 'data', 'file=/tmp/tmpstg6ceuj/dui8w9lc.json', 'init=/tmp/tmpstg6ceuj/gblgnsqx.json', 'output', 'file=/tmp/tmpstg6ceuj/prophet_modelgildc2bv/prophet_model-20250228021618.csv', 'method=optimize', 'algorithm=newton', 'iter=10000']\n",
            "02:16:18 - cmdstanpy - INFO - Chain [1] start processing\n",
            "INFO:cmdstanpy:Chain [1] start processing\n"
          ]
        },
        {
          "output_type": "stream",
          "name": "stdout",
          "text": [
            "Mean Absolute Percentage Error(mape)------------------------------------ <function mape at 0x792b639d7880>\n",
            "{'changepoint_prior_scale': 0.4, 'holidays_prior_scale': 0.4, 'n_changepoints': 200, 'seasonality_mode': 'multiplicative'}\n"
          ]
        },
        {
          "output_type": "stream",
          "name": "stderr",
          "text": [
            "02:16:21 - cmdstanpy - INFO - Chain [1] done processing\n",
            "INFO:cmdstanpy:Chain [1] done processing\n",
            "INFO:prophet:n_changepoints greater than number of observations. Using 23.\n",
            "DEBUG:cmdstanpy:input tempfile: /tmp/tmpstg6ceuj/8ogek0oc.json\n",
            "DEBUG:cmdstanpy:input tempfile: /tmp/tmpstg6ceuj/lo_9707k.json\n",
            "DEBUG:cmdstanpy:idx 0\n",
            "DEBUG:cmdstanpy:running CmdStan, num_threads: None\n",
            "DEBUG:cmdstanpy:CmdStan args: ['/usr/local/lib/python3.11/dist-packages/prophet/stan_model/prophet_model.bin', 'random', 'seed=24483', 'data', 'file=/tmp/tmpstg6ceuj/8ogek0oc.json', 'init=/tmp/tmpstg6ceuj/lo_9707k.json', 'output', 'file=/tmp/tmpstg6ceuj/prophet_model3k3csevp/prophet_model-20250228021621.csv', 'method=optimize', 'algorithm=newton', 'iter=10000']\n",
            "02:16:21 - cmdstanpy - INFO - Chain [1] start processing\n",
            "INFO:cmdstanpy:Chain [1] start processing\n"
          ]
        },
        {
          "output_type": "stream",
          "name": "stdout",
          "text": [
            "Mean Absolute Percentage Error(mape)------------------------------------ <function mape at 0x792b639d7880>\n",
            "{'changepoint_prior_scale': 0.4, 'holidays_prior_scale': 0.4, 'n_changepoints': 200, 'seasonality_mode': 'additive'}\n"
          ]
        },
        {
          "output_type": "stream",
          "name": "stderr",
          "text": [
            "02:16:24 - cmdstanpy - INFO - Chain [1] done processing\n",
            "INFO:cmdstanpy:Chain [1] done processing\n",
            "INFO:prophet:n_changepoints greater than number of observations. Using 23.\n",
            "DEBUG:cmdstanpy:input tempfile: /tmp/tmpstg6ceuj/yzi61anq.json\n",
            "DEBUG:cmdstanpy:input tempfile: /tmp/tmpstg6ceuj/l77s87h0.json\n",
            "DEBUG:cmdstanpy:idx 0\n",
            "DEBUG:cmdstanpy:running CmdStan, num_threads: None\n",
            "DEBUG:cmdstanpy:CmdStan args: ['/usr/local/lib/python3.11/dist-packages/prophet/stan_model/prophet_model.bin', 'random', 'seed=87004', 'data', 'file=/tmp/tmpstg6ceuj/yzi61anq.json', 'init=/tmp/tmpstg6ceuj/l77s87h0.json', 'output', 'file=/tmp/tmpstg6ceuj/prophet_modelkkcuxfrt/prophet_model-20250228021624.csv', 'method=optimize', 'algorithm=newton', 'iter=10000']\n",
            "02:16:24 - cmdstanpy - INFO - Chain [1] start processing\n",
            "INFO:cmdstanpy:Chain [1] start processing\n"
          ]
        },
        {
          "output_type": "stream",
          "name": "stdout",
          "text": [
            "Mean Absolute Percentage Error(mape)------------------------------------ <function mape at 0x792b639d7880>\n",
            "{'changepoint_prior_scale': 0.4, 'holidays_prior_scale': 0.5, 'n_changepoints': 100, 'seasonality_mode': 'multiplicative'}\n"
          ]
        },
        {
          "output_type": "stream",
          "name": "stderr",
          "text": [
            "02:16:27 - cmdstanpy - INFO - Chain [1] done processing\n",
            "INFO:cmdstanpy:Chain [1] done processing\n",
            "INFO:prophet:n_changepoints greater than number of observations. Using 23.\n",
            "DEBUG:cmdstanpy:input tempfile: /tmp/tmpstg6ceuj/d21mx3cu.json\n",
            "DEBUG:cmdstanpy:input tempfile: /tmp/tmpstg6ceuj/3jya4oq9.json\n",
            "DEBUG:cmdstanpy:idx 0\n",
            "DEBUG:cmdstanpy:running CmdStan, num_threads: None\n",
            "DEBUG:cmdstanpy:CmdStan args: ['/usr/local/lib/python3.11/dist-packages/prophet/stan_model/prophet_model.bin', 'random', 'seed=12620', 'data', 'file=/tmp/tmpstg6ceuj/d21mx3cu.json', 'init=/tmp/tmpstg6ceuj/3jya4oq9.json', 'output', 'file=/tmp/tmpstg6ceuj/prophet_model9k65zy1a/prophet_model-20250228021627.csv', 'method=optimize', 'algorithm=newton', 'iter=10000']\n",
            "02:16:27 - cmdstanpy - INFO - Chain [1] start processing\n",
            "INFO:cmdstanpy:Chain [1] start processing\n"
          ]
        },
        {
          "output_type": "stream",
          "name": "stdout",
          "text": [
            "Mean Absolute Percentage Error(mape)------------------------------------ <function mape at 0x792b639d7880>\n",
            "{'changepoint_prior_scale': 0.4, 'holidays_prior_scale': 0.5, 'n_changepoints': 100, 'seasonality_mode': 'additive'}\n"
          ]
        },
        {
          "output_type": "stream",
          "name": "stderr",
          "text": [
            "02:16:29 - cmdstanpy - INFO - Chain [1] done processing\n",
            "INFO:cmdstanpy:Chain [1] done processing\n",
            "INFO:prophet:n_changepoints greater than number of observations. Using 23.\n",
            "DEBUG:cmdstanpy:input tempfile: /tmp/tmpstg6ceuj/0jzuh9x0.json\n",
            "DEBUG:cmdstanpy:input tempfile: /tmp/tmpstg6ceuj/k5xybhjq.json\n",
            "DEBUG:cmdstanpy:idx 0\n",
            "DEBUG:cmdstanpy:running CmdStan, num_threads: None\n",
            "DEBUG:cmdstanpy:CmdStan args: ['/usr/local/lib/python3.11/dist-packages/prophet/stan_model/prophet_model.bin', 'random', 'seed=76078', 'data', 'file=/tmp/tmpstg6ceuj/0jzuh9x0.json', 'init=/tmp/tmpstg6ceuj/k5xybhjq.json', 'output', 'file=/tmp/tmpstg6ceuj/prophet_modelcvx68xy0/prophet_model-20250228021630.csv', 'method=optimize', 'algorithm=newton', 'iter=10000']\n",
            "02:16:30 - cmdstanpy - INFO - Chain [1] start processing\n",
            "INFO:cmdstanpy:Chain [1] start processing\n"
          ]
        },
        {
          "output_type": "stream",
          "name": "stdout",
          "text": [
            "Mean Absolute Percentage Error(mape)------------------------------------ <function mape at 0x792b639d7880>\n",
            "{'changepoint_prior_scale': 0.4, 'holidays_prior_scale': 0.5, 'n_changepoints': 150, 'seasonality_mode': 'multiplicative'}\n"
          ]
        },
        {
          "output_type": "stream",
          "name": "stderr",
          "text": [
            "02:16:31 - cmdstanpy - INFO - Chain [1] done processing\n",
            "INFO:cmdstanpy:Chain [1] done processing\n",
            "INFO:prophet:n_changepoints greater than number of observations. Using 23.\n",
            "DEBUG:cmdstanpy:input tempfile: /tmp/tmpstg6ceuj/n6on80qj.json\n",
            "DEBUG:cmdstanpy:input tempfile: /tmp/tmpstg6ceuj/swhmq3ek.json\n",
            "DEBUG:cmdstanpy:idx 0\n",
            "DEBUG:cmdstanpy:running CmdStan, num_threads: None\n",
            "DEBUG:cmdstanpy:CmdStan args: ['/usr/local/lib/python3.11/dist-packages/prophet/stan_model/prophet_model.bin', 'random', 'seed=56509', 'data', 'file=/tmp/tmpstg6ceuj/n6on80qj.json', 'init=/tmp/tmpstg6ceuj/swhmq3ek.json', 'output', 'file=/tmp/tmpstg6ceuj/prophet_modeljvyrimj4/prophet_model-20250228021632.csv', 'method=optimize', 'algorithm=newton', 'iter=10000']\n",
            "02:16:32 - cmdstanpy - INFO - Chain [1] start processing\n",
            "INFO:cmdstanpy:Chain [1] start processing\n"
          ]
        },
        {
          "output_type": "stream",
          "name": "stdout",
          "text": [
            "Mean Absolute Percentage Error(mape)------------------------------------ <function mape at 0x792b639d7880>\n",
            "{'changepoint_prior_scale': 0.4, 'holidays_prior_scale': 0.5, 'n_changepoints': 150, 'seasonality_mode': 'additive'}\n"
          ]
        },
        {
          "output_type": "stream",
          "name": "stderr",
          "text": [
            "02:16:34 - cmdstanpy - INFO - Chain [1] done processing\n",
            "INFO:cmdstanpy:Chain [1] done processing\n",
            "INFO:prophet:n_changepoints greater than number of observations. Using 23.\n",
            "DEBUG:cmdstanpy:input tempfile: /tmp/tmpstg6ceuj/qht1yht8.json\n",
            "DEBUG:cmdstanpy:input tempfile: /tmp/tmpstg6ceuj/d6tplv9_.json\n",
            "DEBUG:cmdstanpy:idx 0\n",
            "DEBUG:cmdstanpy:running CmdStan, num_threads: None\n",
            "DEBUG:cmdstanpy:CmdStan args: ['/usr/local/lib/python3.11/dist-packages/prophet/stan_model/prophet_model.bin', 'random', 'seed=65434', 'data', 'file=/tmp/tmpstg6ceuj/qht1yht8.json', 'init=/tmp/tmpstg6ceuj/d6tplv9_.json', 'output', 'file=/tmp/tmpstg6ceuj/prophet_modelen8bdmtf/prophet_model-20250228021635.csv', 'method=optimize', 'algorithm=newton', 'iter=10000']\n",
            "02:16:35 - cmdstanpy - INFO - Chain [1] start processing\n",
            "INFO:cmdstanpy:Chain [1] start processing\n"
          ]
        },
        {
          "output_type": "stream",
          "name": "stdout",
          "text": [
            "Mean Absolute Percentage Error(mape)------------------------------------ <function mape at 0x792b639d7880>\n",
            "{'changepoint_prior_scale': 0.4, 'holidays_prior_scale': 0.5, 'n_changepoints': 200, 'seasonality_mode': 'multiplicative'}\n"
          ]
        },
        {
          "output_type": "stream",
          "name": "stderr",
          "text": [
            "02:16:37 - cmdstanpy - INFO - Chain [1] done processing\n",
            "INFO:cmdstanpy:Chain [1] done processing\n",
            "INFO:prophet:n_changepoints greater than number of observations. Using 23.\n",
            "DEBUG:cmdstanpy:input tempfile: /tmp/tmpstg6ceuj/foqiqqa1.json\n",
            "DEBUG:cmdstanpy:input tempfile: /tmp/tmpstg6ceuj/2icw_5lr.json\n",
            "DEBUG:cmdstanpy:idx 0\n",
            "DEBUG:cmdstanpy:running CmdStan, num_threads: None\n",
            "DEBUG:cmdstanpy:CmdStan args: ['/usr/local/lib/python3.11/dist-packages/prophet/stan_model/prophet_model.bin', 'random', 'seed=50532', 'data', 'file=/tmp/tmpstg6ceuj/foqiqqa1.json', 'init=/tmp/tmpstg6ceuj/2icw_5lr.json', 'output', 'file=/tmp/tmpstg6ceuj/prophet_modeli8j9deey/prophet_model-20250228021637.csv', 'method=optimize', 'algorithm=newton', 'iter=10000']\n",
            "02:16:37 - cmdstanpy - INFO - Chain [1] start processing\n",
            "INFO:cmdstanpy:Chain [1] start processing\n"
          ]
        },
        {
          "output_type": "stream",
          "name": "stdout",
          "text": [
            "Mean Absolute Percentage Error(mape)------------------------------------ <function mape at 0x792b639d7880>\n",
            "{'changepoint_prior_scale': 0.4, 'holidays_prior_scale': 0.5, 'n_changepoints': 200, 'seasonality_mode': 'additive'}\n"
          ]
        },
        {
          "output_type": "stream",
          "name": "stderr",
          "text": [
            "02:16:40 - cmdstanpy - INFO - Chain [1] done processing\n",
            "INFO:cmdstanpy:Chain [1] done processing\n",
            "INFO:prophet:n_changepoints greater than number of observations. Using 23.\n",
            "DEBUG:cmdstanpy:input tempfile: /tmp/tmpstg6ceuj/alhjpk_w.json\n",
            "DEBUG:cmdstanpy:input tempfile: /tmp/tmpstg6ceuj/qv3_vc25.json\n",
            "DEBUG:cmdstanpy:idx 0\n",
            "DEBUG:cmdstanpy:running CmdStan, num_threads: None\n",
            "DEBUG:cmdstanpy:CmdStan args: ['/usr/local/lib/python3.11/dist-packages/prophet/stan_model/prophet_model.bin', 'random', 'seed=78932', 'data', 'file=/tmp/tmpstg6ceuj/alhjpk_w.json', 'init=/tmp/tmpstg6ceuj/qv3_vc25.json', 'output', 'file=/tmp/tmpstg6ceuj/prophet_modelvifxh_hr/prophet_model-20250228021641.csv', 'method=optimize', 'algorithm=newton', 'iter=10000']\n",
            "02:16:41 - cmdstanpy - INFO - Chain [1] start processing\n",
            "INFO:cmdstanpy:Chain [1] start processing\n"
          ]
        },
        {
          "output_type": "stream",
          "name": "stdout",
          "text": [
            "Mean Absolute Percentage Error(mape)------------------------------------ <function mape at 0x792b639d7880>\n",
            "{'changepoint_prior_scale': 0.5, 'holidays_prior_scale': 0.1, 'n_changepoints': 100, 'seasonality_mode': 'multiplicative'}\n"
          ]
        },
        {
          "output_type": "stream",
          "name": "stderr",
          "text": [
            "02:16:42 - cmdstanpy - INFO - Chain [1] done processing\n",
            "INFO:cmdstanpy:Chain [1] done processing\n",
            "INFO:prophet:n_changepoints greater than number of observations. Using 23.\n",
            "DEBUG:cmdstanpy:input tempfile: /tmp/tmpstg6ceuj/7ly86qsv.json\n",
            "DEBUG:cmdstanpy:input tempfile: /tmp/tmpstg6ceuj/erloi851.json\n",
            "DEBUG:cmdstanpy:idx 0\n",
            "DEBUG:cmdstanpy:running CmdStan, num_threads: None\n",
            "DEBUG:cmdstanpy:CmdStan args: ['/usr/local/lib/python3.11/dist-packages/prophet/stan_model/prophet_model.bin', 'random', 'seed=36330', 'data', 'file=/tmp/tmpstg6ceuj/7ly86qsv.json', 'init=/tmp/tmpstg6ceuj/erloi851.json', 'output', 'file=/tmp/tmpstg6ceuj/prophet_model2dkarjbm/prophet_model-20250228021642.csv', 'method=optimize', 'algorithm=newton', 'iter=10000']\n",
            "02:16:42 - cmdstanpy - INFO - Chain [1] start processing\n",
            "INFO:cmdstanpy:Chain [1] start processing\n"
          ]
        },
        {
          "output_type": "stream",
          "name": "stdout",
          "text": [
            "Mean Absolute Percentage Error(mape)------------------------------------ <function mape at 0x792b639d7880>\n",
            "{'changepoint_prior_scale': 0.5, 'holidays_prior_scale': 0.1, 'n_changepoints': 100, 'seasonality_mode': 'additive'}\n"
          ]
        },
        {
          "output_type": "stream",
          "name": "stderr",
          "text": [
            "02:16:47 - cmdstanpy - INFO - Chain [1] done processing\n",
            "INFO:cmdstanpy:Chain [1] done processing\n",
            "INFO:prophet:n_changepoints greater than number of observations. Using 23.\n",
            "DEBUG:cmdstanpy:input tempfile: /tmp/tmpstg6ceuj/s3di2rme.json\n",
            "DEBUG:cmdstanpy:input tempfile: /tmp/tmpstg6ceuj/8yntbe9a.json\n",
            "DEBUG:cmdstanpy:idx 0\n",
            "DEBUG:cmdstanpy:running CmdStan, num_threads: None\n",
            "DEBUG:cmdstanpy:CmdStan args: ['/usr/local/lib/python3.11/dist-packages/prophet/stan_model/prophet_model.bin', 'random', 'seed=1060', 'data', 'file=/tmp/tmpstg6ceuj/s3di2rme.json', 'init=/tmp/tmpstg6ceuj/8yntbe9a.json', 'output', 'file=/tmp/tmpstg6ceuj/prophet_modelf6jumbwt/prophet_model-20250228021647.csv', 'method=optimize', 'algorithm=newton', 'iter=10000']\n",
            "02:16:47 - cmdstanpy - INFO - Chain [1] start processing\n",
            "INFO:cmdstanpy:Chain [1] start processing\n"
          ]
        },
        {
          "output_type": "stream",
          "name": "stdout",
          "text": [
            "Mean Absolute Percentage Error(mape)------------------------------------ <function mape at 0x792b639d7880>\n",
            "{'changepoint_prior_scale': 0.5, 'holidays_prior_scale': 0.1, 'n_changepoints': 150, 'seasonality_mode': 'multiplicative'}\n"
          ]
        },
        {
          "output_type": "stream",
          "name": "stderr",
          "text": [
            "02:16:49 - cmdstanpy - INFO - Chain [1] done processing\n",
            "INFO:cmdstanpy:Chain [1] done processing\n",
            "INFO:prophet:n_changepoints greater than number of observations. Using 23.\n",
            "DEBUG:cmdstanpy:input tempfile: /tmp/tmpstg6ceuj/3epdeqas.json\n",
            "DEBUG:cmdstanpy:input tempfile: /tmp/tmpstg6ceuj/5yxh7utm.json\n",
            "DEBUG:cmdstanpy:idx 0\n",
            "DEBUG:cmdstanpy:running CmdStan, num_threads: None\n",
            "DEBUG:cmdstanpy:CmdStan args: ['/usr/local/lib/python3.11/dist-packages/prophet/stan_model/prophet_model.bin', 'random', 'seed=69987', 'data', 'file=/tmp/tmpstg6ceuj/3epdeqas.json', 'init=/tmp/tmpstg6ceuj/5yxh7utm.json', 'output', 'file=/tmp/tmpstg6ceuj/prophet_model67t1fesf/prophet_model-20250228021649.csv', 'method=optimize', 'algorithm=newton', 'iter=10000']\n",
            "02:16:49 - cmdstanpy - INFO - Chain [1] start processing\n",
            "INFO:cmdstanpy:Chain [1] start processing\n"
          ]
        },
        {
          "output_type": "stream",
          "name": "stdout",
          "text": [
            "Mean Absolute Percentage Error(mape)------------------------------------ <function mape at 0x792b639d7880>\n",
            "{'changepoint_prior_scale': 0.5, 'holidays_prior_scale': 0.1, 'n_changepoints': 150, 'seasonality_mode': 'additive'}\n"
          ]
        },
        {
          "output_type": "stream",
          "name": "stderr",
          "text": [
            "02:16:55 - cmdstanpy - INFO - Chain [1] done processing\n",
            "INFO:cmdstanpy:Chain [1] done processing\n",
            "INFO:prophet:n_changepoints greater than number of observations. Using 23.\n",
            "DEBUG:cmdstanpy:input tempfile: /tmp/tmpstg6ceuj/tdw9qxhu.json\n",
            "DEBUG:cmdstanpy:input tempfile: /tmp/tmpstg6ceuj/4hrm2wqw.json\n",
            "DEBUG:cmdstanpy:idx 0\n",
            "DEBUG:cmdstanpy:running CmdStan, num_threads: None\n",
            "DEBUG:cmdstanpy:CmdStan args: ['/usr/local/lib/python3.11/dist-packages/prophet/stan_model/prophet_model.bin', 'random', 'seed=71224', 'data', 'file=/tmp/tmpstg6ceuj/tdw9qxhu.json', 'init=/tmp/tmpstg6ceuj/4hrm2wqw.json', 'output', 'file=/tmp/tmpstg6ceuj/prophet_modelsl44_jf8/prophet_model-20250228021655.csv', 'method=optimize', 'algorithm=newton', 'iter=10000']\n",
            "02:16:55 - cmdstanpy - INFO - Chain [1] start processing\n",
            "INFO:cmdstanpy:Chain [1] start processing\n"
          ]
        },
        {
          "output_type": "stream",
          "name": "stdout",
          "text": [
            "Mean Absolute Percentage Error(mape)------------------------------------ <function mape at 0x792b639d7880>\n",
            "{'changepoint_prior_scale': 0.5, 'holidays_prior_scale': 0.1, 'n_changepoints': 200, 'seasonality_mode': 'multiplicative'}\n"
          ]
        },
        {
          "output_type": "stream",
          "name": "stderr",
          "text": [
            "02:16:56 - cmdstanpy - INFO - Chain [1] done processing\n",
            "INFO:cmdstanpy:Chain [1] done processing\n",
            "INFO:prophet:n_changepoints greater than number of observations. Using 23.\n",
            "DEBUG:cmdstanpy:input tempfile: /tmp/tmpstg6ceuj/a0nwy52d.json\n",
            "DEBUG:cmdstanpy:input tempfile: /tmp/tmpstg6ceuj/rptg2sr4.json\n",
            "DEBUG:cmdstanpy:idx 0\n",
            "DEBUG:cmdstanpy:running CmdStan, num_threads: None\n",
            "DEBUG:cmdstanpy:CmdStan args: ['/usr/local/lib/python3.11/dist-packages/prophet/stan_model/prophet_model.bin', 'random', 'seed=17553', 'data', 'file=/tmp/tmpstg6ceuj/a0nwy52d.json', 'init=/tmp/tmpstg6ceuj/rptg2sr4.json', 'output', 'file=/tmp/tmpstg6ceuj/prophet_modelx7j5rrbk/prophet_model-20250228021657.csv', 'method=optimize', 'algorithm=newton', 'iter=10000']\n",
            "02:16:57 - cmdstanpy - INFO - Chain [1] start processing\n",
            "INFO:cmdstanpy:Chain [1] start processing\n"
          ]
        },
        {
          "output_type": "stream",
          "name": "stdout",
          "text": [
            "Mean Absolute Percentage Error(mape)------------------------------------ <function mape at 0x792b639d7880>\n",
            "{'changepoint_prior_scale': 0.5, 'holidays_prior_scale': 0.1, 'n_changepoints': 200, 'seasonality_mode': 'additive'}\n"
          ]
        },
        {
          "output_type": "stream",
          "name": "stderr",
          "text": [
            "02:17:01 - cmdstanpy - INFO - Chain [1] done processing\n",
            "INFO:cmdstanpy:Chain [1] done processing\n",
            "INFO:prophet:n_changepoints greater than number of observations. Using 23.\n",
            "DEBUG:cmdstanpy:input tempfile: /tmp/tmpstg6ceuj/fattd6k_.json\n",
            "DEBUG:cmdstanpy:input tempfile: /tmp/tmpstg6ceuj/qb1uxwy4.json\n",
            "DEBUG:cmdstanpy:idx 0\n",
            "DEBUG:cmdstanpy:running CmdStan, num_threads: None\n",
            "DEBUG:cmdstanpy:CmdStan args: ['/usr/local/lib/python3.11/dist-packages/prophet/stan_model/prophet_model.bin', 'random', 'seed=3581', 'data', 'file=/tmp/tmpstg6ceuj/fattd6k_.json', 'init=/tmp/tmpstg6ceuj/qb1uxwy4.json', 'output', 'file=/tmp/tmpstg6ceuj/prophet_modelagqstdnt/prophet_model-20250228021702.csv', 'method=optimize', 'algorithm=newton', 'iter=10000']\n",
            "02:17:02 - cmdstanpy - INFO - Chain [1] start processing\n",
            "INFO:cmdstanpy:Chain [1] start processing\n"
          ]
        },
        {
          "output_type": "stream",
          "name": "stdout",
          "text": [
            "Mean Absolute Percentage Error(mape)------------------------------------ <function mape at 0x792b639d7880>\n",
            "{'changepoint_prior_scale': 0.5, 'holidays_prior_scale': 0.2, 'n_changepoints': 100, 'seasonality_mode': 'multiplicative'}\n"
          ]
        },
        {
          "output_type": "stream",
          "name": "stderr",
          "text": [
            "02:17:05 - cmdstanpy - INFO - Chain [1] done processing\n",
            "INFO:cmdstanpy:Chain [1] done processing\n",
            "INFO:prophet:n_changepoints greater than number of observations. Using 23.\n",
            "DEBUG:cmdstanpy:input tempfile: /tmp/tmpstg6ceuj/ez0p2zdm.json\n",
            "DEBUG:cmdstanpy:input tempfile: /tmp/tmpstg6ceuj/px1029cy.json\n",
            "DEBUG:cmdstanpy:idx 0\n",
            "DEBUG:cmdstanpy:running CmdStan, num_threads: None\n",
            "DEBUG:cmdstanpy:CmdStan args: ['/usr/local/lib/python3.11/dist-packages/prophet/stan_model/prophet_model.bin', 'random', 'seed=5041', 'data', 'file=/tmp/tmpstg6ceuj/ez0p2zdm.json', 'init=/tmp/tmpstg6ceuj/px1029cy.json', 'output', 'file=/tmp/tmpstg6ceuj/prophet_modelukdv4pln/prophet_model-20250228021705.csv', 'method=optimize', 'algorithm=newton', 'iter=10000']\n",
            "02:17:05 - cmdstanpy - INFO - Chain [1] start processing\n",
            "INFO:cmdstanpy:Chain [1] start processing\n"
          ]
        },
        {
          "output_type": "stream",
          "name": "stdout",
          "text": [
            "Mean Absolute Percentage Error(mape)------------------------------------ <function mape at 0x792b639d7880>\n",
            "{'changepoint_prior_scale': 0.5, 'holidays_prior_scale': 0.2, 'n_changepoints': 100, 'seasonality_mode': 'additive'}\n"
          ]
        },
        {
          "output_type": "stream",
          "name": "stderr",
          "text": [
            "02:17:07 - cmdstanpy - INFO - Chain [1] done processing\n",
            "INFO:cmdstanpy:Chain [1] done processing\n",
            "INFO:prophet:n_changepoints greater than number of observations. Using 23.\n",
            "DEBUG:cmdstanpy:input tempfile: /tmp/tmpstg6ceuj/up7f9jkd.json\n",
            "DEBUG:cmdstanpy:input tempfile: /tmp/tmpstg6ceuj/tl1f6wvg.json\n",
            "DEBUG:cmdstanpy:idx 0\n",
            "DEBUG:cmdstanpy:running CmdStan, num_threads: None\n",
            "DEBUG:cmdstanpy:CmdStan args: ['/usr/local/lib/python3.11/dist-packages/prophet/stan_model/prophet_model.bin', 'random', 'seed=12406', 'data', 'file=/tmp/tmpstg6ceuj/up7f9jkd.json', 'init=/tmp/tmpstg6ceuj/tl1f6wvg.json', 'output', 'file=/tmp/tmpstg6ceuj/prophet_modely0k8yi97/prophet_model-20250228021708.csv', 'method=optimize', 'algorithm=newton', 'iter=10000']\n",
            "02:17:08 - cmdstanpy - INFO - Chain [1] start processing\n",
            "INFO:cmdstanpy:Chain [1] start processing\n"
          ]
        },
        {
          "output_type": "stream",
          "name": "stdout",
          "text": [
            "Mean Absolute Percentage Error(mape)------------------------------------ <function mape at 0x792b639d7880>\n",
            "{'changepoint_prior_scale': 0.5, 'holidays_prior_scale': 0.2, 'n_changepoints': 150, 'seasonality_mode': 'multiplicative'}\n"
          ]
        },
        {
          "output_type": "stream",
          "name": "stderr",
          "text": [
            "02:17:10 - cmdstanpy - INFO - Chain [1] done processing\n",
            "INFO:cmdstanpy:Chain [1] done processing\n",
            "INFO:prophet:n_changepoints greater than number of observations. Using 23.\n",
            "DEBUG:cmdstanpy:input tempfile: /tmp/tmpstg6ceuj/4l8etspj.json\n",
            "DEBUG:cmdstanpy:input tempfile: /tmp/tmpstg6ceuj/pp4guxeb.json\n",
            "DEBUG:cmdstanpy:idx 0\n",
            "DEBUG:cmdstanpy:running CmdStan, num_threads: None\n",
            "DEBUG:cmdstanpy:CmdStan args: ['/usr/local/lib/python3.11/dist-packages/prophet/stan_model/prophet_model.bin', 'random', 'seed=84705', 'data', 'file=/tmp/tmpstg6ceuj/4l8etspj.json', 'init=/tmp/tmpstg6ceuj/pp4guxeb.json', 'output', 'file=/tmp/tmpstg6ceuj/prophet_modeln9jrq2f0/prophet_model-20250228021710.csv', 'method=optimize', 'algorithm=newton', 'iter=10000']\n",
            "02:17:10 - cmdstanpy - INFO - Chain [1] start processing\n",
            "INFO:cmdstanpy:Chain [1] start processing\n"
          ]
        },
        {
          "output_type": "stream",
          "name": "stdout",
          "text": [
            "Mean Absolute Percentage Error(mape)------------------------------------ <function mape at 0x792b639d7880>\n",
            "{'changepoint_prior_scale': 0.5, 'holidays_prior_scale': 0.2, 'n_changepoints': 150, 'seasonality_mode': 'additive'}\n"
          ]
        },
        {
          "output_type": "stream",
          "name": "stderr",
          "text": [
            "02:17:12 - cmdstanpy - INFO - Chain [1] done processing\n",
            "INFO:cmdstanpy:Chain [1] done processing\n",
            "INFO:prophet:n_changepoints greater than number of observations. Using 23.\n",
            "DEBUG:cmdstanpy:input tempfile: /tmp/tmpstg6ceuj/uij54h9u.json\n",
            "DEBUG:cmdstanpy:input tempfile: /tmp/tmpstg6ceuj/5jwn2ddy.json\n",
            "DEBUG:cmdstanpy:idx 0\n",
            "DEBUG:cmdstanpy:running CmdStan, num_threads: None\n",
            "DEBUG:cmdstanpy:CmdStan args: ['/usr/local/lib/python3.11/dist-packages/prophet/stan_model/prophet_model.bin', 'random', 'seed=49707', 'data', 'file=/tmp/tmpstg6ceuj/uij54h9u.json', 'init=/tmp/tmpstg6ceuj/5jwn2ddy.json', 'output', 'file=/tmp/tmpstg6ceuj/prophet_modeleo_zxyjk/prophet_model-20250228021712.csv', 'method=optimize', 'algorithm=newton', 'iter=10000']\n",
            "02:17:12 - cmdstanpy - INFO - Chain [1] start processing\n",
            "INFO:cmdstanpy:Chain [1] start processing\n"
          ]
        },
        {
          "output_type": "stream",
          "name": "stdout",
          "text": [
            "Mean Absolute Percentage Error(mape)------------------------------------ <function mape at 0x792b639d7880>\n",
            "{'changepoint_prior_scale': 0.5, 'holidays_prior_scale': 0.2, 'n_changepoints': 200, 'seasonality_mode': 'multiplicative'}\n"
          ]
        },
        {
          "output_type": "stream",
          "name": "stderr",
          "text": [
            "02:17:15 - cmdstanpy - INFO - Chain [1] done processing\n",
            "INFO:cmdstanpy:Chain [1] done processing\n",
            "INFO:prophet:n_changepoints greater than number of observations. Using 23.\n",
            "DEBUG:cmdstanpy:input tempfile: /tmp/tmpstg6ceuj/ysd8zk5x.json\n",
            "DEBUG:cmdstanpy:input tempfile: /tmp/tmpstg6ceuj/ar6icb7a.json\n",
            "DEBUG:cmdstanpy:idx 0\n",
            "DEBUG:cmdstanpy:running CmdStan, num_threads: None\n",
            "DEBUG:cmdstanpy:CmdStan args: ['/usr/local/lib/python3.11/dist-packages/prophet/stan_model/prophet_model.bin', 'random', 'seed=99238', 'data', 'file=/tmp/tmpstg6ceuj/ysd8zk5x.json', 'init=/tmp/tmpstg6ceuj/ar6icb7a.json', 'output', 'file=/tmp/tmpstg6ceuj/prophet_model407e6eug/prophet_model-20250228021716.csv', 'method=optimize', 'algorithm=newton', 'iter=10000']\n",
            "02:17:16 - cmdstanpy - INFO - Chain [1] start processing\n",
            "INFO:cmdstanpy:Chain [1] start processing\n"
          ]
        },
        {
          "output_type": "stream",
          "name": "stdout",
          "text": [
            "Mean Absolute Percentage Error(mape)------------------------------------ <function mape at 0x792b639d7880>\n",
            "{'changepoint_prior_scale': 0.5, 'holidays_prior_scale': 0.2, 'n_changepoints': 200, 'seasonality_mode': 'additive'}\n"
          ]
        },
        {
          "output_type": "stream",
          "name": "stderr",
          "text": [
            "02:17:18 - cmdstanpy - INFO - Chain [1] done processing\n",
            "INFO:cmdstanpy:Chain [1] done processing\n",
            "INFO:prophet:n_changepoints greater than number of observations. Using 23.\n",
            "DEBUG:cmdstanpy:input tempfile: /tmp/tmpstg6ceuj/k9bl7pq4.json\n",
            "DEBUG:cmdstanpy:input tempfile: /tmp/tmpstg6ceuj/1hn2oaby.json\n",
            "DEBUG:cmdstanpy:idx 0\n",
            "DEBUG:cmdstanpy:running CmdStan, num_threads: None\n",
            "DEBUG:cmdstanpy:CmdStan args: ['/usr/local/lib/python3.11/dist-packages/prophet/stan_model/prophet_model.bin', 'random', 'seed=33317', 'data', 'file=/tmp/tmpstg6ceuj/k9bl7pq4.json', 'init=/tmp/tmpstg6ceuj/1hn2oaby.json', 'output', 'file=/tmp/tmpstg6ceuj/prophet_modellsd_mv7b/prophet_model-20250228021719.csv', 'method=optimize', 'algorithm=newton', 'iter=10000']\n",
            "02:17:19 - cmdstanpy - INFO - Chain [1] start processing\n",
            "INFO:cmdstanpy:Chain [1] start processing\n"
          ]
        },
        {
          "output_type": "stream",
          "name": "stdout",
          "text": [
            "Mean Absolute Percentage Error(mape)------------------------------------ <function mape at 0x792b639d7880>\n",
            "{'changepoint_prior_scale': 0.5, 'holidays_prior_scale': 0.3, 'n_changepoints': 100, 'seasonality_mode': 'multiplicative'}\n"
          ]
        },
        {
          "output_type": "stream",
          "name": "stderr",
          "text": [
            "02:17:23 - cmdstanpy - INFO - Chain [1] done processing\n",
            "INFO:cmdstanpy:Chain [1] done processing\n",
            "INFO:prophet:n_changepoints greater than number of observations. Using 23.\n",
            "DEBUG:cmdstanpy:input tempfile: /tmp/tmpstg6ceuj/13jnurqx.json\n",
            "DEBUG:cmdstanpy:input tempfile: /tmp/tmpstg6ceuj/aorehb40.json\n",
            "DEBUG:cmdstanpy:idx 0\n",
            "DEBUG:cmdstanpy:running CmdStan, num_threads: None\n",
            "DEBUG:cmdstanpy:CmdStan args: ['/usr/local/lib/python3.11/dist-packages/prophet/stan_model/prophet_model.bin', 'random', 'seed=7838', 'data', 'file=/tmp/tmpstg6ceuj/13jnurqx.json', 'init=/tmp/tmpstg6ceuj/aorehb40.json', 'output', 'file=/tmp/tmpstg6ceuj/prophet_modelkkb1hg9c/prophet_model-20250228021723.csv', 'method=optimize', 'algorithm=newton', 'iter=10000']\n",
            "02:17:23 - cmdstanpy - INFO - Chain [1] start processing\n",
            "INFO:cmdstanpy:Chain [1] start processing\n"
          ]
        },
        {
          "output_type": "stream",
          "name": "stdout",
          "text": [
            "Mean Absolute Percentage Error(mape)------------------------------------ <function mape at 0x792b639d7880>\n",
            "{'changepoint_prior_scale': 0.5, 'holidays_prior_scale': 0.3, 'n_changepoints': 100, 'seasonality_mode': 'additive'}\n"
          ]
        },
        {
          "output_type": "stream",
          "name": "stderr",
          "text": [
            "02:17:31 - cmdstanpy - INFO - Chain [1] done processing\n",
            "INFO:cmdstanpy:Chain [1] done processing\n",
            "INFO:prophet:n_changepoints greater than number of observations. Using 23.\n",
            "DEBUG:cmdstanpy:input tempfile: /tmp/tmpstg6ceuj/eilc5i7c.json\n",
            "DEBUG:cmdstanpy:input tempfile: /tmp/tmpstg6ceuj/6x9xt9tt.json\n",
            "DEBUG:cmdstanpy:idx 0\n",
            "DEBUG:cmdstanpy:running CmdStan, num_threads: None\n",
            "DEBUG:cmdstanpy:CmdStan args: ['/usr/local/lib/python3.11/dist-packages/prophet/stan_model/prophet_model.bin', 'random', 'seed=55985', 'data', 'file=/tmp/tmpstg6ceuj/eilc5i7c.json', 'init=/tmp/tmpstg6ceuj/6x9xt9tt.json', 'output', 'file=/tmp/tmpstg6ceuj/prophet_modelffdyfj4u/prophet_model-20250228021731.csv', 'method=optimize', 'algorithm=newton', 'iter=10000']\n",
            "02:17:31 - cmdstanpy - INFO - Chain [1] start processing\n",
            "INFO:cmdstanpy:Chain [1] start processing\n"
          ]
        },
        {
          "output_type": "stream",
          "name": "stdout",
          "text": [
            "Mean Absolute Percentage Error(mape)------------------------------------ <function mape at 0x792b639d7880>\n",
            "{'changepoint_prior_scale': 0.5, 'holidays_prior_scale': 0.3, 'n_changepoints': 150, 'seasonality_mode': 'multiplicative'}\n"
          ]
        },
        {
          "output_type": "stream",
          "name": "stderr",
          "text": [
            "02:17:36 - cmdstanpy - INFO - Chain [1] done processing\n",
            "INFO:cmdstanpy:Chain [1] done processing\n",
            "INFO:prophet:n_changepoints greater than number of observations. Using 23.\n",
            "DEBUG:cmdstanpy:input tempfile: /tmp/tmpstg6ceuj/v4vjs3hs.json\n",
            "DEBUG:cmdstanpy:input tempfile: /tmp/tmpstg6ceuj/hn6ejs0m.json\n",
            "DEBUG:cmdstanpy:idx 0\n",
            "DEBUG:cmdstanpy:running CmdStan, num_threads: None\n",
            "DEBUG:cmdstanpy:CmdStan args: ['/usr/local/lib/python3.11/dist-packages/prophet/stan_model/prophet_model.bin', 'random', 'seed=54162', 'data', 'file=/tmp/tmpstg6ceuj/v4vjs3hs.json', 'init=/tmp/tmpstg6ceuj/hn6ejs0m.json', 'output', 'file=/tmp/tmpstg6ceuj/prophet_modelhr0d7qpo/prophet_model-20250228021736.csv', 'method=optimize', 'algorithm=newton', 'iter=10000']\n",
            "02:17:36 - cmdstanpy - INFO - Chain [1] start processing\n",
            "INFO:cmdstanpy:Chain [1] start processing\n"
          ]
        },
        {
          "output_type": "stream",
          "name": "stdout",
          "text": [
            "Mean Absolute Percentage Error(mape)------------------------------------ <function mape at 0x792b639d7880>\n",
            "{'changepoint_prior_scale': 0.5, 'holidays_prior_scale': 0.3, 'n_changepoints': 150, 'seasonality_mode': 'additive'}\n"
          ]
        },
        {
          "output_type": "stream",
          "name": "stderr",
          "text": [
            "02:17:44 - cmdstanpy - INFO - Chain [1] done processing\n",
            "INFO:cmdstanpy:Chain [1] done processing\n",
            "INFO:prophet:n_changepoints greater than number of observations. Using 23.\n",
            "DEBUG:cmdstanpy:input tempfile: /tmp/tmpstg6ceuj/9su_r2u9.json\n",
            "DEBUG:cmdstanpy:input tempfile: /tmp/tmpstg6ceuj/i2639a30.json\n",
            "DEBUG:cmdstanpy:idx 0\n",
            "DEBUG:cmdstanpy:running CmdStan, num_threads: None\n",
            "DEBUG:cmdstanpy:CmdStan args: ['/usr/local/lib/python3.11/dist-packages/prophet/stan_model/prophet_model.bin', 'random', 'seed=4396', 'data', 'file=/tmp/tmpstg6ceuj/9su_r2u9.json', 'init=/tmp/tmpstg6ceuj/i2639a30.json', 'output', 'file=/tmp/tmpstg6ceuj/prophet_modelt1whngpu/prophet_model-20250228021744.csv', 'method=optimize', 'algorithm=newton', 'iter=10000']\n",
            "02:17:44 - cmdstanpy - INFO - Chain [1] start processing\n",
            "INFO:cmdstanpy:Chain [1] start processing\n"
          ]
        },
        {
          "output_type": "stream",
          "name": "stdout",
          "text": [
            "Mean Absolute Percentage Error(mape)------------------------------------ <function mape at 0x792b639d7880>\n",
            "{'changepoint_prior_scale': 0.5, 'holidays_prior_scale': 0.3, 'n_changepoints': 200, 'seasonality_mode': 'multiplicative'}\n"
          ]
        },
        {
          "output_type": "stream",
          "name": "stderr",
          "text": [
            "02:17:49 - cmdstanpy - INFO - Chain [1] done processing\n",
            "INFO:cmdstanpy:Chain [1] done processing\n",
            "INFO:prophet:n_changepoints greater than number of observations. Using 23.\n",
            "DEBUG:cmdstanpy:input tempfile: /tmp/tmpstg6ceuj/8v4y1be_.json\n",
            "DEBUG:cmdstanpy:input tempfile: /tmp/tmpstg6ceuj/qv6l28jj.json\n",
            "DEBUG:cmdstanpy:idx 0\n",
            "DEBUG:cmdstanpy:running CmdStan, num_threads: None\n",
            "DEBUG:cmdstanpy:CmdStan args: ['/usr/local/lib/python3.11/dist-packages/prophet/stan_model/prophet_model.bin', 'random', 'seed=66836', 'data', 'file=/tmp/tmpstg6ceuj/8v4y1be_.json', 'init=/tmp/tmpstg6ceuj/qv6l28jj.json', 'output', 'file=/tmp/tmpstg6ceuj/prophet_modeln30xbwrz/prophet_model-20250228021749.csv', 'method=optimize', 'algorithm=newton', 'iter=10000']\n",
            "02:17:49 - cmdstanpy - INFO - Chain [1] start processing\n",
            "INFO:cmdstanpy:Chain [1] start processing\n"
          ]
        },
        {
          "output_type": "stream",
          "name": "stdout",
          "text": [
            "Mean Absolute Percentage Error(mape)------------------------------------ <function mape at 0x792b639d7880>\n",
            "{'changepoint_prior_scale': 0.5, 'holidays_prior_scale': 0.3, 'n_changepoints': 200, 'seasonality_mode': 'additive'}\n"
          ]
        },
        {
          "output_type": "stream",
          "name": "stderr",
          "text": [
            "02:17:57 - cmdstanpy - INFO - Chain [1] done processing\n",
            "INFO:cmdstanpy:Chain [1] done processing\n",
            "INFO:prophet:n_changepoints greater than number of observations. Using 23.\n",
            "DEBUG:cmdstanpy:input tempfile: /tmp/tmpstg6ceuj/u2ht74wx.json\n",
            "DEBUG:cmdstanpy:input tempfile: /tmp/tmpstg6ceuj/vlhu83ha.json\n",
            "DEBUG:cmdstanpy:idx 0\n",
            "DEBUG:cmdstanpy:running CmdStan, num_threads: None\n",
            "DEBUG:cmdstanpy:CmdStan args: ['/usr/local/lib/python3.11/dist-packages/prophet/stan_model/prophet_model.bin', 'random', 'seed=14885', 'data', 'file=/tmp/tmpstg6ceuj/u2ht74wx.json', 'init=/tmp/tmpstg6ceuj/vlhu83ha.json', 'output', 'file=/tmp/tmpstg6ceuj/prophet_model9olgtudi/prophet_model-20250228021757.csv', 'method=optimize', 'algorithm=newton', 'iter=10000']\n",
            "02:17:57 - cmdstanpy - INFO - Chain [1] start processing\n",
            "INFO:cmdstanpy:Chain [1] start processing\n"
          ]
        },
        {
          "output_type": "stream",
          "name": "stdout",
          "text": [
            "Mean Absolute Percentage Error(mape)------------------------------------ <function mape at 0x792b639d7880>\n",
            "{'changepoint_prior_scale': 0.5, 'holidays_prior_scale': 0.4, 'n_changepoints': 100, 'seasonality_mode': 'multiplicative'}\n"
          ]
        },
        {
          "output_type": "stream",
          "name": "stderr",
          "text": [
            "02:18:00 - cmdstanpy - INFO - Chain [1] done processing\n",
            "INFO:cmdstanpy:Chain [1] done processing\n",
            "INFO:prophet:n_changepoints greater than number of observations. Using 23.\n",
            "DEBUG:cmdstanpy:input tempfile: /tmp/tmpstg6ceuj/y9jyvv18.json\n",
            "DEBUG:cmdstanpy:input tempfile: /tmp/tmpstg6ceuj/rld6a_sg.json\n",
            "DEBUG:cmdstanpy:idx 0\n",
            "DEBUG:cmdstanpy:running CmdStan, num_threads: None\n",
            "DEBUG:cmdstanpy:CmdStan args: ['/usr/local/lib/python3.11/dist-packages/prophet/stan_model/prophet_model.bin', 'random', 'seed=21362', 'data', 'file=/tmp/tmpstg6ceuj/y9jyvv18.json', 'init=/tmp/tmpstg6ceuj/rld6a_sg.json', 'output', 'file=/tmp/tmpstg6ceuj/prophet_modellv1cq6qt/prophet_model-20250228021800.csv', 'method=optimize', 'algorithm=newton', 'iter=10000']\n",
            "02:18:00 - cmdstanpy - INFO - Chain [1] start processing\n",
            "INFO:cmdstanpy:Chain [1] start processing\n"
          ]
        },
        {
          "output_type": "stream",
          "name": "stdout",
          "text": [
            "Mean Absolute Percentage Error(mape)------------------------------------ <function mape at 0x792b639d7880>\n",
            "{'changepoint_prior_scale': 0.5, 'holidays_prior_scale': 0.4, 'n_changepoints': 100, 'seasonality_mode': 'additive'}\n"
          ]
        },
        {
          "output_type": "stream",
          "name": "stderr",
          "text": [
            "02:18:02 - cmdstanpy - INFO - Chain [1] done processing\n",
            "INFO:cmdstanpy:Chain [1] done processing\n",
            "INFO:prophet:n_changepoints greater than number of observations. Using 23.\n",
            "DEBUG:cmdstanpy:input tempfile: /tmp/tmpstg6ceuj/mo3xody4.json\n",
            "DEBUG:cmdstanpy:input tempfile: /tmp/tmpstg6ceuj/pe8yti8b.json\n",
            "DEBUG:cmdstanpy:idx 0\n",
            "DEBUG:cmdstanpy:running CmdStan, num_threads: None\n",
            "DEBUG:cmdstanpy:CmdStan args: ['/usr/local/lib/python3.11/dist-packages/prophet/stan_model/prophet_model.bin', 'random', 'seed=19260', 'data', 'file=/tmp/tmpstg6ceuj/mo3xody4.json', 'init=/tmp/tmpstg6ceuj/pe8yti8b.json', 'output', 'file=/tmp/tmpstg6ceuj/prophet_modelhmn90syr/prophet_model-20250228021802.csv', 'method=optimize', 'algorithm=newton', 'iter=10000']\n",
            "02:18:02 - cmdstanpy - INFO - Chain [1] start processing\n",
            "INFO:cmdstanpy:Chain [1] start processing\n"
          ]
        },
        {
          "output_type": "stream",
          "name": "stdout",
          "text": [
            "Mean Absolute Percentage Error(mape)------------------------------------ <function mape at 0x792b639d7880>\n",
            "{'changepoint_prior_scale': 0.5, 'holidays_prior_scale': 0.4, 'n_changepoints': 150, 'seasonality_mode': 'multiplicative'}\n"
          ]
        },
        {
          "output_type": "stream",
          "name": "stderr",
          "text": [
            "02:18:05 - cmdstanpy - INFO - Chain [1] done processing\n",
            "INFO:cmdstanpy:Chain [1] done processing\n",
            "INFO:prophet:n_changepoints greater than number of observations. Using 23.\n",
            "DEBUG:cmdstanpy:input tempfile: /tmp/tmpstg6ceuj/nbz27hqt.json\n",
            "DEBUG:cmdstanpy:input tempfile: /tmp/tmpstg6ceuj/ermftaj4.json\n",
            "DEBUG:cmdstanpy:idx 0\n",
            "DEBUG:cmdstanpy:running CmdStan, num_threads: None\n",
            "DEBUG:cmdstanpy:CmdStan args: ['/usr/local/lib/python3.11/dist-packages/prophet/stan_model/prophet_model.bin', 'random', 'seed=17129', 'data', 'file=/tmp/tmpstg6ceuj/nbz27hqt.json', 'init=/tmp/tmpstg6ceuj/ermftaj4.json', 'output', 'file=/tmp/tmpstg6ceuj/prophet_modeljgohjau2/prophet_model-20250228021805.csv', 'method=optimize', 'algorithm=newton', 'iter=10000']\n",
            "02:18:05 - cmdstanpy - INFO - Chain [1] start processing\n",
            "INFO:cmdstanpy:Chain [1] start processing\n"
          ]
        },
        {
          "output_type": "stream",
          "name": "stdout",
          "text": [
            "Mean Absolute Percentage Error(mape)------------------------------------ <function mape at 0x792b639d7880>\n",
            "{'changepoint_prior_scale': 0.5, 'holidays_prior_scale': 0.4, 'n_changepoints': 150, 'seasonality_mode': 'additive'}\n"
          ]
        },
        {
          "output_type": "stream",
          "name": "stderr",
          "text": [
            "02:18:08 - cmdstanpy - INFO - Chain [1] done processing\n",
            "INFO:cmdstanpy:Chain [1] done processing\n",
            "INFO:prophet:n_changepoints greater than number of observations. Using 23.\n",
            "DEBUG:cmdstanpy:input tempfile: /tmp/tmpstg6ceuj/wr7ko33d.json\n",
            "DEBUG:cmdstanpy:input tempfile: /tmp/tmpstg6ceuj/7v2hexza.json\n",
            "DEBUG:cmdstanpy:idx 0\n",
            "DEBUG:cmdstanpy:running CmdStan, num_threads: None\n",
            "DEBUG:cmdstanpy:CmdStan args: ['/usr/local/lib/python3.11/dist-packages/prophet/stan_model/prophet_model.bin', 'random', 'seed=76574', 'data', 'file=/tmp/tmpstg6ceuj/wr7ko33d.json', 'init=/tmp/tmpstg6ceuj/7v2hexza.json', 'output', 'file=/tmp/tmpstg6ceuj/prophet_modelhkxeij74/prophet_model-20250228021808.csv', 'method=optimize', 'algorithm=newton', 'iter=10000']\n",
            "02:18:08 - cmdstanpy - INFO - Chain [1] start processing\n",
            "INFO:cmdstanpy:Chain [1] start processing\n"
          ]
        },
        {
          "output_type": "stream",
          "name": "stdout",
          "text": [
            "Mean Absolute Percentage Error(mape)------------------------------------ <function mape at 0x792b639d7880>\n",
            "{'changepoint_prior_scale': 0.5, 'holidays_prior_scale': 0.4, 'n_changepoints': 200, 'seasonality_mode': 'multiplicative'}\n"
          ]
        },
        {
          "output_type": "stream",
          "name": "stderr",
          "text": [
            "02:18:11 - cmdstanpy - INFO - Chain [1] done processing\n",
            "INFO:cmdstanpy:Chain [1] done processing\n",
            "INFO:prophet:n_changepoints greater than number of observations. Using 23.\n",
            "DEBUG:cmdstanpy:input tempfile: /tmp/tmpstg6ceuj/7v_pmqd4.json\n",
            "DEBUG:cmdstanpy:input tempfile: /tmp/tmpstg6ceuj/l8a5rpa0.json\n",
            "DEBUG:cmdstanpy:idx 0\n",
            "DEBUG:cmdstanpy:running CmdStan, num_threads: None\n",
            "DEBUG:cmdstanpy:CmdStan args: ['/usr/local/lib/python3.11/dist-packages/prophet/stan_model/prophet_model.bin', 'random', 'seed=75419', 'data', 'file=/tmp/tmpstg6ceuj/7v_pmqd4.json', 'init=/tmp/tmpstg6ceuj/l8a5rpa0.json', 'output', 'file=/tmp/tmpstg6ceuj/prophet_modelj15xh9ti/prophet_model-20250228021811.csv', 'method=optimize', 'algorithm=newton', 'iter=10000']\n",
            "02:18:11 - cmdstanpy - INFO - Chain [1] start processing\n",
            "INFO:cmdstanpy:Chain [1] start processing\n"
          ]
        },
        {
          "output_type": "stream",
          "name": "stdout",
          "text": [
            "Mean Absolute Percentage Error(mape)------------------------------------ <function mape at 0x792b639d7880>\n",
            "{'changepoint_prior_scale': 0.5, 'holidays_prior_scale': 0.4, 'n_changepoints': 200, 'seasonality_mode': 'additive'}\n"
          ]
        },
        {
          "output_type": "stream",
          "name": "stderr",
          "text": [
            "02:18:13 - cmdstanpy - INFO - Chain [1] done processing\n",
            "INFO:cmdstanpy:Chain [1] done processing\n",
            "INFO:prophet:n_changepoints greater than number of observations. Using 23.\n",
            "DEBUG:cmdstanpy:input tempfile: /tmp/tmpstg6ceuj/f3yqx2qh.json\n",
            "DEBUG:cmdstanpy:input tempfile: /tmp/tmpstg6ceuj/frdcgwsh.json\n",
            "DEBUG:cmdstanpy:idx 0\n",
            "DEBUG:cmdstanpy:running CmdStan, num_threads: None\n",
            "DEBUG:cmdstanpy:CmdStan args: ['/usr/local/lib/python3.11/dist-packages/prophet/stan_model/prophet_model.bin', 'random', 'seed=50116', 'data', 'file=/tmp/tmpstg6ceuj/f3yqx2qh.json', 'init=/tmp/tmpstg6ceuj/frdcgwsh.json', 'output', 'file=/tmp/tmpstg6ceuj/prophet_modelgvjspxak/prophet_model-20250228021813.csv', 'method=optimize', 'algorithm=newton', 'iter=10000']\n",
            "02:18:13 - cmdstanpy - INFO - Chain [1] start processing\n",
            "INFO:cmdstanpy:Chain [1] start processing\n"
          ]
        },
        {
          "output_type": "stream",
          "name": "stdout",
          "text": [
            "Mean Absolute Percentage Error(mape)------------------------------------ <function mape at 0x792b639d7880>\n",
            "{'changepoint_prior_scale': 0.5, 'holidays_prior_scale': 0.5, 'n_changepoints': 100, 'seasonality_mode': 'multiplicative'}\n"
          ]
        },
        {
          "output_type": "stream",
          "name": "stderr",
          "text": [
            "02:18:15 - cmdstanpy - INFO - Chain [1] done processing\n",
            "INFO:cmdstanpy:Chain [1] done processing\n",
            "INFO:prophet:n_changepoints greater than number of observations. Using 23.\n",
            "DEBUG:cmdstanpy:input tempfile: /tmp/tmpstg6ceuj/eknn_vt3.json\n",
            "DEBUG:cmdstanpy:input tempfile: /tmp/tmpstg6ceuj/0i1quryt.json\n",
            "DEBUG:cmdstanpy:idx 0\n",
            "DEBUG:cmdstanpy:running CmdStan, num_threads: None\n",
            "DEBUG:cmdstanpy:CmdStan args: ['/usr/local/lib/python3.11/dist-packages/prophet/stan_model/prophet_model.bin', 'random', 'seed=65778', 'data', 'file=/tmp/tmpstg6ceuj/eknn_vt3.json', 'init=/tmp/tmpstg6ceuj/0i1quryt.json', 'output', 'file=/tmp/tmpstg6ceuj/prophet_modelhxie3klu/prophet_model-20250228021815.csv', 'method=optimize', 'algorithm=newton', 'iter=10000']\n",
            "02:18:15 - cmdstanpy - INFO - Chain [1] start processing\n",
            "INFO:cmdstanpy:Chain [1] start processing\n"
          ]
        },
        {
          "output_type": "stream",
          "name": "stdout",
          "text": [
            "Mean Absolute Percentage Error(mape)------------------------------------ <function mape at 0x792b639d7880>\n",
            "{'changepoint_prior_scale': 0.5, 'holidays_prior_scale': 0.5, 'n_changepoints': 100, 'seasonality_mode': 'additive'}\n"
          ]
        },
        {
          "output_type": "stream",
          "name": "stderr",
          "text": [
            "02:18:23 - cmdstanpy - INFO - Chain [1] done processing\n",
            "INFO:cmdstanpy:Chain [1] done processing\n",
            "INFO:prophet:n_changepoints greater than number of observations. Using 23.\n",
            "DEBUG:cmdstanpy:input tempfile: /tmp/tmpstg6ceuj/adznznbi.json\n",
            "DEBUG:cmdstanpy:input tempfile: /tmp/tmpstg6ceuj/4hnvg7pe.json\n",
            "DEBUG:cmdstanpy:idx 0\n",
            "DEBUG:cmdstanpy:running CmdStan, num_threads: None\n",
            "DEBUG:cmdstanpy:CmdStan args: ['/usr/local/lib/python3.11/dist-packages/prophet/stan_model/prophet_model.bin', 'random', 'seed=32750', 'data', 'file=/tmp/tmpstg6ceuj/adznznbi.json', 'init=/tmp/tmpstg6ceuj/4hnvg7pe.json', 'output', 'file=/tmp/tmpstg6ceuj/prophet_modeligc4nhko/prophet_model-20250228021823.csv', 'method=optimize', 'algorithm=newton', 'iter=10000']\n",
            "02:18:23 - cmdstanpy - INFO - Chain [1] start processing\n",
            "INFO:cmdstanpy:Chain [1] start processing\n"
          ]
        },
        {
          "output_type": "stream",
          "name": "stdout",
          "text": [
            "Mean Absolute Percentage Error(mape)------------------------------------ <function mape at 0x792b639d7880>\n",
            "{'changepoint_prior_scale': 0.5, 'holidays_prior_scale': 0.5, 'n_changepoints': 150, 'seasonality_mode': 'multiplicative'}\n"
          ]
        },
        {
          "output_type": "stream",
          "name": "stderr",
          "text": [
            "02:18:25 - cmdstanpy - INFO - Chain [1] done processing\n",
            "INFO:cmdstanpy:Chain [1] done processing\n",
            "INFO:prophet:n_changepoints greater than number of observations. Using 23.\n",
            "DEBUG:cmdstanpy:input tempfile: /tmp/tmpstg6ceuj/3ryav5ml.json\n",
            "DEBUG:cmdstanpy:input tempfile: /tmp/tmpstg6ceuj/r_dqt688.json\n",
            "DEBUG:cmdstanpy:idx 0\n",
            "DEBUG:cmdstanpy:running CmdStan, num_threads: None\n",
            "DEBUG:cmdstanpy:CmdStan args: ['/usr/local/lib/python3.11/dist-packages/prophet/stan_model/prophet_model.bin', 'random', 'seed=973', 'data', 'file=/tmp/tmpstg6ceuj/3ryav5ml.json', 'init=/tmp/tmpstg6ceuj/r_dqt688.json', 'output', 'file=/tmp/tmpstg6ceuj/prophet_modeladgh_4y0/prophet_model-20250228021825.csv', 'method=optimize', 'algorithm=newton', 'iter=10000']\n",
            "02:18:25 - cmdstanpy - INFO - Chain [1] start processing\n",
            "INFO:cmdstanpy:Chain [1] start processing\n"
          ]
        },
        {
          "output_type": "stream",
          "name": "stdout",
          "text": [
            "Mean Absolute Percentage Error(mape)------------------------------------ <function mape at 0x792b639d7880>\n",
            "{'changepoint_prior_scale': 0.5, 'holidays_prior_scale': 0.5, 'n_changepoints': 150, 'seasonality_mode': 'additive'}\n"
          ]
        },
        {
          "output_type": "stream",
          "name": "stderr",
          "text": [
            "02:18:33 - cmdstanpy - INFO - Chain [1] done processing\n",
            "INFO:cmdstanpy:Chain [1] done processing\n",
            "INFO:prophet:n_changepoints greater than number of observations. Using 23.\n",
            "DEBUG:cmdstanpy:input tempfile: /tmp/tmpstg6ceuj/nii2cxu9.json\n",
            "DEBUG:cmdstanpy:input tempfile: /tmp/tmpstg6ceuj/_2ug9vi8.json\n",
            "DEBUG:cmdstanpy:idx 0\n",
            "DEBUG:cmdstanpy:running CmdStan, num_threads: None\n",
            "DEBUG:cmdstanpy:CmdStan args: ['/usr/local/lib/python3.11/dist-packages/prophet/stan_model/prophet_model.bin', 'random', 'seed=26681', 'data', 'file=/tmp/tmpstg6ceuj/nii2cxu9.json', 'init=/tmp/tmpstg6ceuj/_2ug9vi8.json', 'output', 'file=/tmp/tmpstg6ceuj/prophet_modeljtlf_24f/prophet_model-20250228021834.csv', 'method=optimize', 'algorithm=newton', 'iter=10000']\n",
            "02:18:34 - cmdstanpy - INFO - Chain [1] start processing\n",
            "INFO:cmdstanpy:Chain [1] start processing\n"
          ]
        },
        {
          "output_type": "stream",
          "name": "stdout",
          "text": [
            "Mean Absolute Percentage Error(mape)------------------------------------ <function mape at 0x792b639d7880>\n",
            "{'changepoint_prior_scale': 0.5, 'holidays_prior_scale': 0.5, 'n_changepoints': 200, 'seasonality_mode': 'multiplicative'}\n"
          ]
        },
        {
          "output_type": "stream",
          "name": "stderr",
          "text": [
            "02:18:35 - cmdstanpy - INFO - Chain [1] done processing\n",
            "INFO:cmdstanpy:Chain [1] done processing\n",
            "INFO:prophet:n_changepoints greater than number of observations. Using 23.\n",
            "DEBUG:cmdstanpy:input tempfile: /tmp/tmpstg6ceuj/ktaj7y57.json\n",
            "DEBUG:cmdstanpy:input tempfile: /tmp/tmpstg6ceuj/zgcwzzvg.json\n",
            "DEBUG:cmdstanpy:idx 0\n",
            "DEBUG:cmdstanpy:running CmdStan, num_threads: None\n",
            "DEBUG:cmdstanpy:CmdStan args: ['/usr/local/lib/python3.11/dist-packages/prophet/stan_model/prophet_model.bin', 'random', 'seed=41697', 'data', 'file=/tmp/tmpstg6ceuj/ktaj7y57.json', 'init=/tmp/tmpstg6ceuj/zgcwzzvg.json', 'output', 'file=/tmp/tmpstg6ceuj/prophet_modeld_1pafp7/prophet_model-20250228021836.csv', 'method=optimize', 'algorithm=newton', 'iter=10000']\n",
            "02:18:36 - cmdstanpy - INFO - Chain [1] start processing\n",
            "INFO:cmdstanpy:Chain [1] start processing\n"
          ]
        },
        {
          "output_type": "stream",
          "name": "stdout",
          "text": [
            "Mean Absolute Percentage Error(mape)------------------------------------ <function mape at 0x792b639d7880>\n",
            "{'changepoint_prior_scale': 0.5, 'holidays_prior_scale': 0.5, 'n_changepoints': 200, 'seasonality_mode': 'additive'}\n"
          ]
        },
        {
          "output_type": "stream",
          "name": "stderr",
          "text": [
            "02:18:42 - cmdstanpy - INFO - Chain [1] done processing\n",
            "INFO:cmdstanpy:Chain [1] done processing\n"
          ]
        },
        {
          "output_type": "stream",
          "name": "stdout",
          "text": [
            "Mean Absolute Percentage Error(mape)------------------------------------ <function mape at 0x792b639d7880>\n"
          ]
        }
      ]
    },
    {
      "cell_type": "code",
      "source": [
        "parameters = model_parameters.sort_values(by=['mape'])\n",
        "parameters = parameters.reset_index(drop=True)\n",
        "parameters.head()"
      ],
      "metadata": {
        "colab": {
          "base_uri": "https://localhost:8080/",
          "height": 201
        },
        "id": "tZ7gF7j6Wdg4",
        "outputId": "bd76c650-d6e9-4c34-a20d-d4e7ab37901f"
      },
      "execution_count": 58,
      "outputs": [
        {
          "output_type": "execute_result",
          "data": {
            "text/plain": [
              "   mape                                         Parameters\n",
              "0 45.55  {'changepoint_prior_scale': 0.1, 'holidays_pri...\n",
              "1 45.55  {'changepoint_prior_scale': 0.1, 'holidays_pri...\n",
              "2 45.55  {'changepoint_prior_scale': 0.1, 'holidays_pri...\n",
              "3 45.56  {'changepoint_prior_scale': 0.1, 'holidays_pri...\n",
              "4 45.56  {'changepoint_prior_scale': 0.1, 'holidays_pri..."
            ],
            "text/html": [
              "\n",
              "  <div id=\"df-f2c68eba-ac41-4ff6-96f4-f9ceed2352e4\" class=\"colab-df-container\">\n",
              "    <div>\n",
              "<style scoped>\n",
              "    .dataframe tbody tr th:only-of-type {\n",
              "        vertical-align: middle;\n",
              "    }\n",
              "\n",
              "    .dataframe tbody tr th {\n",
              "        vertical-align: top;\n",
              "    }\n",
              "\n",
              "    .dataframe thead th {\n",
              "        text-align: right;\n",
              "    }\n",
              "</style>\n",
              "<table border=\"1\" class=\"dataframe\">\n",
              "  <thead>\n",
              "    <tr style=\"text-align: right;\">\n",
              "      <th></th>\n",
              "      <th>mape</th>\n",
              "      <th>Parameters</th>\n",
              "    </tr>\n",
              "  </thead>\n",
              "  <tbody>\n",
              "    <tr>\n",
              "      <th>0</th>\n",
              "      <td>45.55</td>\n",
              "      <td>{'changepoint_prior_scale': 0.1, 'holidays_pri...</td>\n",
              "    </tr>\n",
              "    <tr>\n",
              "      <th>1</th>\n",
              "      <td>45.55</td>\n",
              "      <td>{'changepoint_prior_scale': 0.1, 'holidays_pri...</td>\n",
              "    </tr>\n",
              "    <tr>\n",
              "      <th>2</th>\n",
              "      <td>45.55</td>\n",
              "      <td>{'changepoint_prior_scale': 0.1, 'holidays_pri...</td>\n",
              "    </tr>\n",
              "    <tr>\n",
              "      <th>3</th>\n",
              "      <td>45.56</td>\n",
              "      <td>{'changepoint_prior_scale': 0.1, 'holidays_pri...</td>\n",
              "    </tr>\n",
              "    <tr>\n",
              "      <th>4</th>\n",
              "      <td>45.56</td>\n",
              "      <td>{'changepoint_prior_scale': 0.1, 'holidays_pri...</td>\n",
              "    </tr>\n",
              "  </tbody>\n",
              "</table>\n",
              "</div>\n",
              "    <div class=\"colab-df-buttons\">\n",
              "\n",
              "  <div class=\"colab-df-container\">\n",
              "    <button class=\"colab-df-convert\" onclick=\"convertToInteractive('df-f2c68eba-ac41-4ff6-96f4-f9ceed2352e4')\"\n",
              "            title=\"Convert this dataframe to an interactive table.\"\n",
              "            style=\"display:none;\">\n",
              "\n",
              "  <svg xmlns=\"http://www.w3.org/2000/svg\" height=\"24px\" viewBox=\"0 -960 960 960\">\n",
              "    <path d=\"M120-120v-720h720v720H120Zm60-500h600v-160H180v160Zm220 220h160v-160H400v160Zm0 220h160v-160H400v160ZM180-400h160v-160H180v160Zm440 0h160v-160H620v160ZM180-180h160v-160H180v160Zm440 0h160v-160H620v160Z\"/>\n",
              "  </svg>\n",
              "    </button>\n",
              "\n",
              "  <style>\n",
              "    .colab-df-container {\n",
              "      display:flex;\n",
              "      gap: 12px;\n",
              "    }\n",
              "\n",
              "    .colab-df-convert {\n",
              "      background-color: #E8F0FE;\n",
              "      border: none;\n",
              "      border-radius: 50%;\n",
              "      cursor: pointer;\n",
              "      display: none;\n",
              "      fill: #1967D2;\n",
              "      height: 32px;\n",
              "      padding: 0 0 0 0;\n",
              "      width: 32px;\n",
              "    }\n",
              "\n",
              "    .colab-df-convert:hover {\n",
              "      background-color: #E2EBFA;\n",
              "      box-shadow: 0px 1px 2px rgba(60, 64, 67, 0.3), 0px 1px 3px 1px rgba(60, 64, 67, 0.15);\n",
              "      fill: #174EA6;\n",
              "    }\n",
              "\n",
              "    .colab-df-buttons div {\n",
              "      margin-bottom: 4px;\n",
              "    }\n",
              "\n",
              "    [theme=dark] .colab-df-convert {\n",
              "      background-color: #3B4455;\n",
              "      fill: #D2E3FC;\n",
              "    }\n",
              "\n",
              "    [theme=dark] .colab-df-convert:hover {\n",
              "      background-color: #434B5C;\n",
              "      box-shadow: 0px 1px 3px 1px rgba(0, 0, 0, 0.15);\n",
              "      filter: drop-shadow(0px 1px 2px rgba(0, 0, 0, 0.3));\n",
              "      fill: #FFFFFF;\n",
              "    }\n",
              "  </style>\n",
              "\n",
              "    <script>\n",
              "      const buttonEl =\n",
              "        document.querySelector('#df-f2c68eba-ac41-4ff6-96f4-f9ceed2352e4 button.colab-df-convert');\n",
              "      buttonEl.style.display =\n",
              "        google.colab.kernel.accessAllowed ? 'block' : 'none';\n",
              "\n",
              "      async function convertToInteractive(key) {\n",
              "        const element = document.querySelector('#df-f2c68eba-ac41-4ff6-96f4-f9ceed2352e4');\n",
              "        const dataTable =\n",
              "          await google.colab.kernel.invokeFunction('convertToInteractive',\n",
              "                                                    [key], {});\n",
              "        if (!dataTable) return;\n",
              "\n",
              "        const docLinkHtml = 'Like what you see? Visit the ' +\n",
              "          '<a target=\"_blank\" href=https://colab.research.google.com/notebooks/data_table.ipynb>data table notebook</a>'\n",
              "          + ' to learn more about interactive tables.';\n",
              "        element.innerHTML = '';\n",
              "        dataTable['output_type'] = 'display_data';\n",
              "        await google.colab.output.renderOutput(dataTable, element);\n",
              "        const docLink = document.createElement('div');\n",
              "        docLink.innerHTML = docLinkHtml;\n",
              "        element.appendChild(docLink);\n",
              "      }\n",
              "    </script>\n",
              "  </div>\n",
              "\n",
              "\n",
              "<div id=\"df-523f3148-254d-4810-bbc9-404bec146f57\">\n",
              "  <button class=\"colab-df-quickchart\" onclick=\"quickchart('df-523f3148-254d-4810-bbc9-404bec146f57')\"\n",
              "            title=\"Suggest charts\"\n",
              "            style=\"display:none;\">\n",
              "\n",
              "<svg xmlns=\"http://www.w3.org/2000/svg\" height=\"24px\"viewBox=\"0 0 24 24\"\n",
              "     width=\"24px\">\n",
              "    <g>\n",
              "        <path d=\"M19 3H5c-1.1 0-2 .9-2 2v14c0 1.1.9 2 2 2h14c1.1 0 2-.9 2-2V5c0-1.1-.9-2-2-2zM9 17H7v-7h2v7zm4 0h-2V7h2v10zm4 0h-2v-4h2v4z\"/>\n",
              "    </g>\n",
              "</svg>\n",
              "  </button>\n",
              "\n",
              "<style>\n",
              "  .colab-df-quickchart {\n",
              "      --bg-color: #E8F0FE;\n",
              "      --fill-color: #1967D2;\n",
              "      --hover-bg-color: #E2EBFA;\n",
              "      --hover-fill-color: #174EA6;\n",
              "      --disabled-fill-color: #AAA;\n",
              "      --disabled-bg-color: #DDD;\n",
              "  }\n",
              "\n",
              "  [theme=dark] .colab-df-quickchart {\n",
              "      --bg-color: #3B4455;\n",
              "      --fill-color: #D2E3FC;\n",
              "      --hover-bg-color: #434B5C;\n",
              "      --hover-fill-color: #FFFFFF;\n",
              "      --disabled-bg-color: #3B4455;\n",
              "      --disabled-fill-color: #666;\n",
              "  }\n",
              "\n",
              "  .colab-df-quickchart {\n",
              "    background-color: var(--bg-color);\n",
              "    border: none;\n",
              "    border-radius: 50%;\n",
              "    cursor: pointer;\n",
              "    display: none;\n",
              "    fill: var(--fill-color);\n",
              "    height: 32px;\n",
              "    padding: 0;\n",
              "    width: 32px;\n",
              "  }\n",
              "\n",
              "  .colab-df-quickchart:hover {\n",
              "    background-color: var(--hover-bg-color);\n",
              "    box-shadow: 0 1px 2px rgba(60, 64, 67, 0.3), 0 1px 3px 1px rgba(60, 64, 67, 0.15);\n",
              "    fill: var(--button-hover-fill-color);\n",
              "  }\n",
              "\n",
              "  .colab-df-quickchart-complete:disabled,\n",
              "  .colab-df-quickchart-complete:disabled:hover {\n",
              "    background-color: var(--disabled-bg-color);\n",
              "    fill: var(--disabled-fill-color);\n",
              "    box-shadow: none;\n",
              "  }\n",
              "\n",
              "  .colab-df-spinner {\n",
              "    border: 2px solid var(--fill-color);\n",
              "    border-color: transparent;\n",
              "    border-bottom-color: var(--fill-color);\n",
              "    animation:\n",
              "      spin 1s steps(1) infinite;\n",
              "  }\n",
              "\n",
              "  @keyframes spin {\n",
              "    0% {\n",
              "      border-color: transparent;\n",
              "      border-bottom-color: var(--fill-color);\n",
              "      border-left-color: var(--fill-color);\n",
              "    }\n",
              "    20% {\n",
              "      border-color: transparent;\n",
              "      border-left-color: var(--fill-color);\n",
              "      border-top-color: var(--fill-color);\n",
              "    }\n",
              "    30% {\n",
              "      border-color: transparent;\n",
              "      border-left-color: var(--fill-color);\n",
              "      border-top-color: var(--fill-color);\n",
              "      border-right-color: var(--fill-color);\n",
              "    }\n",
              "    40% {\n",
              "      border-color: transparent;\n",
              "      border-right-color: var(--fill-color);\n",
              "      border-top-color: var(--fill-color);\n",
              "    }\n",
              "    60% {\n",
              "      border-color: transparent;\n",
              "      border-right-color: var(--fill-color);\n",
              "    }\n",
              "    80% {\n",
              "      border-color: transparent;\n",
              "      border-right-color: var(--fill-color);\n",
              "      border-bottom-color: var(--fill-color);\n",
              "    }\n",
              "    90% {\n",
              "      border-color: transparent;\n",
              "      border-bottom-color: var(--fill-color);\n",
              "    }\n",
              "  }\n",
              "</style>\n",
              "\n",
              "  <script>\n",
              "    async function quickchart(key) {\n",
              "      const quickchartButtonEl =\n",
              "        document.querySelector('#' + key + ' button');\n",
              "      quickchartButtonEl.disabled = true;  // To prevent multiple clicks.\n",
              "      quickchartButtonEl.classList.add('colab-df-spinner');\n",
              "      try {\n",
              "        const charts = await google.colab.kernel.invokeFunction(\n",
              "            'suggestCharts', [key], {});\n",
              "      } catch (error) {\n",
              "        console.error('Error during call to suggestCharts:', error);\n",
              "      }\n",
              "      quickchartButtonEl.classList.remove('colab-df-spinner');\n",
              "      quickchartButtonEl.classList.add('colab-df-quickchart-complete');\n",
              "    }\n",
              "    (() => {\n",
              "      let quickchartButtonEl =\n",
              "        document.querySelector('#df-523f3148-254d-4810-bbc9-404bec146f57 button');\n",
              "      quickchartButtonEl.style.display =\n",
              "        google.colab.kernel.accessAllowed ? 'block' : 'none';\n",
              "    })();\n",
              "  </script>\n",
              "</div>\n",
              "\n",
              "    </div>\n",
              "  </div>\n"
            ],
            "application/vnd.google.colaboratory.intrinsic+json": {
              "type": "dataframe",
              "variable_name": "parameters",
              "summary": "{\n  \"name\": \"parameters\",\n  \"rows\": 150,\n  \"fields\": [\n    {\n      \"column\": \"mape\",\n      \"properties\": {\n        \"dtype\": \"number\",\n        \"std\": 23.555037767332017,\n        \"min\": 45.54632464014895,\n        \"max\": 181.20133360038528,\n        \"num_unique_values\": 50,\n        \"samples\": [\n          56.395091606352835,\n          90.17279415576687,\n          76.62336800807734\n        ],\n        \"semantic_type\": \"\",\n        \"description\": \"\"\n      }\n    },\n    {\n      \"column\": \"Parameters\",\n      \"properties\": {\n        \"dtype\": \"object\",\n        \"semantic_type\": \"\",\n        \"description\": \"\"\n      }\n    }\n  ]\n}"
            }
          },
          "metadata": {},
          "execution_count": 58
        }
      ]
    },
    {
      "cell_type": "code",
      "source": [
        "parameters['Parameters'][0]"
      ],
      "metadata": {
        "colab": {
          "base_uri": "https://localhost:8080/"
        },
        "id": "KS6gTliMU4U9",
        "outputId": "1c174959-2feb-45c9-a215-d8c218d24eb7"
      },
      "execution_count": 59,
      "outputs": [
        {
          "output_type": "execute_result",
          "data": {
            "text/plain": [
              "{'changepoint_prior_scale': 0.1,\n",
              " 'holidays_prior_scale': 0.4,\n",
              " 'n_changepoints': 100,\n",
              " 'seasonality_mode': 'additive'}"
            ]
          },
          "metadata": {},
          "execution_count": 59
        }
      ]
    },
    {
      "cell_type": "code",
      "source": [
        "# Setup and train model with holidays\n",
        "final_model = Prophet(holidays=holiday,\n",
        "                      changepoint_prior_scale= 0.1,\n",
        "                      holidays_prior_scale = 0.4,\n",
        "                      n_changepoints = 100,\n",
        "                      seasonality_mode = 'additive',\n",
        "                      weekly_seasonality=True,\n",
        "                      daily_seasonality = True,\n",
        "                      yearly_seasonality = True,\n",
        "                      interval_width=0.95)\n",
        "final_model.add_country_holidays(country_name='US')\n",
        "final_model.fit(X_tr)"
      ],
      "metadata": {
        "colab": {
          "base_uri": "https://localhost:8080/"
        },
        "id": "J4rSSK8OWnoD",
        "outputId": "c7d561e5-8562-4ca4-b3ed-db62d7d486a6"
      },
      "execution_count": 71,
      "outputs": [
        {
          "output_type": "stream",
          "name": "stderr",
          "text": [
            "INFO:prophet:n_changepoints greater than number of observations. Using 23.\n",
            "DEBUG:cmdstanpy:input tempfile: /tmp/tmpstg6ceuj/hbzk4m4q.json\n",
            "DEBUG:cmdstanpy:input tempfile: /tmp/tmpstg6ceuj/ohlon664.json\n",
            "DEBUG:cmdstanpy:idx 0\n",
            "DEBUG:cmdstanpy:running CmdStan, num_threads: None\n",
            "DEBUG:cmdstanpy:CmdStan args: ['/usr/local/lib/python3.11/dist-packages/prophet/stan_model/prophet_model.bin', 'random', 'seed=66189', 'data', 'file=/tmp/tmpstg6ceuj/hbzk4m4q.json', 'init=/tmp/tmpstg6ceuj/ohlon664.json', 'output', 'file=/tmp/tmpstg6ceuj/prophet_model0lfu7n5g/prophet_model-20250228022538.csv', 'method=optimize', 'algorithm=newton', 'iter=10000']\n",
            "02:25:38 - cmdstanpy - INFO - Chain [1] start processing\n",
            "INFO:cmdstanpy:Chain [1] start processing\n",
            "02:25:39 - cmdstanpy - INFO - Chain [1] done processing\n",
            "INFO:cmdstanpy:Chain [1] done processing\n"
          ]
        },
        {
          "output_type": "execute_result",
          "data": {
            "text/plain": [
              "<prophet.forecaster.Prophet at 0x792b5c4a0690>"
            ]
          },
          "metadata": {},
          "execution_count": 71
        }
      ]
    },
    {
      "cell_type": "code",
      "source": [
        "future = final_model.make_future_dataframe(periods=53, freq='MS')\n",
        "forecast = final_model.predict(future)\n",
        "forecast[['ds', 'yhat', 'yhat_lower', 'yhat_upper']].tail(7)"
      ],
      "metadata": {
        "colab": {
          "base_uri": "https://localhost:8080/",
          "height": 261
        },
        "id": "sVHFwaDYW7yD",
        "outputId": "40563c64-579b-4e87-a4c0-66c4f86e8010"
      },
      "execution_count": 67,
      "outputs": [
        {
          "output_type": "execute_result",
          "data": {
            "text/plain": [
              "           ds   yhat  yhat_lower  yhat_upper\n",
              "76 2026-12-01 125.31       29.58      223.40\n",
              "77 2027-01-01  42.86        9.07       77.05\n",
              "78 2027-02-01 263.99       51.11      479.25\n",
              "79 2027-03-01 290.45       50.67      533.15\n",
              "80 2027-04-01 355.24       55.86      657.35\n",
              "81 2027-05-01 -10.87      -20.30       -1.50\n",
              "82 2027-06-01  17.48        2.15       33.11"
            ],
            "text/html": [
              "\n",
              "  <div id=\"df-cca10296-5118-4a7f-87f1-eb16e1f0380a\" class=\"colab-df-container\">\n",
              "    <div>\n",
              "<style scoped>\n",
              "    .dataframe tbody tr th:only-of-type {\n",
              "        vertical-align: middle;\n",
              "    }\n",
              "\n",
              "    .dataframe tbody tr th {\n",
              "        vertical-align: top;\n",
              "    }\n",
              "\n",
              "    .dataframe thead th {\n",
              "        text-align: right;\n",
              "    }\n",
              "</style>\n",
              "<table border=\"1\" class=\"dataframe\">\n",
              "  <thead>\n",
              "    <tr style=\"text-align: right;\">\n",
              "      <th></th>\n",
              "      <th>ds</th>\n",
              "      <th>yhat</th>\n",
              "      <th>yhat_lower</th>\n",
              "      <th>yhat_upper</th>\n",
              "    </tr>\n",
              "  </thead>\n",
              "  <tbody>\n",
              "    <tr>\n",
              "      <th>76</th>\n",
              "      <td>2026-12-01</td>\n",
              "      <td>125.31</td>\n",
              "      <td>29.58</td>\n",
              "      <td>223.40</td>\n",
              "    </tr>\n",
              "    <tr>\n",
              "      <th>77</th>\n",
              "      <td>2027-01-01</td>\n",
              "      <td>42.86</td>\n",
              "      <td>9.07</td>\n",
              "      <td>77.05</td>\n",
              "    </tr>\n",
              "    <tr>\n",
              "      <th>78</th>\n",
              "      <td>2027-02-01</td>\n",
              "      <td>263.99</td>\n",
              "      <td>51.11</td>\n",
              "      <td>479.25</td>\n",
              "    </tr>\n",
              "    <tr>\n",
              "      <th>79</th>\n",
              "      <td>2027-03-01</td>\n",
              "      <td>290.45</td>\n",
              "      <td>50.67</td>\n",
              "      <td>533.15</td>\n",
              "    </tr>\n",
              "    <tr>\n",
              "      <th>80</th>\n",
              "      <td>2027-04-01</td>\n",
              "      <td>355.24</td>\n",
              "      <td>55.86</td>\n",
              "      <td>657.35</td>\n",
              "    </tr>\n",
              "    <tr>\n",
              "      <th>81</th>\n",
              "      <td>2027-05-01</td>\n",
              "      <td>-10.87</td>\n",
              "      <td>-20.30</td>\n",
              "      <td>-1.50</td>\n",
              "    </tr>\n",
              "    <tr>\n",
              "      <th>82</th>\n",
              "      <td>2027-06-01</td>\n",
              "      <td>17.48</td>\n",
              "      <td>2.15</td>\n",
              "      <td>33.11</td>\n",
              "    </tr>\n",
              "  </tbody>\n",
              "</table>\n",
              "</div>\n",
              "    <div class=\"colab-df-buttons\">\n",
              "\n",
              "  <div class=\"colab-df-container\">\n",
              "    <button class=\"colab-df-convert\" onclick=\"convertToInteractive('df-cca10296-5118-4a7f-87f1-eb16e1f0380a')\"\n",
              "            title=\"Convert this dataframe to an interactive table.\"\n",
              "            style=\"display:none;\">\n",
              "\n",
              "  <svg xmlns=\"http://www.w3.org/2000/svg\" height=\"24px\" viewBox=\"0 -960 960 960\">\n",
              "    <path d=\"M120-120v-720h720v720H120Zm60-500h600v-160H180v160Zm220 220h160v-160H400v160Zm0 220h160v-160H400v160ZM180-400h160v-160H180v160Zm440 0h160v-160H620v160ZM180-180h160v-160H180v160Zm440 0h160v-160H620v160Z\"/>\n",
              "  </svg>\n",
              "    </button>\n",
              "\n",
              "  <style>\n",
              "    .colab-df-container {\n",
              "      display:flex;\n",
              "      gap: 12px;\n",
              "    }\n",
              "\n",
              "    .colab-df-convert {\n",
              "      background-color: #E8F0FE;\n",
              "      border: none;\n",
              "      border-radius: 50%;\n",
              "      cursor: pointer;\n",
              "      display: none;\n",
              "      fill: #1967D2;\n",
              "      height: 32px;\n",
              "      padding: 0 0 0 0;\n",
              "      width: 32px;\n",
              "    }\n",
              "\n",
              "    .colab-df-convert:hover {\n",
              "      background-color: #E2EBFA;\n",
              "      box-shadow: 0px 1px 2px rgba(60, 64, 67, 0.3), 0px 1px 3px 1px rgba(60, 64, 67, 0.15);\n",
              "      fill: #174EA6;\n",
              "    }\n",
              "\n",
              "    .colab-df-buttons div {\n",
              "      margin-bottom: 4px;\n",
              "    }\n",
              "\n",
              "    [theme=dark] .colab-df-convert {\n",
              "      background-color: #3B4455;\n",
              "      fill: #D2E3FC;\n",
              "    }\n",
              "\n",
              "    [theme=dark] .colab-df-convert:hover {\n",
              "      background-color: #434B5C;\n",
              "      box-shadow: 0px 1px 3px 1px rgba(0, 0, 0, 0.15);\n",
              "      filter: drop-shadow(0px 1px 2px rgba(0, 0, 0, 0.3));\n",
              "      fill: #FFFFFF;\n",
              "    }\n",
              "  </style>\n",
              "\n",
              "    <script>\n",
              "      const buttonEl =\n",
              "        document.querySelector('#df-cca10296-5118-4a7f-87f1-eb16e1f0380a button.colab-df-convert');\n",
              "      buttonEl.style.display =\n",
              "        google.colab.kernel.accessAllowed ? 'block' : 'none';\n",
              "\n",
              "      async function convertToInteractive(key) {\n",
              "        const element = document.querySelector('#df-cca10296-5118-4a7f-87f1-eb16e1f0380a');\n",
              "        const dataTable =\n",
              "          await google.colab.kernel.invokeFunction('convertToInteractive',\n",
              "                                                    [key], {});\n",
              "        if (!dataTable) return;\n",
              "\n",
              "        const docLinkHtml = 'Like what you see? Visit the ' +\n",
              "          '<a target=\"_blank\" href=https://colab.research.google.com/notebooks/data_table.ipynb>data table notebook</a>'\n",
              "          + ' to learn more about interactive tables.';\n",
              "        element.innerHTML = '';\n",
              "        dataTable['output_type'] = 'display_data';\n",
              "        await google.colab.output.renderOutput(dataTable, element);\n",
              "        const docLink = document.createElement('div');\n",
              "        docLink.innerHTML = docLinkHtml;\n",
              "        element.appendChild(docLink);\n",
              "      }\n",
              "    </script>\n",
              "  </div>\n",
              "\n",
              "\n",
              "<div id=\"df-163eddac-4abb-4075-b87d-5f5a287cc041\">\n",
              "  <button class=\"colab-df-quickchart\" onclick=\"quickchart('df-163eddac-4abb-4075-b87d-5f5a287cc041')\"\n",
              "            title=\"Suggest charts\"\n",
              "            style=\"display:none;\">\n",
              "\n",
              "<svg xmlns=\"http://www.w3.org/2000/svg\" height=\"24px\"viewBox=\"0 0 24 24\"\n",
              "     width=\"24px\">\n",
              "    <g>\n",
              "        <path d=\"M19 3H5c-1.1 0-2 .9-2 2v14c0 1.1.9 2 2 2h14c1.1 0 2-.9 2-2V5c0-1.1-.9-2-2-2zM9 17H7v-7h2v7zm4 0h-2V7h2v10zm4 0h-2v-4h2v4z\"/>\n",
              "    </g>\n",
              "</svg>\n",
              "  </button>\n",
              "\n",
              "<style>\n",
              "  .colab-df-quickchart {\n",
              "      --bg-color: #E8F0FE;\n",
              "      --fill-color: #1967D2;\n",
              "      --hover-bg-color: #E2EBFA;\n",
              "      --hover-fill-color: #174EA6;\n",
              "      --disabled-fill-color: #AAA;\n",
              "      --disabled-bg-color: #DDD;\n",
              "  }\n",
              "\n",
              "  [theme=dark] .colab-df-quickchart {\n",
              "      --bg-color: #3B4455;\n",
              "      --fill-color: #D2E3FC;\n",
              "      --hover-bg-color: #434B5C;\n",
              "      --hover-fill-color: #FFFFFF;\n",
              "      --disabled-bg-color: #3B4455;\n",
              "      --disabled-fill-color: #666;\n",
              "  }\n",
              "\n",
              "  .colab-df-quickchart {\n",
              "    background-color: var(--bg-color);\n",
              "    border: none;\n",
              "    border-radius: 50%;\n",
              "    cursor: pointer;\n",
              "    display: none;\n",
              "    fill: var(--fill-color);\n",
              "    height: 32px;\n",
              "    padding: 0;\n",
              "    width: 32px;\n",
              "  }\n",
              "\n",
              "  .colab-df-quickchart:hover {\n",
              "    background-color: var(--hover-bg-color);\n",
              "    box-shadow: 0 1px 2px rgba(60, 64, 67, 0.3), 0 1px 3px 1px rgba(60, 64, 67, 0.15);\n",
              "    fill: var(--button-hover-fill-color);\n",
              "  }\n",
              "\n",
              "  .colab-df-quickchart-complete:disabled,\n",
              "  .colab-df-quickchart-complete:disabled:hover {\n",
              "    background-color: var(--disabled-bg-color);\n",
              "    fill: var(--disabled-fill-color);\n",
              "    box-shadow: none;\n",
              "  }\n",
              "\n",
              "  .colab-df-spinner {\n",
              "    border: 2px solid var(--fill-color);\n",
              "    border-color: transparent;\n",
              "    border-bottom-color: var(--fill-color);\n",
              "    animation:\n",
              "      spin 1s steps(1) infinite;\n",
              "  }\n",
              "\n",
              "  @keyframes spin {\n",
              "    0% {\n",
              "      border-color: transparent;\n",
              "      border-bottom-color: var(--fill-color);\n",
              "      border-left-color: var(--fill-color);\n",
              "    }\n",
              "    20% {\n",
              "      border-color: transparent;\n",
              "      border-left-color: var(--fill-color);\n",
              "      border-top-color: var(--fill-color);\n",
              "    }\n",
              "    30% {\n",
              "      border-color: transparent;\n",
              "      border-left-color: var(--fill-color);\n",
              "      border-top-color: var(--fill-color);\n",
              "      border-right-color: var(--fill-color);\n",
              "    }\n",
              "    40% {\n",
              "      border-color: transparent;\n",
              "      border-right-color: var(--fill-color);\n",
              "      border-top-color: var(--fill-color);\n",
              "    }\n",
              "    60% {\n",
              "      border-color: transparent;\n",
              "      border-right-color: var(--fill-color);\n",
              "    }\n",
              "    80% {\n",
              "      border-color: transparent;\n",
              "      border-right-color: var(--fill-color);\n",
              "      border-bottom-color: var(--fill-color);\n",
              "    }\n",
              "    90% {\n",
              "      border-color: transparent;\n",
              "      border-bottom-color: var(--fill-color);\n",
              "    }\n",
              "  }\n",
              "</style>\n",
              "\n",
              "  <script>\n",
              "    async function quickchart(key) {\n",
              "      const quickchartButtonEl =\n",
              "        document.querySelector('#' + key + ' button');\n",
              "      quickchartButtonEl.disabled = true;  // To prevent multiple clicks.\n",
              "      quickchartButtonEl.classList.add('colab-df-spinner');\n",
              "      try {\n",
              "        const charts = await google.colab.kernel.invokeFunction(\n",
              "            'suggestCharts', [key], {});\n",
              "      } catch (error) {\n",
              "        console.error('Error during call to suggestCharts:', error);\n",
              "      }\n",
              "      quickchartButtonEl.classList.remove('colab-df-spinner');\n",
              "      quickchartButtonEl.classList.add('colab-df-quickchart-complete');\n",
              "    }\n",
              "    (() => {\n",
              "      let quickchartButtonEl =\n",
              "        document.querySelector('#df-163eddac-4abb-4075-b87d-5f5a287cc041 button');\n",
              "      quickchartButtonEl.style.display =\n",
              "        google.colab.kernel.accessAllowed ? 'block' : 'none';\n",
              "    })();\n",
              "  </script>\n",
              "</div>\n",
              "\n",
              "    </div>\n",
              "  </div>\n"
            ],
            "application/vnd.google.colaboratory.intrinsic+json": {
              "type": "dataframe",
              "summary": "{\n  \"name\": \"forecast[['ds', 'yhat', 'yhat_lower', 'yhat_upper']]\",\n  \"rows\": 7,\n  \"fields\": [\n    {\n      \"column\": \"ds\",\n      \"properties\": {\n        \"dtype\": \"date\",\n        \"min\": \"2026-12-01 00:00:00\",\n        \"max\": \"2027-06-01 00:00:00\",\n        \"num_unique_values\": 7,\n        \"samples\": [\n          \"2026-12-01 00:00:00\",\n          \"2027-01-01 00:00:00\",\n          \"2027-05-01 00:00:00\"\n        ],\n        \"semantic_type\": \"\",\n        \"description\": \"\"\n      }\n    },\n    {\n      \"column\": \"yhat\",\n      \"properties\": {\n        \"dtype\": \"number\",\n        \"std\": 147.3126788202637,\n        \"min\": -10.86832523979574,\n        \"max\": 355.2443369256921,\n        \"num_unique_values\": 7,\n        \"samples\": [\n          125.31274185622476,\n          42.86055679447357,\n          -10.86832523979574\n        ],\n        \"semantic_type\": \"\",\n        \"description\": \"\"\n      }\n    },\n    {\n      \"column\": \"yhat_lower\",\n      \"properties\": {\n        \"dtype\": \"number\",\n        \"std\": 29.271021005892067,\n        \"min\": -20.304041103480436,\n        \"max\": 55.85979047541903,\n        \"num_unique_values\": 7,\n        \"samples\": [\n          29.57772862833858,\n          9.067301875535124,\n          -20.304041103480436\n        ],\n        \"semantic_type\": \"\",\n        \"description\": \"\"\n      }\n    },\n    {\n      \"column\": \"yhat_upper\",\n      \"properties\": {\n        \"dtype\": \"number\",\n        \"std\": 267.867764064768,\n        \"min\": -1.5020718022026116,\n        \"max\": 657.3498935799574,\n        \"num_unique_values\": 7,\n        \"samples\": [\n          223.4005868527715,\n          77.05268381660859,\n          -1.5020718022026116\n        ],\n        \"semantic_type\": \"\",\n        \"description\": \"\"\n      }\n    }\n  ]\n}"
            }
          },
          "metadata": {},
          "execution_count": 67
        }
      ]
    },
    {
      "cell_type": "code",
      "source": [
        "X_tst_final= final_model.predict(X_tst)\n",
        "X_tst_final[['ds', 'yhat', 'yhat_lower', 'yhat_upper']].tail(7)"
      ],
      "metadata": {
        "colab": {
          "base_uri": "https://localhost:8080/",
          "height": 261
        },
        "id": "8mHHvvsoXLyB",
        "outputId": "db9a42d2-4e5e-4952-e7b7-14efcd89d9aa"
      },
      "execution_count": 68,
      "outputs": [
        {
          "output_type": "execute_result",
          "data": {
            "text/plain": [
              "           ds   yhat  yhat_lower  yhat_upper\n",
              "17 2024-07-01  79.00       59.27       96.48\n",
              "18 2024-08-01  83.47       61.05      103.40\n",
              "19 2024-09-01 170.61      121.32      214.08\n",
              "20 2024-10-01 119.37       83.17      151.56\n",
              "21 2024-11-01  30.14       20.49       38.62\n",
              "22 2024-12-01 196.65      129.06      255.63\n",
              "23 2025-01-01 241.77      156.13      319.58"
            ],
            "text/html": [
              "\n",
              "  <div id=\"df-d9736eac-02aa-4d3b-99e6-922531f3fdc7\" class=\"colab-df-container\">\n",
              "    <div>\n",
              "<style scoped>\n",
              "    .dataframe tbody tr th:only-of-type {\n",
              "        vertical-align: middle;\n",
              "    }\n",
              "\n",
              "    .dataframe tbody tr th {\n",
              "        vertical-align: top;\n",
              "    }\n",
              "\n",
              "    .dataframe thead th {\n",
              "        text-align: right;\n",
              "    }\n",
              "</style>\n",
              "<table border=\"1\" class=\"dataframe\">\n",
              "  <thead>\n",
              "    <tr style=\"text-align: right;\">\n",
              "      <th></th>\n",
              "      <th>ds</th>\n",
              "      <th>yhat</th>\n",
              "      <th>yhat_lower</th>\n",
              "      <th>yhat_upper</th>\n",
              "    </tr>\n",
              "  </thead>\n",
              "  <tbody>\n",
              "    <tr>\n",
              "      <th>17</th>\n",
              "      <td>2024-07-01</td>\n",
              "      <td>79.00</td>\n",
              "      <td>59.27</td>\n",
              "      <td>96.48</td>\n",
              "    </tr>\n",
              "    <tr>\n",
              "      <th>18</th>\n",
              "      <td>2024-08-01</td>\n",
              "      <td>83.47</td>\n",
              "      <td>61.05</td>\n",
              "      <td>103.40</td>\n",
              "    </tr>\n",
              "    <tr>\n",
              "      <th>19</th>\n",
              "      <td>2024-09-01</td>\n",
              "      <td>170.61</td>\n",
              "      <td>121.32</td>\n",
              "      <td>214.08</td>\n",
              "    </tr>\n",
              "    <tr>\n",
              "      <th>20</th>\n",
              "      <td>2024-10-01</td>\n",
              "      <td>119.37</td>\n",
              "      <td>83.17</td>\n",
              "      <td>151.56</td>\n",
              "    </tr>\n",
              "    <tr>\n",
              "      <th>21</th>\n",
              "      <td>2024-11-01</td>\n",
              "      <td>30.14</td>\n",
              "      <td>20.49</td>\n",
              "      <td>38.62</td>\n",
              "    </tr>\n",
              "    <tr>\n",
              "      <th>22</th>\n",
              "      <td>2024-12-01</td>\n",
              "      <td>196.65</td>\n",
              "      <td>129.06</td>\n",
              "      <td>255.63</td>\n",
              "    </tr>\n",
              "    <tr>\n",
              "      <th>23</th>\n",
              "      <td>2025-01-01</td>\n",
              "      <td>241.77</td>\n",
              "      <td>156.13</td>\n",
              "      <td>319.58</td>\n",
              "    </tr>\n",
              "  </tbody>\n",
              "</table>\n",
              "</div>\n",
              "    <div class=\"colab-df-buttons\">\n",
              "\n",
              "  <div class=\"colab-df-container\">\n",
              "    <button class=\"colab-df-convert\" onclick=\"convertToInteractive('df-d9736eac-02aa-4d3b-99e6-922531f3fdc7')\"\n",
              "            title=\"Convert this dataframe to an interactive table.\"\n",
              "            style=\"display:none;\">\n",
              "\n",
              "  <svg xmlns=\"http://www.w3.org/2000/svg\" height=\"24px\" viewBox=\"0 -960 960 960\">\n",
              "    <path d=\"M120-120v-720h720v720H120Zm60-500h600v-160H180v160Zm220 220h160v-160H400v160Zm0 220h160v-160H400v160ZM180-400h160v-160H180v160Zm440 0h160v-160H620v160ZM180-180h160v-160H180v160Zm440 0h160v-160H620v160Z\"/>\n",
              "  </svg>\n",
              "    </button>\n",
              "\n",
              "  <style>\n",
              "    .colab-df-container {\n",
              "      display:flex;\n",
              "      gap: 12px;\n",
              "    }\n",
              "\n",
              "    .colab-df-convert {\n",
              "      background-color: #E8F0FE;\n",
              "      border: none;\n",
              "      border-radius: 50%;\n",
              "      cursor: pointer;\n",
              "      display: none;\n",
              "      fill: #1967D2;\n",
              "      height: 32px;\n",
              "      padding: 0 0 0 0;\n",
              "      width: 32px;\n",
              "    }\n",
              "\n",
              "    .colab-df-convert:hover {\n",
              "      background-color: #E2EBFA;\n",
              "      box-shadow: 0px 1px 2px rgba(60, 64, 67, 0.3), 0px 1px 3px 1px rgba(60, 64, 67, 0.15);\n",
              "      fill: #174EA6;\n",
              "    }\n",
              "\n",
              "    .colab-df-buttons div {\n",
              "      margin-bottom: 4px;\n",
              "    }\n",
              "\n",
              "    [theme=dark] .colab-df-convert {\n",
              "      background-color: #3B4455;\n",
              "      fill: #D2E3FC;\n",
              "    }\n",
              "\n",
              "    [theme=dark] .colab-df-convert:hover {\n",
              "      background-color: #434B5C;\n",
              "      box-shadow: 0px 1px 3px 1px rgba(0, 0, 0, 0.15);\n",
              "      filter: drop-shadow(0px 1px 2px rgba(0, 0, 0, 0.3));\n",
              "      fill: #FFFFFF;\n",
              "    }\n",
              "  </style>\n",
              "\n",
              "    <script>\n",
              "      const buttonEl =\n",
              "        document.querySelector('#df-d9736eac-02aa-4d3b-99e6-922531f3fdc7 button.colab-df-convert');\n",
              "      buttonEl.style.display =\n",
              "        google.colab.kernel.accessAllowed ? 'block' : 'none';\n",
              "\n",
              "      async function convertToInteractive(key) {\n",
              "        const element = document.querySelector('#df-d9736eac-02aa-4d3b-99e6-922531f3fdc7');\n",
              "        const dataTable =\n",
              "          await google.colab.kernel.invokeFunction('convertToInteractive',\n",
              "                                                    [key], {});\n",
              "        if (!dataTable) return;\n",
              "\n",
              "        const docLinkHtml = 'Like what you see? Visit the ' +\n",
              "          '<a target=\"_blank\" href=https://colab.research.google.com/notebooks/data_table.ipynb>data table notebook</a>'\n",
              "          + ' to learn more about interactive tables.';\n",
              "        element.innerHTML = '';\n",
              "        dataTable['output_type'] = 'display_data';\n",
              "        await google.colab.output.renderOutput(dataTable, element);\n",
              "        const docLink = document.createElement('div');\n",
              "        docLink.innerHTML = docLinkHtml;\n",
              "        element.appendChild(docLink);\n",
              "      }\n",
              "    </script>\n",
              "  </div>\n",
              "\n",
              "\n",
              "<div id=\"df-ead63b44-92a7-4d8b-b15f-0b150f1f0d37\">\n",
              "  <button class=\"colab-df-quickchart\" onclick=\"quickchart('df-ead63b44-92a7-4d8b-b15f-0b150f1f0d37')\"\n",
              "            title=\"Suggest charts\"\n",
              "            style=\"display:none;\">\n",
              "\n",
              "<svg xmlns=\"http://www.w3.org/2000/svg\" height=\"24px\"viewBox=\"0 0 24 24\"\n",
              "     width=\"24px\">\n",
              "    <g>\n",
              "        <path d=\"M19 3H5c-1.1 0-2 .9-2 2v14c0 1.1.9 2 2 2h14c1.1 0 2-.9 2-2V5c0-1.1-.9-2-2-2zM9 17H7v-7h2v7zm4 0h-2V7h2v10zm4 0h-2v-4h2v4z\"/>\n",
              "    </g>\n",
              "</svg>\n",
              "  </button>\n",
              "\n",
              "<style>\n",
              "  .colab-df-quickchart {\n",
              "      --bg-color: #E8F0FE;\n",
              "      --fill-color: #1967D2;\n",
              "      --hover-bg-color: #E2EBFA;\n",
              "      --hover-fill-color: #174EA6;\n",
              "      --disabled-fill-color: #AAA;\n",
              "      --disabled-bg-color: #DDD;\n",
              "  }\n",
              "\n",
              "  [theme=dark] .colab-df-quickchart {\n",
              "      --bg-color: #3B4455;\n",
              "      --fill-color: #D2E3FC;\n",
              "      --hover-bg-color: #434B5C;\n",
              "      --hover-fill-color: #FFFFFF;\n",
              "      --disabled-bg-color: #3B4455;\n",
              "      --disabled-fill-color: #666;\n",
              "  }\n",
              "\n",
              "  .colab-df-quickchart {\n",
              "    background-color: var(--bg-color);\n",
              "    border: none;\n",
              "    border-radius: 50%;\n",
              "    cursor: pointer;\n",
              "    display: none;\n",
              "    fill: var(--fill-color);\n",
              "    height: 32px;\n",
              "    padding: 0;\n",
              "    width: 32px;\n",
              "  }\n",
              "\n",
              "  .colab-df-quickchart:hover {\n",
              "    background-color: var(--hover-bg-color);\n",
              "    box-shadow: 0 1px 2px rgba(60, 64, 67, 0.3), 0 1px 3px 1px rgba(60, 64, 67, 0.15);\n",
              "    fill: var(--button-hover-fill-color);\n",
              "  }\n",
              "\n",
              "  .colab-df-quickchart-complete:disabled,\n",
              "  .colab-df-quickchart-complete:disabled:hover {\n",
              "    background-color: var(--disabled-bg-color);\n",
              "    fill: var(--disabled-fill-color);\n",
              "    box-shadow: none;\n",
              "  }\n",
              "\n",
              "  .colab-df-spinner {\n",
              "    border: 2px solid var(--fill-color);\n",
              "    border-color: transparent;\n",
              "    border-bottom-color: var(--fill-color);\n",
              "    animation:\n",
              "      spin 1s steps(1) infinite;\n",
              "  }\n",
              "\n",
              "  @keyframes spin {\n",
              "    0% {\n",
              "      border-color: transparent;\n",
              "      border-bottom-color: var(--fill-color);\n",
              "      border-left-color: var(--fill-color);\n",
              "    }\n",
              "    20% {\n",
              "      border-color: transparent;\n",
              "      border-left-color: var(--fill-color);\n",
              "      border-top-color: var(--fill-color);\n",
              "    }\n",
              "    30% {\n",
              "      border-color: transparent;\n",
              "      border-left-color: var(--fill-color);\n",
              "      border-top-color: var(--fill-color);\n",
              "      border-right-color: var(--fill-color);\n",
              "    }\n",
              "    40% {\n",
              "      border-color: transparent;\n",
              "      border-right-color: var(--fill-color);\n",
              "      border-top-color: var(--fill-color);\n",
              "    }\n",
              "    60% {\n",
              "      border-color: transparent;\n",
              "      border-right-color: var(--fill-color);\n",
              "    }\n",
              "    80% {\n",
              "      border-color: transparent;\n",
              "      border-right-color: var(--fill-color);\n",
              "      border-bottom-color: var(--fill-color);\n",
              "    }\n",
              "    90% {\n",
              "      border-color: transparent;\n",
              "      border-bottom-color: var(--fill-color);\n",
              "    }\n",
              "  }\n",
              "</style>\n",
              "\n",
              "  <script>\n",
              "    async function quickchart(key) {\n",
              "      const quickchartButtonEl =\n",
              "        document.querySelector('#' + key + ' button');\n",
              "      quickchartButtonEl.disabled = true;  // To prevent multiple clicks.\n",
              "      quickchartButtonEl.classList.add('colab-df-spinner');\n",
              "      try {\n",
              "        const charts = await google.colab.kernel.invokeFunction(\n",
              "            'suggestCharts', [key], {});\n",
              "      } catch (error) {\n",
              "        console.error('Error during call to suggestCharts:', error);\n",
              "      }\n",
              "      quickchartButtonEl.classList.remove('colab-df-spinner');\n",
              "      quickchartButtonEl.classList.add('colab-df-quickchart-complete');\n",
              "    }\n",
              "    (() => {\n",
              "      let quickchartButtonEl =\n",
              "        document.querySelector('#df-ead63b44-92a7-4d8b-b15f-0b150f1f0d37 button');\n",
              "      quickchartButtonEl.style.display =\n",
              "        google.colab.kernel.accessAllowed ? 'block' : 'none';\n",
              "    })();\n",
              "  </script>\n",
              "</div>\n",
              "\n",
              "    </div>\n",
              "  </div>\n"
            ],
            "application/vnd.google.colaboratory.intrinsic+json": {
              "type": "dataframe",
              "summary": "{\n  \"name\": \"X_tst_final[['ds', 'yhat', 'yhat_lower', 'yhat_upper']]\",\n  \"rows\": 7,\n  \"fields\": [\n    {\n      \"column\": \"ds\",\n      \"properties\": {\n        \"dtype\": \"date\",\n        \"min\": \"2024-07-01 00:00:00\",\n        \"max\": \"2025-01-01 00:00:00\",\n        \"num_unique_values\": 7,\n        \"samples\": [\n          \"2024-07-01 00:00:00\",\n          \"2024-08-01 00:00:00\",\n          \"2024-12-01 00:00:00\"\n        ],\n        \"semantic_type\": \"\",\n        \"description\": \"\"\n      }\n    },\n    {\n      \"column\": \"yhat\",\n      \"properties\": {\n        \"dtype\": \"number\",\n        \"std\": 74.63026496383891,\n        \"min\": 30.143667692143662,\n        \"max\": 241.77180137797126,\n        \"num_unique_values\": 7,\n        \"samples\": [\n          79.00357090336638,\n          83.46552993352266,\n          196.65321838924646\n        ],\n        \"semantic_type\": \"\",\n        \"description\": \"\"\n      }\n    },\n    {\n      \"column\": \"yhat_lower\",\n      \"properties\": {\n        \"dtype\": \"number\",\n        \"std\": 47.50558608162336,\n        \"min\": 20.491797426122208,\n        \"max\": 156.13295793091754,\n        \"num_unique_values\": 7,\n        \"samples\": [\n          59.267063560291966,\n          61.04634032025501,\n          129.05677549810702\n        ],\n        \"semantic_type\": \"\",\n        \"description\": \"\"\n      }\n    },\n    {\n      \"column\": \"yhat_upper\",\n      \"properties\": {\n        \"dtype\": \"number\",\n        \"std\": 99.22575082833585,\n        \"min\": 38.62193949094814,\n        \"max\": 319.58330881426843,\n        \"num_unique_values\": 7,\n        \"samples\": [\n          96.48146599999315,\n          103.40111669702792,\n          255.62765219105304\n        ],\n        \"semantic_type\": \"\",\n        \"description\": \"\"\n      }\n    }\n  ]\n}"
            }
          },
          "metadata": {},
          "execution_count": 68
        }
      ]
    },
    {
      "cell_type": "code",
      "source": [
        "f, ax = plt.subplots(figsize=(14,5))\n",
        "f.set_figheight(5)\n",
        "f.set_figwidth(15)\n",
        "X_tst.plot(kind='line',x='ds', y='y', color='red', label='Actual', ax=ax)\n",
        "X_tst_final.plot(kind='line',x='ds',y='yhat', color='green',label='Forecast', ax=ax)\n",
        "plt.title('Forecast vs Actuals')\n",
        "plt.show()"
      ],
      "metadata": {
        "colab": {
          "base_uri": "https://localhost:8080/",
          "height": 1000
        },
        "id": "ApLF_S2DXQCd",
        "outputId": "be5e0a71-5bd7-4610-d382-93bee37c18e2"
      },
      "execution_count": 69,
      "outputs": [
        {
          "output_type": "stream",
          "name": "stderr",
          "text": [
            "WARNING:matplotlib.font_manager:findfont: Font family 'Arial' not found.\n",
            "WARNING:matplotlib.font_manager:findfont: Font family 'Arial' not found.\n",
            "WARNING:matplotlib.font_manager:findfont: Font family 'Arial' not found.\n",
            "WARNING:matplotlib.font_manager:findfont: Font family 'Arial' not found.\n",
            "WARNING:matplotlib.font_manager:findfont: Font family 'Arial' not found.\n",
            "WARNING:matplotlib.font_manager:findfont: Font family 'Arial' not found.\n",
            "WARNING:matplotlib.font_manager:findfont: Font family 'Arial' not found.\n",
            "WARNING:matplotlib.font_manager:findfont: Font family 'Arial' not found.\n",
            "WARNING:matplotlib.font_manager:findfont: Font family 'Arial' not found.\n",
            "WARNING:matplotlib.font_manager:findfont: Font family 'Arial' not found.\n",
            "WARNING:matplotlib.font_manager:findfont: Font family 'Arial' not found.\n",
            "WARNING:matplotlib.font_manager:findfont: Font family 'Arial' not found.\n",
            "WARNING:matplotlib.font_manager:findfont: Font family 'Arial' not found.\n",
            "WARNING:matplotlib.font_manager:findfont: Font family 'Arial' not found.\n",
            "WARNING:matplotlib.font_manager:findfont: Font family 'Arial' not found.\n",
            "WARNING:matplotlib.font_manager:findfont: Font family 'Arial' not found.\n",
            "WARNING:matplotlib.font_manager:findfont: Font family 'Arial' not found.\n",
            "WARNING:matplotlib.font_manager:findfont: Font family 'Arial' not found.\n",
            "WARNING:matplotlib.font_manager:findfont: Font family 'Arial' not found.\n",
            "WARNING:matplotlib.font_manager:findfont: Font family 'Arial' not found.\n",
            "WARNING:matplotlib.font_manager:findfont: Font family 'Arial' not found.\n",
            "WARNING:matplotlib.font_manager:findfont: Font family 'Arial' not found.\n",
            "WARNING:matplotlib.font_manager:findfont: Font family 'Arial' not found.\n",
            "WARNING:matplotlib.font_manager:findfont: Font family 'Arial' not found.\n",
            "WARNING:matplotlib.font_manager:findfont: Font family 'Arial' not found.\n",
            "WARNING:matplotlib.font_manager:findfont: Font family 'Arial' not found.\n",
            "WARNING:matplotlib.font_manager:findfont: Font family 'Arial' not found.\n",
            "WARNING:matplotlib.font_manager:findfont: Font family 'Arial' not found.\n",
            "WARNING:matplotlib.font_manager:findfont: Font family 'Arial' not found.\n",
            "WARNING:matplotlib.font_manager:findfont: Font family 'Arial' not found.\n",
            "WARNING:matplotlib.font_manager:findfont: Font family 'Arial' not found.\n",
            "WARNING:matplotlib.font_manager:findfont: Font family 'Arial' not found.\n",
            "WARNING:matplotlib.font_manager:findfont: Font family 'Arial' not found.\n",
            "WARNING:matplotlib.font_manager:findfont: Font family 'Arial' not found.\n",
            "WARNING:matplotlib.font_manager:findfont: Font family 'Arial' not found.\n",
            "WARNING:matplotlib.font_manager:findfont: Font family 'Arial' not found.\n",
            "WARNING:matplotlib.font_manager:findfont: Font family 'Arial' not found.\n",
            "WARNING:matplotlib.font_manager:findfont: Font family 'Arial' not found.\n",
            "WARNING:matplotlib.font_manager:findfont: Font family 'Arial' not found.\n",
            "WARNING:matplotlib.font_manager:findfont: Font family 'Arial' not found.\n",
            "WARNING:matplotlib.font_manager:findfont: Font family 'Arial' not found.\n",
            "WARNING:matplotlib.font_manager:findfont: Font family 'Arial' not found.\n",
            "WARNING:matplotlib.font_manager:findfont: Font family 'Arial' not found.\n",
            "WARNING:matplotlib.font_manager:findfont: Font family 'Arial' not found.\n",
            "WARNING:matplotlib.font_manager:findfont: Font family 'Arial' not found.\n",
            "WARNING:matplotlib.font_manager:findfont: Font family 'Arial' not found.\n",
            "WARNING:matplotlib.font_manager:findfont: Font family 'Arial' not found.\n",
            "WARNING:matplotlib.font_manager:findfont: Font family 'Arial' not found.\n",
            "WARNING:matplotlib.font_manager:findfont: Font family 'Arial' not found.\n",
            "WARNING:matplotlib.font_manager:findfont: Font family 'Arial' not found.\n",
            "WARNING:matplotlib.font_manager:findfont: Font family 'Arial' not found.\n",
            "WARNING:matplotlib.font_manager:findfont: Font family 'Arial' not found.\n",
            "WARNING:matplotlib.font_manager:findfont: Font family 'Arial' not found.\n",
            "WARNING:matplotlib.font_manager:findfont: Font family 'Arial' not found.\n",
            "WARNING:matplotlib.font_manager:findfont: Font family 'Arial' not found.\n",
            "WARNING:matplotlib.font_manager:findfont: Font family 'Arial' not found.\n",
            "WARNING:matplotlib.font_manager:findfont: Font family 'Arial' not found.\n",
            "WARNING:matplotlib.font_manager:findfont: Font family 'Arial' not found.\n",
            "WARNING:matplotlib.font_manager:findfont: Font family 'Arial' not found.\n",
            "WARNING:matplotlib.font_manager:findfont: Font family 'Arial' not found.\n",
            "WARNING:matplotlib.font_manager:findfont: Font family 'Arial' not found.\n",
            "WARNING:matplotlib.font_manager:findfont: Font family 'Arial' not found.\n",
            "WARNING:matplotlib.font_manager:findfont: Font family 'Arial' not found.\n",
            "WARNING:matplotlib.font_manager:findfont: Font family 'Arial' not found.\n",
            "WARNING:matplotlib.font_manager:findfont: Font family 'Arial' not found.\n",
            "WARNING:matplotlib.font_manager:findfont: Font family 'Arial' not found.\n",
            "WARNING:matplotlib.font_manager:findfont: Font family 'Arial' not found.\n",
            "WARNING:matplotlib.font_manager:findfont: Font family 'Arial' not found.\n",
            "WARNING:matplotlib.font_manager:findfont: Font family 'Arial' not found.\n",
            "WARNING:matplotlib.font_manager:findfont: Font family 'Arial' not found.\n",
            "WARNING:matplotlib.font_manager:findfont: Font family 'Arial' not found.\n",
            "WARNING:matplotlib.font_manager:findfont: Font family 'Arial' not found.\n",
            "WARNING:matplotlib.font_manager:findfont: Font family 'Arial' not found.\n",
            "WARNING:matplotlib.font_manager:findfont: Font family 'Arial' not found.\n",
            "WARNING:matplotlib.font_manager:findfont: Font family 'Arial' not found.\n",
            "WARNING:matplotlib.font_manager:findfont: Font family 'Arial' not found.\n",
            "WARNING:matplotlib.font_manager:findfont: Font family 'Arial' not found.\n",
            "WARNING:matplotlib.font_manager:findfont: Font family 'Arial' not found.\n",
            "WARNING:matplotlib.font_manager:findfont: Font family 'Arial' not found.\n",
            "WARNING:matplotlib.font_manager:findfont: Font family 'Arial' not found.\n"
          ]
        },
        {
          "output_type": "display_data",
          "data": {
            "text/plain": [
              "<Figure size 1500x500 with 1 Axes>"
            ],
            "image/png": "[encoded data removed]"
          },
          "metadata": {}
        }
      ]
    },
    {
      "cell_type": "code",
      "source": [
        "MAPE = mape(X_tst['y'],abs(X_tst_final['yhat']))\n",
        "print('MAPE', MAPE)"
      ],
      "metadata": {
        "colab": {
          "base_uri": "https://localhost:8080/"
        },
        "id": "BTe8ni5VXaKr",
        "outputId": "d7cb5860-6d01-4b28-c5c8-57bf19dff2f6"
      },
      "execution_count": 70,
      "outputs": [
        {
          "output_type": "stream",
          "name": "stdout",
          "text": [
            "MAPE 52.98995224388195\n"
          ]
        }
      ]
    }
  ]
}