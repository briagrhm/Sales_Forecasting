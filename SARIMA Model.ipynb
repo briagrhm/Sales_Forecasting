{
 "cells": [
  {
   "cell_type": "code",
   "execution_count": 1,
   "id": "b1e6670c",
   "metadata": {},
   "outputs": [],
   "source": [
    "# Import packages\n",
    "import plotly.express as px\n",
    "import pandas as pd\n",
    "\n"
   ]
  },
  {
   "cell_type": "code",
   "execution_count": 2,
   "id": "ec6c25eb",
   "metadata": {},
   "outputs": [],
   "source": [
    "# Read in the data\n",
    "data = pd.read_csv(\"/Users/bg/Desktop/Data_Analyst /Combined 14-1048 Sales 23.24.csv\")\n",
    "data['Date'] = pd.to_datetime(data['Date'])"
   ]
  },
  {
   "cell_type": "code",
   "execution_count": 3,
   "id": "6e0cc434",
   "metadata": {},
   "outputs": [],
   "source": [
    "data = data.drop(columns='Cat No')\n",
    "data"
   ]
  },
  {
   "cell_type": "code",
   "execution_count": 4,
   "id": "84601b39",
   "metadata": {},
   "outputs": [],
   "source": [
    "#Plot Data \n",
    "def plot_sales_volumes(df: pd.DataFrame,\n",
    "                           y: str) -> None:\n",
    "    \"\"\"General function to plot the sales data.\"\"\"\n",
    "\n",
    "    fig = px.line(df, x='Date', y=y, labels='Date')\n",
    "    fig.update_layout(template=\"simple_white\", font=dict(size=18), title_text='Company Sales',\n",
    "                      width=650, title_x=0.5, height=400)\n",
    "\n",
    "    return fig.show()\n",
    "\n",
    "\n",
    "# Plot the Sales data\n",
    "plot_sales_volumes(df=data, y='Sales')"
   ]
  },
  {
   "cell_type": "code",
   "execution_count": 5,
   "id": "dd771f76",
   "metadata": {},
   "outputs": [],
   "source": [
    "# Import packages\n",
    "from scipy.stats import boxcox\n",
    "\n",
    "# Make the data stationary\n",
    "data['Sales_Boxcox'], lam = boxcox(data['Sales'])\n",
    "data[\"Sales_diff\"] = data[\"Sales_Boxcox\"].diff()\n",
    "data.dropna(inplace=True)\n",
    "\n",
    "# Plot the stationary Sales data\n",
    "plot_sales_volumes(df=data, y='Sales_diff')"
   ]
  },
  {
   "cell_type": "code",
   "execution_count": 8,
   "id": "dd5f65da",
   "metadata": {},
   "outputs": [],
   "source": [
    "# Import packages\n",
    "import matplotlib.pyplot as plt\n",
    "from statsmodels.graphics.tsaplots import plot_pacf, plot_acf\n",
    "\n",
    "# Plot acf and pacf\n",
    "fig, (ax1, ax2) = plt.subplots(1, 2, figsize=(16, 5), dpi=80)\n",
    "plot_acf(data['Sales_diff'])\n",
    "plot_pacf(data['Sales_diff'], method='ywm')\n",
    "ax1.tick_params(axis='both', labelsize=12)\n",
    "ax2.tick_params(axis='both', labelsize=12)\n",
    "plt.show()"
   ]
  },
  {
   "cell_type": "code",
   "execution_count": 6,
   "id": "f9fa76ad",
   "metadata": {},
   "outputs": [],
   "source": [
    "# Import packages\n",
    "from scipy.special import inv_boxcox\n",
    "from statsmodels.tsa.arima.model import ARIMA\n",
    "\n",
    "# Split train and test\n",
    "train = data.iloc[:-int(len(data) * 0.2)]\n",
    "test = data.iloc[-int(len(data) * 0.2):]\n",
    "\n",
    "# Build ARIMA model\n",
    "model = ARIMA(train['Sales_Boxcox'], order=(10, 1, 10),\n",
    "              seasonal_order=(1, 1, 1, 12)).fit()\n",
    "boxcox_forecasts = model.forecast(len(test))\n",
    "forecasts = inv_boxcox(boxcox_forecasts, lam)"
   ]
  },
  {
   "cell_type": "code",
   "execution_count": 7,
   "id": "8ce1feac",
   "metadata": {},
   "outputs": [],
   "source": [
    "# Import packages\n",
    "import plotly.graph_objects as go\n",
    "\n",
    "def plot_forecasts(forecasts: list[float], title: str) -> None:\n",
    "    \"\"\"Function to plot the forecasts.\"\"\"\n",
    "    fig = go.Figure()\n",
    "    fig.add_trace(go.Scatter(x=train['Date'], y=train['Sales'], name='Train'))\n",
    "    fig.add_trace(go.Scatter(x=test['Date'], y=test['Sales'], name='Test'))\n",
    "    fig.add_trace(go.Scatter(x=test['Date'], y=forecasts, name='Forecast'))\n",
    "    fig.update_layout(template=\"simple_white\", font=dict(size=18), title_text=title,\n",
    "                      width=650, title_x=0.5, height=400, xaxis_title='Date',\n",
    "                      yaxis_title='Sales')\n",
    "\n",
    "    return fig.show()\n",
    "\n",
    "\n",
    "# Plot the forecasts\n",
    "plot_forecasts(forecasts, 'SARIMA')"
   ]
  },
  {
   "cell_type": "code",
   "execution_count": null,
   "id": "f8334b77",
   "metadata": {},
   "outputs": [],
   "source": []
  }
 ],
 "metadata": {
  "kernelspec": {
   "display_name": "Python 3 (ipykernel)",
   "language": "python",
   "name": "python3"
  },
  "language_info": {
   "codemirror_mode": {
    "name": "ipython",
    "version": 3
   },
   "file_extension": ".py",
   "mimetype": "text/x-python",
   "name": "python",
   "nbconvert_exporter": "python",
   "pygments_lexer": "ipython3",
   "version": "3.9.16"
  }
 },
 "nbformat": 4,
 "nbformat_minor": 5
}
